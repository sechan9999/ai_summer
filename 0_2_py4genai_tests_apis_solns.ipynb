{
  "nbformat": 4,
  "nbformat_minor": 0,
  "metadata": {
    "colab": {
      "provenance": [],
      "toc_visible": true,
      "authorship_tag": "ABX9TyP81oruXZfSavynImYBuzKu",
      "include_colab_link": true
    },
    "kernelspec": {
      "name": "python3",
      "display_name": "Python 3"
    },
    "language_info": {
      "name": "python"
    },
    "widgets": {
      "application/vnd.jupyter.widget-state+json": {
        "4e579b021e6e4560b5a2813c5fcb8d86": {
          "model_module": "@jupyter-widgets/controls",
          "model_name": "HBoxModel",
          "model_module_version": "1.5.0",
          "state": {
            "_dom_classes": [],
            "_model_module": "@jupyter-widgets/controls",
            "_model_module_version": "1.5.0",
            "_model_name": "HBoxModel",
            "_view_count": null,
            "_view_module": "@jupyter-widgets/controls",
            "_view_module_version": "1.5.0",
            "_view_name": "HBoxView",
            "box_style": "",
            "children": [
              "IPY_MODEL_72927dd9a14c470084e9895c36f1510f",
              "IPY_MODEL_4f6bf19814824743a952004306ca3790",
              "IPY_MODEL_5377639d79234c1c9aa7f6e9b6b01c72"
            ],
            "layout": "IPY_MODEL_99ba354cc9114f0eae3ba098803beffd"
          }
        },
        "72927dd9a14c470084e9895c36f1510f": {
          "model_module": "@jupyter-widgets/controls",
          "model_name": "HTMLModel",
          "model_module_version": "1.5.0",
          "state": {
            "_dom_classes": [],
            "_model_module": "@jupyter-widgets/controls",
            "_model_module_version": "1.5.0",
            "_model_name": "HTMLModel",
            "_view_count": null,
            "_view_module": "@jupyter-widgets/controls",
            "_view_module_version": "1.5.0",
            "_view_name": "HTMLView",
            "description": "",
            "description_tooltip": null,
            "layout": "IPY_MODEL_f3475f13d89f41fe93a79083f50a6351",
            "placeholder": "​",
            "style": "IPY_MODEL_723bf03359e8470ea37d52097a4d5134",
            "value": "Downloading (…)lve/main/config.json: 100%"
          }
        },
        "4f6bf19814824743a952004306ca3790": {
          "model_module": "@jupyter-widgets/controls",
          "model_name": "FloatProgressModel",
          "model_module_version": "1.5.0",
          "state": {
            "_dom_classes": [],
            "_model_module": "@jupyter-widgets/controls",
            "_model_module_version": "1.5.0",
            "_model_name": "FloatProgressModel",
            "_view_count": null,
            "_view_module": "@jupyter-widgets/controls",
            "_view_module_version": "1.5.0",
            "_view_name": "ProgressView",
            "bar_style": "success",
            "description": "",
            "description_tooltip": null,
            "layout": "IPY_MODEL_d0157795855b4ae6982ca33fdab550a5",
            "max": 629,
            "min": 0,
            "orientation": "horizontal",
            "style": "IPY_MODEL_b0d538a8220b458d9e4bc99a635debd1",
            "value": 629
          }
        },
        "5377639d79234c1c9aa7f6e9b6b01c72": {
          "model_module": "@jupyter-widgets/controls",
          "model_name": "HTMLModel",
          "model_module_version": "1.5.0",
          "state": {
            "_dom_classes": [],
            "_model_module": "@jupyter-widgets/controls",
            "_model_module_version": "1.5.0",
            "_model_name": "HTMLModel",
            "_view_count": null,
            "_view_module": "@jupyter-widgets/controls",
            "_view_module_version": "1.5.0",
            "_view_name": "HTMLView",
            "description": "",
            "description_tooltip": null,
            "layout": "IPY_MODEL_0e769b58a8d54c318d3125b81786d9c9",
            "placeholder": "​",
            "style": "IPY_MODEL_be56cd161bf042f0bc25d221c6e728ff",
            "value": " 629/629 [00:00&lt;00:00, 26.6kB/s]"
          }
        },
        "99ba354cc9114f0eae3ba098803beffd": {
          "model_module": "@jupyter-widgets/base",
          "model_name": "LayoutModel",
          "model_module_version": "1.2.0",
          "state": {
            "_model_module": "@jupyter-widgets/base",
            "_model_module_version": "1.2.0",
            "_model_name": "LayoutModel",
            "_view_count": null,
            "_view_module": "@jupyter-widgets/base",
            "_view_module_version": "1.2.0",
            "_view_name": "LayoutView",
            "align_content": null,
            "align_items": null,
            "align_self": null,
            "border": null,
            "bottom": null,
            "display": null,
            "flex": null,
            "flex_flow": null,
            "grid_area": null,
            "grid_auto_columns": null,
            "grid_auto_flow": null,
            "grid_auto_rows": null,
            "grid_column": null,
            "grid_gap": null,
            "grid_row": null,
            "grid_template_areas": null,
            "grid_template_columns": null,
            "grid_template_rows": null,
            "height": null,
            "justify_content": null,
            "justify_items": null,
            "left": null,
            "margin": null,
            "max_height": null,
            "max_width": null,
            "min_height": null,
            "min_width": null,
            "object_fit": null,
            "object_position": null,
            "order": null,
            "overflow": null,
            "overflow_x": null,
            "overflow_y": null,
            "padding": null,
            "right": null,
            "top": null,
            "visibility": null,
            "width": null
          }
        },
        "f3475f13d89f41fe93a79083f50a6351": {
          "model_module": "@jupyter-widgets/base",
          "model_name": "LayoutModel",
          "model_module_version": "1.2.0",
          "state": {
            "_model_module": "@jupyter-widgets/base",
            "_model_module_version": "1.2.0",
            "_model_name": "LayoutModel",
            "_view_count": null,
            "_view_module": "@jupyter-widgets/base",
            "_view_module_version": "1.2.0",
            "_view_name": "LayoutView",
            "align_content": null,
            "align_items": null,
            "align_self": null,
            "border": null,
            "bottom": null,
            "display": null,
            "flex": null,
            "flex_flow": null,
            "grid_area": null,
            "grid_auto_columns": null,
            "grid_auto_flow": null,
            "grid_auto_rows": null,
            "grid_column": null,
            "grid_gap": null,
            "grid_row": null,
            "grid_template_areas": null,
            "grid_template_columns": null,
            "grid_template_rows": null,
            "height": null,
            "justify_content": null,
            "justify_items": null,
            "left": null,
            "margin": null,
            "max_height": null,
            "max_width": null,
            "min_height": null,
            "min_width": null,
            "object_fit": null,
            "object_position": null,
            "order": null,
            "overflow": null,
            "overflow_x": null,
            "overflow_y": null,
            "padding": null,
            "right": null,
            "top": null,
            "visibility": null,
            "width": null
          }
        },
        "723bf03359e8470ea37d52097a4d5134": {
          "model_module": "@jupyter-widgets/controls",
          "model_name": "DescriptionStyleModel",
          "model_module_version": "1.5.0",
          "state": {
            "_model_module": "@jupyter-widgets/controls",
            "_model_module_version": "1.5.0",
            "_model_name": "DescriptionStyleModel",
            "_view_count": null,
            "_view_module": "@jupyter-widgets/base",
            "_view_module_version": "1.2.0",
            "_view_name": "StyleView",
            "description_width": ""
          }
        },
        "d0157795855b4ae6982ca33fdab550a5": {
          "model_module": "@jupyter-widgets/base",
          "model_name": "LayoutModel",
          "model_module_version": "1.2.0",
          "state": {
            "_model_module": "@jupyter-widgets/base",
            "_model_module_version": "1.2.0",
            "_model_name": "LayoutModel",
            "_view_count": null,
            "_view_module": "@jupyter-widgets/base",
            "_view_module_version": "1.2.0",
            "_view_name": "LayoutView",
            "align_content": null,
            "align_items": null,
            "align_self": null,
            "border": null,
            "bottom": null,
            "display": null,
            "flex": null,
            "flex_flow": null,
            "grid_area": null,
            "grid_auto_columns": null,
            "grid_auto_flow": null,
            "grid_auto_rows": null,
            "grid_column": null,
            "grid_gap": null,
            "grid_row": null,
            "grid_template_areas": null,
            "grid_template_columns": null,
            "grid_template_rows": null,
            "height": null,
            "justify_content": null,
            "justify_items": null,
            "left": null,
            "margin": null,
            "max_height": null,
            "max_width": null,
            "min_height": null,
            "min_width": null,
            "object_fit": null,
            "object_position": null,
            "order": null,
            "overflow": null,
            "overflow_x": null,
            "overflow_y": null,
            "padding": null,
            "right": null,
            "top": null,
            "visibility": null,
            "width": null
          }
        },
        "b0d538a8220b458d9e4bc99a635debd1": {
          "model_module": "@jupyter-widgets/controls",
          "model_name": "ProgressStyleModel",
          "model_module_version": "1.5.0",
          "state": {
            "_model_module": "@jupyter-widgets/controls",
            "_model_module_version": "1.5.0",
            "_model_name": "ProgressStyleModel",
            "_view_count": null,
            "_view_module": "@jupyter-widgets/base",
            "_view_module_version": "1.2.0",
            "_view_name": "StyleView",
            "bar_color": null,
            "description_width": ""
          }
        },
        "0e769b58a8d54c318d3125b81786d9c9": {
          "model_module": "@jupyter-widgets/base",
          "model_name": "LayoutModel",
          "model_module_version": "1.2.0",
          "state": {
            "_model_module": "@jupyter-widgets/base",
            "_model_module_version": "1.2.0",
            "_model_name": "LayoutModel",
            "_view_count": null,
            "_view_module": "@jupyter-widgets/base",
            "_view_module_version": "1.2.0",
            "_view_name": "LayoutView",
            "align_content": null,
            "align_items": null,
            "align_self": null,
            "border": null,
            "bottom": null,
            "display": null,
            "flex": null,
            "flex_flow": null,
            "grid_area": null,
            "grid_auto_columns": null,
            "grid_auto_flow": null,
            "grid_auto_rows": null,
            "grid_column": null,
            "grid_gap": null,
            "grid_row": null,
            "grid_template_areas": null,
            "grid_template_columns": null,
            "grid_template_rows": null,
            "height": null,
            "justify_content": null,
            "justify_items": null,
            "left": null,
            "margin": null,
            "max_height": null,
            "max_width": null,
            "min_height": null,
            "min_width": null,
            "object_fit": null,
            "object_position": null,
            "order": null,
            "overflow": null,
            "overflow_x": null,
            "overflow_y": null,
            "padding": null,
            "right": null,
            "top": null,
            "visibility": null,
            "width": null
          }
        },
        "be56cd161bf042f0bc25d221c6e728ff": {
          "model_module": "@jupyter-widgets/controls",
          "model_name": "DescriptionStyleModel",
          "model_module_version": "1.5.0",
          "state": {
            "_model_module": "@jupyter-widgets/controls",
            "_model_module_version": "1.5.0",
            "_model_name": "DescriptionStyleModel",
            "_view_count": null,
            "_view_module": "@jupyter-widgets/base",
            "_view_module_version": "1.2.0",
            "_view_name": "StyleView",
            "description_width": ""
          }
        },
        "a0515fdf788c43798f3d1b4821d72ec1": {
          "model_module": "@jupyter-widgets/controls",
          "model_name": "HBoxModel",
          "model_module_version": "1.5.0",
          "state": {
            "_dom_classes": [],
            "_model_module": "@jupyter-widgets/controls",
            "_model_module_version": "1.5.0",
            "_model_name": "HBoxModel",
            "_view_count": null,
            "_view_module": "@jupyter-widgets/controls",
            "_view_module_version": "1.5.0",
            "_view_name": "HBoxView",
            "box_style": "",
            "children": [
              "IPY_MODEL_4badace4a5e6428d8e818dc9317a12b7",
              "IPY_MODEL_d84882d83f4d464983e2dabeca5e4321",
              "IPY_MODEL_49f741f832684c46995137fd7af71545"
            ],
            "layout": "IPY_MODEL_131eff78118146f189ccb8989a8d8a20"
          }
        },
        "4badace4a5e6428d8e818dc9317a12b7": {
          "model_module": "@jupyter-widgets/controls",
          "model_name": "HTMLModel",
          "model_module_version": "1.5.0",
          "state": {
            "_dom_classes": [],
            "_model_module": "@jupyter-widgets/controls",
            "_model_module_version": "1.5.0",
            "_model_name": "HTMLModel",
            "_view_count": null,
            "_view_module": "@jupyter-widgets/controls",
            "_view_module_version": "1.5.0",
            "_view_name": "HTMLView",
            "description": "",
            "description_tooltip": null,
            "layout": "IPY_MODEL_eaebb3fe15d64cb19fb9c9682ed4d933",
            "placeholder": "​",
            "style": "IPY_MODEL_9349abd1bff94735936ed90798bbbc4f",
            "value": "Downloading pytorch_model.bin: 100%"
          }
        },
        "d84882d83f4d464983e2dabeca5e4321": {
          "model_module": "@jupyter-widgets/controls",
          "model_name": "FloatProgressModel",
          "model_module_version": "1.5.0",
          "state": {
            "_dom_classes": [],
            "_model_module": "@jupyter-widgets/controls",
            "_model_module_version": "1.5.0",
            "_model_name": "FloatProgressModel",
            "_view_count": null,
            "_view_module": "@jupyter-widgets/controls",
            "_view_module_version": "1.5.0",
            "_view_name": "ProgressView",
            "bar_style": "success",
            "description": "",
            "description_tooltip": null,
            "layout": "IPY_MODEL_fbaf8176b78f4d9f8fa3bff7831b034e",
            "max": 267844284,
            "min": 0,
            "orientation": "horizontal",
            "style": "IPY_MODEL_bd6d8916e24141c6bc997b48fb3c2c1f",
            "value": 267844284
          }
        },
        "49f741f832684c46995137fd7af71545": {
          "model_module": "@jupyter-widgets/controls",
          "model_name": "HTMLModel",
          "model_module_version": "1.5.0",
          "state": {
            "_dom_classes": [],
            "_model_module": "@jupyter-widgets/controls",
            "_model_module_version": "1.5.0",
            "_model_name": "HTMLModel",
            "_view_count": null,
            "_view_module": "@jupyter-widgets/controls",
            "_view_module_version": "1.5.0",
            "_view_name": "HTMLView",
            "description": "",
            "description_tooltip": null,
            "layout": "IPY_MODEL_429554daf4754a06a5dd9c3c723bf4e4",
            "placeholder": "​",
            "style": "IPY_MODEL_5912f0ea3881417bb791d4f025c201b9",
            "value": " 268M/268M [00:02&lt;00:00, 120MB/s]"
          }
        },
        "131eff78118146f189ccb8989a8d8a20": {
          "model_module": "@jupyter-widgets/base",
          "model_name": "LayoutModel",
          "model_module_version": "1.2.0",
          "state": {
            "_model_module": "@jupyter-widgets/base",
            "_model_module_version": "1.2.0",
            "_model_name": "LayoutModel",
            "_view_count": null,
            "_view_module": "@jupyter-widgets/base",
            "_view_module_version": "1.2.0",
            "_view_name": "LayoutView",
            "align_content": null,
            "align_items": null,
            "align_self": null,
            "border": null,
            "bottom": null,
            "display": null,
            "flex": null,
            "flex_flow": null,
            "grid_area": null,
            "grid_auto_columns": null,
            "grid_auto_flow": null,
            "grid_auto_rows": null,
            "grid_column": null,
            "grid_gap": null,
            "grid_row": null,
            "grid_template_areas": null,
            "grid_template_columns": null,
            "grid_template_rows": null,
            "height": null,
            "justify_content": null,
            "justify_items": null,
            "left": null,
            "margin": null,
            "max_height": null,
            "max_width": null,
            "min_height": null,
            "min_width": null,
            "object_fit": null,
            "object_position": null,
            "order": null,
            "overflow": null,
            "overflow_x": null,
            "overflow_y": null,
            "padding": null,
            "right": null,
            "top": null,
            "visibility": null,
            "width": null
          }
        },
        "eaebb3fe15d64cb19fb9c9682ed4d933": {
          "model_module": "@jupyter-widgets/base",
          "model_name": "LayoutModel",
          "model_module_version": "1.2.0",
          "state": {
            "_model_module": "@jupyter-widgets/base",
            "_model_module_version": "1.2.0",
            "_model_name": "LayoutModel",
            "_view_count": null,
            "_view_module": "@jupyter-widgets/base",
            "_view_module_version": "1.2.0",
            "_view_name": "LayoutView",
            "align_content": null,
            "align_items": null,
            "align_self": null,
            "border": null,
            "bottom": null,
            "display": null,
            "flex": null,
            "flex_flow": null,
            "grid_area": null,
            "grid_auto_columns": null,
            "grid_auto_flow": null,
            "grid_auto_rows": null,
            "grid_column": null,
            "grid_gap": null,
            "grid_row": null,
            "grid_template_areas": null,
            "grid_template_columns": null,
            "grid_template_rows": null,
            "height": null,
            "justify_content": null,
            "justify_items": null,
            "left": null,
            "margin": null,
            "max_height": null,
            "max_width": null,
            "min_height": null,
            "min_width": null,
            "object_fit": null,
            "object_position": null,
            "order": null,
            "overflow": null,
            "overflow_x": null,
            "overflow_y": null,
            "padding": null,
            "right": null,
            "top": null,
            "visibility": null,
            "width": null
          }
        },
        "9349abd1bff94735936ed90798bbbc4f": {
          "model_module": "@jupyter-widgets/controls",
          "model_name": "DescriptionStyleModel",
          "model_module_version": "1.5.0",
          "state": {
            "_model_module": "@jupyter-widgets/controls",
            "_model_module_version": "1.5.0",
            "_model_name": "DescriptionStyleModel",
            "_view_count": null,
            "_view_module": "@jupyter-widgets/base",
            "_view_module_version": "1.2.0",
            "_view_name": "StyleView",
            "description_width": ""
          }
        },
        "fbaf8176b78f4d9f8fa3bff7831b034e": {
          "model_module": "@jupyter-widgets/base",
          "model_name": "LayoutModel",
          "model_module_version": "1.2.0",
          "state": {
            "_model_module": "@jupyter-widgets/base",
            "_model_module_version": "1.2.0",
            "_model_name": "LayoutModel",
            "_view_count": null,
            "_view_module": "@jupyter-widgets/base",
            "_view_module_version": "1.2.0",
            "_view_name": "LayoutView",
            "align_content": null,
            "align_items": null,
            "align_self": null,
            "border": null,
            "bottom": null,
            "display": null,
            "flex": null,
            "flex_flow": null,
            "grid_area": null,
            "grid_auto_columns": null,
            "grid_auto_flow": null,
            "grid_auto_rows": null,
            "grid_column": null,
            "grid_gap": null,
            "grid_row": null,
            "grid_template_areas": null,
            "grid_template_columns": null,
            "grid_template_rows": null,
            "height": null,
            "justify_content": null,
            "justify_items": null,
            "left": null,
            "margin": null,
            "max_height": null,
            "max_width": null,
            "min_height": null,
            "min_width": null,
            "object_fit": null,
            "object_position": null,
            "order": null,
            "overflow": null,
            "overflow_x": null,
            "overflow_y": null,
            "padding": null,
            "right": null,
            "top": null,
            "visibility": null,
            "width": null
          }
        },
        "bd6d8916e24141c6bc997b48fb3c2c1f": {
          "model_module": "@jupyter-widgets/controls",
          "model_name": "ProgressStyleModel",
          "model_module_version": "1.5.0",
          "state": {
            "_model_module": "@jupyter-widgets/controls",
            "_model_module_version": "1.5.0",
            "_model_name": "ProgressStyleModel",
            "_view_count": null,
            "_view_module": "@jupyter-widgets/base",
            "_view_module_version": "1.2.0",
            "_view_name": "StyleView",
            "bar_color": null,
            "description_width": ""
          }
        },
        "429554daf4754a06a5dd9c3c723bf4e4": {
          "model_module": "@jupyter-widgets/base",
          "model_name": "LayoutModel",
          "model_module_version": "1.2.0",
          "state": {
            "_model_module": "@jupyter-widgets/base",
            "_model_module_version": "1.2.0",
            "_model_name": "LayoutModel",
            "_view_count": null,
            "_view_module": "@jupyter-widgets/base",
            "_view_module_version": "1.2.0",
            "_view_name": "LayoutView",
            "align_content": null,
            "align_items": null,
            "align_self": null,
            "border": null,
            "bottom": null,
            "display": null,
            "flex": null,
            "flex_flow": null,
            "grid_area": null,
            "grid_auto_columns": null,
            "grid_auto_flow": null,
            "grid_auto_rows": null,
            "grid_column": null,
            "grid_gap": null,
            "grid_row": null,
            "grid_template_areas": null,
            "grid_template_columns": null,
            "grid_template_rows": null,
            "height": null,
            "justify_content": null,
            "justify_items": null,
            "left": null,
            "margin": null,
            "max_height": null,
            "max_width": null,
            "min_height": null,
            "min_width": null,
            "object_fit": null,
            "object_position": null,
            "order": null,
            "overflow": null,
            "overflow_x": null,
            "overflow_y": null,
            "padding": null,
            "right": null,
            "top": null,
            "visibility": null,
            "width": null
          }
        },
        "5912f0ea3881417bb791d4f025c201b9": {
          "model_module": "@jupyter-widgets/controls",
          "model_name": "DescriptionStyleModel",
          "model_module_version": "1.5.0",
          "state": {
            "_model_module": "@jupyter-widgets/controls",
            "_model_module_version": "1.5.0",
            "_model_name": "DescriptionStyleModel",
            "_view_count": null,
            "_view_module": "@jupyter-widgets/base",
            "_view_module_version": "1.2.0",
            "_view_name": "StyleView",
            "description_width": ""
          }
        },
        "a2353babd6504afba95eb4c488f2af92": {
          "model_module": "@jupyter-widgets/controls",
          "model_name": "HBoxModel",
          "model_module_version": "1.5.0",
          "state": {
            "_dom_classes": [],
            "_model_module": "@jupyter-widgets/controls",
            "_model_module_version": "1.5.0",
            "_model_name": "HBoxModel",
            "_view_count": null,
            "_view_module": "@jupyter-widgets/controls",
            "_view_module_version": "1.5.0",
            "_view_name": "HBoxView",
            "box_style": "",
            "children": [
              "IPY_MODEL_5a53478fe0cc48429789f004d7cbfa8e",
              "IPY_MODEL_76ff24849ae544eb9181d069ce8ffab1",
              "IPY_MODEL_01476e2c049348f5a42fd388ddd2e6b7"
            ],
            "layout": "IPY_MODEL_c8ee83a74c894ebcace7eb115aa8bea1"
          }
        },
        "5a53478fe0cc48429789f004d7cbfa8e": {
          "model_module": "@jupyter-widgets/controls",
          "model_name": "HTMLModel",
          "model_module_version": "1.5.0",
          "state": {
            "_dom_classes": [],
            "_model_module": "@jupyter-widgets/controls",
            "_model_module_version": "1.5.0",
            "_model_name": "HTMLModel",
            "_view_count": null,
            "_view_module": "@jupyter-widgets/controls",
            "_view_module_version": "1.5.0",
            "_view_name": "HTMLView",
            "description": "",
            "description_tooltip": null,
            "layout": "IPY_MODEL_5ea449c3a26e4a25bb4be6561904d56b",
            "placeholder": "​",
            "style": "IPY_MODEL_bd54b902ed264d73880622296fc9b060",
            "value": "Downloading (…)okenizer_config.json: 100%"
          }
        },
        "76ff24849ae544eb9181d069ce8ffab1": {
          "model_module": "@jupyter-widgets/controls",
          "model_name": "FloatProgressModel",
          "model_module_version": "1.5.0",
          "state": {
            "_dom_classes": [],
            "_model_module": "@jupyter-widgets/controls",
            "_model_module_version": "1.5.0",
            "_model_name": "FloatProgressModel",
            "_view_count": null,
            "_view_module": "@jupyter-widgets/controls",
            "_view_module_version": "1.5.0",
            "_view_name": "ProgressView",
            "bar_style": "success",
            "description": "",
            "description_tooltip": null,
            "layout": "IPY_MODEL_b0f51a5b79ee45d4b23e0a7d4cb19246",
            "max": 48,
            "min": 0,
            "orientation": "horizontal",
            "style": "IPY_MODEL_48a48ca2b641476e846a5c1407eb2d58",
            "value": 48
          }
        },
        "01476e2c049348f5a42fd388ddd2e6b7": {
          "model_module": "@jupyter-widgets/controls",
          "model_name": "HTMLModel",
          "model_module_version": "1.5.0",
          "state": {
            "_dom_classes": [],
            "_model_module": "@jupyter-widgets/controls",
            "_model_module_version": "1.5.0",
            "_model_name": "HTMLModel",
            "_view_count": null,
            "_view_module": "@jupyter-widgets/controls",
            "_view_module_version": "1.5.0",
            "_view_name": "HTMLView",
            "description": "",
            "description_tooltip": null,
            "layout": "IPY_MODEL_54aa3cdcfa8149a684f3ea5322947ec7",
            "placeholder": "​",
            "style": "IPY_MODEL_7bd25c9a4af04a64b81b8a0289b67220",
            "value": " 48.0/48.0 [00:00&lt;00:00, 819B/s]"
          }
        },
        "c8ee83a74c894ebcace7eb115aa8bea1": {
          "model_module": "@jupyter-widgets/base",
          "model_name": "LayoutModel",
          "model_module_version": "1.2.0",
          "state": {
            "_model_module": "@jupyter-widgets/base",
            "_model_module_version": "1.2.0",
            "_model_name": "LayoutModel",
            "_view_count": null,
            "_view_module": "@jupyter-widgets/base",
            "_view_module_version": "1.2.0",
            "_view_name": "LayoutView",
            "align_content": null,
            "align_items": null,
            "align_self": null,
            "border": null,
            "bottom": null,
            "display": null,
            "flex": null,
            "flex_flow": null,
            "grid_area": null,
            "grid_auto_columns": null,
            "grid_auto_flow": null,
            "grid_auto_rows": null,
            "grid_column": null,
            "grid_gap": null,
            "grid_row": null,
            "grid_template_areas": null,
            "grid_template_columns": null,
            "grid_template_rows": null,
            "height": null,
            "justify_content": null,
            "justify_items": null,
            "left": null,
            "margin": null,
            "max_height": null,
            "max_width": null,
            "min_height": null,
            "min_width": null,
            "object_fit": null,
            "object_position": null,
            "order": null,
            "overflow": null,
            "overflow_x": null,
            "overflow_y": null,
            "padding": null,
            "right": null,
            "top": null,
            "visibility": null,
            "width": null
          }
        },
        "5ea449c3a26e4a25bb4be6561904d56b": {
          "model_module": "@jupyter-widgets/base",
          "model_name": "LayoutModel",
          "model_module_version": "1.2.0",
          "state": {
            "_model_module": "@jupyter-widgets/base",
            "_model_module_version": "1.2.0",
            "_model_name": "LayoutModel",
            "_view_count": null,
            "_view_module": "@jupyter-widgets/base",
            "_view_module_version": "1.2.0",
            "_view_name": "LayoutView",
            "align_content": null,
            "align_items": null,
            "align_self": null,
            "border": null,
            "bottom": null,
            "display": null,
            "flex": null,
            "flex_flow": null,
            "grid_area": null,
            "grid_auto_columns": null,
            "grid_auto_flow": null,
            "grid_auto_rows": null,
            "grid_column": null,
            "grid_gap": null,
            "grid_row": null,
            "grid_template_areas": null,
            "grid_template_columns": null,
            "grid_template_rows": null,
            "height": null,
            "justify_content": null,
            "justify_items": null,
            "left": null,
            "margin": null,
            "max_height": null,
            "max_width": null,
            "min_height": null,
            "min_width": null,
            "object_fit": null,
            "object_position": null,
            "order": null,
            "overflow": null,
            "overflow_x": null,
            "overflow_y": null,
            "padding": null,
            "right": null,
            "top": null,
            "visibility": null,
            "width": null
          }
        },
        "bd54b902ed264d73880622296fc9b060": {
          "model_module": "@jupyter-widgets/controls",
          "model_name": "DescriptionStyleModel",
          "model_module_version": "1.5.0",
          "state": {
            "_model_module": "@jupyter-widgets/controls",
            "_model_module_version": "1.5.0",
            "_model_name": "DescriptionStyleModel",
            "_view_count": null,
            "_view_module": "@jupyter-widgets/base",
            "_view_module_version": "1.2.0",
            "_view_name": "StyleView",
            "description_width": ""
          }
        },
        "b0f51a5b79ee45d4b23e0a7d4cb19246": {
          "model_module": "@jupyter-widgets/base",
          "model_name": "LayoutModel",
          "model_module_version": "1.2.0",
          "state": {
            "_model_module": "@jupyter-widgets/base",
            "_model_module_version": "1.2.0",
            "_model_name": "LayoutModel",
            "_view_count": null,
            "_view_module": "@jupyter-widgets/base",
            "_view_module_version": "1.2.0",
            "_view_name": "LayoutView",
            "align_content": null,
            "align_items": null,
            "align_self": null,
            "border": null,
            "bottom": null,
            "display": null,
            "flex": null,
            "flex_flow": null,
            "grid_area": null,
            "grid_auto_columns": null,
            "grid_auto_flow": null,
            "grid_auto_rows": null,
            "grid_column": null,
            "grid_gap": null,
            "grid_row": null,
            "grid_template_areas": null,
            "grid_template_columns": null,
            "grid_template_rows": null,
            "height": null,
            "justify_content": null,
            "justify_items": null,
            "left": null,
            "margin": null,
            "max_height": null,
            "max_width": null,
            "min_height": null,
            "min_width": null,
            "object_fit": null,
            "object_position": null,
            "order": null,
            "overflow": null,
            "overflow_x": null,
            "overflow_y": null,
            "padding": null,
            "right": null,
            "top": null,
            "visibility": null,
            "width": null
          }
        },
        "48a48ca2b641476e846a5c1407eb2d58": {
          "model_module": "@jupyter-widgets/controls",
          "model_name": "ProgressStyleModel",
          "model_module_version": "1.5.0",
          "state": {
            "_model_module": "@jupyter-widgets/controls",
            "_model_module_version": "1.5.0",
            "_model_name": "ProgressStyleModel",
            "_view_count": null,
            "_view_module": "@jupyter-widgets/base",
            "_view_module_version": "1.2.0",
            "_view_name": "StyleView",
            "bar_color": null,
            "description_width": ""
          }
        },
        "54aa3cdcfa8149a684f3ea5322947ec7": {
          "model_module": "@jupyter-widgets/base",
          "model_name": "LayoutModel",
          "model_module_version": "1.2.0",
          "state": {
            "_model_module": "@jupyter-widgets/base",
            "_model_module_version": "1.2.0",
            "_model_name": "LayoutModel",
            "_view_count": null,
            "_view_module": "@jupyter-widgets/base",
            "_view_module_version": "1.2.0",
            "_view_name": "LayoutView",
            "align_content": null,
            "align_items": null,
            "align_self": null,
            "border": null,
            "bottom": null,
            "display": null,
            "flex": null,
            "flex_flow": null,
            "grid_area": null,
            "grid_auto_columns": null,
            "grid_auto_flow": null,
            "grid_auto_rows": null,
            "grid_column": null,
            "grid_gap": null,
            "grid_row": null,
            "grid_template_areas": null,
            "grid_template_columns": null,
            "grid_template_rows": null,
            "height": null,
            "justify_content": null,
            "justify_items": null,
            "left": null,
            "margin": null,
            "max_height": null,
            "max_width": null,
            "min_height": null,
            "min_width": null,
            "object_fit": null,
            "object_position": null,
            "order": null,
            "overflow": null,
            "overflow_x": null,
            "overflow_y": null,
            "padding": null,
            "right": null,
            "top": null,
            "visibility": null,
            "width": null
          }
        },
        "7bd25c9a4af04a64b81b8a0289b67220": {
          "model_module": "@jupyter-widgets/controls",
          "model_name": "DescriptionStyleModel",
          "model_module_version": "1.5.0",
          "state": {
            "_model_module": "@jupyter-widgets/controls",
            "_model_module_version": "1.5.0",
            "_model_name": "DescriptionStyleModel",
            "_view_count": null,
            "_view_module": "@jupyter-widgets/base",
            "_view_module_version": "1.2.0",
            "_view_name": "StyleView",
            "description_width": ""
          }
        },
        "eb9ce0ba829441bdb067a4cdb68c0c64": {
          "model_module": "@jupyter-widgets/controls",
          "model_name": "HBoxModel",
          "model_module_version": "1.5.0",
          "state": {
            "_dom_classes": [],
            "_model_module": "@jupyter-widgets/controls",
            "_model_module_version": "1.5.0",
            "_model_name": "HBoxModel",
            "_view_count": null,
            "_view_module": "@jupyter-widgets/controls",
            "_view_module_version": "1.5.0",
            "_view_name": "HBoxView",
            "box_style": "",
            "children": [
              "IPY_MODEL_b5dd3bbb84a748f595c7ad42f06725cb",
              "IPY_MODEL_61fe39e3c4334d21a9e416cb6e13a9f9",
              "IPY_MODEL_236baf32edfe462680795ebb900fab30"
            ],
            "layout": "IPY_MODEL_484fb29414384018aa754f8a09a6b755"
          }
        },
        "b5dd3bbb84a748f595c7ad42f06725cb": {
          "model_module": "@jupyter-widgets/controls",
          "model_name": "HTMLModel",
          "model_module_version": "1.5.0",
          "state": {
            "_dom_classes": [],
            "_model_module": "@jupyter-widgets/controls",
            "_model_module_version": "1.5.0",
            "_model_name": "HTMLModel",
            "_view_count": null,
            "_view_module": "@jupyter-widgets/controls",
            "_view_module_version": "1.5.0",
            "_view_name": "HTMLView",
            "description": "",
            "description_tooltip": null,
            "layout": "IPY_MODEL_c80a15d164f5481c808450895a65d987",
            "placeholder": "​",
            "style": "IPY_MODEL_eb3f815dadae4bada9ce68ab7e087dff",
            "value": "Downloading (…)solve/main/vocab.txt: 100%"
          }
        },
        "61fe39e3c4334d21a9e416cb6e13a9f9": {
          "model_module": "@jupyter-widgets/controls",
          "model_name": "FloatProgressModel",
          "model_module_version": "1.5.0",
          "state": {
            "_dom_classes": [],
            "_model_module": "@jupyter-widgets/controls",
            "_model_module_version": "1.5.0",
            "_model_name": "FloatProgressModel",
            "_view_count": null,
            "_view_module": "@jupyter-widgets/controls",
            "_view_module_version": "1.5.0",
            "_view_name": "ProgressView",
            "bar_style": "success",
            "description": "",
            "description_tooltip": null,
            "layout": "IPY_MODEL_be87c67c23f540c589201e3f2d6df5da",
            "max": 231508,
            "min": 0,
            "orientation": "horizontal",
            "style": "IPY_MODEL_e1114a8d8bf845c9830bc92e56134fc6",
            "value": 231508
          }
        },
        "236baf32edfe462680795ebb900fab30": {
          "model_module": "@jupyter-widgets/controls",
          "model_name": "HTMLModel",
          "model_module_version": "1.5.0",
          "state": {
            "_dom_classes": [],
            "_model_module": "@jupyter-widgets/controls",
            "_model_module_version": "1.5.0",
            "_model_name": "HTMLModel",
            "_view_count": null,
            "_view_module": "@jupyter-widgets/controls",
            "_view_module_version": "1.5.0",
            "_view_name": "HTMLView",
            "description": "",
            "description_tooltip": null,
            "layout": "IPY_MODEL_c88233e91d7a4754b402f2fb6719a411",
            "placeholder": "​",
            "style": "IPY_MODEL_6b09ca3fd3634e9ba96e9dd6d0289fb3",
            "value": " 232k/232k [00:00&lt;00:00, 1.37MB/s]"
          }
        },
        "484fb29414384018aa754f8a09a6b755": {
          "model_module": "@jupyter-widgets/base",
          "model_name": "LayoutModel",
          "model_module_version": "1.2.0",
          "state": {
            "_model_module": "@jupyter-widgets/base",
            "_model_module_version": "1.2.0",
            "_model_name": "LayoutModel",
            "_view_count": null,
            "_view_module": "@jupyter-widgets/base",
            "_view_module_version": "1.2.0",
            "_view_name": "LayoutView",
            "align_content": null,
            "align_items": null,
            "align_self": null,
            "border": null,
            "bottom": null,
            "display": null,
            "flex": null,
            "flex_flow": null,
            "grid_area": null,
            "grid_auto_columns": null,
            "grid_auto_flow": null,
            "grid_auto_rows": null,
            "grid_column": null,
            "grid_gap": null,
            "grid_row": null,
            "grid_template_areas": null,
            "grid_template_columns": null,
            "grid_template_rows": null,
            "height": null,
            "justify_content": null,
            "justify_items": null,
            "left": null,
            "margin": null,
            "max_height": null,
            "max_width": null,
            "min_height": null,
            "min_width": null,
            "object_fit": null,
            "object_position": null,
            "order": null,
            "overflow": null,
            "overflow_x": null,
            "overflow_y": null,
            "padding": null,
            "right": null,
            "top": null,
            "visibility": null,
            "width": null
          }
        },
        "c80a15d164f5481c808450895a65d987": {
          "model_module": "@jupyter-widgets/base",
          "model_name": "LayoutModel",
          "model_module_version": "1.2.0",
          "state": {
            "_model_module": "@jupyter-widgets/base",
            "_model_module_version": "1.2.0",
            "_model_name": "LayoutModel",
            "_view_count": null,
            "_view_module": "@jupyter-widgets/base",
            "_view_module_version": "1.2.0",
            "_view_name": "LayoutView",
            "align_content": null,
            "align_items": null,
            "align_self": null,
            "border": null,
            "bottom": null,
            "display": null,
            "flex": null,
            "flex_flow": null,
            "grid_area": null,
            "grid_auto_columns": null,
            "grid_auto_flow": null,
            "grid_auto_rows": null,
            "grid_column": null,
            "grid_gap": null,
            "grid_row": null,
            "grid_template_areas": null,
            "grid_template_columns": null,
            "grid_template_rows": null,
            "height": null,
            "justify_content": null,
            "justify_items": null,
            "left": null,
            "margin": null,
            "max_height": null,
            "max_width": null,
            "min_height": null,
            "min_width": null,
            "object_fit": null,
            "object_position": null,
            "order": null,
            "overflow": null,
            "overflow_x": null,
            "overflow_y": null,
            "padding": null,
            "right": null,
            "top": null,
            "visibility": null,
            "width": null
          }
        },
        "eb3f815dadae4bada9ce68ab7e087dff": {
          "model_module": "@jupyter-widgets/controls",
          "model_name": "DescriptionStyleModel",
          "model_module_version": "1.5.0",
          "state": {
            "_model_module": "@jupyter-widgets/controls",
            "_model_module_version": "1.5.0",
            "_model_name": "DescriptionStyleModel",
            "_view_count": null,
            "_view_module": "@jupyter-widgets/base",
            "_view_module_version": "1.2.0",
            "_view_name": "StyleView",
            "description_width": ""
          }
        },
        "be87c67c23f540c589201e3f2d6df5da": {
          "model_module": "@jupyter-widgets/base",
          "model_name": "LayoutModel",
          "model_module_version": "1.2.0",
          "state": {
            "_model_module": "@jupyter-widgets/base",
            "_model_module_version": "1.2.0",
            "_model_name": "LayoutModel",
            "_view_count": null,
            "_view_module": "@jupyter-widgets/base",
            "_view_module_version": "1.2.0",
            "_view_name": "LayoutView",
            "align_content": null,
            "align_items": null,
            "align_self": null,
            "border": null,
            "bottom": null,
            "display": null,
            "flex": null,
            "flex_flow": null,
            "grid_area": null,
            "grid_auto_columns": null,
            "grid_auto_flow": null,
            "grid_auto_rows": null,
            "grid_column": null,
            "grid_gap": null,
            "grid_row": null,
            "grid_template_areas": null,
            "grid_template_columns": null,
            "grid_template_rows": null,
            "height": null,
            "justify_content": null,
            "justify_items": null,
            "left": null,
            "margin": null,
            "max_height": null,
            "max_width": null,
            "min_height": null,
            "min_width": null,
            "object_fit": null,
            "object_position": null,
            "order": null,
            "overflow": null,
            "overflow_x": null,
            "overflow_y": null,
            "padding": null,
            "right": null,
            "top": null,
            "visibility": null,
            "width": null
          }
        },
        "e1114a8d8bf845c9830bc92e56134fc6": {
          "model_module": "@jupyter-widgets/controls",
          "model_name": "ProgressStyleModel",
          "model_module_version": "1.5.0",
          "state": {
            "_model_module": "@jupyter-widgets/controls",
            "_model_module_version": "1.5.0",
            "_model_name": "ProgressStyleModel",
            "_view_count": null,
            "_view_module": "@jupyter-widgets/base",
            "_view_module_version": "1.2.0",
            "_view_name": "StyleView",
            "bar_color": null,
            "description_width": ""
          }
        },
        "c88233e91d7a4754b402f2fb6719a411": {
          "model_module": "@jupyter-widgets/base",
          "model_name": "LayoutModel",
          "model_module_version": "1.2.0",
          "state": {
            "_model_module": "@jupyter-widgets/base",
            "_model_module_version": "1.2.0",
            "_model_name": "LayoutModel",
            "_view_count": null,
            "_view_module": "@jupyter-widgets/base",
            "_view_module_version": "1.2.0",
            "_view_name": "LayoutView",
            "align_content": null,
            "align_items": null,
            "align_self": null,
            "border": null,
            "bottom": null,
            "display": null,
            "flex": null,
            "flex_flow": null,
            "grid_area": null,
            "grid_auto_columns": null,
            "grid_auto_flow": null,
            "grid_auto_rows": null,
            "grid_column": null,
            "grid_gap": null,
            "grid_row": null,
            "grid_template_areas": null,
            "grid_template_columns": null,
            "grid_template_rows": null,
            "height": null,
            "justify_content": null,
            "justify_items": null,
            "left": null,
            "margin": null,
            "max_height": null,
            "max_width": null,
            "min_height": null,
            "min_width": null,
            "object_fit": null,
            "object_position": null,
            "order": null,
            "overflow": null,
            "overflow_x": null,
            "overflow_y": null,
            "padding": null,
            "right": null,
            "top": null,
            "visibility": null,
            "width": null
          }
        },
        "6b09ca3fd3634e9ba96e9dd6d0289fb3": {
          "model_module": "@jupyter-widgets/controls",
          "model_name": "DescriptionStyleModel",
          "model_module_version": "1.5.0",
          "state": {
            "_model_module": "@jupyter-widgets/controls",
            "_model_module_version": "1.5.0",
            "_model_name": "DescriptionStyleModel",
            "_view_count": null,
            "_view_module": "@jupyter-widgets/base",
            "_view_module_version": "1.2.0",
            "_view_name": "StyleView",
            "description_width": ""
          }
        },
        "b28b5418c31f422c9285f2943b2df000": {
          "model_module": "@jupyter-widgets/controls",
          "model_name": "HBoxModel",
          "model_module_version": "1.5.0",
          "state": {
            "_dom_classes": [],
            "_model_module": "@jupyter-widgets/controls",
            "_model_module_version": "1.5.0",
            "_model_name": "HBoxModel",
            "_view_count": null,
            "_view_module": "@jupyter-widgets/controls",
            "_view_module_version": "1.5.0",
            "_view_name": "HBoxView",
            "box_style": "",
            "children": [
              "IPY_MODEL_d4782fc46bdf499b9598f068fb26d790",
              "IPY_MODEL_9346b45a69ad4271a30eb8512e8ccfaa",
              "IPY_MODEL_44003a1a5b214a66873ba0df10368f0f"
            ],
            "layout": "IPY_MODEL_39738a1a805d4bf5a839f2236cd739c1"
          }
        },
        "d4782fc46bdf499b9598f068fb26d790": {
          "model_module": "@jupyter-widgets/controls",
          "model_name": "HTMLModel",
          "model_module_version": "1.5.0",
          "state": {
            "_dom_classes": [],
            "_model_module": "@jupyter-widgets/controls",
            "_model_module_version": "1.5.0",
            "_model_name": "HTMLModel",
            "_view_count": null,
            "_view_module": "@jupyter-widgets/controls",
            "_view_module_version": "1.5.0",
            "_view_name": "HTMLView",
            "description": "",
            "description_tooltip": null,
            "layout": "IPY_MODEL_f7a0d509e5e94a7b8c976fd3ffa22283",
            "placeholder": "​",
            "style": "IPY_MODEL_3891a8496e7c48a4a6860c7b4e7a8caf",
            "value": "Downloading (…)lve/main/config.json: 100%"
          }
        },
        "9346b45a69ad4271a30eb8512e8ccfaa": {
          "model_module": "@jupyter-widgets/controls",
          "model_name": "FloatProgressModel",
          "model_module_version": "1.5.0",
          "state": {
            "_dom_classes": [],
            "_model_module": "@jupyter-widgets/controls",
            "_model_module_version": "1.5.0",
            "_model_name": "FloatProgressModel",
            "_view_count": null,
            "_view_module": "@jupyter-widgets/controls",
            "_view_module_version": "1.5.0",
            "_view_name": "ProgressView",
            "bar_style": "success",
            "description": "",
            "description_tooltip": null,
            "layout": "IPY_MODEL_98d9d3beca91414099d729122f6ecfa1",
            "max": 747,
            "min": 0,
            "orientation": "horizontal",
            "style": "IPY_MODEL_71ffe61d783d4773a3b7d50840f72d15",
            "value": 747
          }
        },
        "44003a1a5b214a66873ba0df10368f0f": {
          "model_module": "@jupyter-widgets/controls",
          "model_name": "HTMLModel",
          "model_module_version": "1.5.0",
          "state": {
            "_dom_classes": [],
            "_model_module": "@jupyter-widgets/controls",
            "_model_module_version": "1.5.0",
            "_model_name": "HTMLModel",
            "_view_count": null,
            "_view_module": "@jupyter-widgets/controls",
            "_view_module_version": "1.5.0",
            "_view_name": "HTMLView",
            "description": "",
            "description_tooltip": null,
            "layout": "IPY_MODEL_1fd4a47846c7486b81fe1b78eb4f07cf",
            "placeholder": "​",
            "style": "IPY_MODEL_1c102b193c084451b3be3f086c2b25fb",
            "value": " 747/747 [00:00&lt;00:00, 15.5kB/s]"
          }
        },
        "39738a1a805d4bf5a839f2236cd739c1": {
          "model_module": "@jupyter-widgets/base",
          "model_name": "LayoutModel",
          "model_module_version": "1.2.0",
          "state": {
            "_model_module": "@jupyter-widgets/base",
            "_model_module_version": "1.2.0",
            "_model_name": "LayoutModel",
            "_view_count": null,
            "_view_module": "@jupyter-widgets/base",
            "_view_module_version": "1.2.0",
            "_view_name": "LayoutView",
            "align_content": null,
            "align_items": null,
            "align_self": null,
            "border": null,
            "bottom": null,
            "display": null,
            "flex": null,
            "flex_flow": null,
            "grid_area": null,
            "grid_auto_columns": null,
            "grid_auto_flow": null,
            "grid_auto_rows": null,
            "grid_column": null,
            "grid_gap": null,
            "grid_row": null,
            "grid_template_areas": null,
            "grid_template_columns": null,
            "grid_template_rows": null,
            "height": null,
            "justify_content": null,
            "justify_items": null,
            "left": null,
            "margin": null,
            "max_height": null,
            "max_width": null,
            "min_height": null,
            "min_width": null,
            "object_fit": null,
            "object_position": null,
            "order": null,
            "overflow": null,
            "overflow_x": null,
            "overflow_y": null,
            "padding": null,
            "right": null,
            "top": null,
            "visibility": null,
            "width": null
          }
        },
        "f7a0d509e5e94a7b8c976fd3ffa22283": {
          "model_module": "@jupyter-widgets/base",
          "model_name": "LayoutModel",
          "model_module_version": "1.2.0",
          "state": {
            "_model_module": "@jupyter-widgets/base",
            "_model_module_version": "1.2.0",
            "_model_name": "LayoutModel",
            "_view_count": null,
            "_view_module": "@jupyter-widgets/base",
            "_view_module_version": "1.2.0",
            "_view_name": "LayoutView",
            "align_content": null,
            "align_items": null,
            "align_self": null,
            "border": null,
            "bottom": null,
            "display": null,
            "flex": null,
            "flex_flow": null,
            "grid_area": null,
            "grid_auto_columns": null,
            "grid_auto_flow": null,
            "grid_auto_rows": null,
            "grid_column": null,
            "grid_gap": null,
            "grid_row": null,
            "grid_template_areas": null,
            "grid_template_columns": null,
            "grid_template_rows": null,
            "height": null,
            "justify_content": null,
            "justify_items": null,
            "left": null,
            "margin": null,
            "max_height": null,
            "max_width": null,
            "min_height": null,
            "min_width": null,
            "object_fit": null,
            "object_position": null,
            "order": null,
            "overflow": null,
            "overflow_x": null,
            "overflow_y": null,
            "padding": null,
            "right": null,
            "top": null,
            "visibility": null,
            "width": null
          }
        },
        "3891a8496e7c48a4a6860c7b4e7a8caf": {
          "model_module": "@jupyter-widgets/controls",
          "model_name": "DescriptionStyleModel",
          "model_module_version": "1.5.0",
          "state": {
            "_model_module": "@jupyter-widgets/controls",
            "_model_module_version": "1.5.0",
            "_model_name": "DescriptionStyleModel",
            "_view_count": null,
            "_view_module": "@jupyter-widgets/base",
            "_view_module_version": "1.2.0",
            "_view_name": "StyleView",
            "description_width": ""
          }
        },
        "98d9d3beca91414099d729122f6ecfa1": {
          "model_module": "@jupyter-widgets/base",
          "model_name": "LayoutModel",
          "model_module_version": "1.2.0",
          "state": {
            "_model_module": "@jupyter-widgets/base",
            "_model_module_version": "1.2.0",
            "_model_name": "LayoutModel",
            "_view_count": null,
            "_view_module": "@jupyter-widgets/base",
            "_view_module_version": "1.2.0",
            "_view_name": "LayoutView",
            "align_content": null,
            "align_items": null,
            "align_self": null,
            "border": null,
            "bottom": null,
            "display": null,
            "flex": null,
            "flex_flow": null,
            "grid_area": null,
            "grid_auto_columns": null,
            "grid_auto_flow": null,
            "grid_auto_rows": null,
            "grid_column": null,
            "grid_gap": null,
            "grid_row": null,
            "grid_template_areas": null,
            "grid_template_columns": null,
            "grid_template_rows": null,
            "height": null,
            "justify_content": null,
            "justify_items": null,
            "left": null,
            "margin": null,
            "max_height": null,
            "max_width": null,
            "min_height": null,
            "min_width": null,
            "object_fit": null,
            "object_position": null,
            "order": null,
            "overflow": null,
            "overflow_x": null,
            "overflow_y": null,
            "padding": null,
            "right": null,
            "top": null,
            "visibility": null,
            "width": null
          }
        },
        "71ffe61d783d4773a3b7d50840f72d15": {
          "model_module": "@jupyter-widgets/controls",
          "model_name": "ProgressStyleModel",
          "model_module_version": "1.5.0",
          "state": {
            "_model_module": "@jupyter-widgets/controls",
            "_model_module_version": "1.5.0",
            "_model_name": "ProgressStyleModel",
            "_view_count": null,
            "_view_module": "@jupyter-widgets/base",
            "_view_module_version": "1.2.0",
            "_view_name": "StyleView",
            "bar_color": null,
            "description_width": ""
          }
        },
        "1fd4a47846c7486b81fe1b78eb4f07cf": {
          "model_module": "@jupyter-widgets/base",
          "model_name": "LayoutModel",
          "model_module_version": "1.2.0",
          "state": {
            "_model_module": "@jupyter-widgets/base",
            "_model_module_version": "1.2.0",
            "_model_name": "LayoutModel",
            "_view_count": null,
            "_view_module": "@jupyter-widgets/base",
            "_view_module_version": "1.2.0",
            "_view_name": "LayoutView",
            "align_content": null,
            "align_items": null,
            "align_self": null,
            "border": null,
            "bottom": null,
            "display": null,
            "flex": null,
            "flex_flow": null,
            "grid_area": null,
            "grid_auto_columns": null,
            "grid_auto_flow": null,
            "grid_auto_rows": null,
            "grid_column": null,
            "grid_gap": null,
            "grid_row": null,
            "grid_template_areas": null,
            "grid_template_columns": null,
            "grid_template_rows": null,
            "height": null,
            "justify_content": null,
            "justify_items": null,
            "left": null,
            "margin": null,
            "max_height": null,
            "max_width": null,
            "min_height": null,
            "min_width": null,
            "object_fit": null,
            "object_position": null,
            "order": null,
            "overflow": null,
            "overflow_x": null,
            "overflow_y": null,
            "padding": null,
            "right": null,
            "top": null,
            "visibility": null,
            "width": null
          }
        },
        "1c102b193c084451b3be3f086c2b25fb": {
          "model_module": "@jupyter-widgets/controls",
          "model_name": "DescriptionStyleModel",
          "model_module_version": "1.5.0",
          "state": {
            "_model_module": "@jupyter-widgets/controls",
            "_model_module_version": "1.5.0",
            "_model_name": "DescriptionStyleModel",
            "_view_count": null,
            "_view_module": "@jupyter-widgets/base",
            "_view_module_version": "1.2.0",
            "_view_name": "StyleView",
            "description_width": ""
          }
        },
        "1f9198e5265c4f0b918a596bfcd07714": {
          "model_module": "@jupyter-widgets/controls",
          "model_name": "HBoxModel",
          "model_module_version": "1.5.0",
          "state": {
            "_dom_classes": [],
            "_model_module": "@jupyter-widgets/controls",
            "_model_module_version": "1.5.0",
            "_model_name": "HBoxModel",
            "_view_count": null,
            "_view_module": "@jupyter-widgets/controls",
            "_view_module_version": "1.5.0",
            "_view_name": "HBoxView",
            "box_style": "",
            "children": [
              "IPY_MODEL_bb397785f3454fa3bf026d2a801deae6",
              "IPY_MODEL_02c8d550fd884b6288fce808855641e0",
              "IPY_MODEL_b1cf04c1ffb749868269b8aecc23b2fc"
            ],
            "layout": "IPY_MODEL_208cb4dc56c14901880ec019b8f0bf2b"
          }
        },
        "bb397785f3454fa3bf026d2a801deae6": {
          "model_module": "@jupyter-widgets/controls",
          "model_name": "HTMLModel",
          "model_module_version": "1.5.0",
          "state": {
            "_dom_classes": [],
            "_model_module": "@jupyter-widgets/controls",
            "_model_module_version": "1.5.0",
            "_model_name": "HTMLModel",
            "_view_count": null,
            "_view_module": "@jupyter-widgets/controls",
            "_view_module_version": "1.5.0",
            "_view_name": "HTMLView",
            "description": "",
            "description_tooltip": null,
            "layout": "IPY_MODEL_2590ed53bb214c829798f3a11201632d",
            "placeholder": "​",
            "style": "IPY_MODEL_01d6a83c07774a8eb7cce582170896e2",
            "value": "Downloading pytorch_model.bin: 100%"
          }
        },
        "02c8d550fd884b6288fce808855641e0": {
          "model_module": "@jupyter-widgets/controls",
          "model_name": "FloatProgressModel",
          "model_module_version": "1.5.0",
          "state": {
            "_dom_classes": [],
            "_model_module": "@jupyter-widgets/controls",
            "_model_module_version": "1.5.0",
            "_model_name": "FloatProgressModel",
            "_view_count": null,
            "_view_module": "@jupyter-widgets/controls",
            "_view_module_version": "1.5.0",
            "_view_name": "ProgressView",
            "bar_style": "success",
            "description": "",
            "description_tooltip": null,
            "layout": "IPY_MODEL_47c2ddfe65554f91bc89972ff0e0b613",
            "max": 498679497,
            "min": 0,
            "orientation": "horizontal",
            "style": "IPY_MODEL_70e62b3396394dc386abbf020dcd8ba8",
            "value": 498679497
          }
        },
        "b1cf04c1ffb749868269b8aecc23b2fc": {
          "model_module": "@jupyter-widgets/controls",
          "model_name": "HTMLModel",
          "model_module_version": "1.5.0",
          "state": {
            "_dom_classes": [],
            "_model_module": "@jupyter-widgets/controls",
            "_model_module_version": "1.5.0",
            "_model_name": "HTMLModel",
            "_view_count": null,
            "_view_module": "@jupyter-widgets/controls",
            "_view_module_version": "1.5.0",
            "_view_name": "HTMLView",
            "description": "",
            "description_tooltip": null,
            "layout": "IPY_MODEL_7b6c30b1914f4871b2314702cbaa7199",
            "placeholder": "​",
            "style": "IPY_MODEL_4f29b47b05a14c98b5b16c579b309a39",
            "value": " 499M/499M [00:07&lt;00:00, 93.4MB/s]"
          }
        },
        "208cb4dc56c14901880ec019b8f0bf2b": {
          "model_module": "@jupyter-widgets/base",
          "model_name": "LayoutModel",
          "model_module_version": "1.2.0",
          "state": {
            "_model_module": "@jupyter-widgets/base",
            "_model_module_version": "1.2.0",
            "_model_name": "LayoutModel",
            "_view_count": null,
            "_view_module": "@jupyter-widgets/base",
            "_view_module_version": "1.2.0",
            "_view_name": "LayoutView",
            "align_content": null,
            "align_items": null,
            "align_self": null,
            "border": null,
            "bottom": null,
            "display": null,
            "flex": null,
            "flex_flow": null,
            "grid_area": null,
            "grid_auto_columns": null,
            "grid_auto_flow": null,
            "grid_auto_rows": null,
            "grid_column": null,
            "grid_gap": null,
            "grid_row": null,
            "grid_template_areas": null,
            "grid_template_columns": null,
            "grid_template_rows": null,
            "height": null,
            "justify_content": null,
            "justify_items": null,
            "left": null,
            "margin": null,
            "max_height": null,
            "max_width": null,
            "min_height": null,
            "min_width": null,
            "object_fit": null,
            "object_position": null,
            "order": null,
            "overflow": null,
            "overflow_x": null,
            "overflow_y": null,
            "padding": null,
            "right": null,
            "top": null,
            "visibility": null,
            "width": null
          }
        },
        "2590ed53bb214c829798f3a11201632d": {
          "model_module": "@jupyter-widgets/base",
          "model_name": "LayoutModel",
          "model_module_version": "1.2.0",
          "state": {
            "_model_module": "@jupyter-widgets/base",
            "_model_module_version": "1.2.0",
            "_model_name": "LayoutModel",
            "_view_count": null,
            "_view_module": "@jupyter-widgets/base",
            "_view_module_version": "1.2.0",
            "_view_name": "LayoutView",
            "align_content": null,
            "align_items": null,
            "align_self": null,
            "border": null,
            "bottom": null,
            "display": null,
            "flex": null,
            "flex_flow": null,
            "grid_area": null,
            "grid_auto_columns": null,
            "grid_auto_flow": null,
            "grid_auto_rows": null,
            "grid_column": null,
            "grid_gap": null,
            "grid_row": null,
            "grid_template_areas": null,
            "grid_template_columns": null,
            "grid_template_rows": null,
            "height": null,
            "justify_content": null,
            "justify_items": null,
            "left": null,
            "margin": null,
            "max_height": null,
            "max_width": null,
            "min_height": null,
            "min_width": null,
            "object_fit": null,
            "object_position": null,
            "order": null,
            "overflow": null,
            "overflow_x": null,
            "overflow_y": null,
            "padding": null,
            "right": null,
            "top": null,
            "visibility": null,
            "width": null
          }
        },
        "01d6a83c07774a8eb7cce582170896e2": {
          "model_module": "@jupyter-widgets/controls",
          "model_name": "DescriptionStyleModel",
          "model_module_version": "1.5.0",
          "state": {
            "_model_module": "@jupyter-widgets/controls",
            "_model_module_version": "1.5.0",
            "_model_name": "DescriptionStyleModel",
            "_view_count": null,
            "_view_module": "@jupyter-widgets/base",
            "_view_module_version": "1.2.0",
            "_view_name": "StyleView",
            "description_width": ""
          }
        },
        "47c2ddfe65554f91bc89972ff0e0b613": {
          "model_module": "@jupyter-widgets/base",
          "model_name": "LayoutModel",
          "model_module_version": "1.2.0",
          "state": {
            "_model_module": "@jupyter-widgets/base",
            "_model_module_version": "1.2.0",
            "_model_name": "LayoutModel",
            "_view_count": null,
            "_view_module": "@jupyter-widgets/base",
            "_view_module_version": "1.2.0",
            "_view_name": "LayoutView",
            "align_content": null,
            "align_items": null,
            "align_self": null,
            "border": null,
            "bottom": null,
            "display": null,
            "flex": null,
            "flex_flow": null,
            "grid_area": null,
            "grid_auto_columns": null,
            "grid_auto_flow": null,
            "grid_auto_rows": null,
            "grid_column": null,
            "grid_gap": null,
            "grid_row": null,
            "grid_template_areas": null,
            "grid_template_columns": null,
            "grid_template_rows": null,
            "height": null,
            "justify_content": null,
            "justify_items": null,
            "left": null,
            "margin": null,
            "max_height": null,
            "max_width": null,
            "min_height": null,
            "min_width": null,
            "object_fit": null,
            "object_position": null,
            "order": null,
            "overflow": null,
            "overflow_x": null,
            "overflow_y": null,
            "padding": null,
            "right": null,
            "top": null,
            "visibility": null,
            "width": null
          }
        },
        "70e62b3396394dc386abbf020dcd8ba8": {
          "model_module": "@jupyter-widgets/controls",
          "model_name": "ProgressStyleModel",
          "model_module_version": "1.5.0",
          "state": {
            "_model_module": "@jupyter-widgets/controls",
            "_model_module_version": "1.5.0",
            "_model_name": "ProgressStyleModel",
            "_view_count": null,
            "_view_module": "@jupyter-widgets/base",
            "_view_module_version": "1.2.0",
            "_view_name": "StyleView",
            "bar_color": null,
            "description_width": ""
          }
        },
        "7b6c30b1914f4871b2314702cbaa7199": {
          "model_module": "@jupyter-widgets/base",
          "model_name": "LayoutModel",
          "model_module_version": "1.2.0",
          "state": {
            "_model_module": "@jupyter-widgets/base",
            "_model_module_version": "1.2.0",
            "_model_name": "LayoutModel",
            "_view_count": null,
            "_view_module": "@jupyter-widgets/base",
            "_view_module_version": "1.2.0",
            "_view_name": "LayoutView",
            "align_content": null,
            "align_items": null,
            "align_self": null,
            "border": null,
            "bottom": null,
            "display": null,
            "flex": null,
            "flex_flow": null,
            "grid_area": null,
            "grid_auto_columns": null,
            "grid_auto_flow": null,
            "grid_auto_rows": null,
            "grid_column": null,
            "grid_gap": null,
            "grid_row": null,
            "grid_template_areas": null,
            "grid_template_columns": null,
            "grid_template_rows": null,
            "height": null,
            "justify_content": null,
            "justify_items": null,
            "left": null,
            "margin": null,
            "max_height": null,
            "max_width": null,
            "min_height": null,
            "min_width": null,
            "object_fit": null,
            "object_position": null,
            "order": null,
            "overflow": null,
            "overflow_x": null,
            "overflow_y": null,
            "padding": null,
            "right": null,
            "top": null,
            "visibility": null,
            "width": null
          }
        },
        "4f29b47b05a14c98b5b16c579b309a39": {
          "model_module": "@jupyter-widgets/controls",
          "model_name": "DescriptionStyleModel",
          "model_module_version": "1.5.0",
          "state": {
            "_model_module": "@jupyter-widgets/controls",
            "_model_module_version": "1.5.0",
            "_model_name": "DescriptionStyleModel",
            "_view_count": null,
            "_view_module": "@jupyter-widgets/base",
            "_view_module_version": "1.2.0",
            "_view_name": "StyleView",
            "description_width": ""
          }
        },
        "d5b06b8a8c9e44359b02b6eb8588377c": {
          "model_module": "@jupyter-widgets/controls",
          "model_name": "HBoxModel",
          "model_module_version": "1.5.0",
          "state": {
            "_dom_classes": [],
            "_model_module": "@jupyter-widgets/controls",
            "_model_module_version": "1.5.0",
            "_model_name": "HBoxModel",
            "_view_count": null,
            "_view_module": "@jupyter-widgets/controls",
            "_view_module_version": "1.5.0",
            "_view_name": "HBoxView",
            "box_style": "",
            "children": [
              "IPY_MODEL_b33968cabd1c4cd2ad6b3f81698c11c9",
              "IPY_MODEL_f81a781ca96b42f0bdda3cef11109f3b",
              "IPY_MODEL_520fa33abb0b415aad0410f9be4abdf2"
            ],
            "layout": "IPY_MODEL_c65512b536c049e492416558e779affa"
          }
        },
        "b33968cabd1c4cd2ad6b3f81698c11c9": {
          "model_module": "@jupyter-widgets/controls",
          "model_name": "HTMLModel",
          "model_module_version": "1.5.0",
          "state": {
            "_dom_classes": [],
            "_model_module": "@jupyter-widgets/controls",
            "_model_module_version": "1.5.0",
            "_model_name": "HTMLModel",
            "_view_count": null,
            "_view_module": "@jupyter-widgets/controls",
            "_view_module_version": "1.5.0",
            "_view_name": "HTMLView",
            "description": "",
            "description_tooltip": null,
            "layout": "IPY_MODEL_0afec8897a2b481fb4dbddb3fca87162",
            "placeholder": "​",
            "style": "IPY_MODEL_76ab3f692607419cbaaf195ae331110d",
            "value": "Downloading (…)olve/main/vocab.json: 100%"
          }
        },
        "f81a781ca96b42f0bdda3cef11109f3b": {
          "model_module": "@jupyter-widgets/controls",
          "model_name": "FloatProgressModel",
          "model_module_version": "1.5.0",
          "state": {
            "_dom_classes": [],
            "_model_module": "@jupyter-widgets/controls",
            "_model_module_version": "1.5.0",
            "_model_name": "FloatProgressModel",
            "_view_count": null,
            "_view_module": "@jupyter-widgets/controls",
            "_view_module_version": "1.5.0",
            "_view_name": "ProgressView",
            "bar_style": "success",
            "description": "",
            "description_tooltip": null,
            "layout": "IPY_MODEL_2e66845231fc42c4a690128c805f30fa",
            "max": 898822,
            "min": 0,
            "orientation": "horizontal",
            "style": "IPY_MODEL_80b28a5337f54aa39c98a3af680cff92",
            "value": 898822
          }
        },
        "520fa33abb0b415aad0410f9be4abdf2": {
          "model_module": "@jupyter-widgets/controls",
          "model_name": "HTMLModel",
          "model_module_version": "1.5.0",
          "state": {
            "_dom_classes": [],
            "_model_module": "@jupyter-widgets/controls",
            "_model_module_version": "1.5.0",
            "_model_name": "HTMLModel",
            "_view_count": null,
            "_view_module": "@jupyter-widgets/controls",
            "_view_module_version": "1.5.0",
            "_view_name": "HTMLView",
            "description": "",
            "description_tooltip": null,
            "layout": "IPY_MODEL_485fc897240a4305bbd1af262ce24356",
            "placeholder": "​",
            "style": "IPY_MODEL_7cefb08d45fe4d348de047b97846c8af",
            "value": " 899k/899k [00:00&lt;00:00, 8.18MB/s]"
          }
        },
        "c65512b536c049e492416558e779affa": {
          "model_module": "@jupyter-widgets/base",
          "model_name": "LayoutModel",
          "model_module_version": "1.2.0",
          "state": {
            "_model_module": "@jupyter-widgets/base",
            "_model_module_version": "1.2.0",
            "_model_name": "LayoutModel",
            "_view_count": null,
            "_view_module": "@jupyter-widgets/base",
            "_view_module_version": "1.2.0",
            "_view_name": "LayoutView",
            "align_content": null,
            "align_items": null,
            "align_self": null,
            "border": null,
            "bottom": null,
            "display": null,
            "flex": null,
            "flex_flow": null,
            "grid_area": null,
            "grid_auto_columns": null,
            "grid_auto_flow": null,
            "grid_auto_rows": null,
            "grid_column": null,
            "grid_gap": null,
            "grid_row": null,
            "grid_template_areas": null,
            "grid_template_columns": null,
            "grid_template_rows": null,
            "height": null,
            "justify_content": null,
            "justify_items": null,
            "left": null,
            "margin": null,
            "max_height": null,
            "max_width": null,
            "min_height": null,
            "min_width": null,
            "object_fit": null,
            "object_position": null,
            "order": null,
            "overflow": null,
            "overflow_x": null,
            "overflow_y": null,
            "padding": null,
            "right": null,
            "top": null,
            "visibility": null,
            "width": null
          }
        },
        "0afec8897a2b481fb4dbddb3fca87162": {
          "model_module": "@jupyter-widgets/base",
          "model_name": "LayoutModel",
          "model_module_version": "1.2.0",
          "state": {
            "_model_module": "@jupyter-widgets/base",
            "_model_module_version": "1.2.0",
            "_model_name": "LayoutModel",
            "_view_count": null,
            "_view_module": "@jupyter-widgets/base",
            "_view_module_version": "1.2.0",
            "_view_name": "LayoutView",
            "align_content": null,
            "align_items": null,
            "align_self": null,
            "border": null,
            "bottom": null,
            "display": null,
            "flex": null,
            "flex_flow": null,
            "grid_area": null,
            "grid_auto_columns": null,
            "grid_auto_flow": null,
            "grid_auto_rows": null,
            "grid_column": null,
            "grid_gap": null,
            "grid_row": null,
            "grid_template_areas": null,
            "grid_template_columns": null,
            "grid_template_rows": null,
            "height": null,
            "justify_content": null,
            "justify_items": null,
            "left": null,
            "margin": null,
            "max_height": null,
            "max_width": null,
            "min_height": null,
            "min_width": null,
            "object_fit": null,
            "object_position": null,
            "order": null,
            "overflow": null,
            "overflow_x": null,
            "overflow_y": null,
            "padding": null,
            "right": null,
            "top": null,
            "visibility": null,
            "width": null
          }
        },
        "76ab3f692607419cbaaf195ae331110d": {
          "model_module": "@jupyter-widgets/controls",
          "model_name": "DescriptionStyleModel",
          "model_module_version": "1.5.0",
          "state": {
            "_model_module": "@jupyter-widgets/controls",
            "_model_module_version": "1.5.0",
            "_model_name": "DescriptionStyleModel",
            "_view_count": null,
            "_view_module": "@jupyter-widgets/base",
            "_view_module_version": "1.2.0",
            "_view_name": "StyleView",
            "description_width": ""
          }
        },
        "2e66845231fc42c4a690128c805f30fa": {
          "model_module": "@jupyter-widgets/base",
          "model_name": "LayoutModel",
          "model_module_version": "1.2.0",
          "state": {
            "_model_module": "@jupyter-widgets/base",
            "_model_module_version": "1.2.0",
            "_model_name": "LayoutModel",
            "_view_count": null,
            "_view_module": "@jupyter-widgets/base",
            "_view_module_version": "1.2.0",
            "_view_name": "LayoutView",
            "align_content": null,
            "align_items": null,
            "align_self": null,
            "border": null,
            "bottom": null,
            "display": null,
            "flex": null,
            "flex_flow": null,
            "grid_area": null,
            "grid_auto_columns": null,
            "grid_auto_flow": null,
            "grid_auto_rows": null,
            "grid_column": null,
            "grid_gap": null,
            "grid_row": null,
            "grid_template_areas": null,
            "grid_template_columns": null,
            "grid_template_rows": null,
            "height": null,
            "justify_content": null,
            "justify_items": null,
            "left": null,
            "margin": null,
            "max_height": null,
            "max_width": null,
            "min_height": null,
            "min_width": null,
            "object_fit": null,
            "object_position": null,
            "order": null,
            "overflow": null,
            "overflow_x": null,
            "overflow_y": null,
            "padding": null,
            "right": null,
            "top": null,
            "visibility": null,
            "width": null
          }
        },
        "80b28a5337f54aa39c98a3af680cff92": {
          "model_module": "@jupyter-widgets/controls",
          "model_name": "ProgressStyleModel",
          "model_module_version": "1.5.0",
          "state": {
            "_model_module": "@jupyter-widgets/controls",
            "_model_module_version": "1.5.0",
            "_model_name": "ProgressStyleModel",
            "_view_count": null,
            "_view_module": "@jupyter-widgets/base",
            "_view_module_version": "1.2.0",
            "_view_name": "StyleView",
            "bar_color": null,
            "description_width": ""
          }
        },
        "485fc897240a4305bbd1af262ce24356": {
          "model_module": "@jupyter-widgets/base",
          "model_name": "LayoutModel",
          "model_module_version": "1.2.0",
          "state": {
            "_model_module": "@jupyter-widgets/base",
            "_model_module_version": "1.2.0",
            "_model_name": "LayoutModel",
            "_view_count": null,
            "_view_module": "@jupyter-widgets/base",
            "_view_module_version": "1.2.0",
            "_view_name": "LayoutView",
            "align_content": null,
            "align_items": null,
            "align_self": null,
            "border": null,
            "bottom": null,
            "display": null,
            "flex": null,
            "flex_flow": null,
            "grid_area": null,
            "grid_auto_columns": null,
            "grid_auto_flow": null,
            "grid_auto_rows": null,
            "grid_column": null,
            "grid_gap": null,
            "grid_row": null,
            "grid_template_areas": null,
            "grid_template_columns": null,
            "grid_template_rows": null,
            "height": null,
            "justify_content": null,
            "justify_items": null,
            "left": null,
            "margin": null,
            "max_height": null,
            "max_width": null,
            "min_height": null,
            "min_width": null,
            "object_fit": null,
            "object_position": null,
            "order": null,
            "overflow": null,
            "overflow_x": null,
            "overflow_y": null,
            "padding": null,
            "right": null,
            "top": null,
            "visibility": null,
            "width": null
          }
        },
        "7cefb08d45fe4d348de047b97846c8af": {
          "model_module": "@jupyter-widgets/controls",
          "model_name": "DescriptionStyleModel",
          "model_module_version": "1.5.0",
          "state": {
            "_model_module": "@jupyter-widgets/controls",
            "_model_module_version": "1.5.0",
            "_model_name": "DescriptionStyleModel",
            "_view_count": null,
            "_view_module": "@jupyter-widgets/base",
            "_view_module_version": "1.2.0",
            "_view_name": "StyleView",
            "description_width": ""
          }
        },
        "5486f43a94744c0f8fc9c2c4e4908406": {
          "model_module": "@jupyter-widgets/controls",
          "model_name": "HBoxModel",
          "model_module_version": "1.5.0",
          "state": {
            "_dom_classes": [],
            "_model_module": "@jupyter-widgets/controls",
            "_model_module_version": "1.5.0",
            "_model_name": "HBoxModel",
            "_view_count": null,
            "_view_module": "@jupyter-widgets/controls",
            "_view_module_version": "1.5.0",
            "_view_name": "HBoxView",
            "box_style": "",
            "children": [
              "IPY_MODEL_0362342260c646cf8468c310d9513134",
              "IPY_MODEL_bcaf682fe0564be6ad9bdcd66327e7ee",
              "IPY_MODEL_c263aa13a9014f49bb03dbe3616409c0"
            ],
            "layout": "IPY_MODEL_53e61bd809a94f96bbf69ee5a48db73c"
          }
        },
        "0362342260c646cf8468c310d9513134": {
          "model_module": "@jupyter-widgets/controls",
          "model_name": "HTMLModel",
          "model_module_version": "1.5.0",
          "state": {
            "_dom_classes": [],
            "_model_module": "@jupyter-widgets/controls",
            "_model_module_version": "1.5.0",
            "_model_name": "HTMLModel",
            "_view_count": null,
            "_view_module": "@jupyter-widgets/controls",
            "_view_module_version": "1.5.0",
            "_view_name": "HTMLView",
            "description": "",
            "description_tooltip": null,
            "layout": "IPY_MODEL_3d390e52a7d44438805b552bb4c43287",
            "placeholder": "​",
            "style": "IPY_MODEL_24c832c623c5454b9594c6e05c936526",
            "value": "Downloading (…)olve/main/merges.txt: 100%"
          }
        },
        "bcaf682fe0564be6ad9bdcd66327e7ee": {
          "model_module": "@jupyter-widgets/controls",
          "model_name": "FloatProgressModel",
          "model_module_version": "1.5.0",
          "state": {
            "_dom_classes": [],
            "_model_module": "@jupyter-widgets/controls",
            "_model_module_version": "1.5.0",
            "_model_name": "FloatProgressModel",
            "_view_count": null,
            "_view_module": "@jupyter-widgets/controls",
            "_view_module_version": "1.5.0",
            "_view_name": "ProgressView",
            "bar_style": "success",
            "description": "",
            "description_tooltip": null,
            "layout": "IPY_MODEL_d95d80c35ae4478b902a1a80ae464bd0",
            "max": 456318,
            "min": 0,
            "orientation": "horizontal",
            "style": "IPY_MODEL_7e3e7615c8e043dd8f9e311304e87efc",
            "value": 456318
          }
        },
        "c263aa13a9014f49bb03dbe3616409c0": {
          "model_module": "@jupyter-widgets/controls",
          "model_name": "HTMLModel",
          "model_module_version": "1.5.0",
          "state": {
            "_dom_classes": [],
            "_model_module": "@jupyter-widgets/controls",
            "_model_module_version": "1.5.0",
            "_model_name": "HTMLModel",
            "_view_count": null,
            "_view_module": "@jupyter-widgets/controls",
            "_view_module_version": "1.5.0",
            "_view_name": "HTMLView",
            "description": "",
            "description_tooltip": null,
            "layout": "IPY_MODEL_8c9e808a25304f73b98dcb0a1e67433e",
            "placeholder": "​",
            "style": "IPY_MODEL_83b6f2206b4f4647a6989426e0717111",
            "value": " 456k/456k [00:00&lt;00:00, 20.2MB/s]"
          }
        },
        "53e61bd809a94f96bbf69ee5a48db73c": {
          "model_module": "@jupyter-widgets/base",
          "model_name": "LayoutModel",
          "model_module_version": "1.2.0",
          "state": {
            "_model_module": "@jupyter-widgets/base",
            "_model_module_version": "1.2.0",
            "_model_name": "LayoutModel",
            "_view_count": null,
            "_view_module": "@jupyter-widgets/base",
            "_view_module_version": "1.2.0",
            "_view_name": "LayoutView",
            "align_content": null,
            "align_items": null,
            "align_self": null,
            "border": null,
            "bottom": null,
            "display": null,
            "flex": null,
            "flex_flow": null,
            "grid_area": null,
            "grid_auto_columns": null,
            "grid_auto_flow": null,
            "grid_auto_rows": null,
            "grid_column": null,
            "grid_gap": null,
            "grid_row": null,
            "grid_template_areas": null,
            "grid_template_columns": null,
            "grid_template_rows": null,
            "height": null,
            "justify_content": null,
            "justify_items": null,
            "left": null,
            "margin": null,
            "max_height": null,
            "max_width": null,
            "min_height": null,
            "min_width": null,
            "object_fit": null,
            "object_position": null,
            "order": null,
            "overflow": null,
            "overflow_x": null,
            "overflow_y": null,
            "padding": null,
            "right": null,
            "top": null,
            "visibility": null,
            "width": null
          }
        },
        "3d390e52a7d44438805b552bb4c43287": {
          "model_module": "@jupyter-widgets/base",
          "model_name": "LayoutModel",
          "model_module_version": "1.2.0",
          "state": {
            "_model_module": "@jupyter-widgets/base",
            "_model_module_version": "1.2.0",
            "_model_name": "LayoutModel",
            "_view_count": null,
            "_view_module": "@jupyter-widgets/base",
            "_view_module_version": "1.2.0",
            "_view_name": "LayoutView",
            "align_content": null,
            "align_items": null,
            "align_self": null,
            "border": null,
            "bottom": null,
            "display": null,
            "flex": null,
            "flex_flow": null,
            "grid_area": null,
            "grid_auto_columns": null,
            "grid_auto_flow": null,
            "grid_auto_rows": null,
            "grid_column": null,
            "grid_gap": null,
            "grid_row": null,
            "grid_template_areas": null,
            "grid_template_columns": null,
            "grid_template_rows": null,
            "height": null,
            "justify_content": null,
            "justify_items": null,
            "left": null,
            "margin": null,
            "max_height": null,
            "max_width": null,
            "min_height": null,
            "min_width": null,
            "object_fit": null,
            "object_position": null,
            "order": null,
            "overflow": null,
            "overflow_x": null,
            "overflow_y": null,
            "padding": null,
            "right": null,
            "top": null,
            "visibility": null,
            "width": null
          }
        },
        "24c832c623c5454b9594c6e05c936526": {
          "model_module": "@jupyter-widgets/controls",
          "model_name": "DescriptionStyleModel",
          "model_module_version": "1.5.0",
          "state": {
            "_model_module": "@jupyter-widgets/controls",
            "_model_module_version": "1.5.0",
            "_model_name": "DescriptionStyleModel",
            "_view_count": null,
            "_view_module": "@jupyter-widgets/base",
            "_view_module_version": "1.2.0",
            "_view_name": "StyleView",
            "description_width": ""
          }
        },
        "d95d80c35ae4478b902a1a80ae464bd0": {
          "model_module": "@jupyter-widgets/base",
          "model_name": "LayoutModel",
          "model_module_version": "1.2.0",
          "state": {
            "_model_module": "@jupyter-widgets/base",
            "_model_module_version": "1.2.0",
            "_model_name": "LayoutModel",
            "_view_count": null,
            "_view_module": "@jupyter-widgets/base",
            "_view_module_version": "1.2.0",
            "_view_name": "LayoutView",
            "align_content": null,
            "align_items": null,
            "align_self": null,
            "border": null,
            "bottom": null,
            "display": null,
            "flex": null,
            "flex_flow": null,
            "grid_area": null,
            "grid_auto_columns": null,
            "grid_auto_flow": null,
            "grid_auto_rows": null,
            "grid_column": null,
            "grid_gap": null,
            "grid_row": null,
            "grid_template_areas": null,
            "grid_template_columns": null,
            "grid_template_rows": null,
            "height": null,
            "justify_content": null,
            "justify_items": null,
            "left": null,
            "margin": null,
            "max_height": null,
            "max_width": null,
            "min_height": null,
            "min_width": null,
            "object_fit": null,
            "object_position": null,
            "order": null,
            "overflow": null,
            "overflow_x": null,
            "overflow_y": null,
            "padding": null,
            "right": null,
            "top": null,
            "visibility": null,
            "width": null
          }
        },
        "7e3e7615c8e043dd8f9e311304e87efc": {
          "model_module": "@jupyter-widgets/controls",
          "model_name": "ProgressStyleModel",
          "model_module_version": "1.5.0",
          "state": {
            "_model_module": "@jupyter-widgets/controls",
            "_model_module_version": "1.5.0",
            "_model_name": "ProgressStyleModel",
            "_view_count": null,
            "_view_module": "@jupyter-widgets/base",
            "_view_module_version": "1.2.0",
            "_view_name": "StyleView",
            "bar_color": null,
            "description_width": ""
          }
        },
        "8c9e808a25304f73b98dcb0a1e67433e": {
          "model_module": "@jupyter-widgets/base",
          "model_name": "LayoutModel",
          "model_module_version": "1.2.0",
          "state": {
            "_model_module": "@jupyter-widgets/base",
            "_model_module_version": "1.2.0",
            "_model_name": "LayoutModel",
            "_view_count": null,
            "_view_module": "@jupyter-widgets/base",
            "_view_module_version": "1.2.0",
            "_view_name": "LayoutView",
            "align_content": null,
            "align_items": null,
            "align_self": null,
            "border": null,
            "bottom": null,
            "display": null,
            "flex": null,
            "flex_flow": null,
            "grid_area": null,
            "grid_auto_columns": null,
            "grid_auto_flow": null,
            "grid_auto_rows": null,
            "grid_column": null,
            "grid_gap": null,
            "grid_row": null,
            "grid_template_areas": null,
            "grid_template_columns": null,
            "grid_template_rows": null,
            "height": null,
            "justify_content": null,
            "justify_items": null,
            "left": null,
            "margin": null,
            "max_height": null,
            "max_width": null,
            "min_height": null,
            "min_width": null,
            "object_fit": null,
            "object_position": null,
            "order": null,
            "overflow": null,
            "overflow_x": null,
            "overflow_y": null,
            "padding": null,
            "right": null,
            "top": null,
            "visibility": null,
            "width": null
          }
        },
        "83b6f2206b4f4647a6989426e0717111": {
          "model_module": "@jupyter-widgets/controls",
          "model_name": "DescriptionStyleModel",
          "model_module_version": "1.5.0",
          "state": {
            "_model_module": "@jupyter-widgets/controls",
            "_model_module_version": "1.5.0",
            "_model_name": "DescriptionStyleModel",
            "_view_count": null,
            "_view_module": "@jupyter-widgets/base",
            "_view_module_version": "1.2.0",
            "_view_name": "StyleView",
            "description_width": ""
          }
        },
        "b457dbfeeb6b41499e1620839366d607": {
          "model_module": "@jupyter-widgets/controls",
          "model_name": "HBoxModel",
          "model_module_version": "1.5.0",
          "state": {
            "_dom_classes": [],
            "_model_module": "@jupyter-widgets/controls",
            "_model_module_version": "1.5.0",
            "_model_name": "HBoxModel",
            "_view_count": null,
            "_view_module": "@jupyter-widgets/controls",
            "_view_module_version": "1.5.0",
            "_view_name": "HBoxView",
            "box_style": "",
            "children": [
              "IPY_MODEL_a750770680c34df68843d9c12d68699e",
              "IPY_MODEL_a59a269efc2c4893bf4a6b3f35080c62",
              "IPY_MODEL_5e2ea6c6d204471894aa7d483a7cc420"
            ],
            "layout": "IPY_MODEL_c4f21f0e2c37473c8218e1c40d022718"
          }
        },
        "a750770680c34df68843d9c12d68699e": {
          "model_module": "@jupyter-widgets/controls",
          "model_name": "HTMLModel",
          "model_module_version": "1.5.0",
          "state": {
            "_dom_classes": [],
            "_model_module": "@jupyter-widgets/controls",
            "_model_module_version": "1.5.0",
            "_model_name": "HTMLModel",
            "_view_count": null,
            "_view_module": "@jupyter-widgets/controls",
            "_view_module_version": "1.5.0",
            "_view_name": "HTMLView",
            "description": "",
            "description_tooltip": null,
            "layout": "IPY_MODEL_5d8bf91c8cb143f6afbe6eaa1bf0d991",
            "placeholder": "​",
            "style": "IPY_MODEL_c1deafc71b6248478f9ebcd58c965869",
            "value": "Downloading (…)cial_tokens_map.json: 100%"
          }
        },
        "a59a269efc2c4893bf4a6b3f35080c62": {
          "model_module": "@jupyter-widgets/controls",
          "model_name": "FloatProgressModel",
          "model_module_version": "1.5.0",
          "state": {
            "_dom_classes": [],
            "_model_module": "@jupyter-widgets/controls",
            "_model_module_version": "1.5.0",
            "_model_name": "FloatProgressModel",
            "_view_count": null,
            "_view_module": "@jupyter-widgets/controls",
            "_view_module_version": "1.5.0",
            "_view_name": "ProgressView",
            "bar_style": "success",
            "description": "",
            "description_tooltip": null,
            "layout": "IPY_MODEL_521e0d2047024a15813dc32ebec84fba",
            "max": 150,
            "min": 0,
            "orientation": "horizontal",
            "style": "IPY_MODEL_6050398fb5fc4662ad738077712ca166",
            "value": 150
          }
        },
        "5e2ea6c6d204471894aa7d483a7cc420": {
          "model_module": "@jupyter-widgets/controls",
          "model_name": "HTMLModel",
          "model_module_version": "1.5.0",
          "state": {
            "_dom_classes": [],
            "_model_module": "@jupyter-widgets/controls",
            "_model_module_version": "1.5.0",
            "_model_name": "HTMLModel",
            "_view_count": null,
            "_view_module": "@jupyter-widgets/controls",
            "_view_module_version": "1.5.0",
            "_view_name": "HTMLView",
            "description": "",
            "description_tooltip": null,
            "layout": "IPY_MODEL_4d00e2f150b74c1fbd017ff4c2ad61c5",
            "placeholder": "​",
            "style": "IPY_MODEL_7967088877e14347aca6c9783c315df1",
            "value": " 150/150 [00:00&lt;00:00, 5.62kB/s]"
          }
        },
        "c4f21f0e2c37473c8218e1c40d022718": {
          "model_module": "@jupyter-widgets/base",
          "model_name": "LayoutModel",
          "model_module_version": "1.2.0",
          "state": {
            "_model_module": "@jupyter-widgets/base",
            "_model_module_version": "1.2.0",
            "_model_name": "LayoutModel",
            "_view_count": null,
            "_view_module": "@jupyter-widgets/base",
            "_view_module_version": "1.2.0",
            "_view_name": "LayoutView",
            "align_content": null,
            "align_items": null,
            "align_self": null,
            "border": null,
            "bottom": null,
            "display": null,
            "flex": null,
            "flex_flow": null,
            "grid_area": null,
            "grid_auto_columns": null,
            "grid_auto_flow": null,
            "grid_auto_rows": null,
            "grid_column": null,
            "grid_gap": null,
            "grid_row": null,
            "grid_template_areas": null,
            "grid_template_columns": null,
            "grid_template_rows": null,
            "height": null,
            "justify_content": null,
            "justify_items": null,
            "left": null,
            "margin": null,
            "max_height": null,
            "max_width": null,
            "min_height": null,
            "min_width": null,
            "object_fit": null,
            "object_position": null,
            "order": null,
            "overflow": null,
            "overflow_x": null,
            "overflow_y": null,
            "padding": null,
            "right": null,
            "top": null,
            "visibility": null,
            "width": null
          }
        },
        "5d8bf91c8cb143f6afbe6eaa1bf0d991": {
          "model_module": "@jupyter-widgets/base",
          "model_name": "LayoutModel",
          "model_module_version": "1.2.0",
          "state": {
            "_model_module": "@jupyter-widgets/base",
            "_model_module_version": "1.2.0",
            "_model_name": "LayoutModel",
            "_view_count": null,
            "_view_module": "@jupyter-widgets/base",
            "_view_module_version": "1.2.0",
            "_view_name": "LayoutView",
            "align_content": null,
            "align_items": null,
            "align_self": null,
            "border": null,
            "bottom": null,
            "display": null,
            "flex": null,
            "flex_flow": null,
            "grid_area": null,
            "grid_auto_columns": null,
            "grid_auto_flow": null,
            "grid_auto_rows": null,
            "grid_column": null,
            "grid_gap": null,
            "grid_row": null,
            "grid_template_areas": null,
            "grid_template_columns": null,
            "grid_template_rows": null,
            "height": null,
            "justify_content": null,
            "justify_items": null,
            "left": null,
            "margin": null,
            "max_height": null,
            "max_width": null,
            "min_height": null,
            "min_width": null,
            "object_fit": null,
            "object_position": null,
            "order": null,
            "overflow": null,
            "overflow_x": null,
            "overflow_y": null,
            "padding": null,
            "right": null,
            "top": null,
            "visibility": null,
            "width": null
          }
        },
        "c1deafc71b6248478f9ebcd58c965869": {
          "model_module": "@jupyter-widgets/controls",
          "model_name": "DescriptionStyleModel",
          "model_module_version": "1.5.0",
          "state": {
            "_model_module": "@jupyter-widgets/controls",
            "_model_module_version": "1.5.0",
            "_model_name": "DescriptionStyleModel",
            "_view_count": null,
            "_view_module": "@jupyter-widgets/base",
            "_view_module_version": "1.2.0",
            "_view_name": "StyleView",
            "description_width": ""
          }
        },
        "521e0d2047024a15813dc32ebec84fba": {
          "model_module": "@jupyter-widgets/base",
          "model_name": "LayoutModel",
          "model_module_version": "1.2.0",
          "state": {
            "_model_module": "@jupyter-widgets/base",
            "_model_module_version": "1.2.0",
            "_model_name": "LayoutModel",
            "_view_count": null,
            "_view_module": "@jupyter-widgets/base",
            "_view_module_version": "1.2.0",
            "_view_name": "LayoutView",
            "align_content": null,
            "align_items": null,
            "align_self": null,
            "border": null,
            "bottom": null,
            "display": null,
            "flex": null,
            "flex_flow": null,
            "grid_area": null,
            "grid_auto_columns": null,
            "grid_auto_flow": null,
            "grid_auto_rows": null,
            "grid_column": null,
            "grid_gap": null,
            "grid_row": null,
            "grid_template_areas": null,
            "grid_template_columns": null,
            "grid_template_rows": null,
            "height": null,
            "justify_content": null,
            "justify_items": null,
            "left": null,
            "margin": null,
            "max_height": null,
            "max_width": null,
            "min_height": null,
            "min_width": null,
            "object_fit": null,
            "object_position": null,
            "order": null,
            "overflow": null,
            "overflow_x": null,
            "overflow_y": null,
            "padding": null,
            "right": null,
            "top": null,
            "visibility": null,
            "width": null
          }
        },
        "6050398fb5fc4662ad738077712ca166": {
          "model_module": "@jupyter-widgets/controls",
          "model_name": "ProgressStyleModel",
          "model_module_version": "1.5.0",
          "state": {
            "_model_module": "@jupyter-widgets/controls",
            "_model_module_version": "1.5.0",
            "_model_name": "ProgressStyleModel",
            "_view_count": null,
            "_view_module": "@jupyter-widgets/base",
            "_view_module_version": "1.2.0",
            "_view_name": "StyleView",
            "bar_color": null,
            "description_width": ""
          }
        },
        "4d00e2f150b74c1fbd017ff4c2ad61c5": {
          "model_module": "@jupyter-widgets/base",
          "model_name": "LayoutModel",
          "model_module_version": "1.2.0",
          "state": {
            "_model_module": "@jupyter-widgets/base",
            "_model_module_version": "1.2.0",
            "_model_name": "LayoutModel",
            "_view_count": null,
            "_view_module": "@jupyter-widgets/base",
            "_view_module_version": "1.2.0",
            "_view_name": "LayoutView",
            "align_content": null,
            "align_items": null,
            "align_self": null,
            "border": null,
            "bottom": null,
            "display": null,
            "flex": null,
            "flex_flow": null,
            "grid_area": null,
            "grid_auto_columns": null,
            "grid_auto_flow": null,
            "grid_auto_rows": null,
            "grid_column": null,
            "grid_gap": null,
            "grid_row": null,
            "grid_template_areas": null,
            "grid_template_columns": null,
            "grid_template_rows": null,
            "height": null,
            "justify_content": null,
            "justify_items": null,
            "left": null,
            "margin": null,
            "max_height": null,
            "max_width": null,
            "min_height": null,
            "min_width": null,
            "object_fit": null,
            "object_position": null,
            "order": null,
            "overflow": null,
            "overflow_x": null,
            "overflow_y": null,
            "padding": null,
            "right": null,
            "top": null,
            "visibility": null,
            "width": null
          }
        },
        "7967088877e14347aca6c9783c315df1": {
          "model_module": "@jupyter-widgets/controls",
          "model_name": "DescriptionStyleModel",
          "model_module_version": "1.5.0",
          "state": {
            "_model_module": "@jupyter-widgets/controls",
            "_model_module_version": "1.5.0",
            "_model_name": "DescriptionStyleModel",
            "_view_count": null,
            "_view_module": "@jupyter-widgets/base",
            "_view_module_version": "1.2.0",
            "_view_name": "StyleView",
            "description_width": ""
          }
        }
      }
    }
  },
  "cells": [
    {
      "cell_type": "markdown",
      "metadata": {
        "id": "view-in-github",
        "colab_type": "text"
      },
      "source": [
        "<a href=\"https://colab.research.google.com/github/vanderbilt-data-science/ai_summer/blob/main/0_2_py4genai_tests_apis_solns.ipynb\" target=\"_parent\"><img src=\"https://colab.research.google.com/assets/colab-badge.svg\" alt=\"Open In Colab\"/></a>"
      ]
    },
    {
      "cell_type": "markdown",
      "source": [
        "# Tests, Conditional Execution, Iteration, and Practice\n",
        "> Rounding out our Python knowledge for success with langchain\n",
        "\n",
        "Welcome to our last day of our AI-Assisted Programming crash course! In today's lesson, we'll cover conditional execution, iteration, tests, and get some practice with these concepts. We'll continue learning the syntax and grammar of the Python language to effectively communicate our goals to Python.\n",
        "\n",
        "In this lesson, you'll learn:\n",
        "* Communicating conditional execution syntax to Python\n",
        "* Different ways of communicating iteration to Python\n",
        "* Testing - how to make sure your code does what it should do\n",
        "* How to use APIs when genAI fails you!\n",
        "\n",
        "Let's get started!\n"
      ],
      "metadata": {
        "id": "9KxyqOvROcHs"
      }
    },
    {
      "cell_type": "markdown",
      "source": [
        "# Conditional Execution\n",
        "Let's start by revisiting our email example. Recall that our function was:"
      ],
      "metadata": {
        "id": "p284NtdkQ5N6"
      }
    },
    {
      "cell_type": "code",
      "source": [
        "# process document function\n",
        "def process_document(document_string):\n",
        "    lines = document_string.split('\\n')\n",
        "    \n",
        "    header_dict = {}\n",
        "    email_body = []\n",
        "    \n",
        "    # Flag to know when the header ends and the body starts\n",
        "    body_flag = False\n",
        "    \n",
        "    for line in lines:\n",
        "        if not body_flag:\n",
        "            # Header lines processing\n",
        "            if ':' in line:\n",
        "                key, value = line.split(':', 1)\n",
        "                header_dict[key.strip()] = value.strip()\n",
        "\n",
        "                if 'Lines' in key:\n",
        "                    body_flag = True\n",
        "            else:\n",
        "                # Header lines without ':' are considered part of the last field\n",
        "                header_dict[key] += '\\n' + line.strip()\n",
        "                \n",
        "        else:\n",
        "            # Body lines processing\n",
        "            email_body.append(line)\n",
        "            \n",
        "    return header_dict, email_body"
      ],
      "metadata": {
        "id": "FXTAaStoK6cx"
      },
      "execution_count": null,
      "outputs": []
    },
    {
      "cell_type": "markdown",
      "source": [
        "We used this function by executing something similar to:\n",
        "```\n",
        "# Read in the document\n",
        "with open('document.txt', 'r') as file:\n",
        "    document_string = file.read()\n",
        "\n",
        "# Process the document\n",
        "header, body = process_document(document_string)\n",
        "\n",
        "print(header)\n",
        "print(body)\n",
        "```"
      ],
      "metadata": {
        "id": "9WLPKPCTFPMf"
      }
    },
    {
      "cell_type": "markdown",
      "source": [
        "This already has an example of conditional execution, in which a variable is only modified if conditions are met. Let's explore this at greater depth."
      ],
      "metadata": {
        "id": "xoOKX9w9LyIW"
      }
    },
    {
      "cell_type": "markdown",
      "source": [
        "## Writing conditional execution code\n",
        "What we've written above is essentially the form of one or more `if`, `if-else`, `if-elif-else` statements. The syntax for communicating conditional execution looks like so:\n",
        "\n",
        "### `if` statements\n",
        "```\n",
        "if condition:\n",
        "  #code block for if condition true\n",
        "```\n",
        "\n",
        "### `if-else` statements\n",
        "`if-else` statements allow binary, mutually exclusive decisions:\n",
        "\n",
        "```\n",
        "if condition:\n",
        "  #code block for if condition true\n",
        "else:\n",
        "  #code block for if condition false\n",
        "```\n",
        "\n",
        "### `if-elif-else` statements\n",
        "\n",
        "`if-elif-else` statements allow multiple, mutually exclusive decisions:\n",
        "```\n",
        "if condition A:\n",
        "  #code block for if condition A true\n",
        "elif condition B:\n",
        "  #code block for if condition B true\n",
        "elif condition C:\n",
        "  #code block for if condition C true\n",
        "else:\n",
        "  #code block for none of the above conditions are true\n",
        "```\n",
        "\n",
        "Let's see what this looks like for our code."
      ],
      "metadata": {
        "id": "ZDo5L8PrU_0H"
      }
    },
    {
      "cell_type": "markdown",
      "source": [
        "# Tests and Asserts\n",
        "Tests are code that you write to ensure your code is:\n",
        "1. Semantically correct\n",
        "2. Robust to all failure modes (e.g., explore all branches of if statements, etc)\n",
        "\n",
        "This can be conceived of as formulating **test cases.** How can we do this for our `process_documents` function? We can decide on some tests for point (1) by thinking about what we need the code to do."
      ],
      "metadata": {
        "id": "x5TV5C9Yeg-u"
      }
    },
    {
      "cell_type": "markdown",
      "source": [
        "## Example Test 0: Basic Structure\n",
        "> Make sure the inputs and outputs are as expected\n",
        "\n",
        "* Inputs: string\n",
        "* Output: dictionary, string (2)"
      ],
      "metadata": {
        "id": "ZgNK3wKRdT-7"
      }
    },
    {
      "cell_type": "code",
      "source": [
        "# Formulate test case\n",
        "input_email = \"\"\"From: John Doe\n",
        "To: Jane Doe\n",
        "Organizer-Names: Friends and Family\n",
        "Message ID: 253421-2\n",
        "Reply-To: \n",
        "Lines: 3\n",
        "\n",
        "Dear Jane,\n",
        "The cat is out of the bag.\n",
        "John\n",
        "\"\"\"\n",
        "\n",
        "print(input_email)"
      ],
      "metadata": {
        "colab": {
          "base_uri": "https://localhost:8080/"
        },
        "id": "u6im7OseTyMk",
        "outputId": "54bac668-95df-4922-8f6f-b0d17331de67"
      },
      "execution_count": null,
      "outputs": [
        {
          "output_type": "stream",
          "name": "stdout",
          "text": [
            "From: John Doe\n",
            "To: Jane Doe\n",
            "Organizer-Names: Friends and Family\n",
            "Message ID: 253421-2\n",
            "Reply-To: \n",
            "Lines: 3\n",
            "\n",
            "Dear Jane,\n",
            "The cat is out of the bag.\n",
            "John\n",
            "\n"
          ]
        }
      ]
    },
    {
      "cell_type": "code",
      "source": [
        "# Call the function\n",
        "processed_email = process_document(input_email)\n",
        "processed_email"
      ],
      "metadata": {
        "colab": {
          "base_uri": "https://localhost:8080/"
        },
        "id": "MGLRtD-aUyO_",
        "outputId": "083a12f6-7bf0-4060-dc8f-808bc2fcd495"
      },
      "execution_count": null,
      "outputs": [
        {
          "output_type": "execute_result",
          "data": {
            "text/plain": [
              "({'From': 'John Doe',\n",
              "  'To': 'Jane Doe',\n",
              "  'Organizer-Names': 'Friends and Family',\n",
              "  'Message ID': '253421-2',\n",
              "  'Reply-To': '',\n",
              "  'Lines': '3'},\n",
              " ['', 'Dear Jane,', 'The cat is out of the bag.', 'John', ''])"
            ]
          },
          "metadata": {},
          "execution_count": 5
        }
      ]
    },
    {
      "cell_type": "code",
      "source": [
        "# Verify the behavior\n",
        "def test_proc_doc_io(fn_outputs):\n",
        "  assert len(fn_outputs)==2, 'The function did not return the correct number of elements'\n",
        "  assert isinstance(fn_outputs[0], dict), 'The function did not return the first element as a dictionary'\n",
        "  assert isinstance(fn_outputs[1], str), 'The function did not return the second element as a string.'\n",
        "\n",
        "test_proc_doc_io(processed_email)"
      ],
      "metadata": {
        "colab": {
          "base_uri": "https://localhost:8080/",
          "height": 329
        },
        "id": "iuAyofR9VeEA",
        "outputId": "0a4ebdf9-2354-4a18-d9a8-6750c181ac9e"
      },
      "execution_count": null,
      "outputs": [
        {
          "output_type": "error",
          "ename": "AssertionError",
          "evalue": "ignored",
          "traceback": [
            "\u001b[0;31m---------------------------------------------------------------------------\u001b[0m",
            "\u001b[0;31mAssertionError\u001b[0m                            Traceback (most recent call last)",
            "\u001b[0;32m<ipython-input-6-640e83fa18af>\u001b[0m in \u001b[0;36m<cell line: 7>\u001b[0;34m()\u001b[0m\n\u001b[1;32m      5\u001b[0m   \u001b[0;32massert\u001b[0m \u001b[0misinstance\u001b[0m\u001b[0;34m(\u001b[0m\u001b[0mfn_outputs\u001b[0m\u001b[0;34m[\u001b[0m\u001b[0;36m1\u001b[0m\u001b[0;34m]\u001b[0m\u001b[0;34m,\u001b[0m \u001b[0mstr\u001b[0m\u001b[0;34m)\u001b[0m\u001b[0;34m,\u001b[0m \u001b[0;34m'The function did not return the second element as a string.'\u001b[0m\u001b[0;34m\u001b[0m\u001b[0;34m\u001b[0m\u001b[0m\n\u001b[1;32m      6\u001b[0m \u001b[0;34m\u001b[0m\u001b[0m\n\u001b[0;32m----> 7\u001b[0;31m \u001b[0mtest_proc_doc_io\u001b[0m\u001b[0;34m(\u001b[0m\u001b[0mprocessed_email\u001b[0m\u001b[0;34m)\u001b[0m\u001b[0;34m\u001b[0m\u001b[0;34m\u001b[0m\u001b[0m\n\u001b[0m",
            "\u001b[0;32m<ipython-input-6-640e83fa18af>\u001b[0m in \u001b[0;36mtest_proc_doc_io\u001b[0;34m(fn_outputs)\u001b[0m\n\u001b[1;32m      3\u001b[0m   \u001b[0;32massert\u001b[0m \u001b[0mlen\u001b[0m\u001b[0;34m(\u001b[0m\u001b[0mfn_outputs\u001b[0m\u001b[0;34m)\u001b[0m\u001b[0;34m==\u001b[0m\u001b[0;36m2\u001b[0m\u001b[0;34m,\u001b[0m \u001b[0;34m'The function did not return the correct number of elements'\u001b[0m\u001b[0;34m\u001b[0m\u001b[0;34m\u001b[0m\u001b[0m\n\u001b[1;32m      4\u001b[0m   \u001b[0;32massert\u001b[0m \u001b[0misinstance\u001b[0m\u001b[0;34m(\u001b[0m\u001b[0mfn_outputs\u001b[0m\u001b[0;34m[\u001b[0m\u001b[0;36m0\u001b[0m\u001b[0;34m]\u001b[0m\u001b[0;34m,\u001b[0m \u001b[0mdict\u001b[0m\u001b[0;34m)\u001b[0m\u001b[0;34m,\u001b[0m \u001b[0;34m'The function did not return the first element as a dictionary'\u001b[0m\u001b[0;34m\u001b[0m\u001b[0;34m\u001b[0m\u001b[0m\n\u001b[0;32m----> 5\u001b[0;31m   \u001b[0;32massert\u001b[0m \u001b[0misinstance\u001b[0m\u001b[0;34m(\u001b[0m\u001b[0mfn_outputs\u001b[0m\u001b[0;34m[\u001b[0m\u001b[0;36m1\u001b[0m\u001b[0;34m]\u001b[0m\u001b[0;34m,\u001b[0m \u001b[0mstr\u001b[0m\u001b[0;34m)\u001b[0m\u001b[0;34m,\u001b[0m \u001b[0;34m'The function did not return the second element as a string.'\u001b[0m\u001b[0;34m\u001b[0m\u001b[0;34m\u001b[0m\u001b[0m\n\u001b[0m\u001b[1;32m      6\u001b[0m \u001b[0;34m\u001b[0m\u001b[0m\n\u001b[1;32m      7\u001b[0m \u001b[0mtest_proc_doc_io\u001b[0m\u001b[0;34m(\u001b[0m\u001b[0mprocessed_email\u001b[0m\u001b[0;34m)\u001b[0m\u001b[0;34m\u001b[0m\u001b[0;34m\u001b[0m\u001b[0m\n",
            "\u001b[0;31mAssertionError\u001b[0m: The function did not return the second element as a string."
          ]
        }
      ]
    },
    {
      "cell_type": "markdown",
      "source": [
        "## Example Test 1: Semantics\n",
        "> Making sure input and output values are correct\n",
        "\n",
        "* We will use the same `input_email` from before\n",
        "* We will use the same `processed_email` from before\n",
        "\n",
        "Both are repeated here for clarity"
      ],
      "metadata": {
        "id": "C-2bCo_aT-sp"
      }
    },
    {
      "cell_type": "code",
      "source": [
        "# Original email\n",
        "input_email = \"\"\"From: John Doe\n",
        "To: Jane Doe\n",
        "Organizer-Names: Friends and Family\n",
        "Message ID: 253421-2\n",
        "Reply-To: \n",
        "Lines: 3\n",
        "\n",
        "Dear Jane,\n",
        "The cat is out of the bag.\n",
        "John\n",
        "\"\"\"\n",
        "\n",
        "print(input_email)"
      ],
      "metadata": {
        "colab": {
          "base_uri": "https://localhost:8080/"
        },
        "id": "DfZv3wRfaSHA",
        "outputId": "3e15ac4f-a35c-43b1-c75a-e1d151b59c42"
      },
      "execution_count": null,
      "outputs": [
        {
          "output_type": "stream",
          "name": "stdout",
          "text": [
            "From: John Doe\n",
            "To: Jane Doe\n",
            "Organizer-Names: Friends and Family\n",
            "Message ID: 253421-2\n",
            "Reply-To: \n",
            "Lines: 3\n",
            "\n",
            "Dear Jane,\n",
            "The cat is out of the bag.\n",
            "John\n",
            "\n"
          ]
        }
      ]
    },
    {
      "cell_type": "code",
      "source": [
        "# Formulate the expected outputs\n",
        "true_out_header = {'From': 'John Doe',\n",
        "  'To': 'Jane Doe',\n",
        "  'Organizer-Names': 'Friends and Family',\n",
        "  'Message ID': '253421-2',\n",
        "  'Reply-To': '',\n",
        "  'Lines': '3'}\n",
        "\n",
        "true_out_body = \"\"\"\n",
        "Dear Jane,\n",
        "The cat is out of the bag.\n",
        "John\n",
        "\"\"\""
      ],
      "metadata": {
        "id": "SvDKOtp2eFT8"
      },
      "execution_count": null,
      "outputs": []
    },
    {
      "cell_type": "code",
      "source": [
        "# Call the function\n",
        "processed_email = process_document(input_email)\n",
        "processed_email"
      ],
      "metadata": {
        "colab": {
          "base_uri": "https://localhost:8080/"
        },
        "id": "N-LkcrCQeNHT",
        "outputId": "b6bceef8-033a-47d4-abb8-0f45b05d42c9"
      },
      "execution_count": null,
      "outputs": [
        {
          "output_type": "execute_result",
          "data": {
            "text/plain": [
              "({'From': 'John Doe',\n",
              "  'To': 'Jane Doe',\n",
              "  'Organizer-Names': 'Friends and Family',\n",
              "  'Message ID': '253421-2',\n",
              "  'Reply-To': '',\n",
              "  'Lines': '3'},\n",
              " ['', 'Dear Jane,', 'The cat is out of the bag.', 'John', ''])"
            ]
          },
          "metadata": {},
          "execution_count": 9
        }
      ]
    },
    {
      "cell_type": "code",
      "source": [
        "#separate the components of the output tuple\n",
        "proc_out_header, proc_out_body = processed_email\n",
        "\n",
        "assert proc_out_header == true_out_header, 'The header of the function output is incorrect.'\n",
        "assert proc_out_body == true_out_body, 'The body of the function output is incorrect.'"
      ],
      "metadata": {
        "colab": {
          "base_uri": "https://localhost:8080/",
          "height": 204
        },
        "id": "UtWLb5Blawvg",
        "outputId": "5f7f3544-b8db-409e-e627-90d5156f96b1"
      },
      "execution_count": null,
      "outputs": [
        {
          "output_type": "error",
          "ename": "AssertionError",
          "evalue": "ignored",
          "traceback": [
            "\u001b[0;31m---------------------------------------------------------------------------\u001b[0m",
            "\u001b[0;31mAssertionError\u001b[0m                            Traceback (most recent call last)",
            "\u001b[0;32m<ipython-input-10-23f822b81a88>\u001b[0m in \u001b[0;36m<cell line: 5>\u001b[0;34m()\u001b[0m\n\u001b[1;32m      3\u001b[0m \u001b[0;34m\u001b[0m\u001b[0m\n\u001b[1;32m      4\u001b[0m \u001b[0;32massert\u001b[0m \u001b[0mproc_out_header\u001b[0m \u001b[0;34m==\u001b[0m \u001b[0mtrue_out_header\u001b[0m\u001b[0;34m,\u001b[0m \u001b[0;34m'The header of the function output is incorrect.'\u001b[0m\u001b[0;34m\u001b[0m\u001b[0;34m\u001b[0m\u001b[0m\n\u001b[0;32m----> 5\u001b[0;31m \u001b[0;32massert\u001b[0m \u001b[0mproc_out_body\u001b[0m \u001b[0;34m==\u001b[0m \u001b[0mtrue_out_body\u001b[0m\u001b[0;34m,\u001b[0m \u001b[0;34m'The body of the function output is incorrect.'\u001b[0m\u001b[0;34m\u001b[0m\u001b[0;34m\u001b[0m\u001b[0m\n\u001b[0m",
            "\u001b[0;31mAssertionError\u001b[0m: The body of the function output is incorrect."
          ]
        }
      ]
    },
    {
      "cell_type": "markdown",
      "source": [
        "## Example Test 2: Robustness\n",
        "> What if the email has no body and is only a header?\n",
        "\n"
      ],
      "metadata": {
        "id": "3LFO-vocWoHv"
      }
    },
    {
      "cell_type": "code",
      "source": [
        "# Formulate test case\n",
        "input_email = \"\"\"From: John Doe\n",
        "To: Jane Doe\n",
        "Organizer-Names: Friends and Family\n",
        "Message ID: 253421-2\n",
        "Reply-To: \n",
        "Lines: 3\"\"\""
      ],
      "metadata": {
        "id": "joGGC2z2WyZM"
      },
      "execution_count": null,
      "outputs": []
    },
    {
      "cell_type": "code",
      "source": [
        "# Call the function\n",
        "out_header, out_body = process_document(input_email)"
      ],
      "metadata": {
        "id": "6zjQz9keYkfc"
      },
      "execution_count": null,
      "outputs": []
    },
    {
      "cell_type": "code",
      "source": [
        "# What should be true about this, then?\n",
        "assert out_header, 'The header should not be empty for an email which has header'\n",
        "assert not out_body, 'The list should be empty for an email with no body'"
      ],
      "metadata": {
        "id": "hiOcWUB4Y3ID"
      },
      "execution_count": null,
      "outputs": []
    },
    {
      "cell_type": "markdown",
      "source": [
        "## Breakout Session 1 (10 mins)\n",
        "In this breakout session, you will continue the process of generating and writing tests/test cases for the provided code. Your assignments are as follows:\n",
        "\n",
        "1. Write a test that ensures that the code can run on the standard header provided in one of the emails.\n",
        "2. Write a test that ensures that the code can run with no header and only a message body.\n",
        "3. Generate your own test to test the robustness of the function (either you can generate this or experiment by asking your GenAI).\n",
        "4. (If time) Fix the code for where the asserts fail."
      ],
      "metadata": {
        "id": "13cmAYVEZmxz"
      }
    },
    {
      "cell_type": "code",
      "source": [
        "# Solution 1\n",
        "standard_header_email = \"\"\"Newsgroups: sci.med\n",
        "Path: cantaloupe.srv.cs.cmu.edu!crabapple.srv.cs.cmu.edu!fs7.ece.cmu.edu!europa.eng.gtefsd.com!darwin.sura.net!sgiblab!sdd.hp.com!decwrl!decwrl!uunet!utcsri!utnut!utzoo!telly!problem!intacc!bed\n",
        "From: bed@intacc.uucp (Deb Waddington)\n",
        "Subject: INFO NEEDED: Gaucher's Disease\n",
        "Message-ID: <1993Mar18.002149.1111@intacc.uucp>\n",
        "Date: Thu, 18 Mar 1993 00:21:49 GMT\n",
        "Distribution: Everywhere\n",
        "Expires: 01 Jun 93\n",
        "Reply-To: bed@intacc.UUCP (Deb Waddington)\n",
        "Organization: Matrix Artists' Network\n",
        "Lines: 33\n",
        "\n",
        "\n",
        "Dear Cat,\n",
        "\n",
        "Please stop eating my food. You have your own. It doesn't matter that I eat yours.\n",
        "\n",
        "Sincerely,\n",
        "\n",
        "Dog\n",
        "\n",
        "\"\"\"\n",
        "\n",
        "true_standard_header = {'Newsgroups': 'sci.med',\n",
        " 'Path': 'cantaloupe.srv.cs.cmu.edu!crabapple.srv.cs.cmu.edu!fs7.ece.cmu.edu!europa.eng.gtefsd.com!darwin.sura.net!sgiblab!sdd.hp.com!decwrl!decwrl!uunet!utcsri!utnut!utzoo!telly!problem!intacc!bed',\n",
        " 'From': 'bed@intacc.uucp (Deb Waddington)',\n",
        " 'Subject': \"INFO NEEDED: Gaucher's Disease\",\n",
        " 'Message-ID': '<1993Mar18.002149.1111@intacc.uucp>',\n",
        " 'Date': 'Thu, 18 Mar 1993 00:21:49 GMT',\n",
        " 'Distribution': 'Everywhere',\n",
        " 'Expires': '01 Jun 93',\n",
        " 'Reply-To': 'bed@intacc.UUCP (Deb Waddington)',\n",
        " 'Organization': \"Matrix Artists' Network\",\n",
        " 'Lines': '33'}\n",
        "\n",
        "true_standard_body = \"\"\"\n",
        "\n",
        "Dear Cat,\n",
        "\n",
        "Please stop eating my food. You have your own. It doesn't matter that I eat yours.\n",
        "\n",
        "Sincerely,\n",
        "\n",
        "Dog\n",
        "\n",
        "\"\"\"\n",
        "\n",
        "standard_header, standard_body = process_document(standard_header_email)\n",
        "assert true_standard_header == standard_header, \"Headers do not match\"\n",
        "assert true_out_body == standard_body, \"Bodies don't match\"\n"
      ],
      "metadata": {
        "colab": {
          "base_uri": "https://localhost:8080/",
          "height": 204
        },
        "id": "YXTm1iVFfX0V",
        "outputId": "196d0489-3961-49d2-a4ff-7744b080e6a9"
      },
      "execution_count": null,
      "outputs": [
        {
          "output_type": "error",
          "ename": "AssertionError",
          "evalue": "ignored",
          "traceback": [
            "\u001b[0;31m---------------------------------------------------------------------------\u001b[0m",
            "\u001b[0;31mAssertionError\u001b[0m                            Traceback (most recent call last)",
            "\u001b[0;32m<ipython-input-14-75ba3ec00f59>\u001b[0m in \u001b[0;36m<cell line: 51>\u001b[0;34m()\u001b[0m\n\u001b[1;32m     49\u001b[0m \u001b[0mstandard_header\u001b[0m\u001b[0;34m,\u001b[0m \u001b[0mstandard_body\u001b[0m \u001b[0;34m=\u001b[0m \u001b[0mprocess_document\u001b[0m\u001b[0;34m(\u001b[0m\u001b[0mstandard_header_email\u001b[0m\u001b[0;34m)\u001b[0m\u001b[0;34m\u001b[0m\u001b[0;34m\u001b[0m\u001b[0m\n\u001b[1;32m     50\u001b[0m \u001b[0;32massert\u001b[0m \u001b[0mtrue_standard_header\u001b[0m \u001b[0;34m==\u001b[0m \u001b[0mstandard_header\u001b[0m\u001b[0;34m,\u001b[0m \u001b[0;34m\"Headers do not match\"\u001b[0m\u001b[0;34m\u001b[0m\u001b[0;34m\u001b[0m\u001b[0m\n\u001b[0;32m---> 51\u001b[0;31m \u001b[0;32massert\u001b[0m \u001b[0mtrue_out_body\u001b[0m \u001b[0;34m==\u001b[0m \u001b[0mstandard_body\u001b[0m\u001b[0;34m,\u001b[0m \u001b[0;34m\"Bodies don't match\"\u001b[0m\u001b[0;34m\u001b[0m\u001b[0;34m\u001b[0m\u001b[0m\n\u001b[0m",
            "\u001b[0;31mAssertionError\u001b[0m: Bodies don't match"
          ]
        }
      ]
    },
    {
      "cell_type": "code",
      "source": [
        "# Solution 2\n",
        "no_header_email = \"\"\"Dear Cat,\n",
        "\n",
        "Please stop eating my food. You have your own. It doesn't matter that I eat yours.\n",
        "\n",
        "Sincerely,\n",
        "\n",
        "Dog\n",
        "\n",
        "\"\"\"\n",
        "\n",
        "no_header_header, no_header_body = process_document(no_header_email)\n",
        "assert not no_header_header, \"The header should be empty since there isn't one\"\n",
        "assert no_header_body, \"The body should exist and not be empty\""
      ],
      "metadata": {
        "id": "qkwetyksis62"
      },
      "execution_count": null,
      "outputs": []
    },
    {
      "cell_type": "code",
      "source": [
        "# Possible solution 3 : Check that none of the keys or values of the header have whitespace\n",
        "assert not [1 for key, val in enumerate(standard_header) if str(key).strip()!=str(key) or str(val).strip()!=str(val)], \"Whitespace found in key or value of header\"\n"
      ],
      "metadata": {
        "id": "mClfRUGuj3dv"
      },
      "execution_count": null,
      "outputs": []
    },
    {
      "cell_type": "code",
      "source": [
        "# Possible solution for 4 - Thanks, GPT4!\n",
        "def process_document(document_string):\n",
        "    lines = document_string.splitlines(True)\n",
        "    \n",
        "    header_dict = {}\n",
        "    email_body = []\n",
        "    \n",
        "    # Flag to know when the header ends and the body starts\n",
        "    body_flag = False\n",
        "    \n",
        "    # Keep track of the last header key\n",
        "    last_key = None\n",
        "\n",
        "    for line in lines:\n",
        "        if not body_flag:\n",
        "            if ':' in line:\n",
        "                key, value = line.split(':', 1)\n",
        "                header_dict[key.strip()] = value.strip()\n",
        "                last_key = key.strip()\n",
        "\n",
        "                if 'Lines' in key:\n",
        "                    body_flag = True\n",
        "            else:\n",
        "                # If a header was previously defined, continue appending the content\n",
        "                if last_key:\n",
        "                    header_dict[last_key] += '\\n' + line.strip()\n",
        "                else:\n",
        "                    # If no header was previously defined, it's the start of the body\n",
        "                    body_flag = True\n",
        "                    email_body.append(line)\n",
        "                \n",
        "        else:\n",
        "            # Body lines processing\n",
        "            email_body.append(line)\n",
        "            \n",
        "    return header_dict, ''.join(email_body)\n"
      ],
      "metadata": {
        "id": "WYULBQI5m8gt"
      },
      "execution_count": null,
      "outputs": []
    },
    {
      "cell_type": "markdown",
      "source": [
        "**Run most of the original tests, making sure to run the problematic ones.**"
      ],
      "metadata": {
        "id": "xaQ0FO84tUZ_"
      }
    },
    {
      "cell_type": "code",
      "source": [
        "# Run tests\n",
        "input_email = \"\"\"From: John Doe\n",
        "To: Jane Doe\n",
        "Organizer-Names: Friends and Family\n",
        "Message ID: 253421-2\n",
        "Reply-To: \n",
        "Lines: 3\n",
        "\n",
        "Dear Jane,\n",
        "The cat is out of the bag.\n",
        "John\n",
        "\"\"\"\n",
        "\n",
        "# Formulate the expected outputs\n",
        "true_out_header = {'From': 'John Doe',\n",
        "  'To': 'Jane Doe',\n",
        "  'Organizer-Names': 'Friends and Family',\n",
        "  'Message ID': '253421-2',\n",
        "  'Reply-To': '',\n",
        "  'Lines': '3'}\n",
        "\n",
        "true_out_body = \"\"\"\n",
        "Dear Jane,\n",
        "The cat is out of the bag.\n",
        "John\n",
        "\"\"\"\n",
        "\n",
        "# Call the function\n",
        "processed_email = process_document(input_email)\n",
        "processed_email\n",
        "\n",
        "# Basic struture\n",
        "assert len(processed_email)==2, 'The function did not return the correct number of elements'\n",
        "assert isinstance(processed_email[0], dict), 'The function did not return the first element as a dictionary'\n",
        "assert isinstance(processed_email[1], str), 'The function did not return the second element as a string.'\n",
        "\n",
        "# Semantics 1\n",
        "assert processed_email[0] == true_out_header, 'The header of the function output is incorrect.'\n",
        "assert processed_email[1] == true_out_body, 'The body of the function output is incorrect.'"
      ],
      "metadata": {
        "id": "4SFn_Xqrps3d"
      },
      "execution_count": null,
      "outputs": []
    },
    {
      "cell_type": "markdown",
      "source": [
        "**If important, make sure we don't error out on emails with no header**"
      ],
      "metadata": {
        "id": "-laqIVh8taRu"
      }
    },
    {
      "cell_type": "code",
      "source": [
        "no_header_email = \"\"\"Dear Cat,\n",
        "\n",
        "Please stop eating my food. You have your own. It doesn't matter that I eat yours.\n",
        "\n",
        "Sincerely,\n",
        "\n",
        "Dog\n",
        "\n",
        "\"\"\"\n",
        "\n",
        "no_header_header, no_header_body = process_document(no_header_email)\n",
        "assert not no_header_header, \"The header should be empty since there isn't one\"\n",
        "assert no_header_body, \"The body should exist and not be empty\""
      ],
      "metadata": {
        "id": "tAarRCMjqgKO"
      },
      "execution_count": null,
      "outputs": []
    },
    {
      "cell_type": "markdown",
      "source": [
        "**Yay!**"
      ],
      "metadata": {
        "id": "6ilTq3H0tf3j"
      }
    },
    {
      "cell_type": "markdown",
      "source": [
        "# Iteration\n",
        "We've already seen some examples of iteration, where we need to cycle through a collection data structure to apply statements to one or more of the elements of the collection (e.g. dictionaries, lists).\n",
        "\n",
        "There are 2 primary ways that you see iteration in Python:\n",
        "* `for` loops\n",
        "* `comprehensions` (list, dictionary, generator)\n",
        "\n",
        "A final type that we will see _at length_ with Huggingface is:\n",
        "* `map`\n",
        "\n",
        "Let's explore this."
      ],
      "metadata": {
        "id": "PMNjmo64en1y"
      }
    },
    {
      "cell_type": "markdown",
      "source": [
        "## `for` loops\n",
        "We've already seen some examples of `for` loops when we were learning about lists and dictionaries.\n",
        "\n",
        "We said that our `for` goes through cyclical iterations, updating the index to process each element.\n",
        "\n",
        "Our syntax was as follows:\n",
        "```\n",
        "for dummy_name in collection:\n",
        "  ## indented code block steps to take\n",
        "```\n",
        "\n",
        "Let's explore this."
      ],
      "metadata": {
        "id": "pwJUehyVfhKm"
      }
    },
    {
      "cell_type": "markdown",
      "source": [
        "### Finishing our email processing and exploration\n",
        "Although we've read in one email, recall that we wanted to process all (we'll do a subset here for the sake of time) of the documents in the folder. Let's try this using the syntax that we learned for iteration."
      ],
      "metadata": {
        "id": "YTTY6e-NgIg1"
      }
    },
    {
      "cell_type": "code",
      "source": [
        "import glob"
      ],
      "metadata": {
        "id": "VW-wFsCzvDex"
      },
      "execution_count": null,
      "outputs": []
    },
    {
      "cell_type": "code",
      "source": [
        "# download the data using command line tools\n",
        "!curl -Os http://qwone.com/~jason/20Newsgroups/20news-19997.tar.gz"
      ],
      "metadata": {
        "id": "OrKRpzxTbKfL"
      },
      "execution_count": null,
      "outputs": []
    },
    {
      "cell_type": "code",
      "source": [
        "# Untar the data to the current directory\n",
        "# note that we can use %%capture if we don't want to see all of the output\n",
        "!tar -zxf 20news-19997.tar.gz"
      ],
      "metadata": {
        "id": "mHVvFmvBcmKd"
      },
      "execution_count": null,
      "outputs": []
    },
    {
      "cell_type": "code",
      "source": [
        "#use glob to enumerate files\n",
        "email_paths_list = glob.glob('20_newsgroups/sci.med/*')\n",
        "\n",
        "#print length\n",
        "print('Number of emails:', len(email_paths_list))\n",
        "\n",
        "# Print first 10\n",
        "email_paths_list[:10]"
      ],
      "metadata": {
        "id": "diPSVLJsgd6Z",
        "colab": {
          "base_uri": "https://localhost:8080/"
        },
        "outputId": "3ff02fd5-443d-41fb-e110-b4a2fed9e402"
      },
      "execution_count": null,
      "outputs": [
        {
          "output_type": "stream",
          "name": "stdout",
          "text": [
            "Number of emails: 1000\n"
          ]
        },
        {
          "output_type": "execute_result",
          "data": {
            "text/plain": [
              "['20_newsgroups/sci.med/58146',\n",
              " '20_newsgroups/sci.med/58867',\n",
              " '20_newsgroups/sci.med/58068',\n",
              " '20_newsgroups/sci.med/59223',\n",
              " '20_newsgroups/sci.med/59501',\n",
              " '20_newsgroups/sci.med/58763',\n",
              " '20_newsgroups/sci.med/59467',\n",
              " '20_newsgroups/sci.med/58089',\n",
              " '20_newsgroups/sci.med/58986',\n",
              " '20_newsgroups/sci.med/58800']"
            ]
          },
          "metadata": {},
          "execution_count": 24
        }
      ]
    },
    {
      "cell_type": "code",
      "source": [
        "#write for loop to iterate through elements and do the task\n",
        "max_emails = 20\n",
        "all_headers = []\n",
        "all_bodies = []\n",
        "all_emails = []\n",
        "\n",
        "for email_path in email_paths_list[:max_emails]:\n",
        "  with open(email_path, 'r') as f:\n",
        "    this_email = f.read()\n",
        "  \n",
        "  #add the email\n",
        "  all_emails.append(this_email)\n",
        "\n",
        "  #process the email\n",
        "  email_header, email_body = process_document(this_email)\n",
        "\n",
        "  #save for later\n",
        "  all_headers.append(email_header)\n",
        "  all_bodies.append(email_body)"
      ],
      "metadata": {
        "id": "eD63TN8Pgwu4"
      },
      "execution_count": null,
      "outputs": []
    },
    {
      "cell_type": "code",
      "source": [
        "#show email\n",
        "print(all_emails[19])\n",
        "\n",
        "#show header\n",
        "display('\\nPrinting Header......', all_headers[19], '\\n')\n",
        "\n",
        "#show body\n",
        "print('\\nPrinting body.........', all_bodies[19])"
      ],
      "metadata": {
        "colab": {
          "base_uri": "https://localhost:8080/",
          "height": 911
        },
        "id": "pQvkwWccxFSp",
        "outputId": "c276e6d6-d9c4-4930-c478-c5af830844f0"
      },
      "execution_count": null,
      "outputs": [
        {
          "output_type": "stream",
          "name": "stdout",
          "text": [
            "Path: cantaloupe.srv.cs.cmu.edu!das-news.harvard.edu!noc.near.net!uunet!portal!cup.portal.com!amigan\n",
            "From: amigan@cup.portal.com (Mike - Medwid)\n",
            "Newsgroups: sci.med\n",
            "Subject: Re: Emphysema question\n",
            "Message-ID: <79723@cup.portal.com>\n",
            "Date: Sat, 17 Apr 93 09:36:19 PDT\n",
            "Organization: The Portal System (TM)\n",
            "Distribution: na\n",
            "References: <8944@blue.cis.pitt.edu>\n",
            "  <1993Apr15.180621.29465@radford.vak12ed.edu> <9072@blue.cis.pitt.edu>\n",
            "Lines: 11\n",
            "\n",
            "Thanks to all who replied to my initial question.  I've been away in \n",
            "New Jersey all week and was surprised to see all the responses\n",
            "when I got back.  \n",
            "\n",
            "To the person asking about nicotine patches, there are four on the\n",
            "market:\n",
            "\n",
            "Habitrol - Ciba Pharmaceuticals\n",
            "Nicoderm - Marion Merill Dow (Alza made)\n",
            "Nicotrol - Warner Lambert (Cygnus made)\n",
            "ProStep - Made by Elan and marketed by ??\n",
            "\n"
          ]
        },
        {
          "output_type": "display_data",
          "data": {
            "text/plain": [
              "'\\nPrinting Header......'"
            ],
            "application/vnd.google.colaboratory.intrinsic+json": {
              "type": "string"
            }
          },
          "metadata": {}
        },
        {
          "output_type": "display_data",
          "data": {
            "text/plain": [
              "{'Path': 'cantaloupe.srv.cs.cmu.edu!das-news.harvard.edu!noc.near.net!uunet!portal!cup.portal.com!amigan',\n",
              " 'From': 'amigan@cup.portal.com (Mike - Medwid)',\n",
              " 'Newsgroups': 'sci.med',\n",
              " 'Subject': 'Re: Emphysema question',\n",
              " 'Message-ID': '<79723@cup.portal.com>',\n",
              " 'Date': 'Sat, 17 Apr 93 09:36:19 PDT',\n",
              " 'Organization': 'The Portal System (TM)',\n",
              " 'Distribution': 'na',\n",
              " 'References': '<8944@blue.cis.pitt.edu>\\n<1993Apr15.180621.29465@radford.vak12ed.edu> <9072@blue.cis.pitt.edu>',\n",
              " 'Lines': '11'}"
            ]
          },
          "metadata": {}
        },
        {
          "output_type": "display_data",
          "data": {
            "text/plain": [
              "'\\n'"
            ],
            "application/vnd.google.colaboratory.intrinsic+json": {
              "type": "string"
            }
          },
          "metadata": {}
        },
        {
          "output_type": "stream",
          "name": "stdout",
          "text": [
            "\n",
            "Printing body......... \n",
            "Thanks to all who replied to my initial question.  I've been away in \n",
            "New Jersey all week and was surprised to see all the responses\n",
            "when I got back.  \n",
            "\n",
            "To the person asking about nicotine patches, there are four on the\n",
            "market:\n",
            "\n",
            "Habitrol - Ciba Pharmaceuticals\n",
            "Nicoderm - Marion Merill Dow (Alza made)\n",
            "Nicotrol - Warner Lambert (Cygnus made)\n",
            "ProStep - Made by Elan and marketed by ??\n",
            "\n"
          ]
        }
      ]
    },
    {
      "cell_type": "markdown",
      "source": [
        "## List Comprehensions\n",
        "Another very compact way to represent for loops is through list comprehensions. They're great if you:\n",
        "* Essentially have one function to apply to a list of elements\n",
        "* Want to do binary conditional execution on elements of a list\n",
        "* Want to perform filtering of elements (reduce the size of the list based on some condition)\n",
        "\n",
        "The difficulty of list and dictionary comprehensions is the syntax because of the concise expression of the for loop. Let's take a look, but it offers wonderful functionality. It streamlines the creation of new lists based on old lists. Let's look at a brief comparison.\n",
        "\n",
        "<center>\n",
        "<img src=\"https://github.com/vanderbilt-data-science/p4ai-essentials/blob/main/img/iteration_comparison.png?raw=true\" width=\"800\">\n",
        "</center>"
      ],
      "metadata": {
        "id": "OTj7A4LZr42U"
      }
    },
    {
      "cell_type": "markdown",
      "source": [
        "### Converting part of our `for loop` to list comprehension\n",
        "Yep, that's right - we're doing the same exact example again, except using list comprehensions. Don't think about the outputs of this too hard, this is more like gaining experience with the syntax of list comprehensions rather than any output functionality.\n",
        "\n",
        "Recall that we had:\n",
        "```\n",
        "#write for loop to iterate through elements and do the task\n",
        "max_emails = 20\n",
        "all_headers = []\n",
        "all_bodies = []\n",
        "all_emails = []\n",
        "\n",
        "for email_path in email_paths_list[:max_emails]:\n",
        "  with open(email_path, 'r') as f:\n",
        "    this_email = f.read()\n",
        "  \n",
        "  #add the email\n",
        "  all_emails.append(this_email)\n",
        "\n",
        "  #process the email\n",
        "  email_header, email_body = process_document(this_email)\n",
        "\n",
        "  #save for later\n",
        "  all_headers.append(email_header)\n",
        "  all_bodies.append(email_body)\n",
        "```\n",
        "We can re-express this as a list comprehension. We will start with a single portion, using the existing `all_emails` list. You'll investigate the use of list comprehensions on other components in a breakout room later.\n",
        "\n"
      ],
      "metadata": {
        "id": "uvKwD2P0uRkY"
      }
    },
    {
      "cell_type": "code",
      "source": [
        "# recall all_emails, where we'll show the first 2\n",
        "all_emails[:2]"
      ],
      "metadata": {
        "id": "WvDeimpqvGqf",
        "colab": {
          "base_uri": "https://localhost:8080/"
        },
        "outputId": "084fc41a-7a78-4d1f-9990-dc518178330b"
      },
      "execution_count": null,
      "outputs": [
        {
          "output_type": "execute_result",
          "data": {
            "text/plain": [
              "['Path: cantaloupe.srv.cs.cmu.edu!crabapple.srv.cs.cmu.edu!fs7.ece.cmu.edu!europa.eng.gtefsd.com!howland.reston.ans.net!noc.near.net!news.hi.com!duca.hi.com!not-for-mail\\nFrom: wright@duca.hi.com (David Wright)\\nNewsgroups: sci.med\\nSubject: Re: Name of MD\\'s eyepiece?\\nDate: 6 Apr 1993 16:31:02 -0000\\nOrganization: Hitachi Computer Products, OSSD division\\nLines: 21\\nMessage-ID: <1pspa6INNfik@duca.hi.com>\\nReferences: <lr3uceINNc0r@news.bbn.com> <C4IHM2.Gs9@watson.ibm.com> <19387@pitt.UUCP>\\nNNTP-Posting-Host: duca.hi.com\\n\\nIn article <19387@pitt.UUCP> geb@cs.pitt.edu (Gordon Banks) writes:\\n>In article <C4IHM2.Gs9@watson.ibm.com> clarke@watson.ibm.com (Ed Clarke) writes:\\n>>|> |It\\'s not an eyepiece.  It is called a head mirror.  All doctors never\\n>>\\n>>A speculum?\\n>\\n>The speculum is the little cone that fits on the end of the otoscope.\\n>There are also vaginal specula that females and gynecologists are\\n>all too familiar with.\\n\\nIn fairness, we should note that if you look up \"speculum\" in the\\ndictionary (which I did when this question first surfaced), the first\\ndefinition is \"a mirror or polished metal plate used as a reflector in\\noptical instruments.\"\\n\\nWhich doesn\\'t mean the name fits in this context, but it\\'s not as far\\noff as you might think.\\n\\n  -- David Wright, Hitachi Computer Products (America), Inc.  Waltham, MA\\n     wright@hicomb.hi.com  ::  These are my opinions, not necessarily \\n     Hitachi\\'s, though they are the opinions of all right-thinking people\\n',\n",
              " \"Xref: cantaloupe.srv.cs.cmu.edu misc.consumers:67737 sci.med:58867 rec.food.cooking:65271 sci.environment:29473\\nPath: cantaloupe.srv.cs.cmu.edu!crabapple.srv.cs.cmu.edu!bb3.andrew.cmu.edu!news.sei.cmu.edu!cis.ohio-state.edu!zaphod.mps.ohio-state.edu!magnus.acs.ohio-state.edu!usenet.ins.cwru.edu!agate!zabriskie.berkeley.edu!spp\\nFrom: spp@zabriskie.berkeley.edu (Steve Pope)\\nNewsgroups: misc.consumers,sci.med,rec.food.cooking,sci.environment\\nSubject: Re: Is MSG sensitivity superstition?\\nDate: 17 Apr 1993 01:52:00 GMT\\nOrganization: U.C. Berkeley -- ERL\\nLines: 13\\nDistribution: world\\nMessage-ID: <1qnns0$4l3@agate.berkeley.edu>\\nReferences: <1993Apr15.190711.22190@walter.bellcore.com> <1qmlgaINNjab@hp-col.col.hp.com> <1qmqpfINNjiq@gap.caltech.edu>\\nNNTP-Posting-Host: zion.berkeley.edu\\n\\nCarl Lydick:\\n\\n> And you're condemning one particular ingredient without any \\n> evidence that that's the ingredient to which you reacted.\\n\\nBelieve what you will.\\n\\nThe mass of anectdotal evidence, combined with the lack of\\na properly constructed scientific experiment disproving\\nthe hypothesis, makes the MSG reaction hypothesis the\\nmost likely explanation for events.\\n\\nSteve\\n\"]"
            ]
          },
          "metadata": {},
          "execution_count": 28
        }
      ]
    },
    {
      "cell_type": "code",
      "source": [
        "# Choose to express as a list comprehension\n",
        "processed_emails = [process_document(email_in) for email_in in all_emails[:2]]"
      ],
      "metadata": {
        "id": "S0sqA6kXuOwe"
      },
      "execution_count": null,
      "outputs": []
    },
    {
      "cell_type": "code",
      "source": [
        "# Get headers and emails separately\n",
        "all_headers, all_bodies = zip(*processed_emails)"
      ],
      "metadata": {
        "id": "3UPy2E5GGLhm"
      },
      "execution_count": null,
      "outputs": []
    },
    {
      "cell_type": "code",
      "source": [
        "# Check\n",
        "display(all_headers)\n",
        "print()\n",
        "display(all_bodies)"
      ],
      "metadata": {
        "colab": {
          "base_uri": "https://localhost:8080/",
          "height": 517
        },
        "id": "_Z82kCngGSlv",
        "outputId": "5f90df1d-d985-4cdc-dda9-01676f032595"
      },
      "execution_count": null,
      "outputs": [
        {
          "output_type": "display_data",
          "data": {
            "text/plain": [
              "({'Path': 'cantaloupe.srv.cs.cmu.edu!crabapple.srv.cs.cmu.edu!fs7.ece.cmu.edu!europa.eng.gtefsd.com!howland.reston.ans.net!noc.near.net!news.hi.com!duca.hi.com!not-for-mail',\n",
              "  'From': 'wright@duca.hi.com (David Wright)',\n",
              "  'Newsgroups': 'sci.med',\n",
              "  'Subject': \"Re: Name of MD's eyepiece?\",\n",
              "  'Date': '6 Apr 1993 16:31:02 -0000',\n",
              "  'Organization': 'Hitachi Computer Products, OSSD division',\n",
              "  'Lines': '21'},\n",
              " {'Xref': 'cantaloupe.srv.cs.cmu.edu misc.consumers:67737 sci.med:58867 rec.food.cooking:65271 sci.environment:29473',\n",
              "  'Path': 'cantaloupe.srv.cs.cmu.edu!crabapple.srv.cs.cmu.edu!bb3.andrew.cmu.edu!news.sei.cmu.edu!cis.ohio-state.edu!zaphod.mps.ohio-state.edu!magnus.acs.ohio-state.edu!usenet.ins.cwru.edu!agate!zabriskie.berkeley.edu!spp',\n",
              "  'From': 'spp@zabriskie.berkeley.edu (Steve Pope)',\n",
              "  'Newsgroups': 'misc.consumers,sci.med,rec.food.cooking,sci.environment',\n",
              "  'Subject': 'Re: Is MSG sensitivity superstition?',\n",
              "  'Date': '17 Apr 1993 01:52:00 GMT',\n",
              "  'Organization': 'U.C. Berkeley -- ERL',\n",
              "  'Lines': '13'})"
            ]
          },
          "metadata": {}
        },
        {
          "output_type": "stream",
          "name": "stdout",
          "text": [
            "\n"
          ]
        },
        {
          "output_type": "display_data",
          "data": {
            "text/plain": [
              "('Message-ID: <1pspa6INNfik@duca.hi.com>\\nReferences: <lr3uceINNc0r@news.bbn.com> <C4IHM2.Gs9@watson.ibm.com> <19387@pitt.UUCP>\\nNNTP-Posting-Host: duca.hi.com\\n\\nIn article <19387@pitt.UUCP> geb@cs.pitt.edu (Gordon Banks) writes:\\n>In article <C4IHM2.Gs9@watson.ibm.com> clarke@watson.ibm.com (Ed Clarke) writes:\\n>>|> |It\\'s not an eyepiece.  It is called a head mirror.  All doctors never\\n>>\\n>>A speculum?\\n>\\n>The speculum is the little cone that fits on the end of the otoscope.\\n>There are also vaginal specula that females and gynecologists are\\n>all too familiar with.\\n\\nIn fairness, we should note that if you look up \"speculum\" in the\\ndictionary (which I did when this question first surfaced), the first\\ndefinition is \"a mirror or polished metal plate used as a reflector in\\noptical instruments.\"\\n\\nWhich doesn\\'t mean the name fits in this context, but it\\'s not as far\\noff as you might think.\\n\\n  -- David Wright, Hitachi Computer Products (America), Inc.  Waltham, MA\\n     wright@hicomb.hi.com  ::  These are my opinions, not necessarily \\n     Hitachi\\'s, though they are the opinions of all right-thinking people\\n',\n",
              " \"Distribution: world\\nMessage-ID: <1qnns0$4l3@agate.berkeley.edu>\\nReferences: <1993Apr15.190711.22190@walter.bellcore.com> <1qmlgaINNjab@hp-col.col.hp.com> <1qmqpfINNjiq@gap.caltech.edu>\\nNNTP-Posting-Host: zion.berkeley.edu\\n\\nCarl Lydick:\\n\\n> And you're condemning one particular ingredient without any \\n> evidence that that's the ingredient to which you reacted.\\n\\nBelieve what you will.\\n\\nThe mass of anectdotal evidence, combined with the lack of\\na properly constructed scientific experiment disproving\\nthe hypothesis, makes the MSG reaction hypothesis the\\nmost likely explanation for events.\\n\\nSteve\\n\")"
            ]
          },
          "metadata": {}
        }
      ]
    },
    {
      "cell_type": "markdown",
      "source": [
        "## Breakout Session 2 (10 minutes)\n",
        "\n",
        "In this breakout session, you'll re-express the code we had before as a set of list comprehensions. In this example: try to think through the list comprehension yourself first and write it. If you run into issues, work with GenAI to determine where the error in your logic (or syntax) exists.\n",
        "\n",
        "**In your breakout room:**\n",
        "1. Write a function `read_docs` which will read a single email given a file path. It should return the email.\n",
        "2. Create a list comprehension which reads all (20 for the sake of time) of the emails. Returned should be a list of all the emails (`all_emails`) as above. Recall that we have `email_paths_list`.\n",
        "3. Leverage the list comprehension written above to process all the emails, and separate into `all_headers` and `all_bodies`, and condense 1-3 into a single cell.\n",
        "4. Make sure your code runs, and ensure the output is as you expect.\n",
        "5. Compare and contrast the approaches of the `for` loop and the list comprehension. What are the advantages/disadvantages of both?\n",
        "6. (If time) Create a function which contains all of the functionality described above and the `glob` functionality. Your function should take as input the directory to be read and the number of emails that should be returned."
      ],
      "metadata": {
        "id": "OdUXS6w0wy6i"
      }
    },
    {
      "cell_type": "code",
      "source": [
        "# Solution 1\n",
        "def read_doc(filepath):\n",
        "  with open(filepath, 'r') as f:\n",
        "    this_email = f.read()\n",
        "  \n",
        "  return this_email\n",
        "\n",
        "# Check\n",
        "read_doc(email_paths_list[0])"
      ],
      "metadata": {
        "colab": {
          "base_uri": "https://localhost:8080/",
          "height": 125
        },
        "id": "sD0QCM-xKFZx",
        "outputId": "97e46f81-d705-42d7-fa69-55df32630da7"
      },
      "execution_count": null,
      "outputs": [
        {
          "output_type": "execute_result",
          "data": {
            "text/plain": [
              "'Path: cantaloupe.srv.cs.cmu.edu!crabapple.srv.cs.cmu.edu!fs7.ece.cmu.edu!europa.eng.gtefsd.com!howland.reston.ans.net!noc.near.net!news.hi.com!duca.hi.com!not-for-mail\\nFrom: wright@duca.hi.com (David Wright)\\nNewsgroups: sci.med\\nSubject: Re: Name of MD\\'s eyepiece?\\nDate: 6 Apr 1993 16:31:02 -0000\\nOrganization: Hitachi Computer Products, OSSD division\\nLines: 21\\nMessage-ID: <1pspa6INNfik@duca.hi.com>\\nReferences: <lr3uceINNc0r@news.bbn.com> <C4IHM2.Gs9@watson.ibm.com> <19387@pitt.UUCP>\\nNNTP-Posting-Host: duca.hi.com\\n\\nIn article <19387@pitt.UUCP> geb@cs.pitt.edu (Gordon Banks) writes:\\n>In article <C4IHM2.Gs9@watson.ibm.com> clarke@watson.ibm.com (Ed Clarke) writes:\\n>>|> |It\\'s not an eyepiece.  It is called a head mirror.  All doctors never\\n>>\\n>>A speculum?\\n>\\n>The speculum is the little cone that fits on the end of the otoscope.\\n>There are also vaginal specula that females and gynecologists are\\n>all too familiar with.\\n\\nIn fairness, we should note that if you look up \"speculum\" in the\\ndictionary (which I did when this question first surfaced), the first\\ndefinition is \"a mirror or polished metal plate used as a reflector in\\noptical instruments.\"\\n\\nWhich doesn\\'t mean the name fits in this context, but it\\'s not as far\\noff as you might think.\\n\\n  -- David Wright, Hitachi Computer Products (America), Inc.  Waltham, MA\\n     wright@hicomb.hi.com  ::  These are my opinions, not necessarily \\n     Hitachi\\'s, though they are the opinions of all right-thinking people\\n'"
            ],
            "application/vnd.google.colaboratory.intrinsic+json": {
              "type": "string"
            }
          },
          "metadata": {},
          "execution_count": 85
        }
      ]
    },
    {
      "cell_type": "code",
      "source": [
        "# Solution 2\n",
        "all_emails_bo = [read_doc(fpath) for fpath in email_paths_list[:20]]\n",
        "len(all_emails_bo)\n",
        "print(all_emails_bo[0], '\\n')\n",
        "print(all_emails_bo[19])"
      ],
      "metadata": {
        "colab": {
          "base_uri": "https://localhost:8080/"
        },
        "id": "xHYAnu7wKcbb",
        "outputId": "4eca79e8-de0f-438d-fc3d-f8e453ae78f7"
      },
      "execution_count": null,
      "outputs": [
        {
          "output_type": "stream",
          "name": "stdout",
          "text": [
            "Path: cantaloupe.srv.cs.cmu.edu!crabapple.srv.cs.cmu.edu!fs7.ece.cmu.edu!europa.eng.gtefsd.com!howland.reston.ans.net!noc.near.net!news.hi.com!duca.hi.com!not-for-mail\n",
            "From: wright@duca.hi.com (David Wright)\n",
            "Newsgroups: sci.med\n",
            "Subject: Re: Name of MD's eyepiece?\n",
            "Date: 6 Apr 1993 16:31:02 -0000\n",
            "Organization: Hitachi Computer Products, OSSD division\n",
            "Lines: 21\n",
            "Message-ID: <1pspa6INNfik@duca.hi.com>\n",
            "References: <lr3uceINNc0r@news.bbn.com> <C4IHM2.Gs9@watson.ibm.com> <19387@pitt.UUCP>\n",
            "NNTP-Posting-Host: duca.hi.com\n",
            "\n",
            "In article <19387@pitt.UUCP> geb@cs.pitt.edu (Gordon Banks) writes:\n",
            ">In article <C4IHM2.Gs9@watson.ibm.com> clarke@watson.ibm.com (Ed Clarke) writes:\n",
            ">>|> |It's not an eyepiece.  It is called a head mirror.  All doctors never\n",
            ">>\n",
            ">>A speculum?\n",
            ">\n",
            ">The speculum is the little cone that fits on the end of the otoscope.\n",
            ">There are also vaginal specula that females and gynecologists are\n",
            ">all too familiar with.\n",
            "\n",
            "In fairness, we should note that if you look up \"speculum\" in the\n",
            "dictionary (which I did when this question first surfaced), the first\n",
            "definition is \"a mirror or polished metal plate used as a reflector in\n",
            "optical instruments.\"\n",
            "\n",
            "Which doesn't mean the name fits in this context, but it's not as far\n",
            "off as you might think.\n",
            "\n",
            "  -- David Wright, Hitachi Computer Products (America), Inc.  Waltham, MA\n",
            "     wright@hicomb.hi.com  ::  These are my opinions, not necessarily \n",
            "     Hitachi's, though they are the opinions of all right-thinking people\n",
            " \n",
            "\n",
            "Path: cantaloupe.srv.cs.cmu.edu!das-news.harvard.edu!noc.near.net!uunet!portal!cup.portal.com!amigan\n",
            "From: amigan@cup.portal.com (Mike - Medwid)\n",
            "Newsgroups: sci.med\n",
            "Subject: Re: Emphysema question\n",
            "Message-ID: <79723@cup.portal.com>\n",
            "Date: Sat, 17 Apr 93 09:36:19 PDT\n",
            "Organization: The Portal System (TM)\n",
            "Distribution: na\n",
            "References: <8944@blue.cis.pitt.edu>\n",
            "  <1993Apr15.180621.29465@radford.vak12ed.edu> <9072@blue.cis.pitt.edu>\n",
            "Lines: 11\n",
            "\n",
            "Thanks to all who replied to my initial question.  I've been away in \n",
            "New Jersey all week and was surprised to see all the responses\n",
            "when I got back.  \n",
            "\n",
            "To the person asking about nicotine patches, there are four on the\n",
            "market:\n",
            "\n",
            "Habitrol - Ciba Pharmaceuticals\n",
            "Nicoderm - Marion Merill Dow (Alza made)\n",
            "Nicotrol - Warner Lambert (Cygnus made)\n",
            "ProStep - Made by Elan and marketed by ??\n",
            "\n"
          ]
        }
      ]
    },
    {
      "cell_type": "code",
      "source": [
        "# Solution 3-4\n",
        "#read all emails\n",
        "all_emails_bo = [read_doc(fpath) for fpath in email_paths_list[:20]]\n",
        "\n",
        "#process all emails\n",
        "processed_emails_bo = [process_document(email_in) for email_in in all_emails_bo]\n",
        "\n",
        "#separate into component pieces\n",
        "all_headers_bo, all_bodies_bo = zip(*processed_emails_bo)"
      ],
      "metadata": {
        "id": "E_A82vsaLCYL"
      },
      "execution_count": null,
      "outputs": []
    },
    {
      "cell_type": "code",
      "source": [
        "#inspect\n",
        "display(all_headers_bo[-3:-1])\n",
        "print()\n",
        "display(all_bodies_bo[-3:-1])"
      ],
      "metadata": {
        "colab": {
          "base_uri": "https://localhost:8080/",
          "height": 660
        },
        "id": "I4CxvMKXLgRg",
        "outputId": "c064bd9a-2c64-471f-82fa-e1811eee46d2"
      },
      "execution_count": null,
      "outputs": [
        {
          "output_type": "display_data",
          "data": {
            "text/plain": [
              "({'Path': 'cantaloupe.srv.cs.cmu.edu!das-news.harvard.edu!ogicse!emory!gatech!pitt.edu!pitt!km',\n",
              "  'From': 'km@cs.pitt.edu (Ken Mitchum)',\n",
              "  'Newsgroups': 'sci.med',\n",
              "  'Subject': 'Re: Menangitis question',\n",
              "  'Message-ID': '<19427@pitt.UUCP>',\n",
              "  'Date': '6 Apr 93 14:58:33 GMT',\n",
              "  'Article-I.D.': 'pitt.19427',\n",
              "  'References': '<C4nzn6.Mzx@crdnns.crd.ge.com>',\n",
              "  'Sender': 'news@cs.pitt.edu',\n",
              "  'Reply-To': 'km@cs.pitt.edu (Ken Mitchum)',\n",
              "  'Organization': 'Univ. of Pittsburgh Computer Science',\n",
              "  'Lines': '42'},\n",
              " {'Newsgroups': 'sci.med',\n",
              "  'Path': 'cantaloupe.srv.cs.cmu.edu!das-news.harvard.edu!noc.near.net!howland.reston.ans.net!zaphod.mps.ohio-state.edu!swrinde!network.ucsd.edu!munnari.oz.au!metro!ob1!hawkesbury.uws.EDU.AU!j.thornton',\n",
              "  'From': 'j.thornton@hawkesbury.uws.EDU.AU (Jason Thornton       x640)',\n",
              "  'Subject': 'Cancer of the testis',\n",
              "  'Message-ID': '<j.thornton.15@hawkesbury.uws.EDU.AU>',\n",
              "  'Sender': 'news@uws.EDU.AU',\n",
              "  'Organization': 'University of Western Sydney, Hawkesbury',\n",
              "  'Date': 'Sun, 2 May 1993 09:39:46 GMT',\n",
              "  'Lines': '4'})"
            ]
          },
          "metadata": {}
        },
        {
          "output_type": "stream",
          "name": "stdout",
          "text": [
            "\n"
          ]
        },
        {
          "output_type": "display_data",
          "data": {
            "text/plain": [
              "('\\nIn article <C4nzn6.Mzx@crdnns.crd.ge.com> brooksby@brigham.NoSubdomain.NoDomain (Glen W Brooksby) writes:\\n>This past weekend a friend of mine lost his 13 month old\\n>daughter in a matter of hours to a form of menangitis.  The\\n>person informing me called it \\'Nicereal Meningicocis\\' (sp?).\\n>In retrospect, the disease struck her probably sometime on \\n>Friday evening and she passed away about 2:30pm on Saturday.\\n>The symptoms seemed to be a rash that started small and\\n>then began progressing rapidly. She began turning blue\\n>eventually which was the tip-off that this was serious\\n>but by that time it was too late (this is all second hand info.).\\n>\\n>My question is:\\n>Is this an unusual form of Menangitis?  How is it transmitted?\\n>How does it work (ie. how does it kill so quickly)?\\n\\nThere are many organisms, viral, bacterial, and fungal, which can\\ncause meningitits, and the course of these infections varies\\nwidely. The causes of bacterial meningitis vary with age: in adults\\npneumococcus (the same organism which causes pneumococcal pneumonia)\\nis the most common cause, while in children Hemophilus influenzae\\nis the most common cause.\\n\\nWhat you are describing is meningitis from Neisseria meningitidis,\\nwhich is the second most common cause of bacterial meningitis in\\nboth groups, but with lower incidence in infants. This organism\\nis also called the \"meningococcus\", and is the source of the\\ncommon epidemics of meningitis that occur and are popularized in\\nthe press. Without prompt treatment (and even WITH it in some cases),\\nthe organism typically causes death within a day. \\n\\nThis organism, feared as it is, is actually grown from the throats\\nof many normal adults. It can get to the meninges by different\\nways, but blood borne spread is probably the usual case. \\n\\nRifampin (an oral antibiotic) is often given to family and contacts\\nof a case of meningococcal meningitis, by the way.\\n\\nSorry, but I don\\'t have time for a more detailed reply. Meningitis\\nis a huge topic, and sci.med can\\'t do it justice.\\n\\n\\n-km\\n',\n",
              " '\\nCould someone give me some information on the cause, pathophysiology and \\nclinical manifestations and treatment of this type of cancer.\\n\\nThank you in advance, Jason.\\n')"
            ]
          },
          "metadata": {}
        }
      ]
    },
    {
      "cell_type": "markdown",
      "source": [
        "# Guided Exploration of HF API\n",
        "\n",
        "We can see that most of the time, we see code that looks sort of like functions. We see the \"contract\" components of the new functions that are available to us - the function name, the inputs required and available, and the outputs. Let's experiment with one!"
      ],
      "metadata": {
        "id": "JPi719RCZB9h"
      }
    },
    {
      "cell_type": "code",
      "source": [
        "#install packages\n",
        "%%capture\n",
        "!pip install transformers"
      ],
      "metadata": {
        "id": "mWln3rT4Z_RG"
      },
      "execution_count": null,
      "outputs": []
    },
    {
      "cell_type": "code",
      "source": [
        "#make package available to python kernel\n",
        "from transformers import pipeline"
      ],
      "metadata": {
        "id": "S_4DXki4Z39b"
      },
      "execution_count": null,
      "outputs": []
    },
    {
      "cell_type": "code",
      "source": [
        "# create a pipeline\n",
        "mdl_pipe = pipeline('text-classification')"
      ],
      "metadata": {
        "colab": {
          "base_uri": "https://localhost:8080/",
          "height": 216,
          "referenced_widgets": [
            "4e579b021e6e4560b5a2813c5fcb8d86",
            "72927dd9a14c470084e9895c36f1510f",
            "4f6bf19814824743a952004306ca3790",
            "5377639d79234c1c9aa7f6e9b6b01c72",
            "99ba354cc9114f0eae3ba098803beffd",
            "f3475f13d89f41fe93a79083f50a6351",
            "723bf03359e8470ea37d52097a4d5134",
            "d0157795855b4ae6982ca33fdab550a5",
            "b0d538a8220b458d9e4bc99a635debd1",
            "0e769b58a8d54c318d3125b81786d9c9",
            "be56cd161bf042f0bc25d221c6e728ff",
            "a0515fdf788c43798f3d1b4821d72ec1",
            "4badace4a5e6428d8e818dc9317a12b7",
            "d84882d83f4d464983e2dabeca5e4321",
            "49f741f832684c46995137fd7af71545",
            "131eff78118146f189ccb8989a8d8a20",
            "eaebb3fe15d64cb19fb9c9682ed4d933",
            "9349abd1bff94735936ed90798bbbc4f",
            "fbaf8176b78f4d9f8fa3bff7831b034e",
            "bd6d8916e24141c6bc997b48fb3c2c1f",
            "429554daf4754a06a5dd9c3c723bf4e4",
            "5912f0ea3881417bb791d4f025c201b9",
            "a2353babd6504afba95eb4c488f2af92",
            "5a53478fe0cc48429789f004d7cbfa8e",
            "76ff24849ae544eb9181d069ce8ffab1",
            "01476e2c049348f5a42fd388ddd2e6b7",
            "c8ee83a74c894ebcace7eb115aa8bea1",
            "5ea449c3a26e4a25bb4be6561904d56b",
            "bd54b902ed264d73880622296fc9b060",
            "b0f51a5b79ee45d4b23e0a7d4cb19246",
            "48a48ca2b641476e846a5c1407eb2d58",
            "54aa3cdcfa8149a684f3ea5322947ec7",
            "7bd25c9a4af04a64b81b8a0289b67220",
            "eb9ce0ba829441bdb067a4cdb68c0c64",
            "b5dd3bbb84a748f595c7ad42f06725cb",
            "61fe39e3c4334d21a9e416cb6e13a9f9",
            "236baf32edfe462680795ebb900fab30",
            "484fb29414384018aa754f8a09a6b755",
            "c80a15d164f5481c808450895a65d987",
            "eb3f815dadae4bada9ce68ab7e087dff",
            "be87c67c23f540c589201e3f2d6df5da",
            "e1114a8d8bf845c9830bc92e56134fc6",
            "c88233e91d7a4754b402f2fb6719a411",
            "6b09ca3fd3634e9ba96e9dd6d0289fb3"
          ]
        },
        "id": "VEa7dYDrZcN8",
        "outputId": "13380901-7822-4099-f630-cac7ed429c41"
      },
      "execution_count": null,
      "outputs": [
        {
          "output_type": "stream",
          "name": "stderr",
          "text": [
            "No model was supplied, defaulted to distilbert-base-uncased-finetuned-sst-2-english and revision af0f99b (https://huggingface.co/distilbert-base-uncased-finetuned-sst-2-english).\n",
            "Using a pipeline without specifying a model name and revision in production is not recommended.\n"
          ]
        },
        {
          "output_type": "display_data",
          "data": {
            "text/plain": [
              "Downloading (…)lve/main/config.json:   0%|          | 0.00/629 [00:00<?, ?B/s]"
            ],
            "application/vnd.jupyter.widget-view+json": {
              "version_major": 2,
              "version_minor": 0,
              "model_id": "4e579b021e6e4560b5a2813c5fcb8d86"
            }
          },
          "metadata": {}
        },
        {
          "output_type": "display_data",
          "data": {
            "text/plain": [
              "Downloading pytorch_model.bin:   0%|          | 0.00/268M [00:00<?, ?B/s]"
            ],
            "application/vnd.jupyter.widget-view+json": {
              "version_major": 2,
              "version_minor": 0,
              "model_id": "a0515fdf788c43798f3d1b4821d72ec1"
            }
          },
          "metadata": {}
        },
        {
          "output_type": "display_data",
          "data": {
            "text/plain": [
              "Downloading (…)okenizer_config.json:   0%|          | 0.00/48.0 [00:00<?, ?B/s]"
            ],
            "application/vnd.jupyter.widget-view+json": {
              "version_major": 2,
              "version_minor": 0,
              "model_id": "a2353babd6504afba95eb4c488f2af92"
            }
          },
          "metadata": {}
        },
        {
          "output_type": "display_data",
          "data": {
            "text/plain": [
              "Downloading (…)solve/main/vocab.txt:   0%|          | 0.00/232k [00:00<?, ?B/s]"
            ],
            "application/vnd.jupyter.widget-view+json": {
              "version_major": 2,
              "version_minor": 0,
              "model_id": "eb9ce0ba829441bdb067a4cdb68c0c64"
            }
          },
          "metadata": {}
        },
        {
          "output_type": "stream",
          "name": "stderr",
          "text": [
            "Xformers is not installed correctly. If you want to use memorry_efficient_attention to accelerate training use the following command to install Xformers\n",
            "pip install xformers.\n"
          ]
        }
      ]
    },
    {
      "cell_type": "code",
      "source": [
        "#when in doubt, check the type\n",
        "type(mdl_pipe)"
      ],
      "metadata": {
        "colab": {
          "base_uri": "https://localhost:8080/"
        },
        "id": "mQvkv2RzaTpv",
        "outputId": "920a23ee-a06b-4bae-a5a7-0466fe1b03f4"
      },
      "execution_count": null,
      "outputs": [
        {
          "output_type": "execute_result",
          "data": {
            "text/plain": [
              "transformers.pipelines.text_classification.TextClassificationPipeline"
            ]
          },
          "metadata": {},
          "execution_count": 96
        }
      ]
    },
    {
      "cell_type": "code",
      "source": [
        "#Use the pipeline for inference\n",
        "a_text = 'The dog was walking on a beautiful summer day.'\n",
        "a_text_cls = mdl_pipe(a_text)\n",
        "a_text_cls"
      ],
      "metadata": {
        "colab": {
          "base_uri": "https://localhost:8080/"
        },
        "id": "9YNeVlZGaUud",
        "outputId": "9cb68cf1-cd0e-49b4-bc7f-213339c02c32"
      },
      "execution_count": null,
      "outputs": [
        {
          "output_type": "execute_result",
          "data": {
            "text/plain": [
              "[{'label': 'POSITIVE', 'score': 0.9998334646224976}]"
            ]
          },
          "metadata": {},
          "execution_count": 97
        }
      ]
    },
    {
      "cell_type": "markdown",
      "source": [
        "## Guided Example 1\n",
        "What if we want to return all scores?"
      ],
      "metadata": {
        "id": "pUUBedAidIwO"
      }
    },
    {
      "cell_type": "code",
      "source": [
        "#Return all scores\n",
        "a_text_scores = mdl_pipe(a_text, return_all_scores = True)\n",
        "a_text_scores"
      ],
      "metadata": {
        "colab": {
          "base_uri": "https://localhost:8080/"
        },
        "id": "Ok2TGs4ebgSr",
        "outputId": "e3fb6ec6-14e9-40c7-dc78-e33db6da6bf5"
      },
      "execution_count": null,
      "outputs": [
        {
          "output_type": "stream",
          "name": "stderr",
          "text": [
            "/usr/local/lib/python3.10/dist-packages/transformers/pipelines/text_classification.py:104: UserWarning: `return_all_scores` is now deprecated,  if want a similar funcionality use `top_k=None` instead of `return_all_scores=True` or `top_k=1` instead of `return_all_scores=False`.\n",
            "  warnings.warn(\n"
          ]
        },
        {
          "output_type": "execute_result",
          "data": {
            "text/plain": [
              "[[{'label': 'NEGATIVE', 'score': 0.00016651903570163995},\n",
              "  {'label': 'POSITIVE', 'score': 0.9998334646224976}]]"
            ]
          },
          "metadata": {},
          "execution_count": 98
        }
      ]
    },
    {
      "cell_type": "markdown",
      "source": [
        "## Guided Example 2\n",
        "What if we had a list of texts, loaded, for example, from file?"
      ],
      "metadata": {
        "id": "4h_4Pr6zdNzI"
      }
    },
    {
      "cell_type": "code",
      "source": [
        "#Using lists\n",
        "texts = ['The dog was happy and ran along playfully.',\n",
        "         'The cat glared at me, judging me from afar.',\n",
        "         'The groundhog peeked its head above the ground.',\n",
        "         'Opposums are criminally underrated.']\n",
        "texts_scores = mdl_pipe(texts)\n",
        "texts_scores"
      ],
      "metadata": {
        "colab": {
          "base_uri": "https://localhost:8080/"
        },
        "id": "LaV_9sQ_cC5Q",
        "outputId": "88c7886c-4ed9-47e0-c812-c99645ee08a3"
      },
      "execution_count": null,
      "outputs": [
        {
          "output_type": "execute_result",
          "data": {
            "text/plain": [
              "[{'label': 'POSITIVE', 'score': 0.9997424483299255},\n",
              " {'label': 'NEGATIVE', 'score': 0.8735092282295227},\n",
              " {'label': 'POSITIVE', 'score': 0.9485796093940735},\n",
              " {'label': 'NEGATIVE', 'score': 0.9712409377098083}]"
            ]
          },
          "metadata": {},
          "execution_count": 99
        }
      ]
    },
    {
      "cell_type": "markdown",
      "source": [
        "## Guided Example 3\n",
        "Maybe we don't like how this model is performing. Can we use a different model? How?\n",
        "\n",
        "Reference: [Huggingface Models](https://huggingface.co/models)"
      ],
      "metadata": {
        "id": "IfXOkWeWdXoV"
      }
    },
    {
      "cell_type": "code",
      "source": [
        "#modify code to use different model\n",
        "cardiff_pipe = pipeline('text-classification', model='cardiffnlp/twitter-roberta-base-sentiment')\n",
        "cardiff_scores = cardiff_pipe(texts)"
      ],
      "metadata": {
        "colab": {
          "base_uri": "https://localhost:8080/",
          "height": 177,
          "referenced_widgets": [
            "b28b5418c31f422c9285f2943b2df000",
            "d4782fc46bdf499b9598f068fb26d790",
            "9346b45a69ad4271a30eb8512e8ccfaa",
            "44003a1a5b214a66873ba0df10368f0f",
            "39738a1a805d4bf5a839f2236cd739c1",
            "f7a0d509e5e94a7b8c976fd3ffa22283",
            "3891a8496e7c48a4a6860c7b4e7a8caf",
            "98d9d3beca91414099d729122f6ecfa1",
            "71ffe61d783d4773a3b7d50840f72d15",
            "1fd4a47846c7486b81fe1b78eb4f07cf",
            "1c102b193c084451b3be3f086c2b25fb",
            "1f9198e5265c4f0b918a596bfcd07714",
            "bb397785f3454fa3bf026d2a801deae6",
            "02c8d550fd884b6288fce808855641e0",
            "b1cf04c1ffb749868269b8aecc23b2fc",
            "208cb4dc56c14901880ec019b8f0bf2b",
            "2590ed53bb214c829798f3a11201632d",
            "01d6a83c07774a8eb7cce582170896e2",
            "47c2ddfe65554f91bc89972ff0e0b613",
            "70e62b3396394dc386abbf020dcd8ba8",
            "7b6c30b1914f4871b2314702cbaa7199",
            "4f29b47b05a14c98b5b16c579b309a39",
            "d5b06b8a8c9e44359b02b6eb8588377c",
            "b33968cabd1c4cd2ad6b3f81698c11c9",
            "f81a781ca96b42f0bdda3cef11109f3b",
            "520fa33abb0b415aad0410f9be4abdf2",
            "c65512b536c049e492416558e779affa",
            "0afec8897a2b481fb4dbddb3fca87162",
            "76ab3f692607419cbaaf195ae331110d",
            "2e66845231fc42c4a690128c805f30fa",
            "80b28a5337f54aa39c98a3af680cff92",
            "485fc897240a4305bbd1af262ce24356",
            "7cefb08d45fe4d348de047b97846c8af",
            "5486f43a94744c0f8fc9c2c4e4908406",
            "0362342260c646cf8468c310d9513134",
            "bcaf682fe0564be6ad9bdcd66327e7ee",
            "c263aa13a9014f49bb03dbe3616409c0",
            "53e61bd809a94f96bbf69ee5a48db73c",
            "3d390e52a7d44438805b552bb4c43287",
            "24c832c623c5454b9594c6e05c936526",
            "d95d80c35ae4478b902a1a80ae464bd0",
            "7e3e7615c8e043dd8f9e311304e87efc",
            "8c9e808a25304f73b98dcb0a1e67433e",
            "83b6f2206b4f4647a6989426e0717111",
            "b457dbfeeb6b41499e1620839366d607",
            "a750770680c34df68843d9c12d68699e",
            "a59a269efc2c4893bf4a6b3f35080c62",
            "5e2ea6c6d204471894aa7d483a7cc420",
            "c4f21f0e2c37473c8218e1c40d022718",
            "5d8bf91c8cb143f6afbe6eaa1bf0d991",
            "c1deafc71b6248478f9ebcd58c965869",
            "521e0d2047024a15813dc32ebec84fba",
            "6050398fb5fc4662ad738077712ca166",
            "4d00e2f150b74c1fbd017ff4c2ad61c5",
            "7967088877e14347aca6c9783c315df1"
          ]
        },
        "id": "wsRh3FXBchAu",
        "outputId": "046d3055-e597-4c99-eb2c-16d65a41f6b2"
      },
      "execution_count": null,
      "outputs": [
        {
          "output_type": "display_data",
          "data": {
            "text/plain": [
              "Downloading (…)lve/main/config.json:   0%|          | 0.00/747 [00:00<?, ?B/s]"
            ],
            "application/vnd.jupyter.widget-view+json": {
              "version_major": 2,
              "version_minor": 0,
              "model_id": "b28b5418c31f422c9285f2943b2df000"
            }
          },
          "metadata": {}
        },
        {
          "output_type": "display_data",
          "data": {
            "text/plain": [
              "Downloading pytorch_model.bin:   0%|          | 0.00/499M [00:00<?, ?B/s]"
            ],
            "application/vnd.jupyter.widget-view+json": {
              "version_major": 2,
              "version_minor": 0,
              "model_id": "1f9198e5265c4f0b918a596bfcd07714"
            }
          },
          "metadata": {}
        },
        {
          "output_type": "display_data",
          "data": {
            "text/plain": [
              "Downloading (…)olve/main/vocab.json:   0%|          | 0.00/899k [00:00<?, ?B/s]"
            ],
            "application/vnd.jupyter.widget-view+json": {
              "version_major": 2,
              "version_minor": 0,
              "model_id": "d5b06b8a8c9e44359b02b6eb8588377c"
            }
          },
          "metadata": {}
        },
        {
          "output_type": "display_data",
          "data": {
            "text/plain": [
              "Downloading (…)olve/main/merges.txt:   0%|          | 0.00/456k [00:00<?, ?B/s]"
            ],
            "application/vnd.jupyter.widget-view+json": {
              "version_major": 2,
              "version_minor": 0,
              "model_id": "5486f43a94744c0f8fc9c2c4e4908406"
            }
          },
          "metadata": {}
        },
        {
          "output_type": "display_data",
          "data": {
            "text/plain": [
              "Downloading (…)cial_tokens_map.json:   0%|          | 0.00/150 [00:00<?, ?B/s]"
            ],
            "application/vnd.jupyter.widget-view+json": {
              "version_major": 2,
              "version_minor": 0,
              "model_id": "b457dbfeeb6b41499e1620839366d607"
            }
          },
          "metadata": {}
        }
      ]
    },
    {
      "cell_type": "code",
      "source": [
        "#see results\n",
        "cardiff_scores"
      ],
      "metadata": {
        "colab": {
          "base_uri": "https://localhost:8080/"
        },
        "id": "bWIlDJKNeoDP",
        "outputId": "3a7c26fa-f7c1-4d76-e0d0-bcd1d0ae0f08"
      },
      "execution_count": null,
      "outputs": [
        {
          "output_type": "execute_result",
          "data": {
            "text/plain": [
              "[{'label': 'LABEL_2', 'score': 0.9303200840950012},\n",
              " {'label': 'LABEL_0', 'score': 0.5754473805427551},\n",
              " {'label': 'LABEL_1', 'score': 0.8416589498519897},\n",
              " {'label': 'LABEL_0', 'score': 0.900627851486206}]"
            ]
          },
          "metadata": {},
          "execution_count": 101
        }
      ]
    },
    {
      "cell_type": "markdown",
      "source": [
        "# Breakout Session 3 (10 minute): APIs\n",
        "Now, try this on your own using the following APIs:\n",
        "* [Langchain Documentation](https://python.langchain.com/en/latest/index.html)\n",
        "* [HuggingFace Documentation](https://huggingface.co/docs/transformers/index)\n",
        "* [OpenAI Documentation](https://platform.openai.com/docs/api-reference)\n",
        "\n",
        "Using one of the quickstart pages, tutorials, answer the following questions:\n",
        "1. What is the package being used?\n",
        "2. What is being imported? Does it appear to be imported from a module? Which module and how can you tell?\n",
        "3. Try to run the quickstart code to try out the example.\n",
        "4. Summarize what you think the code is doing. Otherwise, use a GenAI to help summarize the behavior.\n",
        "5. Try to implement something of interest, particularly something that has been released relatively recently. For example, try to create a Huggingface Agent using just the quickstart and API. Then, modify this code so that the models aren't downloaded onto your computer but instead, using the Inference API."
      ],
      "metadata": {
        "id": "5SsaRk_Hexv1"
      }
    },
    {
      "cell_type": "markdown",
      "source": [
        "# Congratulations!\n",
        "You made it through the first crash course with Python for using HuggingFace! You now:\n",
        "\n",
        "1. How to use Google Colab\n",
        "2. Have built some intuition around what it is to program and that programming is just another language with syntax, semantics, and grammar\n",
        "3. Know several standard Python data types and how to use them\n",
        "4. Know several standard Python data structures and how to use them\n",
        "5. Have learned how to use functions, what they expect, and what they return\n",
        "6. Know packages, libraries, modules, classes, functions, and methods all relate and how you can leverage this information to help understand APIs\n",
        "7. Understood APIs as contracts about what is expected to be input and what should be returned\n",
        "8. Learned how to communication conditional execution\n",
        "9. Learned about standard types of iteration with Python\n",
        "\n",
        "That is A LOT to cover in 3 days - and I'm proud of you for sticking with it!\n",
        "\n",
        "Next week, we'll delve into LangChain, and we'll use this Python knowledge to help us understand tutorials and grow on our own in looking at the APIs and documentation LangChain, OpenAI, and Huggingface provide."
      ],
      "metadata": {
        "id": "uK_WEaEnCQzE"
      }
    }
  ]
}