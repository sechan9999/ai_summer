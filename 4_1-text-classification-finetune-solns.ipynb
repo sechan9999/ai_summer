{
  "cells": [
    {
      "cell_type": "markdown",
      "source": [
        "<a target=\"_blank\" href=\"https://colab.research.google.com/github/vanderbilt-data-science/ai_summer/blob/main/4_1-text-classification-finetune-solns.ipynb\">\n",
        "  <img src=\"https://colab.research.google.com/assets/colab-badge.svg\" alt=\"Open In Colab\"/>\n",
        "</a>"
      ],
      "metadata": {
        "id": "hEL2MmnbhKfh"
      },
      "id": "hEL2MmnbhKfh"
    },
    {
      "cell_type": "markdown",
      "id": "8d4849f3-51e1-4299-9f55-9c70c1f1c431",
      "metadata": {
        "id": "8d4849f3-51e1-4299-9f55-9c70c1f1c431"
      },
      "source": [
        "# Fine-Tuning Models\n",
        "> An introductory example to fine-tuning models\n",
        "\n",
        "In this walkthrough, we'll explore the standard steps of fine-tuning a model using huggingface, and we'll apply this towards the intuitive task of text classification.\n",
        "\n",
        "We'll leverage the [`tweet_eval` dataset](https://huggingface.co/datasets/tweet_eval) to try to classify emotions of tweets into relevant categories."
      ]
    },
    {
      "cell_type": "markdown",
      "source": [
        "# Initial Setup"
      ],
      "metadata": {
        "id": "thJhDvdZF-3U"
      },
      "id": "thJhDvdZF-3U"
    },
    {
      "cell_type": "markdown",
      "id": "0abbc1b7-f4b4-4cdd-93ed-ce92742fe4c6",
      "metadata": {
        "id": "0abbc1b7-f4b4-4cdd-93ed-ce92742fe4c6"
      },
      "source": [
        "### Install required packages\n",
        "Note that this is mostly required if you're on Google Colab."
      ]
    },
    {
      "cell_type": "code",
      "execution_count": 1,
      "id": "6067752c-e281-4ffe-9140-828d158751a1",
      "metadata": {
        "id": "6067752c-e281-4ffe-9140-828d158751a1"
      },
      "outputs": [],
      "source": [
        "%%capture\n",
        "!pip install transformers\n",
        "!pip install datasets\n",
        "!pip install --upgrade accelerate"
      ]
    },
    {
      "cell_type": "markdown",
      "id": "b4b4f46c-e1c0-4abc-9498-a45211bcf9a6",
      "metadata": {
        "id": "b4b4f46c-e1c0-4abc-9498-a45211bcf9a6"
      },
      "source": [
        "### Import packages of interest"
      ]
    },
    {
      "cell_type": "code",
      "execution_count": 2,
      "id": "6afa3949-c286-4a82-af4f-c5f7594a6c97",
      "metadata": {
        "id": "6afa3949-c286-4a82-af4f-c5f7594a6c97"
      },
      "outputs": [],
      "source": [
        "import numpy as np\n",
        "import pandas as pd\n",
        "\n",
        "from datasets import load_dataset, load_metric, Dataset\n",
        "from transformers import pipeline\n",
        "from transformers import DataCollatorWithPadding\n",
        "from transformers import AutoTokenizer, AutoModelForSequenceClassification, TrainingArguments, Trainer\n",
        "\n",
        "from huggingface_hub import notebook_login"
      ]
    },
    {
      "cell_type": "markdown",
      "id": "6902fa8d-8192-4ab0-8f5f-9a0ddf6c34fd",
      "metadata": {
        "id": "6902fa8d-8192-4ab0-8f5f-9a0ddf6c34fd"
      },
      "source": [
        "## Log into HuggingFace CLI\n",
        "Why are we doing this? Below, we'll use our own user accounts to grab datasets and upload models. If we don't do this, we'll have to pass in the auth token over. This isn't bad, but let's streamline our efforts!"
      ]
    },
    {
      "cell_type": "code",
      "execution_count": 25,
      "id": "3a75fd3d-76d2-425f-be19-aace4db0e71a",
      "metadata": {
        "id": "3a75fd3d-76d2-425f-be19-aace4db0e71a"
      },
      "outputs": [],
      "source": [
        "!git config --global credential.helper store"
      ]
    },
    {
      "cell_type": "code",
      "execution_count": 26,
      "id": "9d0b6acb-bf9e-4e5c-8764-90eed505a2fb",
      "metadata": {
        "tags": [],
        "id": "9d0b6acb-bf9e-4e5c-8764-90eed505a2fb",
        "outputId": "f39fc3f5-67a3-4774-a3e2-78979db62717",
        "colab": {
          "referenced_widgets": [
            "55658a267cbb4485b3be4c91e9a9a5f6",
            "19ac55146efc4c839a0f3c78dfa90fc3",
            "20ee5373a03b483ab9bba65ca79ea64e",
            "a336c6dd1f49454f884149fc69a885ac",
            "6a9bc9a9f7e14510ae44539486167695",
            "86939134f15c4e828c6ecb9315d1266c",
            "c27fc9051aa84dbfb01cdcf7650f0c2f",
            "06340f93fed449a29ab25807099f82ea",
            "97eef69d1ab34740923cfa8f82a24839",
            "19c3736162444494b4adb1a9665f6e99",
            "b9ba23b18c0f48e4aee61301ae45c4ae",
            "ccde07fb1af4492ab4ba2527982faab1",
            "d284f05f48bf445a8bb936bd5311b8ec",
            "e688c8ddde414ca18a0c35b17cb2f976",
            "d68bc59367604916af6b3061cf62b458",
            "db628f6d34dc4ea3ad82d733b93c841a",
            "65288cb43b4f46369c7a53c6b06d628b",
            "7341a5aae7794c979a2abcc886117fa6",
            "ee8128f9fe1b4169b2c86d1efc8b66c7",
            "0417d2e733fa40518944ae719ed0ef45",
            "be9474455947491cb128f43d1f901509",
            "21c30dd262bb445ca04ce7622a2d08be",
            "dbf12a094f7b4127858ea27764f439bb",
            "ff8b247902ed490489a7c30f03f5811c",
            "7b188c06f3364182b26a38c2882ff272",
            "60058059cab04418a1a0e7bc67d5d996",
            "e9c68355fd21451487349a3b27934366",
            "10e8443534c442b9b78abe20dfab3a2c",
            "c2c5358716a148d4bf8a2095894edc41",
            "b7e2aad383524a8d8f094732e2094384",
            "6ed1f06f53b94010ad3a3dbf89e02237",
            "4cbe4a8626fe483ea9ff8127c2c62fac"
          ],
          "base_uri": "https://localhost:8080/",
          "height": 145
        }
      },
      "outputs": [
        {
          "output_type": "display_data",
          "data": {
            "text/plain": [
              "VBox(children=(HTML(value='<center> <img\\nsrc=https://huggingface.co/front/assets/huggingface_logo-noborder.sv…"
            ],
            "application/vnd.jupyter.widget-view+json": {
              "version_major": 2,
              "version_minor": 0,
              "model_id": "55658a267cbb4485b3be4c91e9a9a5f6"
            }
          },
          "metadata": {}
        }
      ],
      "source": [
        "notebook_login()"
      ]
    },
    {
      "cell_type": "markdown",
      "id": "d0a371ec-98f5-4be7-b085-a2eed2f9c3d3",
      "metadata": {
        "id": "d0a371ec-98f5-4be7-b085-a2eed2f9c3d3"
      },
      "source": [
        "# Load data from HuggingFace Hub, Datasets, or from disk\n",
        "\n",
        "In this example, we'll pull from the Huggingface Datasets repository. However, if you have your own dataset, you could use that instead here."
      ]
    },
    {
      "cell_type": "code",
      "execution_count": 5,
      "id": "fc4b6693-573c-4515-b3bc-0a70c43945c2",
      "metadata": {
        "id": "fc4b6693-573c-4515-b3bc-0a70c43945c2",
        "outputId": "8dc66b09-c5ae-4961-bc14-9c7c5620d856",
        "colab": {
          "referenced_widgets": [
            "6205adb7c2aa4db0adab26457d1dcd60",
            "b61e329c61c348e187fae829f66d0d24",
            "2d18cb9ad3a34728b610dc7efd90a2ea",
            "c6ecbd11b84e42ea96dfde3d1ff585d2",
            "56b98cbf1caa4baeafe884016c8002d5",
            "3c842cedff0b4aada729f287c2dc2628",
            "9aded300a57b4f18a50943056a09c5e7",
            "0ac6dd576426463c84d1c7b48a903ef1",
            "ae03083606374f53afcdbf1799f384fc",
            "cb3603f97b1040329bf08a0bb3a78a08",
            "6fa387d1d8b7425ebc320ce3c23fee4a"
          ],
          "base_uri": "https://localhost:8080/",
          "height": 87
        }
      },
      "outputs": [
        {
          "output_type": "stream",
          "name": "stderr",
          "text": [
            "WARNING:datasets.builder:Found cached dataset tweet_eval (/root/.cache/huggingface/datasets/tweet_eval/emotion/1.1.0/12aee5282b8784f3e95459466db4cdf45c6bf49719c25cdb0743d71ed0410343)\n"
          ]
        },
        {
          "output_type": "display_data",
          "data": {
            "text/plain": [
              "  0%|          | 0/3 [00:00<?, ?it/s]"
            ],
            "application/vnd.jupyter.widget-view+json": {
              "version_major": 2,
              "version_minor": 0,
              "model_id": "6205adb7c2aa4db0adab26457d1dcd60"
            }
          },
          "metadata": {}
        }
      ],
      "source": [
        "#Load tweet_eval dataset, emotion configuration\n",
        "demo_ds = load_dataset('tweet_eval', 'emotion')"
      ]
    },
    {
      "cell_type": "code",
      "source": [
        "# View general structure of data\n",
        "demo_ds"
      ],
      "metadata": {
        "colab": {
          "base_uri": "https://localhost:8080/"
        },
        "id": "8Mg6MNhPIJl7",
        "outputId": "eb9af218-aae0-472f-c5e6-65668507012f"
      },
      "id": "8Mg6MNhPIJl7",
      "execution_count": 6,
      "outputs": [
        {
          "output_type": "execute_result",
          "data": {
            "text/plain": [
              "DatasetDict({\n",
              "    train: Dataset({\n",
              "        features: ['text', 'label'],\n",
              "        num_rows: 3257\n",
              "    })\n",
              "    test: Dataset({\n",
              "        features: ['text', 'label'],\n",
              "        num_rows: 1421\n",
              "    })\n",
              "    validation: Dataset({\n",
              "        features: ['text', 'label'],\n",
              "        num_rows: 374\n",
              "    })\n",
              "})"
            ]
          },
          "metadata": {},
          "execution_count": 6
        }
      ]
    },
    {
      "cell_type": "code",
      "source": [
        "# Look at an example\n",
        "demo_ds['train'][0]"
      ],
      "metadata": {
        "colab": {
          "base_uri": "https://localhost:8080/"
        },
        "id": "Za-YxO-0IOBG",
        "outputId": "f59248c4-7e8c-4a20-ea34-e07d407ad6fe"
      },
      "id": "Za-YxO-0IOBG",
      "execution_count": 7,
      "outputs": [
        {
          "output_type": "execute_result",
          "data": {
            "text/plain": [
              "{'text': \"“Worry is a down payment on a problem you may never have'. \\xa0Joyce Meyer.  #motivation #leadership #worry\",\n",
              " 'label': 2}"
            ]
          },
          "metadata": {},
          "execution_count": 7
        }
      ]
    },
    {
      "cell_type": "code",
      "source": [
        "# Look at labels\n",
        "demo_ds['train'].features['label']"
      ],
      "metadata": {
        "colab": {
          "base_uri": "https://localhost:8080/"
        },
        "id": "z1qB-uJZIaSE",
        "outputId": "615525fa-8085-40f7-8d12-73fcaa90939e"
      },
      "id": "z1qB-uJZIaSE",
      "execution_count": 8,
      "outputs": [
        {
          "output_type": "execute_result",
          "data": {
            "text/plain": [
              "ClassLabel(names=['anger', 'joy', 'optimism', 'sadness'], id=None)"
            ]
          },
          "metadata": {},
          "execution_count": 8
        }
      ]
    },
    {
      "cell_type": "markdown",
      "source": [
        "We can construct dictionaries that map these named labels to their numerical labels, which we'll use when defining the model a little later."
      ],
      "metadata": {
        "id": "3fDwjFnkHDvC"
      },
      "id": "3fDwjFnkHDvC"
    },
    {
      "cell_type": "code",
      "source": [
        "# Create id2label, label2id, and standard info from datasets\n",
        "num_classes = demo_ds['train'].features['label'].num_classes\n",
        "id2label = {ind:val for ind, val in enumerate(demo_ds['train'].features['label'].names)}\n",
        "label2id = {val:key for key, val in id2label.items()}\n",
        "\n",
        "print(num_classes)\n",
        "print(id2label)\n",
        "label2id"
      ],
      "metadata": {
        "colab": {
          "base_uri": "https://localhost:8080/"
        },
        "id": "_O6dH3LYIjAD",
        "outputId": "8313a046-c750-4355-9d83-06f9bca4b2ac"
      },
      "id": "_O6dH3LYIjAD",
      "execution_count": 9,
      "outputs": [
        {
          "output_type": "stream",
          "name": "stdout",
          "text": [
            "4\n",
            "{0: 'anger', 1: 'joy', 2: 'optimism', 3: 'sadness'}\n"
          ]
        },
        {
          "output_type": "execute_result",
          "data": {
            "text/plain": [
              "{'anger': 0, 'joy': 1, 'optimism': 2, 'sadness': 3}"
            ]
          },
          "metadata": {},
          "execution_count": 9
        }
      ]
    },
    {
      "cell_type": "markdown",
      "id": "d558ecf4-e35b-4afa-a1aa-ca16e86ab432",
      "metadata": {
        "id": "d558ecf4-e35b-4afa-a1aa-ca16e86ab432"
      },
      "source": [
        "# Pre-process inputs\n",
        "We've already learned about tokenizers - but let's see again what this looks like as we approach training. A richer treatment of tokenizers can be found in the Huggingface [instructions on tokenizers](https://huggingface.co/course/chapter2/4?fw=pt). \n",
        "\n",
        "Here, we'll need to apply our tokenizer to the full dataset."
      ]
    },
    {
      "cell_type": "code",
      "execution_count": 10,
      "id": "3d6a7940-ae31-4efe-9398-93da6b2b0aa7",
      "metadata": {
        "id": "3d6a7940-ae31-4efe-9398-93da6b2b0aa7",
        "outputId": "ad5a07e7-a8f1-4a43-b175-18170184acea",
        "colab": {
          "base_uri": "https://localhost:8080/",
          "height": 35
        }
      },
      "outputs": [
        {
          "output_type": "execute_result",
          "data": {
            "text/plain": [
              "'distilbert-base-cased'"
            ],
            "application/vnd.google.colaboratory.intrinsic+json": {
              "type": "string"
            }
          },
          "metadata": {},
          "execution_count": 10
        }
      ],
      "source": [
        "#instantiate tokenizer\n",
        "tokenizer = AutoTokenizer.from_pretrained(\"distilbert-base-cased\")\n",
        "tokenizer.name_or_path"
      ]
    },
    {
      "cell_type": "code",
      "execution_count": 11,
      "id": "68d994af-196d-4dba-8c1b-95a75d8fa14b",
      "metadata": {
        "id": "68d994af-196d-4dba-8c1b-95a75d8fa14b"
      },
      "outputs": [],
      "source": [
        "#define tokenizing function\n",
        "def tokenize_inputs(example):\n",
        "    return tokenizer(example['text'], truncation = True)"
      ]
    },
    {
      "cell_type": "code",
      "execution_count": 12,
      "id": "39bc59e5-52b9-4449-8cda-bd94e88e980d",
      "metadata": {
        "id": "39bc59e5-52b9-4449-8cda-bd94e88e980d",
        "outputId": "af911f01-bad8-468e-cc21-4dcb07bbbf7c",
        "colab": {
          "referenced_widgets": [
            "5c4ffa4eb870449ca018e5fcbe02ac43",
            "546bb8383b34437a85470a65b1309157",
            "6a426cc7a9f445dab58e0de8847f1c14",
            "619ab240afee4dc18abf31406ecfc2aa",
            "c8172f58c88242cea3eed1f37977fbac",
            "0a863a672e0c48b199eb8a031db1ba7b",
            "06fc031beb80408baa450c0e3d1db91f",
            "99ea044c4d3542089d91bbd18f9b75b3",
            "bb96804bf19648ac818af3069d42b568",
            "bd866a72e6b240febb7898ebf6d1718c",
            "9f72a42acb2a4a4d9afe47e8249a2e21"
          ],
          "base_uri": "https://localhost:8080/",
          "height": 73
        }
      },
      "outputs": [
        {
          "output_type": "stream",
          "name": "stderr",
          "text": [
            "WARNING:datasets.arrow_dataset:Loading cached processed dataset at /root/.cache/huggingface/datasets/tweet_eval/emotion/1.1.0/12aee5282b8784f3e95459466db4cdf45c6bf49719c25cdb0743d71ed0410343/cache-9ea8cd8bdc5404e9.arrow\n"
          ]
        },
        {
          "output_type": "display_data",
          "data": {
            "text/plain": [
              "Map:   0%|          | 0/1421 [00:00<?, ? examples/s]"
            ],
            "application/vnd.jupyter.widget-view+json": {
              "version_major": 2,
              "version_minor": 0,
              "model_id": "5c4ffa4eb870449ca018e5fcbe02ac43"
            }
          },
          "metadata": {}
        },
        {
          "output_type": "stream",
          "name": "stderr",
          "text": [
            "WARNING:datasets.arrow_dataset:Loading cached processed dataset at /root/.cache/huggingface/datasets/tweet_eval/emotion/1.1.0/12aee5282b8784f3e95459466db4cdf45c6bf49719c25cdb0743d71ed0410343/cache-2079f0b59990efff.arrow\n"
          ]
        }
      ],
      "source": [
        "#do the tokenizing using map function\n",
        "tokenized_ds = demo_ds.map(tokenize_inputs, batched=True, remove_columns=['text'])"
      ]
    },
    {
      "cell_type": "code",
      "execution_count": 13,
      "id": "2061e38a-4e26-4294-8a3f-99f3a51de49a",
      "metadata": {
        "id": "2061e38a-4e26-4294-8a3f-99f3a51de49a",
        "outputId": "9e0c5289-e465-4dd1-84bf-9f81a3dbdc5e",
        "colab": {
          "base_uri": "https://localhost:8080/"
        }
      },
      "outputs": [
        {
          "output_type": "execute_result",
          "data": {
            "text/plain": [
              "DatasetDict({\n",
              "    train: Dataset({\n",
              "        features: ['label', 'input_ids', 'attention_mask'],\n",
              "        num_rows: 3257\n",
              "    })\n",
              "    test: Dataset({\n",
              "        features: ['label', 'input_ids', 'attention_mask'],\n",
              "        num_rows: 1421\n",
              "    })\n",
              "    validation: Dataset({\n",
              "        features: ['label', 'input_ids', 'attention_mask'],\n",
              "        num_rows: 374\n",
              "    })\n",
              "})"
            ]
          },
          "metadata": {},
          "execution_count": 13
        }
      ],
      "source": [
        "tokenized_ds"
      ]
    },
    {
      "cell_type": "markdown",
      "source": [
        "After the tokenization process, the dataset is transformed as follows:\n",
        "\n",
        "The 'text' column is replaced with two new columns: 'input_ids' and 'attention_mask'.\n",
        "The 'input_ids' column contains the tokenized input sequences represented as token IDs.\n",
        "The 'attention_mask' column contains attention masks, which indicate which tokens should be attended to and which should be ignored during model training, making sure to ignore non-meaningful tokens (like truncated or padding tokens)."
      ],
      "metadata": {
        "id": "ucxc1dercHfY"
      },
      "id": "ucxc1dercHfY"
    },
    {
      "cell_type": "markdown",
      "id": "08845526-78fb-4096-bb4b-1ca13c7eda12",
      "metadata": {
        "id": "08845526-78fb-4096-bb4b-1ca13c7eda12"
      },
      "source": [
        "## An aside on dynamically padded batch size\n",
        "HF has the capacity to dynamically pad your batches such that each input is only as long as any given input in the batch. This helps with memory.You can learn more [here](https://huggingface.co/course/chapter3/2?fw=pt). For now, we'll simply instantiate a data collator and use it during training to demonstrate how we can do this."
      ]
    },
    {
      "cell_type": "code",
      "execution_count": 19,
      "id": "df86dd09-500c-4a14-80c4-32d9a432c0dd",
      "metadata": {
        "id": "df86dd09-500c-4a14-80c4-32d9a432c0dd"
      },
      "outputs": [],
      "source": [
        "#Instantiate data collator\n",
        "data_collator = DataCollatorWithPadding(tokenizer=tokenizer)"
      ]
    },
    {
      "cell_type": "markdown",
      "id": "3da664a0-b63c-450a-ae74-bab101d55ea1",
      "metadata": {
        "id": "3da664a0-b63c-450a-ae74-bab101d55ea1"
      },
      "source": [
        "# Model Training Preparation"
      ]
    },
    {
      "cell_type": "markdown",
      "id": "be6051da-9e43-48f2-baed-65e34b6488fb",
      "metadata": {
        "id": "be6051da-9e43-48f2-baed-65e34b6488fb"
      },
      "source": [
        "## Define model and task architecture\n",
        "\n",
        "Let's define the model that we want to use. We'll take the [distilbert-base-cased](https://huggingface.co/distilbert-base-cased) model from huggingface, and define it with one of the `Auto` classes. Then, we give it some information about our data."
      ]
    },
    {
      "cell_type": "code",
      "execution_count": 20,
      "id": "2606be9d-e38c-48dd-9a8b-73be81ab5d93",
      "metadata": {
        "id": "2606be9d-e38c-48dd-9a8b-73be81ab5d93",
        "outputId": "329f7d88-8b70-49ef-b940-faf45935801c",
        "colab": {
          "base_uri": "https://localhost:8080/"
        }
      },
      "outputs": [
        {
          "output_type": "stream",
          "name": "stderr",
          "text": [
            "Some weights of the model checkpoint at distilbert-base-cased were not used when initializing DistilBertForSequenceClassification: ['vocab_transform.weight', 'vocab_layer_norm.bias', 'vocab_projector.bias', 'vocab_layer_norm.weight', 'vocab_transform.bias', 'vocab_projector.weight']\n",
            "- This IS expected if you are initializing DistilBertForSequenceClassification from the checkpoint of a model trained on another task or with another architecture (e.g. initializing a BertForSequenceClassification model from a BertForPreTraining model).\n",
            "- This IS NOT expected if you are initializing DistilBertForSequenceClassification from the checkpoint of a model that you expect to be exactly identical (initializing a BertForSequenceClassification model from a BertForSequenceClassification model).\n",
            "Some weights of DistilBertForSequenceClassification were not initialized from the model checkpoint at distilbert-base-cased and are newly initialized: ['classifier.weight', 'pre_classifier.bias', 'classifier.bias', 'pre_classifier.weight']\n",
            "You should probably TRAIN this model on a down-stream task to be able to use it for predictions and inference.\n"
          ]
        }
      ],
      "source": [
        "# Choose the model type and instantiate it for the task\n",
        "model = AutoModelForSequenceClassification.from_pretrained(\"distilbert-base-cased\",\n",
        "                                                           num_labels=num_classes,\n",
        "                                                           id2label=id2label,\n",
        "                                                           label2id=label2id)"
      ]
    },
    {
      "cell_type": "markdown",
      "source": [
        "## Define Metrics"
      ],
      "metadata": {
        "id": "zNpYoiDFMB-P"
      },
      "id": "zNpYoiDFMB-P"
    },
    {
      "cell_type": "markdown",
      "source": [
        "### From Huggingface Datasets\n",
        "Let's consider what metrics might be useful for training this model. Some metrics are available to us through [HF Datasets Metrics repo](https://huggingface.co/metrics).\n",
        "\n",
        "Given that we are classifying tweets as evoking a particular emotion, the \"accuracy\" metric - which determines what portion of the total sample was predicted accurately - is a good choice here."
      ],
      "metadata": {
        "id": "n6rZFDAiLm8j"
      },
      "id": "n6rZFDAiLm8j"
    },
    {
      "cell_type": "code",
      "source": [
        "#load a metric\n",
        "metric = load_metric(\"accuracy\")\n",
        "\n",
        "#define the metric behavior\n",
        "def compute_metrics(eval_pred):\n",
        "    logits, labels = eval_pred\n",
        "    predictions = np.argmax(logits, axis=-1)\n",
        "    return metric.compute(predictions=predictions, references=labels)"
      ],
      "metadata": {
        "colab": {
          "base_uri": "https://localhost:8080/"
        },
        "id": "zZYMo9vnLhWJ",
        "outputId": "9f515f60-23de-4bf4-b82e-cb2d3d26b7d3"
      },
      "id": "zZYMo9vnLhWJ",
      "execution_count": 21,
      "outputs": [
        {
          "output_type": "stream",
          "name": "stderr",
          "text": [
            "<ipython-input-21-e5db288d97c2>:2: FutureWarning: load_metric is deprecated and will be removed in the next major version of datasets. Use 'evaluate.load' instead, from the new library 🤗 Evaluate: https://huggingface.co/docs/evaluate\n",
            "  metric = load_metric(\"accuracy\")\n"
          ]
        }
      ]
    },
    {
      "cell_type": "markdown",
      "source": [
        "### Custom definitions\n",
        "We can also define our own. The function inputs are a tuple of logits and labels, and the function must return a dictionary of key-value pairs. The keys should be the name of the metric and the values should be the values of that metric. We'll see an example below."
      ],
      "metadata": {
        "id": "2K88VoaqL3bN"
      },
      "id": "2K88VoaqL3bN"
    },
    {
      "cell_type": "code",
      "execution_count": 22,
      "id": "1ee093f3-a6ff-4134-9009-d7eaaf8760a1",
      "metadata": {
        "id": "1ee093f3-a6ff-4134-9009-d7eaaf8760a1"
      },
      "outputs": [],
      "source": [
        "from sklearn.metrics import precision_recall_fscore_support\n",
        "\n",
        "def compute_metrics(eval_pred):\n",
        "    logits, labels = eval_pred\n",
        "    \n",
        "    #get predictions by using index of max logit\n",
        "    predictions = np.argmax(logits, axis=-1)\n",
        "    \n",
        "    #calculate classification report\n",
        "    perfs = precision_recall_fscore_support(labels, predictions, average='macro', zero_division=0)\n",
        "    perf_dict = dict(zip(['precision', 'recall', 'fscore'], perfs[:3]))\n",
        "    \n",
        "    #return dictionary\n",
        "    return perf_dict"
      ]
    },
    {
      "cell_type": "markdown",
      "source": [
        "## Settings for Model Training\n",
        "Now, let's set some parameters that will govern the training loop of the model training. This includes practical considerations such as:\n",
        "* Where the model should be saved\n",
        "* Whether the model should be pushed to hub\n",
        "* How often to assess the performance of the model on the validation set\n",
        "\n",
        "This is also where we could change settings for neural network training, including:\n",
        "* Number of epochs to train\n",
        "* Learning rate\n",
        "* Optimizer parameters\n",
        "\n",
        "We do this through [TrainingArguments](https://huggingface.co/docs/transformers/main_classes/trainer#transformers.TrainingArguments) and the [Trainer class.](https://huggingface.co/docs/transformers/main_classes/trainer#transformers.Trainer) Let's take a look!"
      ],
      "metadata": {
        "id": "Ct5YQhNYNspN"
      },
      "id": "Ct5YQhNYNspN"
    },
    {
      "cell_type": "code",
      "source": [
        "#set new training arguments\n",
        "training_args = TrainingArguments(output_dir = \"bert-emotion\", #where the model should be saved\n",
        "                                  logging_strategy = \"epoch\",\n",
        "                                  evaluation_strategy=\"epoch\", #how often to evaluate performance\n",
        "                                  save_strategy='epoch',\n",
        "                                  load_best_model_at_end = True,\n",
        "                                  metric_for_best_model='fscore',\n",
        "                                  greater_is_better=True,\n",
        "                                  per_device_train_batch_size = 4,\n",
        "                                  per_device_eval_batch_size = 4,\n",
        "                                  num_train_epochs=3,\n",
        "                                  push_to_hub=True, #whether or not to push to hub\n",
        "                                  hub_strategy='checkpoint',\n",
        "                                  report_to='all')\n",
        "\n",
        "#set data and functionality for trainer\n",
        "trainer = Trainer(model=model,\n",
        "                  args=training_args,\n",
        "                  tokenizer=tokenizer,\n",
        "                  data_collator=data_collator,\n",
        "                  train_dataset=tokenized_ds['train'],\n",
        "                  eval_dataset=tokenized_ds['validation'],\n",
        "                  compute_metrics=compute_metrics)"
      ],
      "metadata": {
        "id": "1ymF80XDNrw8",
        "colab": {
          "base_uri": "https://localhost:8080/"
        },
        "outputId": "1c674cda-df5b-4554-9b5d-978e5d6a47c5"
      },
      "id": "1ymF80XDNrw8",
      "execution_count": 30,
      "outputs": [
        {
          "output_type": "stream",
          "name": "stderr",
          "text": [
            "/content/bert-emotion is already a clone of https://huggingface.co/apetulante/bert-emotion. Make sure you pull the latest changes with `repo.git_pull()`.\n",
            "WARNING:huggingface_hub.repository:/content/bert-emotion is already a clone of https://huggingface.co/apetulante/bert-emotion. Make sure you pull the latest changes with `repo.git_pull()`.\n"
          ]
        }
      ]
    },
    {
      "cell_type": "markdown",
      "source": [
        "# Train model\n",
        "Now, let's actually train the model!\n",
        "\n",
        "Below, we'll define a `model_init` function, which allows us to start training from the HF BERT training checkpoint (in other words, we start training from the HF weights we've downloaded).\n",
        "\n",
        "This training is fairly quick (for a large model!), but will still take a few minutes to run. Hopefully, we will watch the metrics improve at the end of each epoch."
      ],
      "metadata": {
        "id": "oXe8fUReQyUu"
      },
      "id": "oXe8fUReQyUu"
    },
    {
      "cell_type": "code",
      "source": [
        "#define a model init function which will help us just start training from scratch\n",
        "def model_init():\n",
        "  return(AutoModelForSequenceClassification.from_pretrained(\"distilbert-base-cased\",\n",
        "                                                           num_labels=num_classes,\n",
        "                                                           id2label=id2label,\n",
        "                                                           label2id=label2id))"
      ],
      "metadata": {
        "id": "KoYpWsK9SQeY"
      },
      "id": "KoYpWsK9SQeY",
      "execution_count": 28,
      "outputs": []
    },
    {
      "cell_type": "markdown",
      "source": [
        "By assigning the model_init function to trainer.model_init, you can override the default model initialization behavior of the Trainer class, so instead of using the default model initialization provided during the Trainer instantiation, the Trainer will use the model_init function instead.\n",
        "\n",
        "In most cases, you would directly provide the model instance to the Trainer constructor and avoid modifying these attributes, so in practice, this would mostly be for experimentation."
      ],
      "metadata": {
        "id": "r4UmG21AUkfX"
      },
      "id": "r4UmG21AUkfX"
    },
    {
      "cell_type": "code",
      "source": [
        "#example of how we can update trainer attributes (note that generally you wouldn't do this unless you're just experimenting around)\n",
        "trainer.model = None\n",
        "trainer.model_init = model_init\n",
        "\n",
        "#actually train the model\n",
        "trainer.train()"
      ],
      "metadata": {
        "colab": {
          "base_uri": "https://localhost:8080/",
          "height": 261
        },
        "id": "1-v71nXaQUlw",
        "outputId": "50c7f278-ca4f-495e-8db6-c0ea4d3f3029"
      },
      "id": "1-v71nXaQUlw",
      "execution_count": 31,
      "outputs": [
        {
          "output_type": "stream",
          "name": "stderr",
          "text": [
            "/usr/local/lib/python3.10/dist-packages/transformers/optimization.py:407: FutureWarning: This implementation of AdamW is deprecated and will be removed in a future version. Use the PyTorch implementation torch.optim.AdamW instead, or set `no_deprecation_warning=True` to disable this warning\n",
            "  warnings.warn(\n"
          ]
        },
        {
          "output_type": "display_data",
          "data": {
            "text/plain": [
              "<IPython.core.display.HTML object>"
            ],
            "text/html": [
              "\n",
              "    <div>\n",
              "      \n",
              "      <progress value='2445' max='2445' style='width:300px; height:20px; vertical-align: middle;'></progress>\n",
              "      [2445/2445 05:08, Epoch 3/3]\n",
              "    </div>\n",
              "    <table border=\"1\" class=\"dataframe\">\n",
              "  <thead>\n",
              " <tr style=\"text-align: left;\">\n",
              "      <th>Epoch</th>\n",
              "      <th>Training Loss</th>\n",
              "      <th>Validation Loss</th>\n",
              "      <th>Precision</th>\n",
              "      <th>Recall</th>\n",
              "      <th>Fscore</th>\n",
              "    </tr>\n",
              "  </thead>\n",
              "  <tbody>\n",
              "    <tr>\n",
              "      <td>1</td>\n",
              "      <td>0.877000</td>\n",
              "      <td>0.804503</td>\n",
              "      <td>0.744857</td>\n",
              "      <td>0.649470</td>\n",
              "      <td>0.676509</td>\n",
              "    </tr>\n",
              "    <tr>\n",
              "      <td>2</td>\n",
              "      <td>0.546200</td>\n",
              "      <td>1.005743</td>\n",
              "      <td>0.714789</td>\n",
              "      <td>0.656618</td>\n",
              "      <td>0.677364</td>\n",
              "    </tr>\n",
              "    <tr>\n",
              "      <td>3</td>\n",
              "      <td>0.269100</td>\n",
              "      <td>1.273655</td>\n",
              "      <td>0.697954</td>\n",
              "      <td>0.711039</td>\n",
              "      <td>0.702646</td>\n",
              "    </tr>\n",
              "  </tbody>\n",
              "</table><p>"
            ]
          },
          "metadata": {}
        },
        {
          "output_type": "execute_result",
          "data": {
            "text/plain": [
              "TrainOutput(global_step=2445, training_loss=0.5640955700708556, metrics={'train_runtime': 308.9712, 'train_samples_per_second': 31.624, 'train_steps_per_second': 7.913, 'total_flos': 94971645618192.0, 'train_loss': 0.5640955700708556, 'epoch': 3.0})"
            ]
          },
          "metadata": {},
          "execution_count": 31
        }
      ]
    },
    {
      "cell_type": "code",
      "execution_count": 32,
      "id": "b4d06945-a25e-48b2-a0e9-a9cd2b6778e6",
      "metadata": {
        "id": "b4d06945-a25e-48b2-a0e9-a9cd2b6778e6",
        "colab": {
          "base_uri": "https://localhost:8080/",
          "height": 310,
          "referenced_widgets": [
            "8325463e1a374071afbc4cab91ee88d8",
            "a8868054fc434d63b0c917e409e14271",
            "15e8d96d944d4e5db33abc146c747d78",
            "458d4a135cb44cb88ab10a037af3af2b",
            "f5863e34cc1047378c2a9e306c6fa23e",
            "362b6b9f8a7942a3b7919220decf0085",
            "e2b08ffbf9f4461dae6adff060e8ba38",
            "84f0b5ad6a3f48959f6d27f89976f358",
            "48c7cff5e258400582d9be033ea76748",
            "174e0996dbb44448b79d02a91ad93f35",
            "c8226f7113a04881917d90a7ed5fa372"
          ]
        },
        "outputId": "c863d8fb-7f07-468c-f047-06a0408f9cad"
      },
      "outputs": [
        {
          "output_type": "display_data",
          "data": {
            "text/plain": [
              "Upload file runs/May29_20-56-54_0eb21313a3aa/events.out.tfevents.1685393829.0eb21313a3aa.23532.2: 100%|#######…"
            ],
            "application/vnd.jupyter.widget-view+json": {
              "version_major": 2,
              "version_minor": 0,
              "model_id": "8325463e1a374071afbc4cab91ee88d8"
            }
          },
          "metadata": {}
        },
        {
          "output_type": "stream",
          "name": "stderr",
          "text": [
            "To https://huggingface.co/apetulante/bert-emotion\n",
            "   a462ce5..543d3d5  main -> main\n",
            "\n",
            "WARNING:huggingface_hub.repository:To https://huggingface.co/apetulante/bert-emotion\n",
            "   a462ce5..543d3d5  main -> main\n",
            "\n",
            "To https://huggingface.co/apetulante/bert-emotion\n",
            "   543d3d5..60341dd  main -> main\n",
            "\n",
            "WARNING:huggingface_hub.repository:To https://huggingface.co/apetulante/bert-emotion\n",
            "   543d3d5..60341dd  main -> main\n",
            "\n"
          ]
        },
        {
          "output_type": "execute_result",
          "data": {
            "text/plain": [
              "'https://huggingface.co/apetulante/bert-emotion/commit/543d3d50d37c60cd82e81c1fbf80929bbea1e9d8'"
            ],
            "application/vnd.google.colaboratory.intrinsic+json": {
              "type": "string"
            }
          },
          "metadata": {},
          "execution_count": 32
        }
      ],
      "source": [
        "#it's recommended to push the final version to HF after training completes.\n",
        "#Note that the code below takes FOREVER depending on the size of your model so you might consider NOT running\n",
        "#this line until the end of class\n",
        "trainer.push_to_hub(commit_message='end of training 3 epochs')"
      ]
    },
    {
      "cell_type": "markdown",
      "id": "b6ba1189-3e5f-42ae-bfae-e79f85a439f5",
      "metadata": {
        "id": "b6ba1189-3e5f-42ae-bfae-e79f85a439f5"
      },
      "source": [
        "# Using trained model with `Trainer`"
      ]
    },
    {
      "cell_type": "markdown",
      "source": [
        "\n",
        "## Evaluate\n",
        "We can assess the performance of the model over a large number of inputs (e.g., the test set). Here, we initially look at the performance of the training set to make sure the model _can_ learn from the data we've provided."
      ],
      "metadata": {
        "id": "bEnxWnAaZeNu"
      },
      "id": "bEnxWnAaZeNu"
    },
    {
      "cell_type": "code",
      "execution_count": 33,
      "id": "bd5bd0ec-ec3f-4f0f-b52f-70c19f6a79b7",
      "metadata": {
        "id": "bd5bd0ec-ec3f-4f0f-b52f-70c19f6a79b7",
        "outputId": "f583fc33-ab4f-43f7-c95a-75f395702cd9",
        "colab": {
          "base_uri": "https://localhost:8080/",
          "height": 180
        }
      },
      "outputs": [
        {
          "output_type": "display_data",
          "data": {
            "text/plain": [
              "<IPython.core.display.HTML object>"
            ],
            "text/html": [
              "\n",
              "    <div>\n",
              "      \n",
              "      <progress value='815' max='815' style='width:300px; height:20px; vertical-align: middle;'></progress>\n",
              "      [815/815 00:06]\n",
              "    </div>\n",
              "    "
            ]
          },
          "metadata": {}
        },
        {
          "output_type": "execute_result",
          "data": {
            "text/plain": [
              "{'eval_loss': 0.14509542286396027,\n",
              " 'eval_precision': 0.9597957937792059,\n",
              " 'eval_recall': 0.9598577203703367,\n",
              " 'eval_fscore': 0.9597735995217131,\n",
              " 'eval_runtime': 6.6447,\n",
              " 'eval_samples_per_second': 490.167,\n",
              " 'eval_steps_per_second': 122.655,\n",
              " 'epoch': 3.0}"
            ]
          },
          "metadata": {},
          "execution_count": 33
        }
      ],
      "source": [
        "eval_ds = trainer.evaluate(tokenized_ds['train'])\n",
        "eval_ds"
      ]
    },
    {
      "cell_type": "markdown",
      "source": [
        "This gives us a lot of information. Here's what each of these components is telling us:\n",
        "\n",
        "* `epoch`: the epoch number at which the evaluation is performed.\n",
        "\n",
        "* `eval_fscore`: the F1 score achieved during the evaluation. F1 score is a measure of the model's accuracy that balances precision and recall.\n",
        "\n",
        "* `eval_loss`: the evaluation loss. The evaluation loss is a measure of how well the model performs on the evaluation dataset, with lower values indicating better performance.\n",
        "\n",
        "* `eval_precision`: the precision achieved during the evaluation. Precision measures the proportion of correctly predicted positive instances out of all predicted positive instances.\n",
        "\n",
        "* `eval_recall`: the recall achieved during the evaluation. Recall measures the proportion of correctly predicted positive instances out of all actual positive instances.\n",
        "\n",
        "* `eval_runtime`: the total runtime of the evaluation process in seconds.\n",
        "\n",
        "* `eval_samples_per_second`: the number of samples processed per second.\n",
        "\n",
        "* `eval_steps_per_second`: the number of batches processed per second.\n"
      ],
      "metadata": {
        "id": "c51D0wuR_iYz"
      },
      "id": "c51D0wuR_iYz"
    },
    {
      "cell_type": "markdown",
      "id": "c81f6ec1-24fb-43f7-a52a-1cdab4861fc5",
      "metadata": {
        "id": "c81f6ec1-24fb-43f7-a52a-1cdab4861fc5"
      },
      "source": [
        "## Predict\n",
        "We can also use the model to predict and have the actual logits returned to us. This is helpful if we want to better inspect the performance of the model to consider consistent reasons for misclassifications and ideas on how to improve the performance of our model."
      ]
    },
    {
      "cell_type": "code",
      "execution_count": 34,
      "id": "83797f24-bcfb-405d-9f3a-01c8b26fd7ba",
      "metadata": {
        "id": "83797f24-bcfb-405d-9f3a-01c8b26fd7ba",
        "outputId": "8e133fb5-5835-408b-d168-7d39494b2d4a",
        "colab": {
          "base_uri": "https://localhost:8080/",
          "height": 178
        }
      },
      "outputs": [
        {
          "output_type": "display_data",
          "data": {
            "text/plain": [
              "<IPython.core.display.HTML object>"
            ],
            "text/html": []
          },
          "metadata": {}
        },
        {
          "output_type": "execute_result",
          "data": {
            "text/plain": [
              "PredictionOutput(predictions=array([[-1.8868837, -1.8574343,  6.055155 , -1.419183 ],\n",
              "       [ 5.531574 , -2.2868607, -2.86304  , -1.0091813],\n",
              "       [-1.5225724,  5.9447274, -2.7839324, -1.9488443],\n",
              "       ...,\n",
              "       [ 5.8136845, -2.1721785, -2.4972744, -1.7975125],\n",
              "       [ 5.2868667, -2.345863 , -1.9640478, -1.5634456],\n",
              "       [ 5.5580554, -2.1184847, -2.1770754, -1.969078 ]], dtype=float32), label_ids=array([2, 0, 1, ..., 0, 0, 0]), metrics={'test_loss': 0.14509542286396027, 'test_precision': 0.9597957937792059, 'test_recall': 0.9598577203703367, 'test_fscore': 0.9597735995217131, 'test_runtime': 9.3018, 'test_samples_per_second': 350.148, 'test_steps_per_second': 87.618})"
            ]
          },
          "metadata": {},
          "execution_count": 34
        }
      ],
      "source": [
        "#use trainer to predict\n",
        "preds = trainer.predict(tokenized_ds['train'])\n",
        "preds"
      ]
    },
    {
      "cell_type": "markdown",
      "source": [
        "We can see that our predictions are in the format of an array of lists. Each of these lists in our array show, for each object in the array, the \"probability\" that the tweet belongs to each of our classes ({0: 'anger', 1: 'joy', 2: 'optimism', 3: 'sadness'}).\n",
        "\n",
        "The highest probability becomes the classification."
      ],
      "metadata": {
        "id": "4XqTOeBRDbAn"
      },
      "id": "4XqTOeBRDbAn"
    },
    {
      "cell_type": "markdown",
      "source": [
        "Next, we may want to inspect some specific examples that the model got wrong, and build a confusion matrix of these predictions, which allows us to see what classes get confused - where the model has trouble distinguishing."
      ],
      "metadata": {
        "id": "Dmet5YMsD6Ww"
      },
      "id": "Dmet5YMsD6Ww"
    },
    {
      "cell_type": "code",
      "source": [
        "#sklearn has great built-in confusion matrix functionality\n",
        "from sklearn.metrics import confusion_matrix, ConfusionMatrixDisplay"
      ],
      "metadata": {
        "id": "ZE9IW_R-rGt2"
      },
      "id": "ZE9IW_R-rGt2",
      "execution_count": 35,
      "outputs": []
    },
    {
      "cell_type": "code",
      "source": [
        "# Create a dataframe for inspection\n",
        "preds_df = pd.DataFrame({'pred_ids':np.argmax(preds.predictions, axis=-1),\n",
        "                         'label_ids':preds.label_ids,\n",
        "                         'text':demo_ds['train']['text']})\n",
        "display(preds_df[5:10])\n",
        "\n",
        "# Populate pred_labels\n",
        "preds_df['pred_labels'] = preds_df['pred_ids'].replace(id2label)\n",
        "preds_df['true_labels'] = preds_df['label_ids'].replace(id2label)\n",
        "\n",
        "# Define misclassified\n",
        "preds_df['is_misclassified'] = preds_df['pred_ids'] != preds_df['label_ids']\n",
        "display(preds_df.query('is_misclassified == True'))\n",
        "\n",
        "# Get confusion matrix\n",
        "ConfusionMatrixDisplay.from_predictions(preds_df['true_labels'], preds_df['pred_labels'])"
      ],
      "metadata": {
        "colab": {
          "base_uri": "https://localhost:8080/",
          "height": 1000
        },
        "id": "_IBUkSlLflk1",
        "outputId": "edcb30d6-a79b-4652-e994-5b62871c9819"
      },
      "id": "_IBUkSlLflk1",
      "execution_count": 42,
      "outputs": [
        {
          "output_type": "display_data",
          "data": {
            "text/plain": [
              "   pred_ids  label_ids                                               text\n",
              "5         0          0  @user but your pussy was weak from what I hear...\n",
              "6         3          3  Making that yearly transition from excited and...\n",
              "7         1          1  Tiller and breezy should do a collab album. Ra...\n",
              "8         0          0  @user broadband is shocking regretting signing...\n",
              "9         0          0                   @user Look at those teef! #growl"
            ],
            "text/html": [
              "\n",
              "  <div id=\"df-76c37977-b9f6-4577-816f-3fd57e3d2cdc\">\n",
              "    <div class=\"colab-df-container\">\n",
              "      <div>\n",
              "<style scoped>\n",
              "    .dataframe tbody tr th:only-of-type {\n",
              "        vertical-align: middle;\n",
              "    }\n",
              "\n",
              "    .dataframe tbody tr th {\n",
              "        vertical-align: top;\n",
              "    }\n",
              "\n",
              "    .dataframe thead th {\n",
              "        text-align: right;\n",
              "    }\n",
              "</style>\n",
              "<table border=\"1\" class=\"dataframe\">\n",
              "  <thead>\n",
              "    <tr style=\"text-align: right;\">\n",
              "      <th></th>\n",
              "      <th>pred_ids</th>\n",
              "      <th>label_ids</th>\n",
              "      <th>text</th>\n",
              "    </tr>\n",
              "  </thead>\n",
              "  <tbody>\n",
              "    <tr>\n",
              "      <th>5</th>\n",
              "      <td>0</td>\n",
              "      <td>0</td>\n",
              "      <td>@user but your pussy was weak from what I hear...</td>\n",
              "    </tr>\n",
              "    <tr>\n",
              "      <th>6</th>\n",
              "      <td>3</td>\n",
              "      <td>3</td>\n",
              "      <td>Making that yearly transition from excited and...</td>\n",
              "    </tr>\n",
              "    <tr>\n",
              "      <th>7</th>\n",
              "      <td>1</td>\n",
              "      <td>1</td>\n",
              "      <td>Tiller and breezy should do a collab album. Ra...</td>\n",
              "    </tr>\n",
              "    <tr>\n",
              "      <th>8</th>\n",
              "      <td>0</td>\n",
              "      <td>0</td>\n",
              "      <td>@user broadband is shocking regretting signing...</td>\n",
              "    </tr>\n",
              "    <tr>\n",
              "      <th>9</th>\n",
              "      <td>0</td>\n",
              "      <td>0</td>\n",
              "      <td>@user Look at those teef! #growl</td>\n",
              "    </tr>\n",
              "  </tbody>\n",
              "</table>\n",
              "</div>\n",
              "      <button class=\"colab-df-convert\" onclick=\"convertToInteractive('df-76c37977-b9f6-4577-816f-3fd57e3d2cdc')\"\n",
              "              title=\"Convert this dataframe to an interactive table.\"\n",
              "              style=\"display:none;\">\n",
              "        \n",
              "  <svg xmlns=\"http://www.w3.org/2000/svg\" height=\"24px\"viewBox=\"0 0 24 24\"\n",
              "       width=\"24px\">\n",
              "    <path d=\"M0 0h24v24H0V0z\" fill=\"none\"/>\n",
              "    <path d=\"M18.56 5.44l.94 2.06.94-2.06 2.06-.94-2.06-.94-.94-2.06-.94 2.06-2.06.94zm-11 1L8.5 8.5l.94-2.06 2.06-.94-2.06-.94L8.5 2.5l-.94 2.06-2.06.94zm10 10l.94 2.06.94-2.06 2.06-.94-2.06-.94-.94-2.06-.94 2.06-2.06.94z\"/><path d=\"M17.41 7.96l-1.37-1.37c-.4-.4-.92-.59-1.43-.59-.52 0-1.04.2-1.43.59L10.3 9.45l-7.72 7.72c-.78.78-.78 2.05 0 2.83L4 21.41c.39.39.9.59 1.41.59.51 0 1.02-.2 1.41-.59l7.78-7.78 2.81-2.81c.8-.78.8-2.07 0-2.86zM5.41 20L4 18.59l7.72-7.72 1.47 1.35L5.41 20z\"/>\n",
              "  </svg>\n",
              "      </button>\n",
              "      \n",
              "  <style>\n",
              "    .colab-df-container {\n",
              "      display:flex;\n",
              "      flex-wrap:wrap;\n",
              "      gap: 12px;\n",
              "    }\n",
              "\n",
              "    .colab-df-convert {\n",
              "      background-color: #E8F0FE;\n",
              "      border: none;\n",
              "      border-radius: 50%;\n",
              "      cursor: pointer;\n",
              "      display: none;\n",
              "      fill: #1967D2;\n",
              "      height: 32px;\n",
              "      padding: 0 0 0 0;\n",
              "      width: 32px;\n",
              "    }\n",
              "\n",
              "    .colab-df-convert:hover {\n",
              "      background-color: #E2EBFA;\n",
              "      box-shadow: 0px 1px 2px rgba(60, 64, 67, 0.3), 0px 1px 3px 1px rgba(60, 64, 67, 0.15);\n",
              "      fill: #174EA6;\n",
              "    }\n",
              "\n",
              "    [theme=dark] .colab-df-convert {\n",
              "      background-color: #3B4455;\n",
              "      fill: #D2E3FC;\n",
              "    }\n",
              "\n",
              "    [theme=dark] .colab-df-convert:hover {\n",
              "      background-color: #434B5C;\n",
              "      box-shadow: 0px 1px 3px 1px rgba(0, 0, 0, 0.15);\n",
              "      filter: drop-shadow(0px 1px 2px rgba(0, 0, 0, 0.3));\n",
              "      fill: #FFFFFF;\n",
              "    }\n",
              "  </style>\n",
              "\n",
              "      <script>\n",
              "        const buttonEl =\n",
              "          document.querySelector('#df-76c37977-b9f6-4577-816f-3fd57e3d2cdc button.colab-df-convert');\n",
              "        buttonEl.style.display =\n",
              "          google.colab.kernel.accessAllowed ? 'block' : 'none';\n",
              "\n",
              "        async function convertToInteractive(key) {\n",
              "          const element = document.querySelector('#df-76c37977-b9f6-4577-816f-3fd57e3d2cdc');\n",
              "          const dataTable =\n",
              "            await google.colab.kernel.invokeFunction('convertToInteractive',\n",
              "                                                     [key], {});\n",
              "          if (!dataTable) return;\n",
              "\n",
              "          const docLinkHtml = 'Like what you see? Visit the ' +\n",
              "            '<a target=\"_blank\" href=https://colab.research.google.com/notebooks/data_table.ipynb>data table notebook</a>'\n",
              "            + ' to learn more about interactive tables.';\n",
              "          element.innerHTML = '';\n",
              "          dataTable['output_type'] = 'display_data';\n",
              "          await google.colab.output.renderOutput(dataTable, element);\n",
              "          const docLink = document.createElement('div');\n",
              "          docLink.innerHTML = docLinkHtml;\n",
              "          element.appendChild(docLink);\n",
              "        }\n",
              "      </script>\n",
              "    </div>\n",
              "  </div>\n",
              "  "
            ]
          },
          "metadata": {}
        },
        {
          "output_type": "display_data",
          "data": {
            "text/plain": [
              "      pred_ids  label_ids                                               text  \\\n",
              "11           0          3  #NewYork: Several #Baloch &amp; Indian activis...   \n",
              "91           0          1  Said it before and I'll say it now: America is...   \n",
              "98           0          3                             @user &gt; huff louder   \n",
              "131          3          0       significantly, with a #bitter smile, 'let me   \n",
              "166          0          3  @user wow , your right they do need help,so wh...   \n",
              "...        ...        ...                                                ...   \n",
              "3204         0          3  @user it's Bowers. I went and drove it for a w...   \n",
              "3222         0          3  2day's most used term is, #terrorism, with man...   \n",
              "3227         0          3  #Malaysian police arrest 4 people for suspecte...   \n",
              "3232         3          2  Once you've accepted your flaws, no one can us...   \n",
              "3247         2          3  If i could just get my line to block! #germant...   \n",
              "\n",
              "     pred_labels true_labels  is_misclassified  \n",
              "11         anger     sadness              True  \n",
              "91         anger         joy              True  \n",
              "98         anger     sadness              True  \n",
              "131      sadness       anger              True  \n",
              "166        anger     sadness              True  \n",
              "...          ...         ...               ...  \n",
              "3204       anger     sadness              True  \n",
              "3222       anger     sadness              True  \n",
              "3227       anger     sadness              True  \n",
              "3232     sadness    optimism              True  \n",
              "3247    optimism     sadness              True  \n",
              "\n",
              "[109 rows x 6 columns]"
            ],
            "text/html": [
              "\n",
              "  <div id=\"df-c25c6843-8f76-46e2-b6f2-48224ad98e45\">\n",
              "    <div class=\"colab-df-container\">\n",
              "      <div>\n",
              "<style scoped>\n",
              "    .dataframe tbody tr th:only-of-type {\n",
              "        vertical-align: middle;\n",
              "    }\n",
              "\n",
              "    .dataframe tbody tr th {\n",
              "        vertical-align: top;\n",
              "    }\n",
              "\n",
              "    .dataframe thead th {\n",
              "        text-align: right;\n",
              "    }\n",
              "</style>\n",
              "<table border=\"1\" class=\"dataframe\">\n",
              "  <thead>\n",
              "    <tr style=\"text-align: right;\">\n",
              "      <th></th>\n",
              "      <th>pred_ids</th>\n",
              "      <th>label_ids</th>\n",
              "      <th>text</th>\n",
              "      <th>pred_labels</th>\n",
              "      <th>true_labels</th>\n",
              "      <th>is_misclassified</th>\n",
              "    </tr>\n",
              "  </thead>\n",
              "  <tbody>\n",
              "    <tr>\n",
              "      <th>11</th>\n",
              "      <td>0</td>\n",
              "      <td>3</td>\n",
              "      <td>#NewYork: Several #Baloch &amp;amp; Indian activis...</td>\n",
              "      <td>anger</td>\n",
              "      <td>sadness</td>\n",
              "      <td>True</td>\n",
              "    </tr>\n",
              "    <tr>\n",
              "      <th>91</th>\n",
              "      <td>0</td>\n",
              "      <td>1</td>\n",
              "      <td>Said it before and I'll say it now: America is...</td>\n",
              "      <td>anger</td>\n",
              "      <td>joy</td>\n",
              "      <td>True</td>\n",
              "    </tr>\n",
              "    <tr>\n",
              "      <th>98</th>\n",
              "      <td>0</td>\n",
              "      <td>3</td>\n",
              "      <td>@user &amp;gt; huff louder</td>\n",
              "      <td>anger</td>\n",
              "      <td>sadness</td>\n",
              "      <td>True</td>\n",
              "    </tr>\n",
              "    <tr>\n",
              "      <th>131</th>\n",
              "      <td>3</td>\n",
              "      <td>0</td>\n",
              "      <td>significantly, with a #bitter smile, 'let me</td>\n",
              "      <td>sadness</td>\n",
              "      <td>anger</td>\n",
              "      <td>True</td>\n",
              "    </tr>\n",
              "    <tr>\n",
              "      <th>166</th>\n",
              "      <td>0</td>\n",
              "      <td>3</td>\n",
              "      <td>@user wow , your right they do need help,so wh...</td>\n",
              "      <td>anger</td>\n",
              "      <td>sadness</td>\n",
              "      <td>True</td>\n",
              "    </tr>\n",
              "    <tr>\n",
              "      <th>...</th>\n",
              "      <td>...</td>\n",
              "      <td>...</td>\n",
              "      <td>...</td>\n",
              "      <td>...</td>\n",
              "      <td>...</td>\n",
              "      <td>...</td>\n",
              "    </tr>\n",
              "    <tr>\n",
              "      <th>3204</th>\n",
              "      <td>0</td>\n",
              "      <td>3</td>\n",
              "      <td>@user it's Bowers. I went and drove it for a w...</td>\n",
              "      <td>anger</td>\n",
              "      <td>sadness</td>\n",
              "      <td>True</td>\n",
              "    </tr>\n",
              "    <tr>\n",
              "      <th>3222</th>\n",
              "      <td>0</td>\n",
              "      <td>3</td>\n",
              "      <td>2day's most used term is, #terrorism, with man...</td>\n",
              "      <td>anger</td>\n",
              "      <td>sadness</td>\n",
              "      <td>True</td>\n",
              "    </tr>\n",
              "    <tr>\n",
              "      <th>3227</th>\n",
              "      <td>0</td>\n",
              "      <td>3</td>\n",
              "      <td>#Malaysian police arrest 4 people for suspecte...</td>\n",
              "      <td>anger</td>\n",
              "      <td>sadness</td>\n",
              "      <td>True</td>\n",
              "    </tr>\n",
              "    <tr>\n",
              "      <th>3232</th>\n",
              "      <td>3</td>\n",
              "      <td>2</td>\n",
              "      <td>Once you've accepted your flaws, no one can us...</td>\n",
              "      <td>sadness</td>\n",
              "      <td>optimism</td>\n",
              "      <td>True</td>\n",
              "    </tr>\n",
              "    <tr>\n",
              "      <th>3247</th>\n",
              "      <td>2</td>\n",
              "      <td>3</td>\n",
              "      <td>If i could just get my line to block! #germant...</td>\n",
              "      <td>optimism</td>\n",
              "      <td>sadness</td>\n",
              "      <td>True</td>\n",
              "    </tr>\n",
              "  </tbody>\n",
              "</table>\n",
              "<p>109 rows × 6 columns</p>\n",
              "</div>\n",
              "      <button class=\"colab-df-convert\" onclick=\"convertToInteractive('df-c25c6843-8f76-46e2-b6f2-48224ad98e45')\"\n",
              "              title=\"Convert this dataframe to an interactive table.\"\n",
              "              style=\"display:none;\">\n",
              "        \n",
              "  <svg xmlns=\"http://www.w3.org/2000/svg\" height=\"24px\"viewBox=\"0 0 24 24\"\n",
              "       width=\"24px\">\n",
              "    <path d=\"M0 0h24v24H0V0z\" fill=\"none\"/>\n",
              "    <path d=\"M18.56 5.44l.94 2.06.94-2.06 2.06-.94-2.06-.94-.94-2.06-.94 2.06-2.06.94zm-11 1L8.5 8.5l.94-2.06 2.06-.94-2.06-.94L8.5 2.5l-.94 2.06-2.06.94zm10 10l.94 2.06.94-2.06 2.06-.94-2.06-.94-.94-2.06-.94 2.06-2.06.94z\"/><path d=\"M17.41 7.96l-1.37-1.37c-.4-.4-.92-.59-1.43-.59-.52 0-1.04.2-1.43.59L10.3 9.45l-7.72 7.72c-.78.78-.78 2.05 0 2.83L4 21.41c.39.39.9.59 1.41.59.51 0 1.02-.2 1.41-.59l7.78-7.78 2.81-2.81c.8-.78.8-2.07 0-2.86zM5.41 20L4 18.59l7.72-7.72 1.47 1.35L5.41 20z\"/>\n",
              "  </svg>\n",
              "      </button>\n",
              "      \n",
              "  <style>\n",
              "    .colab-df-container {\n",
              "      display:flex;\n",
              "      flex-wrap:wrap;\n",
              "      gap: 12px;\n",
              "    }\n",
              "\n",
              "    .colab-df-convert {\n",
              "      background-color: #E8F0FE;\n",
              "      border: none;\n",
              "      border-radius: 50%;\n",
              "      cursor: pointer;\n",
              "      display: none;\n",
              "      fill: #1967D2;\n",
              "      height: 32px;\n",
              "      padding: 0 0 0 0;\n",
              "      width: 32px;\n",
              "    }\n",
              "\n",
              "    .colab-df-convert:hover {\n",
              "      background-color: #E2EBFA;\n",
              "      box-shadow: 0px 1px 2px rgba(60, 64, 67, 0.3), 0px 1px 3px 1px rgba(60, 64, 67, 0.15);\n",
              "      fill: #174EA6;\n",
              "    }\n",
              "\n",
              "    [theme=dark] .colab-df-convert {\n",
              "      background-color: #3B4455;\n",
              "      fill: #D2E3FC;\n",
              "    }\n",
              "\n",
              "    [theme=dark] .colab-df-convert:hover {\n",
              "      background-color: #434B5C;\n",
              "      box-shadow: 0px 1px 3px 1px rgba(0, 0, 0, 0.15);\n",
              "      filter: drop-shadow(0px 1px 2px rgba(0, 0, 0, 0.3));\n",
              "      fill: #FFFFFF;\n",
              "    }\n",
              "  </style>\n",
              "\n",
              "      <script>\n",
              "        const buttonEl =\n",
              "          document.querySelector('#df-c25c6843-8f76-46e2-b6f2-48224ad98e45 button.colab-df-convert');\n",
              "        buttonEl.style.display =\n",
              "          google.colab.kernel.accessAllowed ? 'block' : 'none';\n",
              "\n",
              "        async function convertToInteractive(key) {\n",
              "          const element = document.querySelector('#df-c25c6843-8f76-46e2-b6f2-48224ad98e45');\n",
              "          const dataTable =\n",
              "            await google.colab.kernel.invokeFunction('convertToInteractive',\n",
              "                                                     [key], {});\n",
              "          if (!dataTable) return;\n",
              "\n",
              "          const docLinkHtml = 'Like what you see? Visit the ' +\n",
              "            '<a target=\"_blank\" href=https://colab.research.google.com/notebooks/data_table.ipynb>data table notebook</a>'\n",
              "            + ' to learn more about interactive tables.';\n",
              "          element.innerHTML = '';\n",
              "          dataTable['output_type'] = 'display_data';\n",
              "          await google.colab.output.renderOutput(dataTable, element);\n",
              "          const docLink = document.createElement('div');\n",
              "          docLink.innerHTML = docLinkHtml;\n",
              "          element.appendChild(docLink);\n",
              "        }\n",
              "      </script>\n",
              "    </div>\n",
              "  </div>\n",
              "  "
            ]
          },
          "metadata": {}
        },
        {
          "output_type": "execute_result",
          "data": {
            "text/plain": [
              "<sklearn.metrics._plot.confusion_matrix.ConfusionMatrixDisplay at 0x7fdde86c3640>"
            ]
          },
          "metadata": {},
          "execution_count": 42
        },
        {
          "output_type": "display_data",
          "data": {
            "text/plain": [
              "<Figure size 640x480 with 2 Axes>"
            ],
            "image/png": "[encoded data removed]"
          },
          "metadata": {}
        }
      ]
    },
    {
      "cell_type": "code",
      "source": [
        "#an example of inspecting the results to see examples of incorrect labels\n",
        "preds_df.query(\"true_labels=='joy' and pred_labels=='sadness'\")['text'].tolist()"
      ],
      "metadata": {
        "colab": {
          "base_uri": "https://localhost:8080/"
        },
        "id": "0hOL8rb2tYNF",
        "outputId": "16c0c4bd-70e6-4f65-b9c0-f4dab11de09f"
      },
      "id": "0hOL8rb2tYNF",
      "execution_count": 38,
      "outputs": [
        {
          "output_type": "execute_result",
          "data": {
            "text/plain": [
              "['@user maybe he had constipation issues..? Not that I KNOW dates relieve such an affliction! No way jose!',\n",
              " \"my alarm clock was ringing this morning n my flatmate knocked on my door and asked if i set anything on fire or if i'm burning alive :) :):)\",\n",
              " 'Contactless affliction kart are the needs must regarding the psychological moment!: xbeUJGB',\n",
              " '@user and have social anxiety. There is many awkward things wrong with me. 😄',\n",
              " \"@user I've left it for my dad to deal with 😂 My work is done as soon as it's felt the wrath of my slipper 😷\",\n",
              " 'myself that despite the absolute delight my children and I would feel having a kitten in our home, the misery my husband would feel is more.',\n",
              " '@user @user grim should find broken Matt hardy because he can delete everything lol',\n",
              " \"Can't even believe just seeing you set my anxiety off 🖕\",\n",
              " \"me taking a picture by myself: *awkward smile*\\\\nme on picture day: *awkward smile*\\\\nconclusion: stop smiling ;'(\\\\n#pictureday2016 #smile #ornot\"]"
            ]
          },
          "metadata": {},
          "execution_count": 38
        }
      ]
    },
    {
      "cell_type": "markdown",
      "id": "94abc5f1-076e-4167-9c85-26d77404797f",
      "metadata": {
        "id": "94abc5f1-076e-4167-9c85-26d77404797f"
      },
      "source": [
        "# Using your fine-tuned model\n",
        "Now, you can use the model that you've saved locally or that you've pushed to hub within a pipeline. Let's see how this works."
      ]
    },
    {
      "cell_type": "code",
      "execution_count": 41,
      "id": "ca0edf1e-7ce3-450e-97dc-4abee8e6a50c",
      "metadata": {
        "id": "ca0edf1e-7ce3-450e-97dc-4abee8e6a50c"
      },
      "outputs": [],
      "source": [
        "#create pipeline from your classifier\n",
        "#this should be locally saved in the files to the left\n",
        "emotion_classifier = pipeline('text-classification', model='bert-emotion/checkpoint-2445');\n",
        "\n",
        "#optionally, load from HF\n",
        "#emotion_classifier = pipeline('text-classification', model='{{your-HF-username}}/bert-emotion', use_auth_token=True)\n",
        "\n",
        "#get output\n",
        "emo = emotion_classifier(['The cat is prettier than any cat I have ever seen.',\n",
        "                          'Opposums are criminally underrated.'])\n"
      ]
    },
    {
      "cell_type": "code",
      "execution_count": 40,
      "id": "fc9c9088-d638-4c52-aa47-096fcc4e0065",
      "metadata": {
        "id": "fc9c9088-d638-4c52-aa47-096fcc4e0065",
        "outputId": "b065233d-5bb0-4cfc-a58c-fd060dc2f8fc",
        "colab": {
          "base_uri": "https://localhost:8080/"
        }
      },
      "outputs": [
        {
          "output_type": "execute_result",
          "data": {
            "text/plain": [
              "[{'label': 'joy', 'score': 0.9980871677398682},\n",
              " {'label': 'anger', 'score': 0.9984768033027649}]"
            ]
          },
          "metadata": {},
          "execution_count": 40
        }
      ],
      "source": [
        "#inspect results\n",
        "emo"
      ]
    },
    {
      "cell_type": "markdown",
      "source": [
        "# Optional Homework\n",
        "Now that you've learned the essentials of training, here are some questions/exercises you can do to reflect on what we've learned, augment your knowledge, and avoid some known pitfalls."
      ],
      "metadata": {
        "id": "Z0KxvgpvS1A0"
      },
      "id": "Z0KxvgpvS1A0"
    },
    {
      "cell_type": "markdown",
      "source": [
        "## Tokenizers"
      ],
      "metadata": {
        "id": "ffzg7nOnU5BS"
      },
      "id": "ffzg7nOnU5BS"
    },
    {
      "cell_type": "code",
      "source": [
        "#@title Tokenizers: Verifying your understanding\n",
        "\n",
        "#@markdown We've inspected what tokenized data looks like.\n",
        "#@markdown But we haven't gone deep into what padding tokens and truncated tokens may look like.\n",
        "#@markdown Investigate the tokenized dataset and compare it to the version\n",
        "#@markdown that wasn't tokenized. Does the tokenizers treatment of the\n",
        "#@markdown data make sense to you?"
      ],
      "metadata": {
        "cellView": "form",
        "id": "p7ixNjI-TFa4"
      },
      "id": "p7ixNjI-TFa4",
      "execution_count": 43,
      "outputs": []
    },
    {
      "cell_type": "code",
      "source": [
        "#@title Expanding our knowledge of Datasets `map` method\n",
        "#@markdown What if we wanted to remove all html from our\n",
        "#@markdown data prior to tokenization? We can do this with the map\n",
        "#@markdown of Datasets. Use the following resource from the\n",
        "#@markdown [HuggingFace Course](https://huggingface.co/course/chapter5/3?fw=pt#the-map-methods-superpowers) to understand how one might\n",
        "#@markdown go about doing this. Implement this here."
      ],
      "metadata": {
        "cellView": "form",
        "id": "TSSgX61iUCbk"
      },
      "id": "TSSgX61iUCbk",
      "execution_count": null,
      "outputs": []
    },
    {
      "cell_type": "markdown",
      "source": [
        "## Training Arguments and the Trainer Class"
      ],
      "metadata": {
        "id": "mfwIG2r3U-om"
      },
      "id": "mfwIG2r3U-om"
    },
    {
      "cell_type": "code",
      "source": [
        "#@title Model metrics\n",
        "#@markdown Let's say that we wanted to see the precision and recall\n",
        "#@markdown for each of the individual classes rather than the `macro` averaging\n",
        "#@markdown as we saw in our current `compute_metrics` function we've written.\n",
        "\n",
        "#@markdown Using the same sklearn functions (or not, but sklearn may make it easier),\n",
        "#@markdown return the precision and recall for each individual class label in addition\n",
        "#@markdown to the macro scores. Recall that what is returned from the `compute_metrics`\n",
        "#@markdown function must be a dictionary."
      ],
      "metadata": {
        "cellView": "form",
        "id": "IACwqovwVdTS"
      },
      "id": "IACwqovwVdTS",
      "execution_count": null,
      "outputs": []
    },
    {
      "cell_type": "code",
      "source": [
        "#@title TrainingArguments parameters\n",
        "#@markdown We've logged, saved, and evaluated at each epoch. However,\n",
        "#@markdown if we have an extremely large dataset, seeing one or more of these\n",
        "#@markdown at the end of each epoch (e.g., if it takes 3 hours to make it through\n",
        "#@markdown a single epoch) may conflict with our desire to monitor our model training.\n",
        "\n",
        "#@markdown 1. Using the TrainingArguments API, change your model to log, evaluate, and save\n",
        "#@markdown every 200 steps rather than every epoch.\n",
        "#@markdown 2. How does this change your checkpointing directories?\n",
        "#@markdown 3. How does this influence the intervals of evaluation?"
      ],
      "metadata": {
        "cellView": "form",
        "id": "-3pwBcDVYgQp"
      },
      "id": "-3pwBcDVYgQp",
      "execution_count": null,
      "outputs": []
    },
    {
      "cell_type": "markdown",
      "id": "f8bd89a2-bf3c-453a-8b53-50acce211130",
      "metadata": {
        "id": "f8bd89a2-bf3c-453a-8b53-50acce211130"
      },
      "source": [
        "## Your own data\n",
        "Of course, you can try all this out with your own data, or on a different task! The huggingface [Datasets](https://huggingface.co/docs/datasets/index) library has many useful functionalities for building your own dataset and hosting it on huggingface.\n",
        "\n",
        "Or, [browse](https://huggingface.co/datasets) for an existing dataset that interests you, and think about what type of tasks could suit that dataset."
      ]
    }
  ],
  "metadata": {
    "kernelspec": {
      "display_name": "Python 3 (ipykernel)",
      "language": "python",
      "name": "python3"
    },
    "colab": {
      "provenance": [],
      "collapsed_sections": [
        "0abbc1b7-f4b4-4cdd-93ed-ce92742fe4c6",
        "b4b4f46c-e1c0-4abc-9498-a45211bcf9a6",
        "f8bd89a2-bf3c-453a-8b53-50acce211130"
      ]
    },
    "accelerator": "GPU",
    "widgets": {
      "application/vnd.jupyter.widget-state+json": {
        "55658a267cbb4485b3be4c91e9a9a5f6": {
          "model_module": "@jupyter-widgets/controls",
          "model_name": "VBoxModel",
          "model_module_version": "1.5.0",
          "state": {
            "_dom_classes": [],
            "_model_module": "@jupyter-widgets/controls",
            "_model_module_version": "1.5.0",
            "_model_name": "VBoxModel",
            "_view_count": null,
            "_view_module": "@jupyter-widgets/controls",
            "_view_module_version": "1.5.0",
            "_view_name": "VBoxView",
            "box_style": "",
            "children": [
              "IPY_MODEL_be9474455947491cb128f43d1f901509",
              "IPY_MODEL_21c30dd262bb445ca04ce7622a2d08be",
              "IPY_MODEL_dbf12a094f7b4127858ea27764f439bb",
              "IPY_MODEL_ff8b247902ed490489a7c30f03f5811c"
            ],
            "layout": "IPY_MODEL_c27fc9051aa84dbfb01cdcf7650f0c2f"
          }
        },
        "19ac55146efc4c839a0f3c78dfa90fc3": {
          "model_module": "@jupyter-widgets/controls",
          "model_name": "HTMLModel",
          "model_module_version": "1.5.0",
          "state": {
            "_dom_classes": [],
            "_model_module": "@jupyter-widgets/controls",
            "_model_module_version": "1.5.0",
            "_model_name": "HTMLModel",
            "_view_count": null,
            "_view_module": "@jupyter-widgets/controls",
            "_view_module_version": "1.5.0",
            "_view_name": "HTMLView",
            "description": "",
            "description_tooltip": null,
            "layout": "IPY_MODEL_06340f93fed449a29ab25807099f82ea",
            "placeholder": "​",
            "style": "IPY_MODEL_97eef69d1ab34740923cfa8f82a24839",
            "value": "<center> <img\nsrc=https://huggingface.co/front/assets/huggingface_logo-noborder.svg\nalt='Hugging Face'> <br> Copy a token from <a\nhref=\"https://huggingface.co/settings/tokens\" target=\"_blank\">your Hugging Face\ntokens page</a> and paste it below. <br> Immediately click login after copying\nyour token or it might be stored in plain text in this notebook file. </center>"
          }
        },
        "20ee5373a03b483ab9bba65ca79ea64e": {
          "model_module": "@jupyter-widgets/controls",
          "model_name": "PasswordModel",
          "model_module_version": "1.5.0",
          "state": {
            "_dom_classes": [],
            "_model_module": "@jupyter-widgets/controls",
            "_model_module_version": "1.5.0",
            "_model_name": "PasswordModel",
            "_view_count": null,
            "_view_module": "@jupyter-widgets/controls",
            "_view_module_version": "1.5.0",
            "_view_name": "PasswordView",
            "continuous_update": true,
            "description": "Token:",
            "description_tooltip": null,
            "disabled": false,
            "layout": "IPY_MODEL_19c3736162444494b4adb1a9665f6e99",
            "placeholder": "​",
            "style": "IPY_MODEL_b9ba23b18c0f48e4aee61301ae45c4ae",
            "value": ""
          }
        },
        "a336c6dd1f49454f884149fc69a885ac": {
          "model_module": "@jupyter-widgets/controls",
          "model_name": "CheckboxModel",
          "model_module_version": "1.5.0",
          "state": {
            "_dom_classes": [],
            "_model_module": "@jupyter-widgets/controls",
            "_model_module_version": "1.5.0",
            "_model_name": "CheckboxModel",
            "_view_count": null,
            "_view_module": "@jupyter-widgets/controls",
            "_view_module_version": "1.5.0",
            "_view_name": "CheckboxView",
            "description": "Add token as git credential?",
            "description_tooltip": null,
            "disabled": false,
            "indent": true,
            "layout": "IPY_MODEL_ccde07fb1af4492ab4ba2527982faab1",
            "style": "IPY_MODEL_d284f05f48bf445a8bb936bd5311b8ec",
            "value": true
          }
        },
        "6a9bc9a9f7e14510ae44539486167695": {
          "model_module": "@jupyter-widgets/controls",
          "model_name": "ButtonModel",
          "model_module_version": "1.5.0",
          "state": {
            "_dom_classes": [],
            "_model_module": "@jupyter-widgets/controls",
            "_model_module_version": "1.5.0",
            "_model_name": "ButtonModel",
            "_view_count": null,
            "_view_module": "@jupyter-widgets/controls",
            "_view_module_version": "1.5.0",
            "_view_name": "ButtonView",
            "button_style": "",
            "description": "Login",
            "disabled": false,
            "icon": "",
            "layout": "IPY_MODEL_e688c8ddde414ca18a0c35b17cb2f976",
            "style": "IPY_MODEL_d68bc59367604916af6b3061cf62b458",
            "tooltip": ""
          }
        },
        "86939134f15c4e828c6ecb9315d1266c": {
          "model_module": "@jupyter-widgets/controls",
          "model_name": "HTMLModel",
          "model_module_version": "1.5.0",
          "state": {
            "_dom_classes": [],
            "_model_module": "@jupyter-widgets/controls",
            "_model_module_version": "1.5.0",
            "_model_name": "HTMLModel",
            "_view_count": null,
            "_view_module": "@jupyter-widgets/controls",
            "_view_module_version": "1.5.0",
            "_view_name": "HTMLView",
            "description": "",
            "description_tooltip": null,
            "layout": "IPY_MODEL_db628f6d34dc4ea3ad82d733b93c841a",
            "placeholder": "​",
            "style": "IPY_MODEL_65288cb43b4f46369c7a53c6b06d628b",
            "value": "\n<b>Pro Tip:</b> If you don't already have one, you can create a dedicated\n'notebooks' token with 'write' access, that you can then easily reuse for all\nnotebooks. </center>"
          }
        },
        "c27fc9051aa84dbfb01cdcf7650f0c2f": {
          "model_module": "@jupyter-widgets/base",
          "model_name": "LayoutModel",
          "model_module_version": "1.2.0",
          "state": {
            "_model_module": "@jupyter-widgets/base",
            "_model_module_version": "1.2.0",
            "_model_name": "LayoutModel",
            "_view_count": null,
            "_view_module": "@jupyter-widgets/base",
            "_view_module_version": "1.2.0",
            "_view_name": "LayoutView",
            "align_content": null,
            "align_items": "center",
            "align_self": null,
            "border": null,
            "bottom": null,
            "display": "flex",
            "flex": null,
            "flex_flow": "column",
            "grid_area": null,
            "grid_auto_columns": null,
            "grid_auto_flow": null,
            "grid_auto_rows": null,
            "grid_column": null,
            "grid_gap": null,
            "grid_row": null,
            "grid_template_areas": null,
            "grid_template_columns": null,
            "grid_template_rows": null,
            "height": null,
            "justify_content": null,
            "justify_items": null,
            "left": null,
            "margin": null,
            "max_height": null,
            "max_width": null,
            "min_height": null,
            "min_width": null,
            "object_fit": null,
            "object_position": null,
            "order": null,
            "overflow": null,
            "overflow_x": null,
            "overflow_y": null,
            "padding": null,
            "right": null,
            "top": null,
            "visibility": null,
            "width": "50%"
          }
        },
        "06340f93fed449a29ab25807099f82ea": {
          "model_module": "@jupyter-widgets/base",
          "model_name": "LayoutModel",
          "model_module_version": "1.2.0",
          "state": {
            "_model_module": "@jupyter-widgets/base",
            "_model_module_version": "1.2.0",
            "_model_name": "LayoutModel",
            "_view_count": null,
            "_view_module": "@jupyter-widgets/base",
            "_view_module_version": "1.2.0",
            "_view_name": "LayoutView",
            "align_content": null,
            "align_items": null,
            "align_self": null,
            "border": null,
            "bottom": null,
            "display": null,
            "flex": null,
            "flex_flow": null,
            "grid_area": null,
            "grid_auto_columns": null,
            "grid_auto_flow": null,
            "grid_auto_rows": null,
            "grid_column": null,
            "grid_gap": null,
            "grid_row": null,
            "grid_template_areas": null,
            "grid_template_columns": null,
            "grid_template_rows": null,
            "height": null,
            "justify_content": null,
            "justify_items": null,
            "left": null,
            "margin": null,
            "max_height": null,
            "max_width": null,
            "min_height": null,
            "min_width": null,
            "object_fit": null,
            "object_position": null,
            "order": null,
            "overflow": null,
            "overflow_x": null,
            "overflow_y": null,
            "padding": null,
            "right": null,
            "top": null,
            "visibility": null,
            "width": null
          }
        },
        "97eef69d1ab34740923cfa8f82a24839": {
          "model_module": "@jupyter-widgets/controls",
          "model_name": "DescriptionStyleModel",
          "model_module_version": "1.5.0",
          "state": {
            "_model_module": "@jupyter-widgets/controls",
            "_model_module_version": "1.5.0",
            "_model_name": "DescriptionStyleModel",
            "_view_count": null,
            "_view_module": "@jupyter-widgets/base",
            "_view_module_version": "1.2.0",
            "_view_name": "StyleView",
            "description_width": ""
          }
        },
        "19c3736162444494b4adb1a9665f6e99": {
          "model_module": "@jupyter-widgets/base",
          "model_name": "LayoutModel",
          "model_module_version": "1.2.0",
          "state": {
            "_model_module": "@jupyter-widgets/base",
            "_model_module_version": "1.2.0",
            "_model_name": "LayoutModel",
            "_view_count": null,
            "_view_module": "@jupyter-widgets/base",
            "_view_module_version": "1.2.0",
            "_view_name": "LayoutView",
            "align_content": null,
            "align_items": null,
            "align_self": null,
            "border": null,
            "bottom": null,
            "display": null,
            "flex": null,
            "flex_flow": null,
            "grid_area": null,
            "grid_auto_columns": null,
            "grid_auto_flow": null,
            "grid_auto_rows": null,
            "grid_column": null,
            "grid_gap": null,
            "grid_row": null,
            "grid_template_areas": null,
            "grid_template_columns": null,
            "grid_template_rows": null,
            "height": null,
            "justify_content": null,
            "justify_items": null,
            "left": null,
            "margin": null,
            "max_height": null,
            "max_width": null,
            "min_height": null,
            "min_width": null,
            "object_fit": null,
            "object_position": null,
            "order": null,
            "overflow": null,
            "overflow_x": null,
            "overflow_y": null,
            "padding": null,
            "right": null,
            "top": null,
            "visibility": null,
            "width": null
          }
        },
        "b9ba23b18c0f48e4aee61301ae45c4ae": {
          "model_module": "@jupyter-widgets/controls",
          "model_name": "DescriptionStyleModel",
          "model_module_version": "1.5.0",
          "state": {
            "_model_module": "@jupyter-widgets/controls",
            "_model_module_version": "1.5.0",
            "_model_name": "DescriptionStyleModel",
            "_view_count": null,
            "_view_module": "@jupyter-widgets/base",
            "_view_module_version": "1.2.0",
            "_view_name": "StyleView",
            "description_width": ""
          }
        },
        "ccde07fb1af4492ab4ba2527982faab1": {
          "model_module": "@jupyter-widgets/base",
          "model_name": "LayoutModel",
          "model_module_version": "1.2.0",
          "state": {
            "_model_module": "@jupyter-widgets/base",
            "_model_module_version": "1.2.0",
            "_model_name": "LayoutModel",
            "_view_count": null,
            "_view_module": "@jupyter-widgets/base",
            "_view_module_version": "1.2.0",
            "_view_name": "LayoutView",
            "align_content": null,
            "align_items": null,
            "align_self": null,
            "border": null,
            "bottom": null,
            "display": null,
            "flex": null,
            "flex_flow": null,
            "grid_area": null,
            "grid_auto_columns": null,
            "grid_auto_flow": null,
            "grid_auto_rows": null,
            "grid_column": null,
            "grid_gap": null,
            "grid_row": null,
            "grid_template_areas": null,
            "grid_template_columns": null,
            "grid_template_rows": null,
            "height": null,
            "justify_content": null,
            "justify_items": null,
            "left": null,
            "margin": null,
            "max_height": null,
            "max_width": null,
            "min_height": null,
            "min_width": null,
            "object_fit": null,
            "object_position": null,
            "order": null,
            "overflow": null,
            "overflow_x": null,
            "overflow_y": null,
            "padding": null,
            "right": null,
            "top": null,
            "visibility": null,
            "width": null
          }
        },
        "d284f05f48bf445a8bb936bd5311b8ec": {
          "model_module": "@jupyter-widgets/controls",
          "model_name": "DescriptionStyleModel",
          "model_module_version": "1.5.0",
          "state": {
            "_model_module": "@jupyter-widgets/controls",
            "_model_module_version": "1.5.0",
            "_model_name": "DescriptionStyleModel",
            "_view_count": null,
            "_view_module": "@jupyter-widgets/base",
            "_view_module_version": "1.2.0",
            "_view_name": "StyleView",
            "description_width": ""
          }
        },
        "e688c8ddde414ca18a0c35b17cb2f976": {
          "model_module": "@jupyter-widgets/base",
          "model_name": "LayoutModel",
          "model_module_version": "1.2.0",
          "state": {
            "_model_module": "@jupyter-widgets/base",
            "_model_module_version": "1.2.0",
            "_model_name": "LayoutModel",
            "_view_count": null,
            "_view_module": "@jupyter-widgets/base",
            "_view_module_version": "1.2.0",
            "_view_name": "LayoutView",
            "align_content": null,
            "align_items": null,
            "align_self": null,
            "border": null,
            "bottom": null,
            "display": null,
            "flex": null,
            "flex_flow": null,
            "grid_area": null,
            "grid_auto_columns": null,
            "grid_auto_flow": null,
            "grid_auto_rows": null,
            "grid_column": null,
            "grid_gap": null,
            "grid_row": null,
            "grid_template_areas": null,
            "grid_template_columns": null,
            "grid_template_rows": null,
            "height": null,
            "justify_content": null,
            "justify_items": null,
            "left": null,
            "margin": null,
            "max_height": null,
            "max_width": null,
            "min_height": null,
            "min_width": null,
            "object_fit": null,
            "object_position": null,
            "order": null,
            "overflow": null,
            "overflow_x": null,
            "overflow_y": null,
            "padding": null,
            "right": null,
            "top": null,
            "visibility": null,
            "width": null
          }
        },
        "d68bc59367604916af6b3061cf62b458": {
          "model_module": "@jupyter-widgets/controls",
          "model_name": "ButtonStyleModel",
          "model_module_version": "1.5.0",
          "state": {
            "_model_module": "@jupyter-widgets/controls",
            "_model_module_version": "1.5.0",
            "_model_name": "ButtonStyleModel",
            "_view_count": null,
            "_view_module": "@jupyter-widgets/base",
            "_view_module_version": "1.2.0",
            "_view_name": "StyleView",
            "button_color": null,
            "font_weight": ""
          }
        },
        "db628f6d34dc4ea3ad82d733b93c841a": {
          "model_module": "@jupyter-widgets/base",
          "model_name": "LayoutModel",
          "model_module_version": "1.2.0",
          "state": {
            "_model_module": "@jupyter-widgets/base",
            "_model_module_version": "1.2.0",
            "_model_name": "LayoutModel",
            "_view_count": null,
            "_view_module": "@jupyter-widgets/base",
            "_view_module_version": "1.2.0",
            "_view_name": "LayoutView",
            "align_content": null,
            "align_items": null,
            "align_self": null,
            "border": null,
            "bottom": null,
            "display": null,
            "flex": null,
            "flex_flow": null,
            "grid_area": null,
            "grid_auto_columns": null,
            "grid_auto_flow": null,
            "grid_auto_rows": null,
            "grid_column": null,
            "grid_gap": null,
            "grid_row": null,
            "grid_template_areas": null,
            "grid_template_columns": null,
            "grid_template_rows": null,
            "height": null,
            "justify_content": null,
            "justify_items": null,
            "left": null,
            "margin": null,
            "max_height": null,
            "max_width": null,
            "min_height": null,
            "min_width": null,
            "object_fit": null,
            "object_position": null,
            "order": null,
            "overflow": null,
            "overflow_x": null,
            "overflow_y": null,
            "padding": null,
            "right": null,
            "top": null,
            "visibility": null,
            "width": null
          }
        },
        "65288cb43b4f46369c7a53c6b06d628b": {
          "model_module": "@jupyter-widgets/controls",
          "model_name": "DescriptionStyleModel",
          "model_module_version": "1.5.0",
          "state": {
            "_model_module": "@jupyter-widgets/controls",
            "_model_module_version": "1.5.0",
            "_model_name": "DescriptionStyleModel",
            "_view_count": null,
            "_view_module": "@jupyter-widgets/base",
            "_view_module_version": "1.2.0",
            "_view_name": "StyleView",
            "description_width": ""
          }
        },
        "7341a5aae7794c979a2abcc886117fa6": {
          "model_module": "@jupyter-widgets/controls",
          "model_name": "LabelModel",
          "model_module_version": "1.5.0",
          "state": {
            "_dom_classes": [],
            "_model_module": "@jupyter-widgets/controls",
            "_model_module_version": "1.5.0",
            "_model_name": "LabelModel",
            "_view_count": null,
            "_view_module": "@jupyter-widgets/controls",
            "_view_module_version": "1.5.0",
            "_view_name": "LabelView",
            "description": "",
            "description_tooltip": null,
            "layout": "IPY_MODEL_ee8128f9fe1b4169b2c86d1efc8b66c7",
            "placeholder": "​",
            "style": "IPY_MODEL_0417d2e733fa40518944ae719ed0ef45",
            "value": "Connecting..."
          }
        },
        "ee8128f9fe1b4169b2c86d1efc8b66c7": {
          "model_module": "@jupyter-widgets/base",
          "model_name": "LayoutModel",
          "model_module_version": "1.2.0",
          "state": {
            "_model_module": "@jupyter-widgets/base",
            "_model_module_version": "1.2.0",
            "_model_name": "LayoutModel",
            "_view_count": null,
            "_view_module": "@jupyter-widgets/base",
            "_view_module_version": "1.2.0",
            "_view_name": "LayoutView",
            "align_content": null,
            "align_items": null,
            "align_self": null,
            "border": null,
            "bottom": null,
            "display": null,
            "flex": null,
            "flex_flow": null,
            "grid_area": null,
            "grid_auto_columns": null,
            "grid_auto_flow": null,
            "grid_auto_rows": null,
            "grid_column": null,
            "grid_gap": null,
            "grid_row": null,
            "grid_template_areas": null,
            "grid_template_columns": null,
            "grid_template_rows": null,
            "height": null,
            "justify_content": null,
            "justify_items": null,
            "left": null,
            "margin": null,
            "max_height": null,
            "max_width": null,
            "min_height": null,
            "min_width": null,
            "object_fit": null,
            "object_position": null,
            "order": null,
            "overflow": null,
            "overflow_x": null,
            "overflow_y": null,
            "padding": null,
            "right": null,
            "top": null,
            "visibility": null,
            "width": null
          }
        },
        "0417d2e733fa40518944ae719ed0ef45": {
          "model_module": "@jupyter-widgets/controls",
          "model_name": "DescriptionStyleModel",
          "model_module_version": "1.5.0",
          "state": {
            "_model_module": "@jupyter-widgets/controls",
            "_model_module_version": "1.5.0",
            "_model_name": "DescriptionStyleModel",
            "_view_count": null,
            "_view_module": "@jupyter-widgets/base",
            "_view_module_version": "1.2.0",
            "_view_name": "StyleView",
            "description_width": ""
          }
        },
        "be9474455947491cb128f43d1f901509": {
          "model_module": "@jupyter-widgets/controls",
          "model_name": "LabelModel",
          "model_module_version": "1.5.0",
          "state": {
            "_dom_classes": [],
            "_model_module": "@jupyter-widgets/controls",
            "_model_module_version": "1.5.0",
            "_model_name": "LabelModel",
            "_view_count": null,
            "_view_module": "@jupyter-widgets/controls",
            "_view_module_version": "1.5.0",
            "_view_name": "LabelView",
            "description": "",
            "description_tooltip": null,
            "layout": "IPY_MODEL_7b188c06f3364182b26a38c2882ff272",
            "placeholder": "​",
            "style": "IPY_MODEL_60058059cab04418a1a0e7bc67d5d996",
            "value": "Token is valid."
          }
        },
        "21c30dd262bb445ca04ce7622a2d08be": {
          "model_module": "@jupyter-widgets/controls",
          "model_name": "LabelModel",
          "model_module_version": "1.5.0",
          "state": {
            "_dom_classes": [],
            "_model_module": "@jupyter-widgets/controls",
            "_model_module_version": "1.5.0",
            "_model_name": "LabelModel",
            "_view_count": null,
            "_view_module": "@jupyter-widgets/controls",
            "_view_module_version": "1.5.0",
            "_view_name": "LabelView",
            "description": "",
            "description_tooltip": null,
            "layout": "IPY_MODEL_e9c68355fd21451487349a3b27934366",
            "placeholder": "​",
            "style": "IPY_MODEL_10e8443534c442b9b78abe20dfab3a2c",
            "value": "Your token has been saved in your configured git credential helpers (store)."
          }
        },
        "dbf12a094f7b4127858ea27764f439bb": {
          "model_module": "@jupyter-widgets/controls",
          "model_name": "LabelModel",
          "model_module_version": "1.5.0",
          "state": {
            "_dom_classes": [],
            "_model_module": "@jupyter-widgets/controls",
            "_model_module_version": "1.5.0",
            "_model_name": "LabelModel",
            "_view_count": null,
            "_view_module": "@jupyter-widgets/controls",
            "_view_module_version": "1.5.0",
            "_view_name": "LabelView",
            "description": "",
            "description_tooltip": null,
            "layout": "IPY_MODEL_c2c5358716a148d4bf8a2095894edc41",
            "placeholder": "​",
            "style": "IPY_MODEL_b7e2aad383524a8d8f094732e2094384",
            "value": "Your token has been saved to /root/.cache/huggingface/token"
          }
        },
        "ff8b247902ed490489a7c30f03f5811c": {
          "model_module": "@jupyter-widgets/controls",
          "model_name": "LabelModel",
          "model_module_version": "1.5.0",
          "state": {
            "_dom_classes": [],
            "_model_module": "@jupyter-widgets/controls",
            "_model_module_version": "1.5.0",
            "_model_name": "LabelModel",
            "_view_count": null,
            "_view_module": "@jupyter-widgets/controls",
            "_view_module_version": "1.5.0",
            "_view_name": "LabelView",
            "description": "",
            "description_tooltip": null,
            "layout": "IPY_MODEL_6ed1f06f53b94010ad3a3dbf89e02237",
            "placeholder": "​",
            "style": "IPY_MODEL_4cbe4a8626fe483ea9ff8127c2c62fac",
            "value": "Login successful"
          }
        },
        "7b188c06f3364182b26a38c2882ff272": {
          "model_module": "@jupyter-widgets/base",
          "model_name": "LayoutModel",
          "model_module_version": "1.2.0",
          "state": {
            "_model_module": "@jupyter-widgets/base",
            "_model_module_version": "1.2.0",
            "_model_name": "LayoutModel",
            "_view_count": null,
            "_view_module": "@jupyter-widgets/base",
            "_view_module_version": "1.2.0",
            "_view_name": "LayoutView",
            "align_content": null,
            "align_items": null,
            "align_self": null,
            "border": null,
            "bottom": null,
            "display": null,
            "flex": null,
            "flex_flow": null,
            "grid_area": null,
            "grid_auto_columns": null,
            "grid_auto_flow": null,
            "grid_auto_rows": null,
            "grid_column": null,
            "grid_gap": null,
            "grid_row": null,
            "grid_template_areas": null,
            "grid_template_columns": null,
            "grid_template_rows": null,
            "height": null,
            "justify_content": null,
            "justify_items": null,
            "left": null,
            "margin": null,
            "max_height": null,
            "max_width": null,
            "min_height": null,
            "min_width": null,
            "object_fit": null,
            "object_position": null,
            "order": null,
            "overflow": null,
            "overflow_x": null,
            "overflow_y": null,
            "padding": null,
            "right": null,
            "top": null,
            "visibility": null,
            "width": null
          }
        },
        "60058059cab04418a1a0e7bc67d5d996": {
          "model_module": "@jupyter-widgets/controls",
          "model_name": "DescriptionStyleModel",
          "model_module_version": "1.5.0",
          "state": {
            "_model_module": "@jupyter-widgets/controls",
            "_model_module_version": "1.5.0",
            "_model_name": "DescriptionStyleModel",
            "_view_count": null,
            "_view_module": "@jupyter-widgets/base",
            "_view_module_version": "1.2.0",
            "_view_name": "StyleView",
            "description_width": ""
          }
        },
        "e9c68355fd21451487349a3b27934366": {
          "model_module": "@jupyter-widgets/base",
          "model_name": "LayoutModel",
          "model_module_version": "1.2.0",
          "state": {
            "_model_module": "@jupyter-widgets/base",
            "_model_module_version": "1.2.0",
            "_model_name": "LayoutModel",
            "_view_count": null,
            "_view_module": "@jupyter-widgets/base",
            "_view_module_version": "1.2.0",
            "_view_name": "LayoutView",
            "align_content": null,
            "align_items": null,
            "align_self": null,
            "border": null,
            "bottom": null,
            "display": null,
            "flex": null,
            "flex_flow": null,
            "grid_area": null,
            "grid_auto_columns": null,
            "grid_auto_flow": null,
            "grid_auto_rows": null,
            "grid_column": null,
            "grid_gap": null,
            "grid_row": null,
            "grid_template_areas": null,
            "grid_template_columns": null,
            "grid_template_rows": null,
            "height": null,
            "justify_content": null,
            "justify_items": null,
            "left": null,
            "margin": null,
            "max_height": null,
            "max_width": null,
            "min_height": null,
            "min_width": null,
            "object_fit": null,
            "object_position": null,
            "order": null,
            "overflow": null,
            "overflow_x": null,
            "overflow_y": null,
            "padding": null,
            "right": null,
            "top": null,
            "visibility": null,
            "width": null
          }
        },
        "10e8443534c442b9b78abe20dfab3a2c": {
          "model_module": "@jupyter-widgets/controls",
          "model_name": "DescriptionStyleModel",
          "model_module_version": "1.5.0",
          "state": {
            "_model_module": "@jupyter-widgets/controls",
            "_model_module_version": "1.5.0",
            "_model_name": "DescriptionStyleModel",
            "_view_count": null,
            "_view_module": "@jupyter-widgets/base",
            "_view_module_version": "1.2.0",
            "_view_name": "StyleView",
            "description_width": ""
          }
        },
        "c2c5358716a148d4bf8a2095894edc41": {
          "model_module": "@jupyter-widgets/base",
          "model_name": "LayoutModel",
          "model_module_version": "1.2.0",
          "state": {
            "_model_module": "@jupyter-widgets/base",
            "_model_module_version": "1.2.0",
            "_model_name": "LayoutModel",
            "_view_count": null,
            "_view_module": "@jupyter-widgets/base",
            "_view_module_version": "1.2.0",
            "_view_name": "LayoutView",
            "align_content": null,
            "align_items": null,
            "align_self": null,
            "border": null,
            "bottom": null,
            "display": null,
            "flex": null,
            "flex_flow": null,
            "grid_area": null,
            "grid_auto_columns": null,
            "grid_auto_flow": null,
            "grid_auto_rows": null,
            "grid_column": null,
            "grid_gap": null,
            "grid_row": null,
            "grid_template_areas": null,
            "grid_template_columns": null,
            "grid_template_rows": null,
            "height": null,
            "justify_content": null,
            "justify_items": null,
            "left": null,
            "margin": null,
            "max_height": null,
            "max_width": null,
            "min_height": null,
            "min_width": null,
            "object_fit": null,
            "object_position": null,
            "order": null,
            "overflow": null,
            "overflow_x": null,
            "overflow_y": null,
            "padding": null,
            "right": null,
            "top": null,
            "visibility": null,
            "width": null
          }
        },
        "b7e2aad383524a8d8f094732e2094384": {
          "model_module": "@jupyter-widgets/controls",
          "model_name": "DescriptionStyleModel",
          "model_module_version": "1.5.0",
          "state": {
            "_model_module": "@jupyter-widgets/controls",
            "_model_module_version": "1.5.0",
            "_model_name": "DescriptionStyleModel",
            "_view_count": null,
            "_view_module": "@jupyter-widgets/base",
            "_view_module_version": "1.2.0",
            "_view_name": "StyleView",
            "description_width": ""
          }
        },
        "6ed1f06f53b94010ad3a3dbf89e02237": {
          "model_module": "@jupyter-widgets/base",
          "model_name": "LayoutModel",
          "model_module_version": "1.2.0",
          "state": {
            "_model_module": "@jupyter-widgets/base",
            "_model_module_version": "1.2.0",
            "_model_name": "LayoutModel",
            "_view_count": null,
            "_view_module": "@jupyter-widgets/base",
            "_view_module_version": "1.2.0",
            "_view_name": "LayoutView",
            "align_content": null,
            "align_items": null,
            "align_self": null,
            "border": null,
            "bottom": null,
            "display": null,
            "flex": null,
            "flex_flow": null,
            "grid_area": null,
            "grid_auto_columns": null,
            "grid_auto_flow": null,
            "grid_auto_rows": null,
            "grid_column": null,
            "grid_gap": null,
            "grid_row": null,
            "grid_template_areas": null,
            "grid_template_columns": null,
            "grid_template_rows": null,
            "height": null,
            "justify_content": null,
            "justify_items": null,
            "left": null,
            "margin": null,
            "max_height": null,
            "max_width": null,
            "min_height": null,
            "min_width": null,
            "object_fit": null,
            "object_position": null,
            "order": null,
            "overflow": null,
            "overflow_x": null,
            "overflow_y": null,
            "padding": null,
            "right": null,
            "top": null,
            "visibility": null,
            "width": null
          }
        },
        "4cbe4a8626fe483ea9ff8127c2c62fac": {
          "model_module": "@jupyter-widgets/controls",
          "model_name": "DescriptionStyleModel",
          "model_module_version": "1.5.0",
          "state": {
            "_model_module": "@jupyter-widgets/controls",
            "_model_module_version": "1.5.0",
            "_model_name": "DescriptionStyleModel",
            "_view_count": null,
            "_view_module": "@jupyter-widgets/base",
            "_view_module_version": "1.2.0",
            "_view_name": "StyleView",
            "description_width": ""
          }
        },
        "6205adb7c2aa4db0adab26457d1dcd60": {
          "model_module": "@jupyter-widgets/controls",
          "model_name": "HBoxModel",
          "model_module_version": "1.5.0",
          "state": {
            "_dom_classes": [],
            "_model_module": "@jupyter-widgets/controls",
            "_model_module_version": "1.5.0",
            "_model_name": "HBoxModel",
            "_view_count": null,
            "_view_module": "@jupyter-widgets/controls",
            "_view_module_version": "1.5.0",
            "_view_name": "HBoxView",
            "box_style": "",
            "children": [
              "IPY_MODEL_b61e329c61c348e187fae829f66d0d24",
              "IPY_MODEL_2d18cb9ad3a34728b610dc7efd90a2ea",
              "IPY_MODEL_c6ecbd11b84e42ea96dfde3d1ff585d2"
            ],
            "layout": "IPY_MODEL_56b98cbf1caa4baeafe884016c8002d5"
          }
        },
        "b61e329c61c348e187fae829f66d0d24": {
          "model_module": "@jupyter-widgets/controls",
          "model_name": "HTMLModel",
          "model_module_version": "1.5.0",
          "state": {
            "_dom_classes": [],
            "_model_module": "@jupyter-widgets/controls",
            "_model_module_version": "1.5.0",
            "_model_name": "HTMLModel",
            "_view_count": null,
            "_view_module": "@jupyter-widgets/controls",
            "_view_module_version": "1.5.0",
            "_view_name": "HTMLView",
            "description": "",
            "description_tooltip": null,
            "layout": "IPY_MODEL_3c842cedff0b4aada729f287c2dc2628",
            "placeholder": "​",
            "style": "IPY_MODEL_9aded300a57b4f18a50943056a09c5e7",
            "value": "100%"
          }
        },
        "2d18cb9ad3a34728b610dc7efd90a2ea": {
          "model_module": "@jupyter-widgets/controls",
          "model_name": "FloatProgressModel",
          "model_module_version": "1.5.0",
          "state": {
            "_dom_classes": [],
            "_model_module": "@jupyter-widgets/controls",
            "_model_module_version": "1.5.0",
            "_model_name": "FloatProgressModel",
            "_view_count": null,
            "_view_module": "@jupyter-widgets/controls",
            "_view_module_version": "1.5.0",
            "_view_name": "ProgressView",
            "bar_style": "success",
            "description": "",
            "description_tooltip": null,
            "layout": "IPY_MODEL_0ac6dd576426463c84d1c7b48a903ef1",
            "max": 3,
            "min": 0,
            "orientation": "horizontal",
            "style": "IPY_MODEL_ae03083606374f53afcdbf1799f384fc",
            "value": 3
          }
        },
        "c6ecbd11b84e42ea96dfde3d1ff585d2": {
          "model_module": "@jupyter-widgets/controls",
          "model_name": "HTMLModel",
          "model_module_version": "1.5.0",
          "state": {
            "_dom_classes": [],
            "_model_module": "@jupyter-widgets/controls",
            "_model_module_version": "1.5.0",
            "_model_name": "HTMLModel",
            "_view_count": null,
            "_view_module": "@jupyter-widgets/controls",
            "_view_module_version": "1.5.0",
            "_view_name": "HTMLView",
            "description": "",
            "description_tooltip": null,
            "layout": "IPY_MODEL_cb3603f97b1040329bf08a0bb3a78a08",
            "placeholder": "​",
            "style": "IPY_MODEL_6fa387d1d8b7425ebc320ce3c23fee4a",
            "value": " 3/3 [00:00&lt;00:00, 134.30it/s]"
          }
        },
        "56b98cbf1caa4baeafe884016c8002d5": {
          "model_module": "@jupyter-widgets/base",
          "model_name": "LayoutModel",
          "model_module_version": "1.2.0",
          "state": {
            "_model_module": "@jupyter-widgets/base",
            "_model_module_version": "1.2.0",
            "_model_name": "LayoutModel",
            "_view_count": null,
            "_view_module": "@jupyter-widgets/base",
            "_view_module_version": "1.2.0",
            "_view_name": "LayoutView",
            "align_content": null,
            "align_items": null,
            "align_self": null,
            "border": null,
            "bottom": null,
            "display": null,
            "flex": null,
            "flex_flow": null,
            "grid_area": null,
            "grid_auto_columns": null,
            "grid_auto_flow": null,
            "grid_auto_rows": null,
            "grid_column": null,
            "grid_gap": null,
            "grid_row": null,
            "grid_template_areas": null,
            "grid_template_columns": null,
            "grid_template_rows": null,
            "height": null,
            "justify_content": null,
            "justify_items": null,
            "left": null,
            "margin": null,
            "max_height": null,
            "max_width": null,
            "min_height": null,
            "min_width": null,
            "object_fit": null,
            "object_position": null,
            "order": null,
            "overflow": null,
            "overflow_x": null,
            "overflow_y": null,
            "padding": null,
            "right": null,
            "top": null,
            "visibility": null,
            "width": null
          }
        },
        "3c842cedff0b4aada729f287c2dc2628": {
          "model_module": "@jupyter-widgets/base",
          "model_name": "LayoutModel",
          "model_module_version": "1.2.0",
          "state": {
            "_model_module": "@jupyter-widgets/base",
            "_model_module_version": "1.2.0",
            "_model_name": "LayoutModel",
            "_view_count": null,
            "_view_module": "@jupyter-widgets/base",
            "_view_module_version": "1.2.0",
            "_view_name": "LayoutView",
            "align_content": null,
            "align_items": null,
            "align_self": null,
            "border": null,
            "bottom": null,
            "display": null,
            "flex": null,
            "flex_flow": null,
            "grid_area": null,
            "grid_auto_columns": null,
            "grid_auto_flow": null,
            "grid_auto_rows": null,
            "grid_column": null,
            "grid_gap": null,
            "grid_row": null,
            "grid_template_areas": null,
            "grid_template_columns": null,
            "grid_template_rows": null,
            "height": null,
            "justify_content": null,
            "justify_items": null,
            "left": null,
            "margin": null,
            "max_height": null,
            "max_width": null,
            "min_height": null,
            "min_width": null,
            "object_fit": null,
            "object_position": null,
            "order": null,
            "overflow": null,
            "overflow_x": null,
            "overflow_y": null,
            "padding": null,
            "right": null,
            "top": null,
            "visibility": null,
            "width": null
          }
        },
        "9aded300a57b4f18a50943056a09c5e7": {
          "model_module": "@jupyter-widgets/controls",
          "model_name": "DescriptionStyleModel",
          "model_module_version": "1.5.0",
          "state": {
            "_model_module": "@jupyter-widgets/controls",
            "_model_module_version": "1.5.0",
            "_model_name": "DescriptionStyleModel",
            "_view_count": null,
            "_view_module": "@jupyter-widgets/base",
            "_view_module_version": "1.2.0",
            "_view_name": "StyleView",
            "description_width": ""
          }
        },
        "0ac6dd576426463c84d1c7b48a903ef1": {
          "model_module": "@jupyter-widgets/base",
          "model_name": "LayoutModel",
          "model_module_version": "1.2.0",
          "state": {
            "_model_module": "@jupyter-widgets/base",
            "_model_module_version": "1.2.0",
            "_model_name": "LayoutModel",
            "_view_count": null,
            "_view_module": "@jupyter-widgets/base",
            "_view_module_version": "1.2.0",
            "_view_name": "LayoutView",
            "align_content": null,
            "align_items": null,
            "align_self": null,
            "border": null,
            "bottom": null,
            "display": null,
            "flex": null,
            "flex_flow": null,
            "grid_area": null,
            "grid_auto_columns": null,
            "grid_auto_flow": null,
            "grid_auto_rows": null,
            "grid_column": null,
            "grid_gap": null,
            "grid_row": null,
            "grid_template_areas": null,
            "grid_template_columns": null,
            "grid_template_rows": null,
            "height": null,
            "justify_content": null,
            "justify_items": null,
            "left": null,
            "margin": null,
            "max_height": null,
            "max_width": null,
            "min_height": null,
            "min_width": null,
            "object_fit": null,
            "object_position": null,
            "order": null,
            "overflow": null,
            "overflow_x": null,
            "overflow_y": null,
            "padding": null,
            "right": null,
            "top": null,
            "visibility": null,
            "width": null
          }
        },
        "ae03083606374f53afcdbf1799f384fc": {
          "model_module": "@jupyter-widgets/controls",
          "model_name": "ProgressStyleModel",
          "model_module_version": "1.5.0",
          "state": {
            "_model_module": "@jupyter-widgets/controls",
            "_model_module_version": "1.5.0",
            "_model_name": "ProgressStyleModel",
            "_view_count": null,
            "_view_module": "@jupyter-widgets/base",
            "_view_module_version": "1.2.0",
            "_view_name": "StyleView",
            "bar_color": null,
            "description_width": ""
          }
        },
        "cb3603f97b1040329bf08a0bb3a78a08": {
          "model_module": "@jupyter-widgets/base",
          "model_name": "LayoutModel",
          "model_module_version": "1.2.0",
          "state": {
            "_model_module": "@jupyter-widgets/base",
            "_model_module_version": "1.2.0",
            "_model_name": "LayoutModel",
            "_view_count": null,
            "_view_module": "@jupyter-widgets/base",
            "_view_module_version": "1.2.0",
            "_view_name": "LayoutView",
            "align_content": null,
            "align_items": null,
            "align_self": null,
            "border": null,
            "bottom": null,
            "display": null,
            "flex": null,
            "flex_flow": null,
            "grid_area": null,
            "grid_auto_columns": null,
            "grid_auto_flow": null,
            "grid_auto_rows": null,
            "grid_column": null,
            "grid_gap": null,
            "grid_row": null,
            "grid_template_areas": null,
            "grid_template_columns": null,
            "grid_template_rows": null,
            "height": null,
            "justify_content": null,
            "justify_items": null,
            "left": null,
            "margin": null,
            "max_height": null,
            "max_width": null,
            "min_height": null,
            "min_width": null,
            "object_fit": null,
            "object_position": null,
            "order": null,
            "overflow": null,
            "overflow_x": null,
            "overflow_y": null,
            "padding": null,
            "right": null,
            "top": null,
            "visibility": null,
            "width": null
          }
        },
        "6fa387d1d8b7425ebc320ce3c23fee4a": {
          "model_module": "@jupyter-widgets/controls",
          "model_name": "DescriptionStyleModel",
          "model_module_version": "1.5.0",
          "state": {
            "_model_module": "@jupyter-widgets/controls",
            "_model_module_version": "1.5.0",
            "_model_name": "DescriptionStyleModel",
            "_view_count": null,
            "_view_module": "@jupyter-widgets/base",
            "_view_module_version": "1.2.0",
            "_view_name": "StyleView",
            "description_width": ""
          }
        },
        "5c4ffa4eb870449ca018e5fcbe02ac43": {
          "model_module": "@jupyter-widgets/controls",
          "model_name": "HBoxModel",
          "model_module_version": "1.5.0",
          "state": {
            "_dom_classes": [],
            "_model_module": "@jupyter-widgets/controls",
            "_model_module_version": "1.5.0",
            "_model_name": "HBoxModel",
            "_view_count": null,
            "_view_module": "@jupyter-widgets/controls",
            "_view_module_version": "1.5.0",
            "_view_name": "HBoxView",
            "box_style": "",
            "children": [
              "IPY_MODEL_546bb8383b34437a85470a65b1309157",
              "IPY_MODEL_6a426cc7a9f445dab58e0de8847f1c14",
              "IPY_MODEL_619ab240afee4dc18abf31406ecfc2aa"
            ],
            "layout": "IPY_MODEL_c8172f58c88242cea3eed1f37977fbac"
          }
        },
        "546bb8383b34437a85470a65b1309157": {
          "model_module": "@jupyter-widgets/controls",
          "model_name": "HTMLModel",
          "model_module_version": "1.5.0",
          "state": {
            "_dom_classes": [],
            "_model_module": "@jupyter-widgets/controls",
            "_model_module_version": "1.5.0",
            "_model_name": "HTMLModel",
            "_view_count": null,
            "_view_module": "@jupyter-widgets/controls",
            "_view_module_version": "1.5.0",
            "_view_name": "HTMLView",
            "description": "",
            "description_tooltip": null,
            "layout": "IPY_MODEL_0a863a672e0c48b199eb8a031db1ba7b",
            "placeholder": "​",
            "style": "IPY_MODEL_06fc031beb80408baa450c0e3d1db91f",
            "value": "Map:  70%"
          }
        },
        "6a426cc7a9f445dab58e0de8847f1c14": {
          "model_module": "@jupyter-widgets/controls",
          "model_name": "FloatProgressModel",
          "model_module_version": "1.5.0",
          "state": {
            "_dom_classes": [],
            "_model_module": "@jupyter-widgets/controls",
            "_model_module_version": "1.5.0",
            "_model_name": "FloatProgressModel",
            "_view_count": null,
            "_view_module": "@jupyter-widgets/controls",
            "_view_module_version": "1.5.0",
            "_view_name": "ProgressView",
            "bar_style": "",
            "description": "",
            "description_tooltip": null,
            "layout": "IPY_MODEL_99ea044c4d3542089d91bbd18f9b75b3",
            "max": 1421,
            "min": 0,
            "orientation": "horizontal",
            "style": "IPY_MODEL_bb96804bf19648ac818af3069d42b568",
            "value": 1421
          }
        },
        "619ab240afee4dc18abf31406ecfc2aa": {
          "model_module": "@jupyter-widgets/controls",
          "model_name": "HTMLModel",
          "model_module_version": "1.5.0",
          "state": {
            "_dom_classes": [],
            "_model_module": "@jupyter-widgets/controls",
            "_model_module_version": "1.5.0",
            "_model_name": "HTMLModel",
            "_view_count": null,
            "_view_module": "@jupyter-widgets/controls",
            "_view_module_version": "1.5.0",
            "_view_name": "HTMLView",
            "description": "",
            "description_tooltip": null,
            "layout": "IPY_MODEL_bd866a72e6b240febb7898ebf6d1718c",
            "placeholder": "​",
            "style": "IPY_MODEL_9f72a42acb2a4a4d9afe47e8249a2e21",
            "value": " 1000/1421 [00:00&lt;00:00, 8957.19 examples/s]"
          }
        },
        "c8172f58c88242cea3eed1f37977fbac": {
          "model_module": "@jupyter-widgets/base",
          "model_name": "LayoutModel",
          "model_module_version": "1.2.0",
          "state": {
            "_model_module": "@jupyter-widgets/base",
            "_model_module_version": "1.2.0",
            "_model_name": "LayoutModel",
            "_view_count": null,
            "_view_module": "@jupyter-widgets/base",
            "_view_module_version": "1.2.0",
            "_view_name": "LayoutView",
            "align_content": null,
            "align_items": null,
            "align_self": null,
            "border": null,
            "bottom": null,
            "display": null,
            "flex": null,
            "flex_flow": null,
            "grid_area": null,
            "grid_auto_columns": null,
            "grid_auto_flow": null,
            "grid_auto_rows": null,
            "grid_column": null,
            "grid_gap": null,
            "grid_row": null,
            "grid_template_areas": null,
            "grid_template_columns": null,
            "grid_template_rows": null,
            "height": null,
            "justify_content": null,
            "justify_items": null,
            "left": null,
            "margin": null,
            "max_height": null,
            "max_width": null,
            "min_height": null,
            "min_width": null,
            "object_fit": null,
            "object_position": null,
            "order": null,
            "overflow": null,
            "overflow_x": null,
            "overflow_y": null,
            "padding": null,
            "right": null,
            "top": null,
            "visibility": "hidden",
            "width": null
          }
        },
        "0a863a672e0c48b199eb8a031db1ba7b": {
          "model_module": "@jupyter-widgets/base",
          "model_name": "LayoutModel",
          "model_module_version": "1.2.0",
          "state": {
            "_model_module": "@jupyter-widgets/base",
            "_model_module_version": "1.2.0",
            "_model_name": "LayoutModel",
            "_view_count": null,
            "_view_module": "@jupyter-widgets/base",
            "_view_module_version": "1.2.0",
            "_view_name": "LayoutView",
            "align_content": null,
            "align_items": null,
            "align_self": null,
            "border": null,
            "bottom": null,
            "display": null,
            "flex": null,
            "flex_flow": null,
            "grid_area": null,
            "grid_auto_columns": null,
            "grid_auto_flow": null,
            "grid_auto_rows": null,
            "grid_column": null,
            "grid_gap": null,
            "grid_row": null,
            "grid_template_areas": null,
            "grid_template_columns": null,
            "grid_template_rows": null,
            "height": null,
            "justify_content": null,
            "justify_items": null,
            "left": null,
            "margin": null,
            "max_height": null,
            "max_width": null,
            "min_height": null,
            "min_width": null,
            "object_fit": null,
            "object_position": null,
            "order": null,
            "overflow": null,
            "overflow_x": null,
            "overflow_y": null,
            "padding": null,
            "right": null,
            "top": null,
            "visibility": null,
            "width": null
          }
        },
        "06fc031beb80408baa450c0e3d1db91f": {
          "model_module": "@jupyter-widgets/controls",
          "model_name": "DescriptionStyleModel",
          "model_module_version": "1.5.0",
          "state": {
            "_model_module": "@jupyter-widgets/controls",
            "_model_module_version": "1.5.0",
            "_model_name": "DescriptionStyleModel",
            "_view_count": null,
            "_view_module": "@jupyter-widgets/base",
            "_view_module_version": "1.2.0",
            "_view_name": "StyleView",
            "description_width": ""
          }
        },
        "99ea044c4d3542089d91bbd18f9b75b3": {
          "model_module": "@jupyter-widgets/base",
          "model_name": "LayoutModel",
          "model_module_version": "1.2.0",
          "state": {
            "_model_module": "@jupyter-widgets/base",
            "_model_module_version": "1.2.0",
            "_model_name": "LayoutModel",
            "_view_count": null,
            "_view_module": "@jupyter-widgets/base",
            "_view_module_version": "1.2.0",
            "_view_name": "LayoutView",
            "align_content": null,
            "align_items": null,
            "align_self": null,
            "border": null,
            "bottom": null,
            "display": null,
            "flex": null,
            "flex_flow": null,
            "grid_area": null,
            "grid_auto_columns": null,
            "grid_auto_flow": null,
            "grid_auto_rows": null,
            "grid_column": null,
            "grid_gap": null,
            "grid_row": null,
            "grid_template_areas": null,
            "grid_template_columns": null,
            "grid_template_rows": null,
            "height": null,
            "justify_content": null,
            "justify_items": null,
            "left": null,
            "margin": null,
            "max_height": null,
            "max_width": null,
            "min_height": null,
            "min_width": null,
            "object_fit": null,
            "object_position": null,
            "order": null,
            "overflow": null,
            "overflow_x": null,
            "overflow_y": null,
            "padding": null,
            "right": null,
            "top": null,
            "visibility": null,
            "width": null
          }
        },
        "bb96804bf19648ac818af3069d42b568": {
          "model_module": "@jupyter-widgets/controls",
          "model_name": "ProgressStyleModel",
          "model_module_version": "1.5.0",
          "state": {
            "_model_module": "@jupyter-widgets/controls",
            "_model_module_version": "1.5.0",
            "_model_name": "ProgressStyleModel",
            "_view_count": null,
            "_view_module": "@jupyter-widgets/base",
            "_view_module_version": "1.2.0",
            "_view_name": "StyleView",
            "bar_color": null,
            "description_width": ""
          }
        },
        "bd866a72e6b240febb7898ebf6d1718c": {
          "model_module": "@jupyter-widgets/base",
          "model_name": "LayoutModel",
          "model_module_version": "1.2.0",
          "state": {
            "_model_module": "@jupyter-widgets/base",
            "_model_module_version": "1.2.0",
            "_model_name": "LayoutModel",
            "_view_count": null,
            "_view_module": "@jupyter-widgets/base",
            "_view_module_version": "1.2.0",
            "_view_name": "LayoutView",
            "align_content": null,
            "align_items": null,
            "align_self": null,
            "border": null,
            "bottom": null,
            "display": null,
            "flex": null,
            "flex_flow": null,
            "grid_area": null,
            "grid_auto_columns": null,
            "grid_auto_flow": null,
            "grid_auto_rows": null,
            "grid_column": null,
            "grid_gap": null,
            "grid_row": null,
            "grid_template_areas": null,
            "grid_template_columns": null,
            "grid_template_rows": null,
            "height": null,
            "justify_content": null,
            "justify_items": null,
            "left": null,
            "margin": null,
            "max_height": null,
            "max_width": null,
            "min_height": null,
            "min_width": null,
            "object_fit": null,
            "object_position": null,
            "order": null,
            "overflow": null,
            "overflow_x": null,
            "overflow_y": null,
            "padding": null,
            "right": null,
            "top": null,
            "visibility": null,
            "width": null
          }
        },
        "9f72a42acb2a4a4d9afe47e8249a2e21": {
          "model_module": "@jupyter-widgets/controls",
          "model_name": "DescriptionStyleModel",
          "model_module_version": "1.5.0",
          "state": {
            "_model_module": "@jupyter-widgets/controls",
            "_model_module_version": "1.5.0",
            "_model_name": "DescriptionStyleModel",
            "_view_count": null,
            "_view_module": "@jupyter-widgets/base",
            "_view_module_version": "1.2.0",
            "_view_name": "StyleView",
            "description_width": ""
          }
        },
        "8325463e1a374071afbc4cab91ee88d8": {
          "model_module": "@jupyter-widgets/controls",
          "model_name": "HBoxModel",
          "model_module_version": "1.5.0",
          "state": {
            "_dom_classes": [],
            "_model_module": "@jupyter-widgets/controls",
            "_model_module_version": "1.5.0",
            "_model_name": "HBoxModel",
            "_view_count": null,
            "_view_module": "@jupyter-widgets/controls",
            "_view_module_version": "1.5.0",
            "_view_name": "HBoxView",
            "box_style": "",
            "children": [
              "IPY_MODEL_a8868054fc434d63b0c917e409e14271",
              "IPY_MODEL_15e8d96d944d4e5db33abc146c747d78",
              "IPY_MODEL_458d4a135cb44cb88ab10a037af3af2b"
            ],
            "layout": "IPY_MODEL_f5863e34cc1047378c2a9e306c6fa23e"
          }
        },
        "a8868054fc434d63b0c917e409e14271": {
          "model_module": "@jupyter-widgets/controls",
          "model_name": "HTMLModel",
          "model_module_version": "1.5.0",
          "state": {
            "_dom_classes": [],
            "_model_module": "@jupyter-widgets/controls",
            "_model_module_version": "1.5.0",
            "_model_name": "HTMLModel",
            "_view_count": null,
            "_view_module": "@jupyter-widgets/controls",
            "_view_module_version": "1.5.0",
            "_view_name": "HTMLView",
            "description": "",
            "description_tooltip": null,
            "layout": "IPY_MODEL_362b6b9f8a7942a3b7919220decf0085",
            "placeholder": "​",
            "style": "IPY_MODEL_e2b08ffbf9f4461dae6adff060e8ba38",
            "value": "Upload file runs/May29_20-56-54_0eb21313a3aa/events.out.tfevents.1685393829.0eb21313a3aa.23532.2: 100%"
          }
        },
        "15e8d96d944d4e5db33abc146c747d78": {
          "model_module": "@jupyter-widgets/controls",
          "model_name": "FloatProgressModel",
          "model_module_version": "1.5.0",
          "state": {
            "_dom_classes": [],
            "_model_module": "@jupyter-widgets/controls",
            "_model_module_version": "1.5.0",
            "_model_name": "FloatProgressModel",
            "_view_count": null,
            "_view_module": "@jupyter-widgets/controls",
            "_view_module_version": "1.5.0",
            "_view_name": "ProgressView",
            "bar_style": "success",
            "description": "",
            "description_tooltip": null,
            "layout": "IPY_MODEL_84f0b5ad6a3f48959f6d27f89976f358",
            "max": 6127,
            "min": 0,
            "orientation": "horizontal",
            "style": "IPY_MODEL_48c7cff5e258400582d9be033ea76748",
            "value": 6127
          }
        },
        "458d4a135cb44cb88ab10a037af3af2b": {
          "model_module": "@jupyter-widgets/controls",
          "model_name": "HTMLModel",
          "model_module_version": "1.5.0",
          "state": {
            "_dom_classes": [],
            "_model_module": "@jupyter-widgets/controls",
            "_model_module_version": "1.5.0",
            "_model_name": "HTMLModel",
            "_view_count": null,
            "_view_module": "@jupyter-widgets/controls",
            "_view_module_version": "1.5.0",
            "_view_name": "HTMLView",
            "description": "",
            "description_tooltip": null,
            "layout": "IPY_MODEL_174e0996dbb44448b79d02a91ad93f35",
            "placeholder": "​",
            "style": "IPY_MODEL_c8226f7113a04881917d90a7ed5fa372",
            "value": " 5.98k/5.98k [00:02&lt;?, ?B/s]"
          }
        },
        "f5863e34cc1047378c2a9e306c6fa23e": {
          "model_module": "@jupyter-widgets/base",
          "model_name": "LayoutModel",
          "model_module_version": "1.2.0",
          "state": {
            "_model_module": "@jupyter-widgets/base",
            "_model_module_version": "1.2.0",
            "_model_name": "LayoutModel",
            "_view_count": null,
            "_view_module": "@jupyter-widgets/base",
            "_view_module_version": "1.2.0",
            "_view_name": "LayoutView",
            "align_content": null,
            "align_items": null,
            "align_self": null,
            "border": null,
            "bottom": null,
            "display": null,
            "flex": null,
            "flex_flow": null,
            "grid_area": null,
            "grid_auto_columns": null,
            "grid_auto_flow": null,
            "grid_auto_rows": null,
            "grid_column": null,
            "grid_gap": null,
            "grid_row": null,
            "grid_template_areas": null,
            "grid_template_columns": null,
            "grid_template_rows": null,
            "height": null,
            "justify_content": null,
            "justify_items": null,
            "left": null,
            "margin": null,
            "max_height": null,
            "max_width": null,
            "min_height": null,
            "min_width": null,
            "object_fit": null,
            "object_position": null,
            "order": null,
            "overflow": null,
            "overflow_x": null,
            "overflow_y": null,
            "padding": null,
            "right": null,
            "top": null,
            "visibility": null,
            "width": null
          }
        },
        "362b6b9f8a7942a3b7919220decf0085": {
          "model_module": "@jupyter-widgets/base",
          "model_name": "LayoutModel",
          "model_module_version": "1.2.0",
          "state": {
            "_model_module": "@jupyter-widgets/base",
            "_model_module_version": "1.2.0",
            "_model_name": "LayoutModel",
            "_view_count": null,
            "_view_module": "@jupyter-widgets/base",
            "_view_module_version": "1.2.0",
            "_view_name": "LayoutView",
            "align_content": null,
            "align_items": null,
            "align_self": null,
            "border": null,
            "bottom": null,
            "display": null,
            "flex": null,
            "flex_flow": null,
            "grid_area": null,
            "grid_auto_columns": null,
            "grid_auto_flow": null,
            "grid_auto_rows": null,
            "grid_column": null,
            "grid_gap": null,
            "grid_row": null,
            "grid_template_areas": null,
            "grid_template_columns": null,
            "grid_template_rows": null,
            "height": null,
            "justify_content": null,
            "justify_items": null,
            "left": null,
            "margin": null,
            "max_height": null,
            "max_width": null,
            "min_height": null,
            "min_width": null,
            "object_fit": null,
            "object_position": null,
            "order": null,
            "overflow": null,
            "overflow_x": null,
            "overflow_y": null,
            "padding": null,
            "right": null,
            "top": null,
            "visibility": null,
            "width": null
          }
        },
        "e2b08ffbf9f4461dae6adff060e8ba38": {
          "model_module": "@jupyter-widgets/controls",
          "model_name": "DescriptionStyleModel",
          "model_module_version": "1.5.0",
          "state": {
            "_model_module": "@jupyter-widgets/controls",
            "_model_module_version": "1.5.0",
            "_model_name": "DescriptionStyleModel",
            "_view_count": null,
            "_view_module": "@jupyter-widgets/base",
            "_view_module_version": "1.2.0",
            "_view_name": "StyleView",
            "description_width": ""
          }
        },
        "84f0b5ad6a3f48959f6d27f89976f358": {
          "model_module": "@jupyter-widgets/base",
          "model_name": "LayoutModel",
          "model_module_version": "1.2.0",
          "state": {
            "_model_module": "@jupyter-widgets/base",
            "_model_module_version": "1.2.0",
            "_model_name": "LayoutModel",
            "_view_count": null,
            "_view_module": "@jupyter-widgets/base",
            "_view_module_version": "1.2.0",
            "_view_name": "LayoutView",
            "align_content": null,
            "align_items": null,
            "align_self": null,
            "border": null,
            "bottom": null,
            "display": null,
            "flex": null,
            "flex_flow": null,
            "grid_area": null,
            "grid_auto_columns": null,
            "grid_auto_flow": null,
            "grid_auto_rows": null,
            "grid_column": null,
            "grid_gap": null,
            "grid_row": null,
            "grid_template_areas": null,
            "grid_template_columns": null,
            "grid_template_rows": null,
            "height": null,
            "justify_content": null,
            "justify_items": null,
            "left": null,
            "margin": null,
            "max_height": null,
            "max_width": null,
            "min_height": null,
            "min_width": null,
            "object_fit": null,
            "object_position": null,
            "order": null,
            "overflow": null,
            "overflow_x": null,
            "overflow_y": null,
            "padding": null,
            "right": null,
            "top": null,
            "visibility": null,
            "width": null
          }
        },
        "48c7cff5e258400582d9be033ea76748": {
          "model_module": "@jupyter-widgets/controls",
          "model_name": "ProgressStyleModel",
          "model_module_version": "1.5.0",
          "state": {
            "_model_module": "@jupyter-widgets/controls",
            "_model_module_version": "1.5.0",
            "_model_name": "ProgressStyleModel",
            "_view_count": null,
            "_view_module": "@jupyter-widgets/base",
            "_view_module_version": "1.2.0",
            "_view_name": "StyleView",
            "bar_color": null,
            "description_width": ""
          }
        },
        "174e0996dbb44448b79d02a91ad93f35": {
          "model_module": "@jupyter-widgets/base",
          "model_name": "LayoutModel",
          "model_module_version": "1.2.0",
          "state": {
            "_model_module": "@jupyter-widgets/base",
            "_model_module_version": "1.2.0",
            "_model_name": "LayoutModel",
            "_view_count": null,
            "_view_module": "@jupyter-widgets/base",
            "_view_module_version": "1.2.0",
            "_view_name": "LayoutView",
            "align_content": null,
            "align_items": null,
            "align_self": null,
            "border": null,
            "bottom": null,
            "display": null,
            "flex": null,
            "flex_flow": null,
            "grid_area": null,
            "grid_auto_columns": null,
            "grid_auto_flow": null,
            "grid_auto_rows": null,
            "grid_column": null,
            "grid_gap": null,
            "grid_row": null,
            "grid_template_areas": null,
            "grid_template_columns": null,
            "grid_template_rows": null,
            "height": null,
            "justify_content": null,
            "justify_items": null,
            "left": null,
            "margin": null,
            "max_height": null,
            "max_width": null,
            "min_height": null,
            "min_width": null,
            "object_fit": null,
            "object_position": null,
            "order": null,
            "overflow": null,
            "overflow_x": null,
            "overflow_y": null,
            "padding": null,
            "right": null,
            "top": null,
            "visibility": null,
            "width": null
          }
        },
        "c8226f7113a04881917d90a7ed5fa372": {
          "model_module": "@jupyter-widgets/controls",
          "model_name": "DescriptionStyleModel",
          "model_module_version": "1.5.0",
          "state": {
            "_model_module": "@jupyter-widgets/controls",
            "_model_module_version": "1.5.0",
            "_model_name": "DescriptionStyleModel",
            "_view_count": null,
            "_view_module": "@jupyter-widgets/base",
            "_view_module_version": "1.2.0",
            "_view_name": "StyleView",
            "description_width": ""
          }
        }
      }
    }
  },
  "nbformat": 4,
  "nbformat_minor": 5
}
