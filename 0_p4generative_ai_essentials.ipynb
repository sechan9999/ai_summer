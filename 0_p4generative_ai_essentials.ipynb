{
  "nbformat": 4,
  "nbformat_minor": 0,
  "metadata": {
    "colab": {
      "provenance": [],
      "authorship_tag": "ABX9TyOeHjTVBiXD18oyNjdhPLQj",
      "include_colab_link": true
    },
    "kernelspec": {
      "name": "python3",
      "display_name": "Python 3"
    },
    "language_info": {
      "name": "python"
    }
  },
  "cells": [
    {
      "cell_type": "markdown",
      "metadata": {
        "id": "view-in-github",
        "colab_type": "text"
      },
      "source": [
        "<a href=\"https://colab.research.google.com/github/vanderbilt-data-science/ai_summer/blob/main/0_p4generative_ai_essentials.ipynb\" target=\"_parent\"><img src=\"https://colab.research.google.com/assets/colab-badge.svg\" alt=\"Open In Colab\"/></a>"
      ]
    },
    {
      "cell_type": "markdown",
      "source": [
        "# Python for Generative AI - The Essentials\n",
        "> Day 1: Introduction to Python\n",
        "\n",
        "Based on [vanderbilt-data-science/p4a-essentials](https://github.com/vanderbilt-data-science/p4ai-essentials)\n",
        "\n",
        "In today's workshop, you'll learn:\n",
        "- Introduction to Google Colab\n",
        "- Introduction to Python as a computational engine\n",
        "- Foundations of Python: variables, data elements, and data structures\n",
        "\n",
        "using Generative AI as a coding assistant."
      ],
      "metadata": {
        "id": "8INsH7JZPDaA"
      }
    },
    {
      "cell_type": "markdown",
      "source": [
        "# The Problem\n",
        "You have a set of emails that you'd like to parse into their individual components. You'd like a section for the header which will allow you to look up any individual field value (e.g., if you want to look up the `Subject` of this email, you will expect to get `INFO NEEDED: Gaucher's Disease`). Then, you want to be able to access any individual email in the set as well. An example email is as follows:\n",
        "\n",
        "```\n",
        "Newsgroups: sci.med\n",
        "Path: cantaloupe.srv.cs.cmu.edu!crabapple.srv.cs.cmu.edu!fs7.ece.cmu.edu!europa.eng.gtefsd.com!darwin.sura.net!sgiblab!sdd.hp.com!decwrl!decwrl!uunet!utcsri!utnut!utzoo!telly!problem!intacc!bed\n",
        "From: bed@intacc.uucp (Deb Waddington)\n",
        "Subject: INFO NEEDED: Gaucher's Disease\n",
        "Message-ID: <1993Mar18.002149.1111@intacc.uucp>\n",
        "Date: Thu, 18 Mar 1993 00:21:49 GMT\n",
        "Distribution: Everywhere\n",
        "Expires: 01 Jun 93\n",
        "Reply-To: bed@intacc.UUCP (Deb Waddington)\n",
        "Organization: Matrix Artists' Network\n",
        "Lines: 33\n",
        "\n",
        "\n",
        "I have a 42 yr old male friend, misdiagnosed as having\n",
        " osteopporosis for two years, who recently found out that his\n",
        " illness is the rare Gaucher's disease. \n",
        "\n",
        "Gaucher's disease symptoms include: brittle bones (he lost 9 \n",
        " inches off his hieght); enlarged liver and spleen; internal\n",
        " bleeding; and fatigue (all the time). The problem (in Type 1) is\n",
        " attributed to a genetic mutation where there is a lack of the\n",
        " enzyme glucocerebroside in macrophages so the cells swell up.\n",
        " This will eventually cause death.\n",
        "\n",
        "Enyzme replacement therapy has been successfully developed and\n",
        " approved by the FDA in the last few years so that those patients\n",
        " administered with this drug (called Ceredase) report a remarkable\n",
        " improvement in their condition. Ceredase, which is manufactured\n",
        " by biotech biggy company--Genzyme--costs the patient $380,000\n",
        " per year. Gaucher's disease has justifyably been called \"the most\n",
        " expensive disease in the world\".\n",
        "\n",
        "NEED INFO:\n",
        "I have researched Gaucher's disease at the library but am relying\n",
        " on netlanders to provide me with any additional information:\n",
        "**news, stories, reports\n",
        "**people you know with this disease\n",
        "**ideas, articles about Genzyme Corp, how to get a hold of\n",
        "   enough money to buy some, programs available to help with\n",
        "   costs.\n",
        "**Basically ANY HELP YOU CAN OFFER\n",
        "\n",
        "Thanks so very much!\n",
        "\n",
        "Deborah \n",
        "\n",
        "```"
      ],
      "metadata": {
        "id": "P1gjvRO9PkDe"
      }
    },
    {
      "cell_type": "markdown",
      "source": [
        "## Breakout Room 1: Conceptual Solution (5 mins)\n",
        "Assume that you're instructing an assistant to do this. You have all of the emails and infinite interns which you can consider as one power intern who has lots of time but is unfamiliar with data in general. You of course have the tools you're familiar with (e.g., Excel, Word, whatever makes sense to you) or that you commonly use. Write a set of instructions for your intern to tell them how they should go about extracting and organizing this data.\n",
        "\n",
        "\n",
        "\n",
        "---\n",
        "\n"
      ],
      "metadata": {
        "id": "3tcY8mX-QgNd"
      }
    },
    {
      "cell_type": "markdown",
      "source": [
        "# A Programmatic Solution in Python\n",
        "\n",
        "We can use python and Google Colab!"
      ],
      "metadata": {
        "id": "DLxVRcgtRakD"
      }
    },
    {
      "cell_type": "markdown",
      "source": [
        "# Introduction to Google Colab\n",
        "Google Colab facilitates literate programming, meaning that it's not just code and code comments. We can narrate, as you see here! Double click this cell to inspect what markdown notation looks like!"
      ],
      "metadata": {
        "id": "RSIS2NnG6PyP"
      }
    },
    {
      "cell_type": "code",
      "source": [
        "# This is a code cell. This line is a comment. To execute this cell (provide information and/or instruction to our kernel \"child\"),\n",
        "# use the arrow on the LHS of the cell. Click it now!"
      ],
      "metadata": {
        "id": "OVOgv6U46cFo"
      },
      "execution_count": null,
      "outputs": []
    },
    {
      "cell_type": "markdown",
      "source": [
        "That's right, nothing of importance happened. We didn't give it any information or instruction. It essentially just received a blank fax. We'll come back to this.\n",
        "\n",
        "Let's look at some other tools provided by Google Colab before we get into the Python Language:\n",
        "* Hovering over the bottom of the cell provides options to create a new code cell or a new text/markdown cell\n",
        "* Shift + Enter executes the cell (without having to move your hands to the mouse/touchpad to click run)\n",
        "* If you ever want to Run cells in a certain way, for example all cells without executing them individually, check out the `Runtime` tab.\n",
        "\n",
        "There is also some functionality we won't talk about here, but message us and we'll make a separate session given enough demand. For example:\n",
        "* Mounting Google Drive (allowing you access to your cloud/shared data/documents)\n",
        "* Using scratchpads\n",
        "* Connecting to a local Jupyter runtime (Colab is in the cloud on far away machines; you could also connect it to your lab machine instead!)"
      ],
      "metadata": {
        "id": "qJB6bRxQ8RNX"
      }
    },
    {
      "cell_type": "markdown",
      "source": [
        "# The Python Kernel"
      ],
      "metadata": {
        "id": "wBUzWERaSupd"
      }
    },
    {
      "cell_type": "markdown",
      "source": [
        "\n",
        "##  Things Python Already Knows: Calculator Functionality\n",
        "Let's explore \"providing instructions\" and \"providing information\". As we said, there are things that the interns \"knows of\" and \"knows how to do\" already. Let's look at the most important ones in Python."
      ],
      "metadata": {
        "id": "lOO3dQmj9AN3"
      }
    },
    {
      "cell_type": "markdown",
      "source": [
        "### Data types\n",
        "Python already knows a specific set of basic data types and knows how to interact with them in some somewhat expected ways. Let's check some out."
      ],
      "metadata": {
        "id": "ylQXpnde_Xi4"
      }
    },
    {
      "cell_type": "code",
      "source": [
        "# It gets what numbers are and common things we do with them\n",
        "print(7 + 7)\n",
        "\n",
        "# It can work with text/string data\n",
        "print('The data is ' + 'long')\n",
        "\n",
        "# It can automatically navigate (some) different data types\n",
        "print(2.8 + 9)"
      ],
      "metadata": {
        "id": "MY7g9R-U_gsW"
      },
      "execution_count": null,
      "outputs": []
    },
    {
      "cell_type": "markdown",
      "source": [
        "Using just raw numbers/hard coding is diminishing returns. Programming is built on the back of increasing levels of abstraction. We do this by assigning values to variables."
      ],
      "metadata": {
        "id": "nZKzPF3n_-2I"
      }
    },
    {
      "cell_type": "code",
      "source": [
        "# Numbers\n",
        "var_integer = 7\n",
        "var_float = 0.22\n",
        "\n",
        "# Strings\n",
        "var_string = 'the dog is cute'"
      ],
      "metadata": {
        "id": "SwFgJVeF8Qrs"
      },
      "execution_count": null,
      "outputs": []
    },
    {
      "cell_type": "markdown",
      "source": [
        "It is meaningless for us to just write this code....how does it get executed? If we just write the code and don't execute it, it's like speaking the instructions to the child that isn't even listening. Check this out.\n",
        "\n",
        "Before executing the cells above, execute the following cell:"
      ],
      "metadata": {
        "id": "OpHOO9xNEeQw"
      }
    },
    {
      "cell_type": "code",
      "source": [
        "dir()"
      ],
      "metadata": {
        "id": "jc1t6obO-ywz"
      },
      "execution_count": null,
      "outputs": []
    },
    {
      "cell_type": "markdown",
      "source": [
        "These are some of the variables that are already populated and \"saved\" in the kernel. Let's see what happens when we actually execute the cells.\n",
        "\n",
        "Press the arrow next to the cell which defines some of our different variable types. Then, run the following cell."
      ],
      "metadata": {
        "id": "uPAXWaqovg5a"
      }
    },
    {
      "cell_type": "code",
      "source": [
        "dir()"
      ],
      "metadata": {
        "id": "z3Zv8k8cwGij"
      },
      "execution_count": null,
      "outputs": []
    },
    {
      "cell_type": "markdown",
      "source": [
        "Notice the new information in your kernel! These variables have been \"saved\" into your kernel and are now new pieces of information to be referenced. This is the fundamental operation of the kernel. Keep in mind two things:\n",
        "\n",
        "1. Notice that the execution/output of the first `dir()` code cell did not change. This reflects the outputs and the state of the kernel at the time that you ran the cell.\n",
        "2. Now, we can use these _objects_ that we've saved!\n",
        "\n",
        "One way of \"using\" these objects is just to see their values. Let's check out what this looks like:"
      ],
      "metadata": {
        "id": "Qd8ePLiLwKOp"
      }
    },
    {
      "cell_type": "code",
      "source": [
        "var_float"
      ],
      "metadata": {
        "id": "vy114njmwMFM"
      },
      "execution_count": null,
      "outputs": []
    },
    {
      "cell_type": "markdown",
      "source": [
        "### Basic Math Operations\n",
        "Beyond the datatypes and what they mean, Python already knows several types of math/set operations. Let's check it out. A great reference can be found in the [Python Reference API](https://docs.python.org/3/library/stdtypes.html#numeric-types-int-float-complex)."
      ],
      "metadata": {
        "id": "b09dkmG1xN-Z"
      }
    },
    {
      "cell_type": "code",
      "source": [
        "# Add together our float and our integer value\n",
        "var_float + var_integer"
      ],
      "metadata": {
        "id": "aJ4Z-a_JwuTg"
      },
      "execution_count": null,
      "outputs": []
    },
    {
      "cell_type": "code",
      "source": [
        "# Subtract var_integer from var_float\n",
        "var_float - var_integer\n",
        "\n",
        "# Multiply var_integer with var_float\n",
        "var_float * var_integer\n",
        "\n",
        "# Quotient of var_float divided by var_integer\n",
        "var_float / var_integer"
      ],
      "metadata": {
        "id": "BeyxECJWxb2l"
      },
      "execution_count": null,
      "outputs": []
    },
    {
      "cell_type": "markdown",
      "source": [
        "### Basic Comparisons\n",
        "We can see similar built-in behavior with comparisons. Let's quickly also check those out. We will again use the [Python library reference on Comparisons here.](https://docs.python.org/3/library/stdtypes.html#comparisons)"
      ],
      "metadata": {
        "id": "KZSMwj8c9542"
      }
    },
    {
      "cell_type": "code",
      "source": [
        "#Determine if one value is larger than another\n",
        "var_float > var_integer"
      ],
      "metadata": {
        "id": "ZcA73kxX-diX"
      },
      "execution_count": null,
      "outputs": []
    },
    {
      "cell_type": "code",
      "source": [
        "#Determine whether a numerical object is equal to another\n",
        "print(var_float == var_integer)\n",
        "\n",
        "#Determine inequality\n",
        "var_float != var_integer"
      ],
      "metadata": {
        "id": "FuB75o4y-kmo"
      },
      "execution_count": null,
      "outputs": []
    },
    {
      "cell_type": "markdown",
      "source": [
        "# Breakout Room 2: Identifying foundational elements of Python for our Email Example\n",
        "\n",
        "Assume you have the following code to meet your goals for the preceding example. Using ChatGPT, answer the questions that follow.\n",
        "\n",
        "```\n",
        "def process_document(document_string):\n",
        "    lines = document_string.split('\\n')\n",
        "    \n",
        "    header_dict = {}\n",
        "    email_body = []\n",
        "    \n",
        "    # Flag to know when the header ends and the body starts\n",
        "    body_flag = False\n",
        "    \n",
        "    for line in lines:\n",
        "        if not body_flag:\n",
        "            # Header lines processing\n",
        "            if ':' in line:\n",
        "                key, value = line.split(':', 1)\n",
        "                header_dict[key.strip()] = value.strip()\n",
        "\n",
        "                if 'Lines' in key:\n",
        "                    body_flag = True\n",
        "            else:\n",
        "                # Header lines without ':' are considered part of the last field\n",
        "                header_dict[key] += '\\n' + line.strip()\n",
        "                \n",
        "        else:\n",
        "            # Body lines processing\n",
        "            email_body.append(line)\n",
        "            \n",
        "    return header_dict, email_body\n",
        "\n",
        "# Read in the document\n",
        "with open('document.txt', 'r') as file:\n",
        "    document_string = file.read()\n",
        "\n",
        "header, body = process_document(document_string)\n",
        "\n",
        "print(header)\n",
        "print(body)\n",
        "\n",
        "```\n",
        "\n",
        "**Questions to answer in your breakout rooms using ChatGPT:**\n",
        "1. What are the two major components of this code?\n",
        "2. What are some examples of variables used in the code? What do they represent, and what is their purpose? \n",
        "3. What are the data structures used in this code? What is the purpose of both data structures (generally)?\n",
        "4. What are the conditional execution statements used in this example? What do they do?\n",
        "5. What functions are used in this example?\n",
        "6. (Reach) What does each grouped section of code do?\n",
        "7. (Reach) Can you see any pitfalls in this approach?\n",
        "8. (Reach) What other questions do you have?\n"
      ],
      "metadata": {
        "id": "qmWl9ZvvWcjo"
      }
    },
    {
      "cell_type": "markdown",
      "source": [
        "# A decomposition of code elements\n",
        "Let's decompose this code to execute and explore its elements."
      ],
      "metadata": {
        "id": "M8ZIidYPZw6b"
      }
    },
    {
      "cell_type": "markdown",
      "source": [
        "## Accessing and downloading data\n",
        "\n",
        "There are _many_ ways of reading data into Google Colab. You can access data directly:\n",
        "1. Through data stored on your Google Drive through filepaths\n",
        "2. Through the Google Drive API\n",
        "3. Programmatically if the data is stored on the web\n",
        "\n",
        "We will leverage the last approach here, and use the [20 Newsgroups](http://qwone.com/~jason/20Newsgroups/) dataset. We will use the _command line functionality_ through `curl` to download this data."
      ],
      "metadata": {
        "id": "LNLHz2GgaYrn"
      }
    },
    {
      "cell_type": "code",
      "source": [
        "# download the data using command line tools\n",
        "!curl -O http://qwone.com/~jason/20Newsgroups/20news-19997.tar.gz"
      ],
      "metadata": {
        "colab": {
          "base_uri": "https://localhost:8080/"
        },
        "id": "OrKRpzxTbKfL",
        "outputId": "4a4d9bb5-3012-49a0-9e20-71109178a763"
      },
      "execution_count": null,
      "outputs": [
        {
          "output_type": "stream",
          "name": "stdout",
          "text": [
            "  % Total    % Received % Xferd  Average Speed   Time    Time     Time  Current\n",
            "                                 Dload  Upload   Total   Spent    Left  Speed\n",
            "100 16.5M  100 16.5M    0     0  13.6M      0  0:00:01  0:00:01 --:--:-- 13.6M\n"
          ]
        }
      ]
    },
    {
      "cell_type": "code",
      "source": [
        "# Untar the data to the current directory\n",
        "# note that we can use %%capture if we don't want to see all of the output\n",
        "!tar -zxvf 20news-19997.tar.gz"
      ],
      "metadata": {
        "id": "mHVvFmvBcmKd"
      },
      "execution_count": null,
      "outputs": []
    },
    {
      "cell_type": "markdown",
      "source": [
        "## Reading in the data to the Python kernel"
      ],
      "metadata": {
        "id": "yv6Qhv2idQ61"
      }
    },
    {
      "cell_type": "code",
      "source": [
        "# Identify document\n",
        "\n",
        "\n",
        "# Read in the document\n",
        "\n"
      ],
      "metadata": {
        "id": "pK127FEXdJyj"
      },
      "execution_count": null,
      "outputs": []
    },
    {
      "cell_type": "markdown",
      "source": [
        "## Add the rest of the code"
      ],
      "metadata": {
        "id": "koe7JI5keZuf"
      }
    },
    {
      "cell_type": "code",
      "source": [
        "# The function for processing the document\n",
        "def process_document(document_string):\n",
        "    lines = document_string.split('\\n')\n",
        "    \n",
        "    header_dict = {}\n",
        "    email_body = []\n",
        "    \n",
        "    # Flag to know when the header ends and the body starts\n",
        "    body_flag = False\n",
        "    \n",
        "    for line in lines:\n",
        "        if not body_flag:\n",
        "            # Header lines processing\n",
        "            if ':' in line:\n",
        "                key, value = line.split(':', 1)\n",
        "                header_dict[key.strip()] = value.strip()\n",
        "\n",
        "                if 'Lines' in key:\n",
        "                    body_flag = True\n",
        "            else:\n",
        "                # Header lines without ':' are considered part of the last field\n",
        "                header_dict[key] += '\\n' + line.strip()\n",
        "                \n",
        "        else:\n",
        "            # Body lines processing\n",
        "            email_body.append(line)\n",
        "            \n",
        "    return header_dict, email_body"
      ],
      "metadata": {
        "id": "rmseBhtKeWl-"
      },
      "execution_count": null,
      "outputs": []
    },
    {
      "cell_type": "code",
      "source": [
        "# The actual execution of the processing of the document\n",
        "header, body = process_document(document_string)\n",
        "\n",
        "print(header)\n",
        "print(body)"
      ],
      "metadata": {
        "id": "l_Sao3oPerT1"
      },
      "execution_count": null,
      "outputs": []
    },
    {
      "cell_type": "markdown",
      "source": [
        "# Things Python Already Knows: Aggregated Data Elements (Collections)\n",
        "\n",
        "Beyond single variables, we often want to be able to treat related values as components of a single variable as a _collection_. What the heck does that mean? Let's check out two built-in data structures.\n"
      ],
      "metadata": {
        "id": "wqRWwy7nAF_B"
      }
    },
    {
      "cell_type": "markdown",
      "source": [
        "## Lists\n",
        "Think of the hallway of an office building you're just visiting. I can think of at least 2 ways to name each of the individual offices:\n",
        "\n",
        "1. **Represent each object individually**: We can use what we've already learned and give each office an individual variable name.\n",
        "1. **Represent each object as a part of another object**: We could choose to represent all offices of a floor as a batch (single collection), and reference each object by its position on the floor.\n",
        "\n",
        "Let's compare these approaches:\n",
        "<center>\n",
        "<img src=\"https://github.com/vanderbilt-data-science/p4ai-essentials/blob/main/img/list_type_comparison.png?raw=true\" width=\"800\">\n",
        "</center>\n",
        "\n",
        "How do we do this in code? You'll have to take my word for it to start off with, but Python offers great functionality related to the list data structure as opposed to manipulating single elements. Let's check it out."
      ],
      "metadata": {
        "id": "cc5WpI22Abe7"
      }
    },
    {
      "cell_type": "markdown",
      "source": [
        "### Creating Lists\n",
        "Below, we will learn the _syntax_ and _language_ to speak with Python and it understand its tasks to complete."
      ],
      "metadata": {
        "id": "9oipPsrK31u0"
      }
    },
    {
      "cell_type": "code",
      "source": [
        "# How do we make a list?\n",
        "floor0 = ['judge chambers', 'jury entrance', 'media entrance', 'general entrance', 'gender-neutral restroom']"
      ],
      "metadata": {
        "id": "l70-JbPeI3Dm"
      },
      "execution_count": null,
      "outputs": []
    },
    {
      "cell_type": "markdown",
      "source": [
        "### Retrieving elements of lists\n",
        "Coming back to our example..."
      ],
      "metadata": {
        "id": "D0BNQT4O34up"
      }
    },
    {
      "cell_type": "code",
      "source": [
        "# How do we reference elements in that list?\n"
      ],
      "metadata": {
        "id": "wqeTtQaeKJ33"
      },
      "execution_count": null,
      "outputs": []
    },
    {
      "cell_type": "code",
      "source": [
        "# How can we iterate over all values?\n"
      ],
      "metadata": {
        "id": "sUHxNq2UKbX0"
      },
      "execution_count": null,
      "outputs": []
    },
    {
      "cell_type": "markdown",
      "source": [
        "### Iteration helpers you'll see frequently\n",
        "We'll go over this in more detail in a later class, but the following functions are helpful, particularly in iteration:\n",
        "* `enumerate`: returns both the index (position) in the list and the list value\n",
        "* `len`: returns the length of the list\n",
        "* `range`: returns a sequence of numbers (e.g., 1-4)\n",
        "\n",
        "Make sure to take a look at these in depth tonight for your homework."
      ],
      "metadata": {
        "id": "eXMZeBSi4drM"
      }
    },
    {
      "cell_type": "code",
      "source": [
        "# What else is something nice that we can do with that list data structure?\n",
        "for position, line in enumerate(body):\n",
        "  print(position, line)"
      ],
      "metadata": {
        "id": "LRtyoWf0KiQN"
      },
      "execution_count": null,
      "outputs": []
    },
    {
      "cell_type": "code",
      "source": [
        "# What else can we do with that list data structure?\n",
        "for position in range(len(body)):\n",
        "  print(position, body[position])"
      ],
      "metadata": {
        "id": "FpKukDqlK1ut"
      },
      "execution_count": null,
      "outputs": []
    },
    {
      "cell_type": "markdown",
      "source": [
        "We can also change the definition of an individual element by its index.\n",
        "\n",
        "One thing to remember about lists is that lists are **ordered**, that is, they are in a specific sequence and are ALWAYS in that sequence unless you change it."
      ],
      "metadata": {
        "id": "vohrFh74JeYn"
      }
    },
    {
      "cell_type": "markdown",
      "source": [
        "## Dictionaries\n",
        "Think of dictionaries as exactly what the word implies - a dictionary. How do you use a dictionary?\n",
        "\n",
        "Dictionaries are a set of `keys` (the words) and `values` (the definitions) organized as `key`-`value` pairs. You use a word in a dictionary to look up its value.\n",
        "\n",
        "Let's return to our hallway example.\n",
        "<center>\n",
        "<img src=\"https://github.com/vanderbilt-data-science/p4ai-essentials/blob/main/img/dictionary_elements.png?raw=true\" width=\"800\">\n",
        "</center>\n",
        "\n",
        "We know that although a list structure _can_ represent this data, the ordered list isn't actually the _best_ representation we can get. But intuitively, we think of a _room number_ as defining what is in the room. We can use a dictionary to help us with this. Let's check that out."
      ],
      "metadata": {
        "id": "nhorE6i5Lbe9"
      }
    },
    {
      "cell_type": "markdown",
      "source": [
        "### Creating dictionaries"
      ],
      "metadata": {
        "id": "ZZHiflSx2ZvM"
      }
    },
    {
      "cell_type": "code",
      "source": [
        "# What is the syntax for creating a dictionary?\n",
        "floor0 = {'001':'judge chambers',\n",
        "          '002':'jury entrance',\n",
        "          '003':'janitor closet',\n",
        "          '004':'general entrance',\n",
        "          '005':'gender-neutral restroom'}\n",
        "floor0"
      ],
      "metadata": {
        "colab": {
          "base_uri": "https://localhost:8080/"
        },
        "id": "6Er3i1yWPYZb",
        "outputId": "fcb211e6-3e40-471f-cc5e-653f7f74d64f"
      },
      "execution_count": null,
      "outputs": [
        {
          "output_type": "execute_result",
          "data": {
            "text/plain": [
              "{'001': 'judge chambers',\n",
              " '002': 'jury entrance',\n",
              " '003': 'janitor closet',\n",
              " '004': 'general entrance',\n",
              " '005': 'gender-neutral restroom'}"
            ]
          },
          "metadata": {},
          "execution_count": 50
        }
      ]
    },
    {
      "cell_type": "code",
      "source": [
        "#@markdown We can also use other syntax to make dictionaries\n",
        "\n",
        "# Using dict function\n",
        "floor0 = dict({'001':'judge chambers',\n",
        "              '002':'jury entrance',\n",
        "              '003':'janitor closet',\n",
        "              '004':'general entrance',\n",
        "              '005':'gender-neutral restroom'})\n",
        "\n",
        "#Using a list of tuples, i.e., a list of pairs of elements\n",
        "floor0 = dict([('001', 'judge chambers'),\n",
        "               ('002', 'jury entrance'),\n",
        "               ('003', 'janitor closet'),\n",
        "               ('004', 'general entrance'),\n",
        "               ('005', 'gender-neutral restroom')])\n",
        "\n",
        "floor0"
      ],
      "metadata": {
        "cellView": "form",
        "id": "Aj-HBtIaXDeD",
        "colab": {
          "base_uri": "https://localhost:8080/"
        },
        "outputId": "9b262da5-2d5a-4d5f-e9f2-661126ea3d4a"
      },
      "execution_count": null,
      "outputs": [
        {
          "output_type": "execute_result",
          "data": {
            "text/plain": [
              "{'001': 'judge chambers',\n",
              " '002': 'jury entrance',\n",
              " '003': 'janitor closet',\n",
              " '004': 'general entrance',\n",
              " '005': 'gender-neutral restroom'}"
            ]
          },
          "metadata": {},
          "execution_count": 18
        }
      ]
    },
    {
      "cell_type": "markdown",
      "source": [
        "### Retrieving elements of dictionaries"
      ],
      "metadata": {
        "id": "bQpvID3L2eyj"
      }
    },
    {
      "cell_type": "code",
      "source": [
        "header"
      ],
      "metadata": {
        "id": "q33tz76Vf1iY"
      },
      "execution_count": null,
      "outputs": []
    },
    {
      "cell_type": "code",
      "source": [
        "# How do we use our dictionaries?\n",
        "\n",
        "\n",
        "# What if we want to know what the organization is?\n"
      ],
      "metadata": {
        "id": "U_pzs3KGSG13"
      },
      "execution_count": null,
      "outputs": []
    },
    {
      "cell_type": "markdown",
      "source": [
        "### Built-in Functionality\n",
        "> Iteration, Keys, and Values"
      ],
      "metadata": {
        "id": "gS4FXbUm2l3c"
      }
    },
    {
      "cell_type": "code",
      "source": [
        "# we can use the dictionary for simple iteration over keys\n",
        "\n"
      ],
      "metadata": {
        "id": "Fizs0MycSfFe"
      },
      "execution_count": null,
      "outputs": []
    },
    {
      "cell_type": "code",
      "source": [
        "# We can also iterate over the values by using the built-in values function for dictionaries\n",
        "for heading_value in header.values():\n",
        "  print(heading_value)"
      ],
      "metadata": {
        "colab": {
          "base_uri": "https://localhost:8080/"
        },
        "id": "Q879MjTWStjX",
        "outputId": "dc42b9f9-6be6-4181-f732-d27ace6254a8"
      },
      "execution_count": null,
      "outputs": [
        {
          "output_type": "stream",
          "name": "stdout",
          "text": [
            "sci.med\n",
            "cantaloupe.srv.cs.cmu.edu!crabapple.srv.cs.cmu.edu!fs7.ece.cmu.edu!europa.eng.gtefsd.com!darwin.sura.net!sgiblab!sdd.hp.com!decwrl!decwrl!uunet!utcsri!utnut!utzoo!telly!problem!intacc!bed\n",
            "bed@intacc.uucp (Deb Waddington)\n",
            "INFO NEEDED: Gaucher's Disease\n",
            "<1993Mar18.002149.1111@intacc.uucp>\n",
            "Thu, 18 Mar 1993 00:21:49 GMT\n",
            "Everywhere\n",
            "01 Jun 93\n",
            "bed@intacc.UUCP (Deb Waddington)\n",
            "Matrix Artists' Network\n",
            "33\n"
          ]
        }
      ]
    },
    {
      "cell_type": "code",
      "source": [
        "# We can also use the built in items function to retrieve key, value pairs\n",
        "for heading, heading_value in header.items():\n",
        "  print(heading, heading_value)"
      ],
      "metadata": {
        "colab": {
          "base_uri": "https://localhost:8080/"
        },
        "id": "PqzsrjzpTE9X",
        "outputId": "5ece293c-547f-446e-fee6-e1c3359c5886"
      },
      "execution_count": null,
      "outputs": [
        {
          "output_type": "stream",
          "name": "stdout",
          "text": [
            "Newsgroups sci.med\n",
            "Path cantaloupe.srv.cs.cmu.edu!crabapple.srv.cs.cmu.edu!fs7.ece.cmu.edu!europa.eng.gtefsd.com!darwin.sura.net!sgiblab!sdd.hp.com!decwrl!decwrl!uunet!utcsri!utnut!utzoo!telly!problem!intacc!bed\n",
            "From bed@intacc.uucp (Deb Waddington)\n",
            "Subject INFO NEEDED: Gaucher's Disease\n",
            "Message-ID <1993Mar18.002149.1111@intacc.uucp>\n",
            "Date Thu, 18 Mar 1993 00:21:49 GMT\n",
            "Distribution Everywhere\n",
            "Expires 01 Jun 93\n",
            "Reply-To bed@intacc.UUCP (Deb Waddington)\n",
            "Organization Matrix Artists' Network\n",
            "Lines 33\n"
          ]
        }
      ]
    },
    {
      "cell_type": "markdown",
      "source": [
        "One thing to remember about dictionaries is that dictionaries are **unordered**. The example above shows that the iteration returns the results in the order that we declared them in; but this is not the rule. It just so happens that this occurred, but **order in a dictionary should not be necesssary for code to behave appropriately.** There are different data structures if you need ordered key-value functionality."
      ],
      "metadata": {
        "id": "kxRiCFR1JpYI"
      }
    },
    {
      "cell_type": "markdown",
      "source": [
        "# Breakout Room 3: Interactive Prompt (10 minutes)\n",
        "\n",
        "This is a packed day, so in the case we don't get to it - please do this task for homework.\n",
        "\n",
        "In this breakout room, you'll use an interactive prompt to check your understanding of the code, using ChatGPT as a helper. An interactive prompt means that you'll have ChatGPT to check your answers as you explain the code to it.\n",
        "\n",
        "You can use a prompt similar to the following:\n",
        "\n",
        "_I want to explain the above code to you, and I want you to check to make sure that my answers are correct. If they are wrong, explain to me why they are wrong. Do not give me any hints or more information about any section of the code until I tell you about it. When I say that I'm done explaining, please let me know if there are any important concepts that I have missed while explaining._\n",
        "\n",
        "In your breakout room document:\n",
        "1. Write the inversion prompt that you used\n",
        "2. Write your explanations\n",
        "3. Write anything ChatGPT has replied that you think may be incorrect or misleading.\n",
        "\n"
      ],
      "metadata": {
        "id": "LpE-nDUcgmCO"
      }
    },
    {
      "cell_type": "markdown",
      "source": [
        "# Homework\n",
        "\n",
        "## Exploring Further\n",
        "1. If this isn't making sense to you, try the interactive prompt or a version of the interactive prompt so that ChatGPT can help elucidate any questions that you have on the behavior. If it's still unclear, please bring these questions to class.\n",
        "2. Take a look at some of the linked documents for variables and built-in functions for Python.\n",
        "\n",
        "## Try it Yourself\n",
        "1. Consider a code-based task that you want to execute. Ask ChatGPT to write the code for you.\n",
        "2. Run the code using Google Colab.\n",
        "3. Repeat our Breakout Room 2 exercise, identifying the individual Pythonic elements of the code, its overall functionality, and functionality of smaller code blocks.\n",
        "4. Use the inversion prompt to explain in your own words the code back to ChatGPT.\n",
        "\n",
        "## Preparation for next class\n",
        "1. Today, we didn't cover functions and conditional execution. Use ChatGPT to provide a general explanation of conditional execution for the example code today and how the function works.\n",
        "2. Make sure to bring any bugs in ChatGPT statements to class for discussion."
      ],
      "metadata": {
        "id": "T3w3nH6lkshi"
      }
    }
  ]
}