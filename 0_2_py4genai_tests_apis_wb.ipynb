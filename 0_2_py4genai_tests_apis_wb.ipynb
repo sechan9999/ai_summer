{
  "nbformat": 4,
  "nbformat_minor": 0,
  "metadata": {
    "colab": {
      "provenance": [],
      "toc_visible": true,
      "collapsed_sections": [
        "QPE9ewIFRH_N"
      ],
      "authorship_tag": "ABX9TyP19fl1LprgD5D4KoC7z6Z6",
      "include_colab_link": true
    },
    "kernelspec": {
      "name": "python3",
      "display_name": "Python 3"
    },
    "language_info": {
      "name": "python"
    }
  },
  "cells": [
    {
      "cell_type": "markdown",
      "metadata": {
        "id": "view-in-github",
        "colab_type": "text"
      },
      "source": [
        "<a href=\"https://colab.research.google.com/github/vanderbilt-data-science/ai_summer/blob/main/0_2_py4genai_tests_apis_wb.ipynb\" target=\"_parent\"><img src=\"https://colab.research.google.com/assets/colab-badge.svg\" alt=\"Open In Colab\"/></a>"
      ]
    },
    {
      "cell_type": "markdown",
      "source": [
        "# Tests, Conditional Execution, Iteration, and Practice\n",
        "> Rounding out our Python knowledge for success with langchain\n",
        "\n",
        "Welcome to our last day of our AI-Assisted Programming crash course! In today's lesson, we'll cover conditional execution, iteration, tests, and get some practice with these concepts. We'll continue learning the syntax and grammar of the Python language to effectively communicate our goals to Python.\n",
        "\n",
        "In this lesson, you'll learn:\n",
        "* Communicating conditional execution syntax to Python\n",
        "* Different ways of communicating iteration to Python\n",
        "* Testing - how to make sure your code does what it should do\n",
        "* How to use APIs when genAI fails you!\n",
        "\n",
        "Let's get started!\n"
      ],
      "metadata": {
        "id": "9KxyqOvROcHs"
      }
    },
    {
      "cell_type": "markdown",
      "source": [
        "# Conditional Execution\n",
        "Let's start by revisiting our email example. Recall that our function was:"
      ],
      "metadata": {
        "id": "p284NtdkQ5N6"
      }
    },
    {
      "cell_type": "code",
      "source": [
        "# process document function\n",
        "def process_document(document_string):\n",
        "    lines = document_string.split('\\n')\n",
        "    \n",
        "    header_dict = {}\n",
        "    email_body = []\n",
        "    \n",
        "    # Flag to know when the header ends and the body starts\n",
        "    body_flag = False\n",
        "    \n",
        "    for line in lines:\n",
        "        if not body_flag:\n",
        "            # Header lines processing\n",
        "            if ':' in line:\n",
        "                key, value = line.split(':', 1)\n",
        "                header_dict[key.strip()] = value.strip()\n",
        "\n",
        "                if 'Lines' in key:\n",
        "                    body_flag = True\n",
        "            else:\n",
        "                # Header lines without ':' are considered part of the last field\n",
        "                header_dict[key] += '\\n' + line.strip()\n",
        "                \n",
        "        else:\n",
        "            # Body lines processing\n",
        "            email_body.append(line)\n",
        "            \n",
        "    return header_dict, email_body"
      ],
      "metadata": {
        "id": "FXTAaStoK6cx"
      },
      "execution_count": null,
      "outputs": []
    },
    {
      "cell_type": "markdown",
      "source": [
        "We used this function by executing something similar to:\n",
        "```\n",
        "# Read in the document\n",
        "with open('document.txt', 'r') as file:\n",
        "    document_string = file.read()\n",
        "\n",
        "# Process the document\n",
        "header, body = process_document(document_string)\n",
        "\n",
        "print(header)\n",
        "print(body)\n",
        "```"
      ],
      "metadata": {
        "id": "9WLPKPCTFPMf"
      }
    },
    {
      "cell_type": "markdown",
      "source": [
        "This already has an example of conditional execution, in which a variable is only modified if conditions are met. Let's explore this at greater depth."
      ],
      "metadata": {
        "id": "xoOKX9w9LyIW"
      }
    },
    {
      "cell_type": "markdown",
      "source": [
        "## Writing conditional execution code\n",
        "What we've written above is essentially the form of one or more `if`, `if-else`, `if-elif-else` statements. The syntax for communicating conditional execution looks like so:\n",
        "\n",
        "### `if` statements\n",
        "```\n",
        "if condition:\n",
        "  #code block for if condition true\n",
        "```\n",
        "\n",
        "### `if-else` statements\n",
        "`if-else` statements allow binary, mutually exclusive decisions:\n",
        "\n",
        "```\n",
        "if condition:\n",
        "  #code block for if condition true\n",
        "else:\n",
        "  #code block for if condition false\n",
        "```\n",
        "\n",
        "### `if-elif-else` statements\n",
        "\n",
        "`if-elif-else` statements allow multiple, mutually exclusive decisions:\n",
        "```\n",
        "if condition A:\n",
        "  #code block for if condition A true\n",
        "elif condition B:\n",
        "  #code block for if condition B true\n",
        "elif condition C:\n",
        "  #code block for if condition C true\n",
        "else:\n",
        "  #code block for none of the above conditions are true\n",
        "```\n",
        "\n",
        "Let's see what this looks like for our code."
      ],
      "metadata": {
        "id": "ZDo5L8PrU_0H"
      }
    },
    {
      "cell_type": "markdown",
      "source": [
        "# Tests and Asserts\n",
        "Tests are code that you write to ensure your code is:\n",
        "1. Semantically correct\n",
        "2. Robust to all failure modes (e.g., explore all branches of if statements, etc)\n",
        "\n",
        "This can be conceived of as formulating **test cases.** How can we do this for our `process_documents` function? We can decide on some tests for point (1) by thinking about what we need the code to do."
      ],
      "metadata": {
        "id": "x5TV5C9Yeg-u"
      }
    },
    {
      "cell_type": "markdown",
      "source": [
        "## Example Test 0: Basic Structure\n",
        "> Make sure the inputs and outputs are as expected\n",
        "\n",
        "* Inputs: string\n",
        "* Output: dictionary, string (2)"
      ],
      "metadata": {
        "id": "ZgNK3wKRdT-7"
      }
    },
    {
      "cell_type": "code",
      "source": [
        "# Formulate test case\n",
        "input_email = \"\"\"From: John Doe\n",
        "To: Jane Doe\n",
        "Organizer-Names: Friends and Family\n",
        "Message ID: 253421-2\n",
        "Reply-To: \n",
        "Lines: 3\n",
        "\n",
        "Dear Jane,\n",
        "The cat is out of the bag.\n",
        "John\n",
        "\"\"\"\n",
        "\n",
        "print(input_email)"
      ],
      "metadata": {
        "colab": {
          "base_uri": "https://localhost:8080/"
        },
        "id": "u6im7OseTyMk",
        "outputId": "54bac668-95df-4922-8f6f-b0d17331de67"
      },
      "execution_count": null,
      "outputs": [
        {
          "output_type": "stream",
          "name": "stdout",
          "text": [
            "From: John Doe\n",
            "To: Jane Doe\n",
            "Organizer-Names: Friends and Family\n",
            "Message ID: 253421-2\n",
            "Reply-To: \n",
            "Lines: 3\n",
            "\n",
            "Dear Jane,\n",
            "The cat is out of the bag.\n",
            "John\n",
            "\n"
          ]
        }
      ]
    },
    {
      "cell_type": "code",
      "source": [
        "# Call the function\n",
        "processed_email = process_document(input_email)\n",
        "processed_email"
      ],
      "metadata": {
        "colab": {
          "base_uri": "https://localhost:8080/"
        },
        "id": "MGLRtD-aUyO_",
        "outputId": "083a12f6-7bf0-4060-dc8f-808bc2fcd495"
      },
      "execution_count": null,
      "outputs": [
        {
          "output_type": "execute_result",
          "data": {
            "text/plain": [
              "({'From': 'John Doe',\n",
              "  'To': 'Jane Doe',\n",
              "  'Organizer-Names': 'Friends and Family',\n",
              "  'Message ID': '253421-2',\n",
              "  'Reply-To': '',\n",
              "  'Lines': '3'},\n",
              " ['', 'Dear Jane,', 'The cat is out of the bag.', 'John', ''])"
            ]
          },
          "metadata": {},
          "execution_count": 5
        }
      ]
    },
    {
      "cell_type": "code",
      "source": [
        "# Verify the behavior\n"
      ],
      "metadata": {
        "id": "iuAyofR9VeEA"
      },
      "execution_count": null,
      "outputs": []
    },
    {
      "cell_type": "markdown",
      "source": [
        "## Example Test 1: Semantics\n",
        "> Making sure input and output values are correct\n",
        "\n",
        "* We will use the same `input_email` from before\n",
        "* We will use the same `processed_email` from before\n",
        "\n",
        "Both are repeated here for clarity"
      ],
      "metadata": {
        "id": "C-2bCo_aT-sp"
      }
    },
    {
      "cell_type": "code",
      "source": [
        "# Original email\n",
        "input_email = \"\"\"From: John Doe\n",
        "To: Jane Doe\n",
        "Organizer-Names: Friends and Family\n",
        "Message ID: 253421-2\n",
        "Reply-To: \n",
        "Lines: 3\n",
        "\n",
        "Dear Jane,\n",
        "The cat is out of the bag.\n",
        "John\n",
        "\"\"\"\n",
        "\n",
        "print(input_email)"
      ],
      "metadata": {
        "colab": {
          "base_uri": "https://localhost:8080/"
        },
        "id": "DfZv3wRfaSHA",
        "outputId": "3e15ac4f-a35c-43b1-c75a-e1d151b59c42"
      },
      "execution_count": null,
      "outputs": [
        {
          "output_type": "stream",
          "name": "stdout",
          "text": [
            "From: John Doe\n",
            "To: Jane Doe\n",
            "Organizer-Names: Friends and Family\n",
            "Message ID: 253421-2\n",
            "Reply-To: \n",
            "Lines: 3\n",
            "\n",
            "Dear Jane,\n",
            "The cat is out of the bag.\n",
            "John\n",
            "\n"
          ]
        }
      ]
    },
    {
      "cell_type": "code",
      "source": [
        "# Formulate the expected outputs\n",
        "true_out_header = {'From': 'John Doe',\n",
        "  'To': 'Jane Doe',\n",
        "  'Organizer-Names': 'Friends and Family',\n",
        "  'Message ID': '253421-2',\n",
        "  'Reply-To': '',\n",
        "  'Lines': '3'}\n",
        "\n",
        "true_out_body = \"\"\"\n",
        "Dear Jane,\n",
        "The cat is out of the bag.\n",
        "John\n",
        "\"\"\""
      ],
      "metadata": {
        "id": "SvDKOtp2eFT8"
      },
      "execution_count": null,
      "outputs": []
    },
    {
      "cell_type": "code",
      "source": [
        "# Call the function\n",
        "processed_email = process_document(input_email)\n",
        "processed_email"
      ],
      "metadata": {
        "colab": {
          "base_uri": "https://localhost:8080/"
        },
        "id": "N-LkcrCQeNHT",
        "outputId": "b6bceef8-033a-47d4-abb8-0f45b05d42c9"
      },
      "execution_count": null,
      "outputs": [
        {
          "output_type": "execute_result",
          "data": {
            "text/plain": [
              "({'From': 'John Doe',\n",
              "  'To': 'Jane Doe',\n",
              "  'Organizer-Names': 'Friends and Family',\n",
              "  'Message ID': '253421-2',\n",
              "  'Reply-To': '',\n",
              "  'Lines': '3'},\n",
              " ['', 'Dear Jane,', 'The cat is out of the bag.', 'John', ''])"
            ]
          },
          "metadata": {},
          "execution_count": 9
        }
      ]
    },
    {
      "cell_type": "code",
      "source": [
        "#separate the components of the output tuple\n",
        "proc_out_header, proc_out_body = processed_email\n"
      ],
      "metadata": {
        "id": "UtWLb5Blawvg"
      },
      "execution_count": null,
      "outputs": []
    },
    {
      "cell_type": "markdown",
      "source": [
        "## Example Test 2: Robustness\n",
        "> What if the email has no body and is only a header?\n",
        "\n"
      ],
      "metadata": {
        "id": "3LFO-vocWoHv"
      }
    },
    {
      "cell_type": "code",
      "source": [
        "# Formulate test case\n",
        "input_email = \"\"\"From: John Doe\n",
        "To: Jane Doe\n",
        "Organizer-Names: Friends and Family\n",
        "Message ID: 253421-2\n",
        "Reply-To: \n",
        "Lines: 3\"\"\""
      ],
      "metadata": {
        "id": "joGGC2z2WyZM"
      },
      "execution_count": null,
      "outputs": []
    },
    {
      "cell_type": "code",
      "source": [
        "# Call the function\n",
        "out_header, out_body = process_document(input_email)"
      ],
      "metadata": {
        "id": "6zjQz9keYkfc"
      },
      "execution_count": null,
      "outputs": []
    },
    {
      "cell_type": "code",
      "source": [
        "# What should be true about this, then?\n"
      ],
      "metadata": {
        "id": "hiOcWUB4Y3ID"
      },
      "execution_count": null,
      "outputs": []
    },
    {
      "cell_type": "markdown",
      "source": [
        "## Breakout Session 1 (10 mins)\n",
        "In this breakout session, you will continue the process of generating and writing tests/test cases for the provided code. Your assignments are as follows:\n",
        "\n",
        "1. Write a test that ensures that the code can run on the standard header provided in one of the emails.\n",
        "2. Write a test that ensures that the code can run with no header and only a message body.\n",
        "3. Generate your own test to test the robustness of the function (either you can generate this or experiment by asking your GenAI).\n",
        "4. (If time) Fix the code for where the asserts fail."
      ],
      "metadata": {
        "id": "13cmAYVEZmxz"
      }
    },
    {
      "cell_type": "markdown",
      "source": [
        "### Solutions"
      ],
      "metadata": {
        "id": "QPE9ewIFRH_N"
      }
    },
    {
      "cell_type": "code",
      "source": [
        "# Solution 1\n",
        "standard_header_email = \"\"\"Newsgroups: sci.med\n",
        "Path: cantaloupe.srv.cs.cmu.edu!crabapple.srv.cs.cmu.edu!fs7.ece.cmu.edu!europa.eng.gtefsd.com!darwin.sura.net!sgiblab!sdd.hp.com!decwrl!decwrl!uunet!utcsri!utnut!utzoo!telly!problem!intacc!bed\n",
        "From: bed@intacc.uucp (Deb Waddington)\n",
        "Subject: INFO NEEDED: Gaucher's Disease\n",
        "Message-ID: <1993Mar18.002149.1111@intacc.uucp>\n",
        "Date: Thu, 18 Mar 1993 00:21:49 GMT\n",
        "Distribution: Everywhere\n",
        "Expires: 01 Jun 93\n",
        "Reply-To: bed@intacc.UUCP (Deb Waddington)\n",
        "Organization: Matrix Artists' Network\n",
        "Lines: 33\n",
        "\n",
        "\n",
        "Dear Cat,\n",
        "\n",
        "Please stop eating my food. You have your own. It doesn't matter that I eat yours.\n",
        "\n",
        "Sincerely,\n",
        "\n",
        "Dog\n",
        "\n",
        "\"\"\"\n",
        "\n",
        "true_standard_header = {'Newsgroups': 'sci.med',\n",
        " 'Path': 'cantaloupe.srv.cs.cmu.edu!crabapple.srv.cs.cmu.edu!fs7.ece.cmu.edu!europa.eng.gtefsd.com!darwin.sura.net!sgiblab!sdd.hp.com!decwrl!decwrl!uunet!utcsri!utnut!utzoo!telly!problem!intacc!bed',\n",
        " 'From': 'bed@intacc.uucp (Deb Waddington)',\n",
        " 'Subject': \"INFO NEEDED: Gaucher's Disease\",\n",
        " 'Message-ID': '<1993Mar18.002149.1111@intacc.uucp>',\n",
        " 'Date': 'Thu, 18 Mar 1993 00:21:49 GMT',\n",
        " 'Distribution': 'Everywhere',\n",
        " 'Expires': '01 Jun 93',\n",
        " 'Reply-To': 'bed@intacc.UUCP (Deb Waddington)',\n",
        " 'Organization': \"Matrix Artists' Network\",\n",
        " 'Lines': '33'}\n",
        "\n",
        "true_standard_body = \"\"\"\n",
        "\n",
        "Dear Cat,\n",
        "\n",
        "Please stop eating my food. You have your own. It doesn't matter that I eat yours.\n",
        "\n",
        "Sincerely,\n",
        "\n",
        "Dog\n",
        "\n",
        "\"\"\"\n",
        "\n",
        "# Solution\n"
      ],
      "metadata": {
        "id": "YXTm1iVFfX0V"
      },
      "execution_count": null,
      "outputs": []
    },
    {
      "cell_type": "code",
      "source": [
        "# Solution 2\n",
        "no_header_email = \"\"\"Dear Cat,\n",
        "\n",
        "Please stop eating my food. You have your own. It doesn't matter that I eat yours.\n",
        "\n",
        "Sincerely,\n",
        "\n",
        "Dog\n",
        "\n",
        "\"\"\"\n",
        "\n",
        "# Solution"
      ],
      "metadata": {
        "id": "qkwetyksis62"
      },
      "execution_count": null,
      "outputs": []
    },
    {
      "cell_type": "code",
      "source": [
        "# Possible solution 3 : Check that none of the keys or values of the header have whitespace\n",
        "\n"
      ],
      "metadata": {
        "id": "mClfRUGuj3dv"
      },
      "execution_count": null,
      "outputs": []
    },
    {
      "cell_type": "code",
      "source": [
        "# Possible solution for 4 - Thanks, GPT4!\n",
        "def process_document(document_string):\n",
        "    lines = document_string.splitlines(True)\n",
        "    \n",
        "    header_dict = {}\n",
        "    email_body = []\n",
        "    \n",
        "    # Flag to know when the header ends and the body starts\n",
        "    body_flag = False\n",
        "    \n",
        "    # Keep track of the last header key\n",
        "    last_key = None\n",
        "\n",
        "    for line in lines:\n",
        "        if not body_flag:\n",
        "            if ':' in line:\n",
        "                key, value = line.split(':', 1)\n",
        "                header_dict[key.strip()] = value.strip()\n",
        "                last_key = key.strip()\n",
        "\n",
        "                if 'Lines' in key:\n",
        "                    body_flag = True\n",
        "            else:\n",
        "                # If a header was previously defined, continue appending the content\n",
        "                if last_key:\n",
        "                    header_dict[last_key] += '\\n' + line.strip()\n",
        "                else:\n",
        "                    # If no header was previously defined, it's the start of the body\n",
        "                    body_flag = True\n",
        "                    email_body.append(line)\n",
        "                \n",
        "        else:\n",
        "            # Body lines processing\n",
        "            email_body.append(line)\n",
        "            \n",
        "    return header_dict, ''.join(email_body)\n"
      ],
      "metadata": {
        "id": "WYULBQI5m8gt"
      },
      "execution_count": null,
      "outputs": []
    },
    {
      "cell_type": "markdown",
      "source": [
        "**Run most of the original tests, making sure to run the problematic ones.**"
      ],
      "metadata": {
        "id": "xaQ0FO84tUZ_"
      }
    },
    {
      "cell_type": "code",
      "source": [
        "# Run tests\n",
        "input_email = \"\"\"From: John Doe\n",
        "To: Jane Doe\n",
        "Organizer-Names: Friends and Family\n",
        "Message ID: 253421-2\n",
        "Reply-To: \n",
        "Lines: 3\n",
        "\n",
        "Dear Jane,\n",
        "The cat is out of the bag.\n",
        "John\n",
        "\"\"\"\n",
        "\n",
        "# Formulate the expected outputs\n",
        "true_out_header = {'From': 'John Doe',\n",
        "  'To': 'Jane Doe',\n",
        "  'Organizer-Names': 'Friends and Family',\n",
        "  'Message ID': '253421-2',\n",
        "  'Reply-To': '',\n",
        "  'Lines': '3'}\n",
        "\n",
        "true_out_body = \"\"\"\n",
        "Dear Jane,\n",
        "The cat is out of the bag.\n",
        "John\n",
        "\"\"\"\n",
        "\n",
        "# Call the function\n",
        "processed_email = process_document(input_email)\n",
        "processed_email\n",
        "\n",
        "# Basic struture\n",
        "assert len(processed_email)==2, 'The function did not return the correct number of elements'\n",
        "assert isinstance(processed_email[0], dict), 'The function did not return the first element as a dictionary'\n",
        "assert isinstance(processed_email[1], str), 'The function did not return the second element as a string.'\n",
        "\n",
        "# Semantics 1\n",
        "assert processed_email[0] == true_out_header, 'The header of the function output is incorrect.'\n",
        "assert processed_email[1] == true_out_body, 'The body of the function output is incorrect.'"
      ],
      "metadata": {
        "id": "4SFn_Xqrps3d"
      },
      "execution_count": null,
      "outputs": []
    },
    {
      "cell_type": "markdown",
      "source": [
        "**If important, make sure we don't error out on emails with no header**"
      ],
      "metadata": {
        "id": "-laqIVh8taRu"
      }
    },
    {
      "cell_type": "code",
      "source": [
        "no_header_email = \"\"\"Dear Cat,\n",
        "\n",
        "Please stop eating my food. You have your own. It doesn't matter that I eat yours.\n",
        "\n",
        "Sincerely,\n",
        "\n",
        "Dog\n",
        "\n",
        "\"\"\"\n",
        "\n",
        "no_header_header, no_header_body = process_document(no_header_email)\n",
        "assert not no_header_header, \"The header should be empty since there isn't one\"\n",
        "assert no_header_body, \"The body should exist and not be empty\""
      ],
      "metadata": {
        "id": "tAarRCMjqgKO"
      },
      "execution_count": null,
      "outputs": []
    },
    {
      "cell_type": "markdown",
      "source": [
        "**Yay!**"
      ],
      "metadata": {
        "id": "6ilTq3H0tf3j"
      }
    },
    {
      "cell_type": "markdown",
      "source": [
        "# Iteration\n",
        "We've already seen some examples of iteration, where we need to cycle through a collection data structure to apply statements to one or more of the elements of the collection (e.g. dictionaries, lists).\n",
        "\n",
        "There are 2 primary ways that you see iteration in Python:\n",
        "* `for` loops\n",
        "* `comprehensions` (list, dictionary, generator)\n",
        "\n",
        "A final type that we will see _at length_ with Huggingface is:\n",
        "* `map`\n",
        "\n",
        "Let's explore this."
      ],
      "metadata": {
        "id": "PMNjmo64en1y"
      }
    },
    {
      "cell_type": "markdown",
      "source": [
        "## `for` loops\n",
        "We've already seen some examples of `for` loops when we were learning about lists and dictionaries.\n",
        "\n",
        "We said that our `for` goes through cyclical iterations, updating the index to process each element.\n",
        "\n",
        "Our syntax was as follows:\n",
        "```\n",
        "for dummy_name in collection:\n",
        "  ## indented code block steps to take\n",
        "```\n",
        "\n",
        "Let's explore this."
      ],
      "metadata": {
        "id": "pwJUehyVfhKm"
      }
    },
    {
      "cell_type": "markdown",
      "source": [
        "### Finishing our email processing and exploration\n",
        "Although we've read in one email, recall that we wanted to process all (we'll do a subset here for the sake of time) of the documents in the folder. Let's try this using the syntax that we learned for iteration."
      ],
      "metadata": {
        "id": "YTTY6e-NgIg1"
      }
    },
    {
      "cell_type": "code",
      "source": [
        "import glob"
      ],
      "metadata": {
        "id": "VW-wFsCzvDex"
      },
      "execution_count": null,
      "outputs": []
    },
    {
      "cell_type": "code",
      "source": [
        "# download the data using command line tools\n",
        "!curl -Os http://qwone.com/~jason/20Newsgroups/20news-19997.tar.gz"
      ],
      "metadata": {
        "id": "OrKRpzxTbKfL"
      },
      "execution_count": null,
      "outputs": []
    },
    {
      "cell_type": "code",
      "source": [
        "# Untar the data to the current directory\n",
        "# note that we can use %%capture if we don't want to see all of the output\n",
        "!tar -zxf 20news-19997.tar.gz"
      ],
      "metadata": {
        "id": "mHVvFmvBcmKd"
      },
      "execution_count": null,
      "outputs": []
    },
    {
      "cell_type": "code",
      "source": [
        "#use glob to enumerate files\n",
        "\n",
        "\n",
        "#print length\n",
        "print('Number of emails:', len(email_paths_list))\n",
        "\n",
        "# Print first 10\n",
        "email_paths_list[:10]"
      ],
      "metadata": {
        "id": "diPSVLJsgd6Z"
      },
      "execution_count": null,
      "outputs": []
    },
    {
      "cell_type": "code",
      "source": [
        "#write for loop to iterate through elements and do the task\n"
      ],
      "metadata": {
        "id": "eD63TN8Pgwu4"
      },
      "execution_count": null,
      "outputs": []
    },
    {
      "cell_type": "code",
      "source": [
        "#show email\n",
        "print(all_emails[19])\n",
        "\n",
        "#show header\n",
        "display('\\nPrinting Header......', all_headers[19], '\\n')\n",
        "\n",
        "#show body\n",
        "print('\\nPrinting body.........', all_bodies[19])"
      ],
      "metadata": {
        "id": "pQvkwWccxFSp"
      },
      "execution_count": null,
      "outputs": []
    },
    {
      "cell_type": "markdown",
      "source": [
        "## List Comprehensions\n",
        "Another very compact way to represent for loops is through list comprehensions. They're great if you:\n",
        "* Essentially have one function to apply to a list of elements\n",
        "* Want to do binary conditional execution on elements of a list\n",
        "* Want to perform filtering of elements (reduce the size of the list based on some condition)\n",
        "\n",
        "The difficulty of list and dictionary comprehensions is the syntax because of the concise expression of the for loop. Let's take a look, but it offers wonderful functionality. It streamlines the creation of new lists based on old lists. Let's look at a brief comparison.\n",
        "\n",
        "<center>\n",
        "<img src=\"https://github.com/vanderbilt-data-science/p4ai-essentials/blob/main/img/iteration_comparison.png?raw=true\" width=\"800\">\n",
        "</center>"
      ],
      "metadata": {
        "id": "OTj7A4LZr42U"
      }
    },
    {
      "cell_type": "markdown",
      "source": [
        "### Converting part of our `for loop` to list comprehension\n",
        "Yep, that's right - we're doing the same exact example again, except using list comprehensions. Don't think about the outputs of this too hard, this is more like gaining experience with the syntax of list comprehensions rather than any output functionality.\n",
        "\n",
        "Recall that we had:\n",
        "```\n",
        "#write for loop to iterate through elements and do the task\n",
        "max_emails = 20\n",
        "all_headers = []\n",
        "all_bodies = []\n",
        "all_emails = []\n",
        "\n",
        "for email_path in email_paths_list[:max_emails]:\n",
        "  with open(email_path, 'r') as f:\n",
        "    this_email = f.read()\n",
        "  \n",
        "  #add the email\n",
        "  all_emails.append(this_email)\n",
        "\n",
        "  #process the email\n",
        "  email_header, email_body = process_document(this_email)\n",
        "\n",
        "  #save for later\n",
        "  all_headers.append(email_header)\n",
        "  all_bodies.append(email_body)\n",
        "```\n",
        "We can re-express this as a list comprehension. We will start with a single portion, using the existing `all_emails` list. You'll investigate the use of list comprehensions on other components in a breakout room later.\n",
        "\n"
      ],
      "metadata": {
        "id": "uvKwD2P0uRkY"
      }
    },
    {
      "cell_type": "code",
      "source": [
        "# recall all_emails, where we'll show the first 2\n",
        "all_emails[:2]"
      ],
      "metadata": {
        "id": "WvDeimpqvGqf",
        "colab": {
          "base_uri": "https://localhost:8080/"
        },
        "outputId": "084fc41a-7a78-4d1f-9990-dc518178330b"
      },
      "execution_count": null,
      "outputs": [
        {
          "output_type": "execute_result",
          "data": {
            "text/plain": [
              "['Path: cantaloupe.srv.cs.cmu.edu!crabapple.srv.cs.cmu.edu!fs7.ece.cmu.edu!europa.eng.gtefsd.com!howland.reston.ans.net!noc.near.net!news.hi.com!duca.hi.com!not-for-mail\\nFrom: wright@duca.hi.com (David Wright)\\nNewsgroups: sci.med\\nSubject: Re: Name of MD\\'s eyepiece?\\nDate: 6 Apr 1993 16:31:02 -0000\\nOrganization: Hitachi Computer Products, OSSD division\\nLines: 21\\nMessage-ID: <1pspa6INNfik@duca.hi.com>\\nReferences: <lr3uceINNc0r@news.bbn.com> <C4IHM2.Gs9@watson.ibm.com> <19387@pitt.UUCP>\\nNNTP-Posting-Host: duca.hi.com\\n\\nIn article <19387@pitt.UUCP> geb@cs.pitt.edu (Gordon Banks) writes:\\n>In article <C4IHM2.Gs9@watson.ibm.com> clarke@watson.ibm.com (Ed Clarke) writes:\\n>>|> |It\\'s not an eyepiece.  It is called a head mirror.  All doctors never\\n>>\\n>>A speculum?\\n>\\n>The speculum is the little cone that fits on the end of the otoscope.\\n>There are also vaginal specula that females and gynecologists are\\n>all too familiar with.\\n\\nIn fairness, we should note that if you look up \"speculum\" in the\\ndictionary (which I did when this question first surfaced), the first\\ndefinition is \"a mirror or polished metal plate used as a reflector in\\noptical instruments.\"\\n\\nWhich doesn\\'t mean the name fits in this context, but it\\'s not as far\\noff as you might think.\\n\\n  -- David Wright, Hitachi Computer Products (America), Inc.  Waltham, MA\\n     wright@hicomb.hi.com  ::  These are my opinions, not necessarily \\n     Hitachi\\'s, though they are the opinions of all right-thinking people\\n',\n",
              " \"Xref: cantaloupe.srv.cs.cmu.edu misc.consumers:67737 sci.med:58867 rec.food.cooking:65271 sci.environment:29473\\nPath: cantaloupe.srv.cs.cmu.edu!crabapple.srv.cs.cmu.edu!bb3.andrew.cmu.edu!news.sei.cmu.edu!cis.ohio-state.edu!zaphod.mps.ohio-state.edu!magnus.acs.ohio-state.edu!usenet.ins.cwru.edu!agate!zabriskie.berkeley.edu!spp\\nFrom: spp@zabriskie.berkeley.edu (Steve Pope)\\nNewsgroups: misc.consumers,sci.med,rec.food.cooking,sci.environment\\nSubject: Re: Is MSG sensitivity superstition?\\nDate: 17 Apr 1993 01:52:00 GMT\\nOrganization: U.C. Berkeley -- ERL\\nLines: 13\\nDistribution: world\\nMessage-ID: <1qnns0$4l3@agate.berkeley.edu>\\nReferences: <1993Apr15.190711.22190@walter.bellcore.com> <1qmlgaINNjab@hp-col.col.hp.com> <1qmqpfINNjiq@gap.caltech.edu>\\nNNTP-Posting-Host: zion.berkeley.edu\\n\\nCarl Lydick:\\n\\n> And you're condemning one particular ingredient without any \\n> evidence that that's the ingredient to which you reacted.\\n\\nBelieve what you will.\\n\\nThe mass of anectdotal evidence, combined with the lack of\\na properly constructed scientific experiment disproving\\nthe hypothesis, makes the MSG reaction hypothesis the\\nmost likely explanation for events.\\n\\nSteve\\n\"]"
            ]
          },
          "metadata": {},
          "execution_count": 28
        }
      ]
    },
    {
      "cell_type": "code",
      "source": [
        "# Choose to express as a list comprehension\n"
      ],
      "metadata": {
        "id": "S0sqA6kXuOwe"
      },
      "execution_count": null,
      "outputs": []
    },
    {
      "cell_type": "code",
      "source": [
        "# Get headers and emails separately\n"
      ],
      "metadata": {
        "id": "3UPy2E5GGLhm"
      },
      "execution_count": null,
      "outputs": []
    },
    {
      "cell_type": "code",
      "source": [
        "# Check\n",
        "display(all_headers)\n",
        "print()\n",
        "display(all_bodies)"
      ],
      "metadata": {
        "colab": {
          "base_uri": "https://localhost:8080/",
          "height": 517
        },
        "id": "_Z82kCngGSlv",
        "outputId": "5f90df1d-d985-4cdc-dda9-01676f032595"
      },
      "execution_count": null,
      "outputs": [
        {
          "output_type": "display_data",
          "data": {
            "text/plain": [
              "({'Path': 'cantaloupe.srv.cs.cmu.edu!crabapple.srv.cs.cmu.edu!fs7.ece.cmu.edu!europa.eng.gtefsd.com!howland.reston.ans.net!noc.near.net!news.hi.com!duca.hi.com!not-for-mail',\n",
              "  'From': 'wright@duca.hi.com (David Wright)',\n",
              "  'Newsgroups': 'sci.med',\n",
              "  'Subject': \"Re: Name of MD's eyepiece?\",\n",
              "  'Date': '6 Apr 1993 16:31:02 -0000',\n",
              "  'Organization': 'Hitachi Computer Products, OSSD division',\n",
              "  'Lines': '21'},\n",
              " {'Xref': 'cantaloupe.srv.cs.cmu.edu misc.consumers:67737 sci.med:58867 rec.food.cooking:65271 sci.environment:29473',\n",
              "  'Path': 'cantaloupe.srv.cs.cmu.edu!crabapple.srv.cs.cmu.edu!bb3.andrew.cmu.edu!news.sei.cmu.edu!cis.ohio-state.edu!zaphod.mps.ohio-state.edu!magnus.acs.ohio-state.edu!usenet.ins.cwru.edu!agate!zabriskie.berkeley.edu!spp',\n",
              "  'From': 'spp@zabriskie.berkeley.edu (Steve Pope)',\n",
              "  'Newsgroups': 'misc.consumers,sci.med,rec.food.cooking,sci.environment',\n",
              "  'Subject': 'Re: Is MSG sensitivity superstition?',\n",
              "  'Date': '17 Apr 1993 01:52:00 GMT',\n",
              "  'Organization': 'U.C. Berkeley -- ERL',\n",
              "  'Lines': '13'})"
            ]
          },
          "metadata": {}
        },
        {
          "output_type": "stream",
          "name": "stdout",
          "text": [
            "\n"
          ]
        },
        {
          "output_type": "display_data",
          "data": {
            "text/plain": [
              "('Message-ID: <1pspa6INNfik@duca.hi.com>\\nReferences: <lr3uceINNc0r@news.bbn.com> <C4IHM2.Gs9@watson.ibm.com> <19387@pitt.UUCP>\\nNNTP-Posting-Host: duca.hi.com\\n\\nIn article <19387@pitt.UUCP> geb@cs.pitt.edu (Gordon Banks) writes:\\n>In article <C4IHM2.Gs9@watson.ibm.com> clarke@watson.ibm.com (Ed Clarke) writes:\\n>>|> |It\\'s not an eyepiece.  It is called a head mirror.  All doctors never\\n>>\\n>>A speculum?\\n>\\n>The speculum is the little cone that fits on the end of the otoscope.\\n>There are also vaginal specula that females and gynecologists are\\n>all too familiar with.\\n\\nIn fairness, we should note that if you look up \"speculum\" in the\\ndictionary (which I did when this question first surfaced), the first\\ndefinition is \"a mirror or polished metal plate used as a reflector in\\noptical instruments.\"\\n\\nWhich doesn\\'t mean the name fits in this context, but it\\'s not as far\\noff as you might think.\\n\\n  -- David Wright, Hitachi Computer Products (America), Inc.  Waltham, MA\\n     wright@hicomb.hi.com  ::  These are my opinions, not necessarily \\n     Hitachi\\'s, though they are the opinions of all right-thinking people\\n',\n",
              " \"Distribution: world\\nMessage-ID: <1qnns0$4l3@agate.berkeley.edu>\\nReferences: <1993Apr15.190711.22190@walter.bellcore.com> <1qmlgaINNjab@hp-col.col.hp.com> <1qmqpfINNjiq@gap.caltech.edu>\\nNNTP-Posting-Host: zion.berkeley.edu\\n\\nCarl Lydick:\\n\\n> And you're condemning one particular ingredient without any \\n> evidence that that's the ingredient to which you reacted.\\n\\nBelieve what you will.\\n\\nThe mass of anectdotal evidence, combined with the lack of\\na properly constructed scientific experiment disproving\\nthe hypothesis, makes the MSG reaction hypothesis the\\nmost likely explanation for events.\\n\\nSteve\\n\")"
            ]
          },
          "metadata": {}
        }
      ]
    },
    {
      "cell_type": "markdown",
      "source": [
        "## Breakout Session 2 (10 minutes)\n",
        "\n",
        "In this breakout session, you'll re-express the code we had before as a set of list comprehensions. In this example: try to think through the list comprehension yourself first and write it. If you run into issues, work with GenAI to determine where the error in your logic (or syntax) exists.\n",
        "\n",
        "**In your breakout room:**\n",
        "1. Write a function `read_docs` which will read a single email given a file path. It should return the email.\n",
        "2. Create a list comprehension which reads all (20 for the sake of time) of the emails. Returned should be a list of all the emails (`all_emails`) as above. Recall that we have `email_paths_list`.\n",
        "3. Leverage the list comprehension written above to process all the emails, and separate into `all_headers` and `all_bodies`, and condense 1-3 into a single cell.\n",
        "4. Make sure your code runs, and ensure the output is as you expect.\n",
        "5. Compare and contrast the approaches of the `for` loop and the list comprehension. What are the advantages/disadvantages of both?\n",
        "6. (If time) Create a function which contains all of the functionality described above and the `glob` functionality. Your function should take as input the directory to be read and the number of emails that should be returned."
      ],
      "metadata": {
        "id": "OdUXS6w0wy6i"
      }
    },
    {
      "cell_type": "markdown",
      "source": [
        "## Solutions"
      ],
      "metadata": {
        "id": "pa1FG9MmRXEl"
      }
    },
    {
      "cell_type": "code",
      "source": [
        "# Solution 1\n",
        "def read_doc(filepath):\n",
        "  \n",
        "\n",
        "# Check\n",
        "read_doc(email_paths_list[0])"
      ],
      "metadata": {
        "id": "sD0QCM-xKFZx"
      },
      "execution_count": null,
      "outputs": []
    },
    {
      "cell_type": "code",
      "source": [
        "# Solution 2\n",
        "\n",
        "len(all_emails_bo)\n",
        "print(all_emails_bo[0], '\\n')\n",
        "print(all_emails_bo[19])"
      ],
      "metadata": {
        "id": "xHYAnu7wKcbb"
      },
      "execution_count": null,
      "outputs": []
    },
    {
      "cell_type": "code",
      "source": [
        "# Solution 3-4\n",
        "#read all emails\n",
        "all_emails_bo = [read_doc(fpath) for fpath in email_paths_list[:20]]\n",
        "\n",
        "#process all emails\n",
        "processed_emails_bo = [process_document(email_in) for email_in in all_emails_bo]\n",
        "\n",
        "#separate into component pieces\n",
        "all_headers_bo, all_bodies_bo = zip(*processed_emails_bo)"
      ],
      "metadata": {
        "id": "E_A82vsaLCYL"
      },
      "execution_count": null,
      "outputs": []
    },
    {
      "cell_type": "code",
      "source": [
        "#inspect\n",
        "display(all_headers_bo[-3:-1])\n",
        "print()\n",
        "display(all_bodies_bo[-3:-1])"
      ],
      "metadata": {
        "id": "I4CxvMKXLgRg"
      },
      "execution_count": null,
      "outputs": []
    },
    {
      "cell_type": "markdown",
      "source": [
        "# Guided Exploration of HF API\n",
        "\n",
        "We can see that most of the time, we see code that looks sort of like functions. We see the \"contract\" components of the new functions that are available to us - the function name, the inputs required and available, and the outputs. Let's experiment with one!"
      ],
      "metadata": {
        "id": "JPi719RCZB9h"
      }
    },
    {
      "cell_type": "code",
      "source": [
        "#install packages\n",
        "%%capture\n",
        "!pip install transformers"
      ],
      "metadata": {
        "id": "mWln3rT4Z_RG"
      },
      "execution_count": null,
      "outputs": []
    },
    {
      "cell_type": "code",
      "source": [
        "#make package available to python kernel\n"
      ],
      "metadata": {
        "id": "S_4DXki4Z39b"
      },
      "execution_count": null,
      "outputs": []
    },
    {
      "cell_type": "code",
      "source": [
        "# create a pipeline\n"
      ],
      "metadata": {
        "id": "VEa7dYDrZcN8"
      },
      "execution_count": null,
      "outputs": []
    },
    {
      "cell_type": "code",
      "source": [
        "#when in doubt, check the type\n"
      ],
      "metadata": {
        "id": "mQvkv2RzaTpv"
      },
      "execution_count": null,
      "outputs": []
    },
    {
      "cell_type": "code",
      "source": [
        "#Use the pipeline for inference\n",
        "a_text = 'The dog was walking on a beautiful summer day.'\n"
      ],
      "metadata": {
        "id": "9YNeVlZGaUud"
      },
      "execution_count": null,
      "outputs": []
    },
    {
      "cell_type": "markdown",
      "source": [
        "## Guided Example 1\n",
        "What if we want to return all scores?"
      ],
      "metadata": {
        "id": "pUUBedAidIwO"
      }
    },
    {
      "cell_type": "code",
      "source": [
        "#Return all scores\n"
      ],
      "metadata": {
        "id": "Ok2TGs4ebgSr"
      },
      "execution_count": null,
      "outputs": []
    },
    {
      "cell_type": "markdown",
      "source": [
        "## Guided Example 2\n",
        "What if we had a list of texts, loaded, for example, from file?"
      ],
      "metadata": {
        "id": "4h_4Pr6zdNzI"
      }
    },
    {
      "cell_type": "code",
      "source": [
        "#Using lists\n",
        "texts = ['The dog was happy and ran along playfully.',\n",
        "         'The cat glared at me, judging me from afar.',\n",
        "         'The groundhog peeked its head above the ground.',\n",
        "         'Opposums are criminally underrated.']\n"
      ],
      "metadata": {
        "id": "LaV_9sQ_cC5Q"
      },
      "execution_count": null,
      "outputs": []
    },
    {
      "cell_type": "markdown",
      "source": [
        "## Guided Example 3\n",
        "Maybe we don't like how this model is performing. Can we use a different model? How?\n",
        "\n",
        "Reference: [Huggingface Models](https://huggingface.co/models)"
      ],
      "metadata": {
        "id": "IfXOkWeWdXoV"
      }
    },
    {
      "cell_type": "code",
      "source": [
        "#modify code to use different model\n",
        "cardiff_pipe = pipeline('text-classification')\n",
        "cardiff_scores = cardiff_pipe(texts)"
      ],
      "metadata": {
        "id": "wsRh3FXBchAu"
      },
      "execution_count": null,
      "outputs": []
    },
    {
      "cell_type": "code",
      "source": [
        "#see results\n",
        "cardiff_scores"
      ],
      "metadata": {
        "colab": {
          "base_uri": "https://localhost:8080/"
        },
        "id": "bWIlDJKNeoDP",
        "outputId": "3a7c26fa-f7c1-4d76-e0d0-bcd1d0ae0f08"
      },
      "execution_count": null,
      "outputs": [
        {
          "output_type": "execute_result",
          "data": {
            "text/plain": [
              "[{'label': 'LABEL_2', 'score': 0.9303200840950012},\n",
              " {'label': 'LABEL_0', 'score': 0.5754473805427551},\n",
              " {'label': 'LABEL_1', 'score': 0.8416589498519897},\n",
              " {'label': 'LABEL_0', 'score': 0.900627851486206}]"
            ]
          },
          "metadata": {},
          "execution_count": 101
        }
      ]
    },
    {
      "cell_type": "markdown",
      "source": [
        "# Breakout Session 3 (10 minute): APIs\n",
        "Now, try this on your own using the following APIs:\n",
        "* [Langchain Documentation](https://python.langchain.com/en/latest/index.html)\n",
        "* [HuggingFace Documentation](https://huggingface.co/docs/transformers/index)\n",
        "* [OpenAI Documentation](https://platform.openai.com/docs/api-reference)\n",
        "\n",
        "Using one of the quickstart pages, tutorials, answer the following questions:\n",
        "1. What is the package being used?\n",
        "2. What is being imported? Does it appear to be imported from a module? Which module and how can you tell?\n",
        "3. Try to run the quickstart code to try out the example.\n",
        "4. Summarize what you think the code is doing. Otherwise, use a GenAI to help summarize the behavior.\n",
        "5. Try to implement something of interest, particularly something that has been released relatively recently. For example, try to create a Huggingface Agent using just the quickstart and API. Then, modify this code so that the models aren't downloaded onto your computer but instead, using the Inference API."
      ],
      "metadata": {
        "id": "5SsaRk_Hexv1"
      }
    },
    {
      "cell_type": "markdown",
      "source": [
        "# Congratulations!\n",
        "You made it through the first crash course with Python for using HuggingFace! You now:\n",
        "\n",
        "1. How to use Google Colab\n",
        "2. Have built some intuition around what it is to program and that programming is just another language with syntax, semantics, and grammar\n",
        "3. Know several standard Python data types and how to use them\n",
        "4. Know several standard Python data structures and how to use them\n",
        "5. Have learned how to use functions, what they expect, and what they return\n",
        "6. Know packages, libraries, modules, classes, functions, and methods all relate and how you can leverage this information to help understand APIs\n",
        "7. Understood APIs as contracts about what is expected to be input and what should be returned\n",
        "8. Learned how to communication conditional execution\n",
        "9. Learned about standard types of iteration with Python\n",
        "\n",
        "That is A LOT to cover in 3 days - and I'm proud of you for sticking with it!\n",
        "\n",
        "Next week, we'll delve into LangChain, and we'll use this Python knowledge to help us understand tutorials and grow on our own in looking at the APIs and documentation LangChain, OpenAI, and Huggingface provide."
      ],
      "metadata": {
        "id": "uK_WEaEnCQzE"
      }
    }
  ]
}