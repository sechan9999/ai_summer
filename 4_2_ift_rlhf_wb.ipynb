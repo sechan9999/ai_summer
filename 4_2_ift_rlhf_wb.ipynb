{
  "nbformat": 4,
  "nbformat_minor": 0,
  "metadata": {
    "colab": {
      "provenance": [],
      "toc_visible": true,
      "machine_shape": "hm",
      "gpuType": "A100",
      "authorship_tag": "ABX9TyNP10Gqk/a71aN93y46JthA",
      "include_colab_link": true
    },
    "kernelspec": {
      "name": "python3",
      "display_name": "Python 3"
    },
    "language_info": {
      "name": "python"
    },
    "accelerator": "GPU",
    "widgets": {
      "application/vnd.jupyter.widget-state+json": {
        "04904eee2dde4e798cb3d3d859c9a2e0": {
          "model_module": "@jupyter-widgets/controls",
          "model_name": "HBoxModel",
          "model_module_version": "1.5.0",
          "state": {
            "_dom_classes": [],
            "_model_module": "@jupyter-widgets/controls",
            "_model_module_version": "1.5.0",
            "_model_name": "HBoxModel",
            "_view_count": null,
            "_view_module": "@jupyter-widgets/controls",
            "_view_module_version": "1.5.0",
            "_view_name": "HBoxView",
            "box_style": "",
            "children": [
              "IPY_MODEL_6d116784277b4cee937ff7fcc35ea31e",
              "IPY_MODEL_7f9422698fe94a0eafeb84ef0e28bbe4",
              "IPY_MODEL_2042b362bd1d485fa43e4278bbd8bb60"
            ],
            "layout": "IPY_MODEL_b12e9fa562f246baad6f508c6a3bfdc0"
          }
        },
        "6d116784277b4cee937ff7fcc35ea31e": {
          "model_module": "@jupyter-widgets/controls",
          "model_name": "HTMLModel",
          "model_module_version": "1.5.0",
          "state": {
            "_dom_classes": [],
            "_model_module": "@jupyter-widgets/controls",
            "_model_module_version": "1.5.0",
            "_model_name": "HTMLModel",
            "_view_count": null,
            "_view_module": "@jupyter-widgets/controls",
            "_view_module_version": "1.5.0",
            "_view_name": "HTMLView",
            "description": "",
            "description_tooltip": null,
            "layout": "IPY_MODEL_27cd9685ed1d4d98a85afe6fe90e7c67",
            "placeholder": "​",
            "style": "IPY_MODEL_ec99fd55a4d347c89a2153394de1a04c",
            "value": "Map: 100%"
          }
        },
        "7f9422698fe94a0eafeb84ef0e28bbe4": {
          "model_module": "@jupyter-widgets/controls",
          "model_name": "FloatProgressModel",
          "model_module_version": "1.5.0",
          "state": {
            "_dom_classes": [],
            "_model_module": "@jupyter-widgets/controls",
            "_model_module_version": "1.5.0",
            "_model_name": "FloatProgressModel",
            "_view_count": null,
            "_view_module": "@jupyter-widgets/controls",
            "_view_module_version": "1.5.0",
            "_view_name": "ProgressView",
            "bar_style": "",
            "description": "",
            "description_tooltip": null,
            "layout": "IPY_MODEL_22211ddf38d5414ab63b829cb6abdd49",
            "max": 784,
            "min": 0,
            "orientation": "horizontal",
            "style": "IPY_MODEL_facfe0949ec94b7f9689bd25ff760f7e",
            "value": 784
          }
        },
        "2042b362bd1d485fa43e4278bbd8bb60": {
          "model_module": "@jupyter-widgets/controls",
          "model_name": "HTMLModel",
          "model_module_version": "1.5.0",
          "state": {
            "_dom_classes": [],
            "_model_module": "@jupyter-widgets/controls",
            "_model_module_version": "1.5.0",
            "_model_name": "HTMLModel",
            "_view_count": null,
            "_view_module": "@jupyter-widgets/controls",
            "_view_module_version": "1.5.0",
            "_view_name": "HTMLView",
            "description": "",
            "description_tooltip": null,
            "layout": "IPY_MODEL_1987174b2dbf455dbc17094a045072ae",
            "placeholder": "​",
            "style": "IPY_MODEL_c7c3c5f91d814aec9c9533c00427e46e",
            "value": " 784/784 [00:00&lt;00:00, 2552.69 examples/s]"
          }
        },
        "b12e9fa562f246baad6f508c6a3bfdc0": {
          "model_module": "@jupyter-widgets/base",
          "model_name": "LayoutModel",
          "model_module_version": "1.2.0",
          "state": {
            "_model_module": "@jupyter-widgets/base",
            "_model_module_version": "1.2.0",
            "_model_name": "LayoutModel",
            "_view_count": null,
            "_view_module": "@jupyter-widgets/base",
            "_view_module_version": "1.2.0",
            "_view_name": "LayoutView",
            "align_content": null,
            "align_items": null,
            "align_self": null,
            "border": null,
            "bottom": null,
            "display": null,
            "flex": null,
            "flex_flow": null,
            "grid_area": null,
            "grid_auto_columns": null,
            "grid_auto_flow": null,
            "grid_auto_rows": null,
            "grid_column": null,
            "grid_gap": null,
            "grid_row": null,
            "grid_template_areas": null,
            "grid_template_columns": null,
            "grid_template_rows": null,
            "height": null,
            "justify_content": null,
            "justify_items": null,
            "left": null,
            "margin": null,
            "max_height": null,
            "max_width": null,
            "min_height": null,
            "min_width": null,
            "object_fit": null,
            "object_position": null,
            "order": null,
            "overflow": null,
            "overflow_x": null,
            "overflow_y": null,
            "padding": null,
            "right": null,
            "top": null,
            "visibility": "hidden",
            "width": null
          }
        },
        "27cd9685ed1d4d98a85afe6fe90e7c67": {
          "model_module": "@jupyter-widgets/base",
          "model_name": "LayoutModel",
          "model_module_version": "1.2.0",
          "state": {
            "_model_module": "@jupyter-widgets/base",
            "_model_module_version": "1.2.0",
            "_model_name": "LayoutModel",
            "_view_count": null,
            "_view_module": "@jupyter-widgets/base",
            "_view_module_version": "1.2.0",
            "_view_name": "LayoutView",
            "align_content": null,
            "align_items": null,
            "align_self": null,
            "border": null,
            "bottom": null,
            "display": null,
            "flex": null,
            "flex_flow": null,
            "grid_area": null,
            "grid_auto_columns": null,
            "grid_auto_flow": null,
            "grid_auto_rows": null,
            "grid_column": null,
            "grid_gap": null,
            "grid_row": null,
            "grid_template_areas": null,
            "grid_template_columns": null,
            "grid_template_rows": null,
            "height": null,
            "justify_content": null,
            "justify_items": null,
            "left": null,
            "margin": null,
            "max_height": null,
            "max_width": null,
            "min_height": null,
            "min_width": null,
            "object_fit": null,
            "object_position": null,
            "order": null,
            "overflow": null,
            "overflow_x": null,
            "overflow_y": null,
            "padding": null,
            "right": null,
            "top": null,
            "visibility": null,
            "width": null
          }
        },
        "ec99fd55a4d347c89a2153394de1a04c": {
          "model_module": "@jupyter-widgets/controls",
          "model_name": "DescriptionStyleModel",
          "model_module_version": "1.5.0",
          "state": {
            "_model_module": "@jupyter-widgets/controls",
            "_model_module_version": "1.5.0",
            "_model_name": "DescriptionStyleModel",
            "_view_count": null,
            "_view_module": "@jupyter-widgets/base",
            "_view_module_version": "1.2.0",
            "_view_name": "StyleView",
            "description_width": ""
          }
        },
        "22211ddf38d5414ab63b829cb6abdd49": {
          "model_module": "@jupyter-widgets/base",
          "model_name": "LayoutModel",
          "model_module_version": "1.2.0",
          "state": {
            "_model_module": "@jupyter-widgets/base",
            "_model_module_version": "1.2.0",
            "_model_name": "LayoutModel",
            "_view_count": null,
            "_view_module": "@jupyter-widgets/base",
            "_view_module_version": "1.2.0",
            "_view_name": "LayoutView",
            "align_content": null,
            "align_items": null,
            "align_self": null,
            "border": null,
            "bottom": null,
            "display": null,
            "flex": null,
            "flex_flow": null,
            "grid_area": null,
            "grid_auto_columns": null,
            "grid_auto_flow": null,
            "grid_auto_rows": null,
            "grid_column": null,
            "grid_gap": null,
            "grid_row": null,
            "grid_template_areas": null,
            "grid_template_columns": null,
            "grid_template_rows": null,
            "height": null,
            "justify_content": null,
            "justify_items": null,
            "left": null,
            "margin": null,
            "max_height": null,
            "max_width": null,
            "min_height": null,
            "min_width": null,
            "object_fit": null,
            "object_position": null,
            "order": null,
            "overflow": null,
            "overflow_x": null,
            "overflow_y": null,
            "padding": null,
            "right": null,
            "top": null,
            "visibility": null,
            "width": null
          }
        },
        "facfe0949ec94b7f9689bd25ff760f7e": {
          "model_module": "@jupyter-widgets/controls",
          "model_name": "ProgressStyleModel",
          "model_module_version": "1.5.0",
          "state": {
            "_model_module": "@jupyter-widgets/controls",
            "_model_module_version": "1.5.0",
            "_model_name": "ProgressStyleModel",
            "_view_count": null,
            "_view_module": "@jupyter-widgets/base",
            "_view_module_version": "1.2.0",
            "_view_name": "StyleView",
            "bar_color": null,
            "description_width": ""
          }
        },
        "1987174b2dbf455dbc17094a045072ae": {
          "model_module": "@jupyter-widgets/base",
          "model_name": "LayoutModel",
          "model_module_version": "1.2.0",
          "state": {
            "_model_module": "@jupyter-widgets/base",
            "_model_module_version": "1.2.0",
            "_model_name": "LayoutModel",
            "_view_count": null,
            "_view_module": "@jupyter-widgets/base",
            "_view_module_version": "1.2.0",
            "_view_name": "LayoutView",
            "align_content": null,
            "align_items": null,
            "align_self": null,
            "border": null,
            "bottom": null,
            "display": null,
            "flex": null,
            "flex_flow": null,
            "grid_area": null,
            "grid_auto_columns": null,
            "grid_auto_flow": null,
            "grid_auto_rows": null,
            "grid_column": null,
            "grid_gap": null,
            "grid_row": null,
            "grid_template_areas": null,
            "grid_template_columns": null,
            "grid_template_rows": null,
            "height": null,
            "justify_content": null,
            "justify_items": null,
            "left": null,
            "margin": null,
            "max_height": null,
            "max_width": null,
            "min_height": null,
            "min_width": null,
            "object_fit": null,
            "object_position": null,
            "order": null,
            "overflow": null,
            "overflow_x": null,
            "overflow_y": null,
            "padding": null,
            "right": null,
            "top": null,
            "visibility": null,
            "width": null
          }
        },
        "c7c3c5f91d814aec9c9533c00427e46e": {
          "model_module": "@jupyter-widgets/controls",
          "model_name": "DescriptionStyleModel",
          "model_module_version": "1.5.0",
          "state": {
            "_model_module": "@jupyter-widgets/controls",
            "_model_module_version": "1.5.0",
            "_model_name": "DescriptionStyleModel",
            "_view_count": null,
            "_view_module": "@jupyter-widgets/base",
            "_view_module_version": "1.2.0",
            "_view_name": "StyleView",
            "description_width": ""
          }
        },
        "350e9d64c56143cf9d5a43b6a714602d": {
          "model_module": "@jupyter-widgets/controls",
          "model_name": "HBoxModel",
          "model_module_version": "1.5.0",
          "state": {
            "_dom_classes": [],
            "_model_module": "@jupyter-widgets/controls",
            "_model_module_version": "1.5.0",
            "_model_name": "HBoxModel",
            "_view_count": null,
            "_view_module": "@jupyter-widgets/controls",
            "_view_module_version": "1.5.0",
            "_view_name": "HBoxView",
            "box_style": "",
            "children": [
              "IPY_MODEL_d37e73a4ddfb4316ba6bd01c53da9b1f",
              "IPY_MODEL_76d0597319834571871e6b38265c12be",
              "IPY_MODEL_9589e699babb411895ad2cc08b2e38a9"
            ],
            "layout": "IPY_MODEL_a95651ca3b3e401aa8373676ba9e598c"
          }
        },
        "d37e73a4ddfb4316ba6bd01c53da9b1f": {
          "model_module": "@jupyter-widgets/controls",
          "model_name": "HTMLModel",
          "model_module_version": "1.5.0",
          "state": {
            "_dom_classes": [],
            "_model_module": "@jupyter-widgets/controls",
            "_model_module_version": "1.5.0",
            "_model_name": "HTMLModel",
            "_view_count": null,
            "_view_module": "@jupyter-widgets/controls",
            "_view_module_version": "1.5.0",
            "_view_name": "HTMLView",
            "description": "",
            "description_tooltip": null,
            "layout": "IPY_MODEL_f65ae236647c4ff3afa83cfe47fcd959",
            "placeholder": "​",
            "style": "IPY_MODEL_242f70f24b4f4414a5baa7093f658f63",
            "value": "Map:   0%"
          }
        },
        "76d0597319834571871e6b38265c12be": {
          "model_module": "@jupyter-widgets/controls",
          "model_name": "FloatProgressModel",
          "model_module_version": "1.5.0",
          "state": {
            "_dom_classes": [],
            "_model_module": "@jupyter-widgets/controls",
            "_model_module_version": "1.5.0",
            "_model_name": "FloatProgressModel",
            "_view_count": null,
            "_view_module": "@jupyter-widgets/controls",
            "_view_module_version": "1.5.0",
            "_view_name": "ProgressView",
            "bar_style": "",
            "description": "",
            "description_tooltip": null,
            "layout": "IPY_MODEL_5d83449fe94e4bfb8e063acffb43093f",
            "max": 197,
            "min": 0,
            "orientation": "horizontal",
            "style": "IPY_MODEL_cb8051cc789343a18a85c04047855009",
            "value": 197
          }
        },
        "9589e699babb411895ad2cc08b2e38a9": {
          "model_module": "@jupyter-widgets/controls",
          "model_name": "HTMLModel",
          "model_module_version": "1.5.0",
          "state": {
            "_dom_classes": [],
            "_model_module": "@jupyter-widgets/controls",
            "_model_module_version": "1.5.0",
            "_model_name": "HTMLModel",
            "_view_count": null,
            "_view_module": "@jupyter-widgets/controls",
            "_view_module_version": "1.5.0",
            "_view_name": "HTMLView",
            "description": "",
            "description_tooltip": null,
            "layout": "IPY_MODEL_9e71d1a73f804508b79b9a7bf9d79486",
            "placeholder": "​",
            "style": "IPY_MODEL_76067b612f914c5daa46ac87746131e2",
            "value": " 0/197 [00:00&lt;?, ? examples/s]"
          }
        },
        "a95651ca3b3e401aa8373676ba9e598c": {
          "model_module": "@jupyter-widgets/base",
          "model_name": "LayoutModel",
          "model_module_version": "1.2.0",
          "state": {
            "_model_module": "@jupyter-widgets/base",
            "_model_module_version": "1.2.0",
            "_model_name": "LayoutModel",
            "_view_count": null,
            "_view_module": "@jupyter-widgets/base",
            "_view_module_version": "1.2.0",
            "_view_name": "LayoutView",
            "align_content": null,
            "align_items": null,
            "align_self": null,
            "border": null,
            "bottom": null,
            "display": null,
            "flex": null,
            "flex_flow": null,
            "grid_area": null,
            "grid_auto_columns": null,
            "grid_auto_flow": null,
            "grid_auto_rows": null,
            "grid_column": null,
            "grid_gap": null,
            "grid_row": null,
            "grid_template_areas": null,
            "grid_template_columns": null,
            "grid_template_rows": null,
            "height": null,
            "justify_content": null,
            "justify_items": null,
            "left": null,
            "margin": null,
            "max_height": null,
            "max_width": null,
            "min_height": null,
            "min_width": null,
            "object_fit": null,
            "object_position": null,
            "order": null,
            "overflow": null,
            "overflow_x": null,
            "overflow_y": null,
            "padding": null,
            "right": null,
            "top": null,
            "visibility": "hidden",
            "width": null
          }
        },
        "f65ae236647c4ff3afa83cfe47fcd959": {
          "model_module": "@jupyter-widgets/base",
          "model_name": "LayoutModel",
          "model_module_version": "1.2.0",
          "state": {
            "_model_module": "@jupyter-widgets/base",
            "_model_module_version": "1.2.0",
            "_model_name": "LayoutModel",
            "_view_count": null,
            "_view_module": "@jupyter-widgets/base",
            "_view_module_version": "1.2.0",
            "_view_name": "LayoutView",
            "align_content": null,
            "align_items": null,
            "align_self": null,
            "border": null,
            "bottom": null,
            "display": null,
            "flex": null,
            "flex_flow": null,
            "grid_area": null,
            "grid_auto_columns": null,
            "grid_auto_flow": null,
            "grid_auto_rows": null,
            "grid_column": null,
            "grid_gap": null,
            "grid_row": null,
            "grid_template_areas": null,
            "grid_template_columns": null,
            "grid_template_rows": null,
            "height": null,
            "justify_content": null,
            "justify_items": null,
            "left": null,
            "margin": null,
            "max_height": null,
            "max_width": null,
            "min_height": null,
            "min_width": null,
            "object_fit": null,
            "object_position": null,
            "order": null,
            "overflow": null,
            "overflow_x": null,
            "overflow_y": null,
            "padding": null,
            "right": null,
            "top": null,
            "visibility": null,
            "width": null
          }
        },
        "242f70f24b4f4414a5baa7093f658f63": {
          "model_module": "@jupyter-widgets/controls",
          "model_name": "DescriptionStyleModel",
          "model_module_version": "1.5.0",
          "state": {
            "_model_module": "@jupyter-widgets/controls",
            "_model_module_version": "1.5.0",
            "_model_name": "DescriptionStyleModel",
            "_view_count": null,
            "_view_module": "@jupyter-widgets/base",
            "_view_module_version": "1.2.0",
            "_view_name": "StyleView",
            "description_width": ""
          }
        },
        "5d83449fe94e4bfb8e063acffb43093f": {
          "model_module": "@jupyter-widgets/base",
          "model_name": "LayoutModel",
          "model_module_version": "1.2.0",
          "state": {
            "_model_module": "@jupyter-widgets/base",
            "_model_module_version": "1.2.0",
            "_model_name": "LayoutModel",
            "_view_count": null,
            "_view_module": "@jupyter-widgets/base",
            "_view_module_version": "1.2.0",
            "_view_name": "LayoutView",
            "align_content": null,
            "align_items": null,
            "align_self": null,
            "border": null,
            "bottom": null,
            "display": null,
            "flex": null,
            "flex_flow": null,
            "grid_area": null,
            "grid_auto_columns": null,
            "grid_auto_flow": null,
            "grid_auto_rows": null,
            "grid_column": null,
            "grid_gap": null,
            "grid_row": null,
            "grid_template_areas": null,
            "grid_template_columns": null,
            "grid_template_rows": null,
            "height": null,
            "justify_content": null,
            "justify_items": null,
            "left": null,
            "margin": null,
            "max_height": null,
            "max_width": null,
            "min_height": null,
            "min_width": null,
            "object_fit": null,
            "object_position": null,
            "order": null,
            "overflow": null,
            "overflow_x": null,
            "overflow_y": null,
            "padding": null,
            "right": null,
            "top": null,
            "visibility": null,
            "width": null
          }
        },
        "cb8051cc789343a18a85c04047855009": {
          "model_module": "@jupyter-widgets/controls",
          "model_name": "ProgressStyleModel",
          "model_module_version": "1.5.0",
          "state": {
            "_model_module": "@jupyter-widgets/controls",
            "_model_module_version": "1.5.0",
            "_model_name": "ProgressStyleModel",
            "_view_count": null,
            "_view_module": "@jupyter-widgets/base",
            "_view_module_version": "1.2.0",
            "_view_name": "StyleView",
            "bar_color": null,
            "description_width": ""
          }
        },
        "9e71d1a73f804508b79b9a7bf9d79486": {
          "model_module": "@jupyter-widgets/base",
          "model_name": "LayoutModel",
          "model_module_version": "1.2.0",
          "state": {
            "_model_module": "@jupyter-widgets/base",
            "_model_module_version": "1.2.0",
            "_model_name": "LayoutModel",
            "_view_count": null,
            "_view_module": "@jupyter-widgets/base",
            "_view_module_version": "1.2.0",
            "_view_name": "LayoutView",
            "align_content": null,
            "align_items": null,
            "align_self": null,
            "border": null,
            "bottom": null,
            "display": null,
            "flex": null,
            "flex_flow": null,
            "grid_area": null,
            "grid_auto_columns": null,
            "grid_auto_flow": null,
            "grid_auto_rows": null,
            "grid_column": null,
            "grid_gap": null,
            "grid_row": null,
            "grid_template_areas": null,
            "grid_template_columns": null,
            "grid_template_rows": null,
            "height": null,
            "justify_content": null,
            "justify_items": null,
            "left": null,
            "margin": null,
            "max_height": null,
            "max_width": null,
            "min_height": null,
            "min_width": null,
            "object_fit": null,
            "object_position": null,
            "order": null,
            "overflow": null,
            "overflow_x": null,
            "overflow_y": null,
            "padding": null,
            "right": null,
            "top": null,
            "visibility": null,
            "width": null
          }
        },
        "76067b612f914c5daa46ac87746131e2": {
          "model_module": "@jupyter-widgets/controls",
          "model_name": "DescriptionStyleModel",
          "model_module_version": "1.5.0",
          "state": {
            "_model_module": "@jupyter-widgets/controls",
            "_model_module_version": "1.5.0",
            "_model_name": "DescriptionStyleModel",
            "_view_count": null,
            "_view_module": "@jupyter-widgets/base",
            "_view_module_version": "1.2.0",
            "_view_name": "StyleView",
            "description_width": ""
          }
        }
      }
    }
  },
  "cells": [
    {
      "cell_type": "markdown",
      "metadata": {
        "id": "view-in-github",
        "colab_type": "text"
      },
      "source": [
        "<a href=\"https://colab.research.google.com/github/vanderbilt-data-science/ai_summer/blob/main/4_2_ift_rlhf_wb.ipynb\" target=\"_parent\"><img src=\"https://colab.research.google.com/assets/colab-badge.svg\" alt=\"Open In Colab\"/></a>"
      ]
    },
    {
      "cell_type": "markdown",
      "source": [
        "# Supervised Fine-Tuning (SFT) and Reinforcement Learning from Human Feedback (RLHF)\n",
        "> What happens after pre-training?\n",
        "\n",
        "**Lesson objectives:** In this lesson, you will:\n",
        "* Gain a high-level understanding of the total (known) steps of training large language models (LLMs) such as GPT3, Bard, etc.\n",
        "* Gain conceptual understanding of SFT, Instruction Fine-Tuning (IFT), and RLHF\n",
        "* Understand the requirements of SFT, IFT, and RLHF, including:\n",
        "  * Data\n",
        "  * Human effort\n",
        "  * Code\n",
        "  * Compute\n",
        "* Implement components of SFT, IFT, and RLHF using open-source models on HF\n",
        "* Gain a high-level view of optimizations that can help with training LLMs\n",
        "\n",
        "Please feel free to contact me (Charreau Bell) or any VU DSI Team members for questions or updates/changes to the notebook!\n",
        "\n"
      ],
      "metadata": {
        "id": "O8OyDx6oEOuz"
      }
    },
    {
      "cell_type": "code",
      "source": [
        "! pip install -q transformers datasets trl xformers"
      ],
      "metadata": {
        "id": "WN2sRuYSMzPp"
      },
      "execution_count": null,
      "outputs": []
    },
    {
      "cell_type": "markdown",
      "source": [
        "# Training of LLMs: Conceptual"
      ],
      "metadata": {
        "id": "opAXwgAXkkpc"
      }
    },
    {
      "cell_type": "markdown",
      "source": [
        "## Recalling past conversations\n",
        "[What makes a dialog agent useful?](https://huggingface.co/blog/dialog-agents)\n",
        "\n",
        "Well, what does it take to make a dialog agent useful?\n",
        "* \n",
        "*  \n",
        "*  \n",
        "*  "
      ],
      "metadata": {
        "id": "tN3w_W9GkLti"
      }
    },
    {
      "cell_type": "markdown",
      "source": [
        "## Steps of LLM Training\n",
        "\n",
        "0. Pre-training\n",
        "1. Supervised Fine-Tuning (SFT)  \n",
        "  a) Instruction Fine-Tuning (IFT)  \n",
        "  b) Supervised Fine-Tuning (Safety)  \n",
        "2. Training Reward/Preference Model\n",
        "3. Reinforcement Learning from Human Feedback (RLHF)\n",
        "\n",
        "<center>\n",
        "<img src=\"https://huggingface.co/datasets/trl-internal-testing/example-images/resolve/main/blog/133_trl_peft/openai-diagram.png\" alt=\"Girl in a jacket\" width=\"800\">\n",
        "</center>\n",
        "\n",
        "<a href=\"https://arxiv.org/pdf/2203.02155.pdf\">Source: Training language models to follow instructions with human feedback, OpenAI</a>\n"
      ],
      "metadata": {
        "id": "Yfr79o8OJbNM"
      }
    },
    {
      "cell_type": "markdown",
      "source": [
        "### Pre-training\n",
        "<center>\n",
        "<img src=\"https://huggingface.co/datasets/huggingface-course/documentation-images/resolve/main/en/chapter2/transformer_and_head.svg\" alt=\"Pre-training\" width=\"800\">\n",
        "</center>\n",
        "\n",
        "<p>Source: <a href=\"https://huggingface.co/learn/nlp-course/chapter2/2?fw=pt#model-heads-making-sense-out-of-numbers\">Huggingface NLP Course, Chapter 2.2: Behind the Pipeline</a></p>\n",
        "\n",
        "Also see: [Improving Language Understanding\n",
        "by Generative Pre-Training, OpenAI](https://s3-us-west-2.amazonaws.com/openai-assets/research-covers/language-unsupervised/language_understanding_paper.pdf)\n",
        "\n",
        "***\n"
      ],
      "metadata": {
        "id": "VQUaJ7XYEQ9b"
      }
    },
    {
      "cell_type": "markdown",
      "source": [
        "### Supervised and Instruction Fine-Tuning\n",
        "* [Self-instruct (Alpaca)](https://arxiv.org/abs/2212.10560)  \n",
        "* [Unnatural Instructions](https://huggingface.co/datasets/mrm8488/unnatural-instructions)\n",
        "\n",
        "***\n"
      ],
      "metadata": {
        "id": "bOAgA8sxdMMf"
      }
    },
    {
      "cell_type": "markdown",
      "source": [
        "### RLHF\n",
        "<center>\n",
        "<img src=\"https://huggingface.co/datasets/huggingface/documentation-images/resolve/main/blog/rlhf/rlhf.png\" alt=\"RLHF\" width=\"600\">\n",
        "</center>\n",
        "\n",
        "* [Huggingface: Illustrated RLHF](https://huggingface.co/blog/rlhf)\n",
        "\n",
        "***\n"
      ],
      "metadata": {
        "id": "hBK6-IGak6KW"
      }
    },
    {
      "cell_type": "markdown",
      "source": [
        "## Putting it all together: StackLlama\n",
        "[A demo from Huggingface](https://huggingface.co/blog/stackllama)\n",
        "***\n"
      ],
      "metadata": {
        "id": "FqheGPJILvIF"
      }
    },
    {
      "cell_type": "markdown",
      "source": [
        "# Training of LLMs: Code"
      ],
      "metadata": {
        "id": "ugwpJDEelOPG"
      }
    },
    {
      "cell_type": "markdown",
      "source": [
        "## Pre-training\n",
        "We can use an existing pre-trained model (off-the-shelf) to start with, or pretrain our model some more.\n",
        "\n",
        "**Data**:\n",
        "* Your own\n",
        "* Huggingface Datasets\n",
        "* [RedPajama, open source LLama dataset](https://huggingface.co/datasets/togethercomputer/RedPajama-Data-1T)\n",
        "\n",
        "**Model**:\n",
        "* Your own or some custom model architecture (may not be friendly with HF API)\n",
        "* Huggingface Models\n",
        "\n",
        "**Tooling**:\n",
        "* Framework (Huggingface, PyTorch, TF)"
      ],
      "metadata": {
        "id": "pzbESVAtlcH-"
      }
    },
    {
      "cell_type": "code",
      "source": [
        "#imports for loading data\n",
        "from datasets import Dataset, load_dataset\n",
        "import os\n",
        "\n",
        "#imports for training\n",
        "from transformers import AutoModelForCausalLM, AutoTokenizer, DataCollatorForLanguageModeling, TrainingArguments, Trainer\n",
        "\n",
        "#imports for evaluation(ish)\n",
        "from transformers import pipeline"
      ],
      "metadata": {
        "id": "yHHlxRIEPdoi"
      },
      "execution_count": null,
      "outputs": []
    },
    {
      "cell_type": "code",
      "source": [
        "#create/download pre-trained models\n",
        "gpt2_tokenizer = AutoTokenizer.from_pretrained('gpt2')\n",
        "gpt2 = AutoModelForCausalLM.from_pretrained('gpt2')\n",
        "\n",
        "#avoid annoying errors\n",
        "gpt2_tokenizer.pad_token = gpt2_tokenizer.eos_token\n",
        "gpt2.config.pad_token_id = gpt2.config.eos_token_id"
      ],
      "metadata": {
        "id": "NrrUuj0UUc-U"
      },
      "execution_count": null,
      "outputs": []
    },
    {
      "cell_type": "markdown",
      "source": [
        "### Load custom data"
      ],
      "metadata": {
        "id": "Qiz7HyRiTmgd"
      }
    },
    {
      "cell_type": "code",
      "source": [
        "# download the data using command line tools\n",
        "!curl -Os http://qwone.com/~jason/20Newsgroups/20news-18828.tar.gz\n",
        "!tar -zxf 20news-18828.tar.gz"
      ],
      "metadata": {
        "id": "Gt4iM2eUOFrH"
      },
      "execution_count": null,
      "outputs": []
    },
    {
      "cell_type": "code",
      "source": [
        "# make dataset of interest\n",
        "base_path = '20news-18828/sci.electronics/'\n",
        "data_files = os.listdir(base_path)\n",
        "text = []\n",
        "\n",
        "# read all texts\n",
        "for textfile in data_files:\n",
        "  with open(''.join([base_path, textfile]), 'r', encoding='cp1252') as f: \n",
        "    text.append(f.read())\n",
        "\n",
        "# make dataset\n",
        "\n",
        "\n",
        "# split data\n"
      ],
      "metadata": {
        "id": "Qs1uTCC-JOTe"
      },
      "execution_count": null,
      "outputs": []
    },
    {
      "cell_type": "code",
      "source": [
        "# check\n"
      ],
      "metadata": {
        "id": "DNRJGmXxTKkV"
      },
      "execution_count": null,
      "outputs": []
    },
    {
      "cell_type": "markdown",
      "source": [
        "### Prepare for training"
      ],
      "metadata": {
        "id": "RZlIvJYtTqij"
      }
    },
    {
      "cell_type": "code",
      "source": [
        "# tokenize\n",
        "def prepare_inputs(example):\n",
        "  return gpt2_tokenizer(example[\"text\"], truncation=True)\n",
        "\n",
        "token_ds = hf_ds.map(prepare_inputs, batched=True, remove_columns='files')"
      ],
      "metadata": {
        "colab": {
          "base_uri": "https://localhost:8080/",
          "height": 17,
          "referenced_widgets": [
            "04904eee2dde4e798cb3d3d859c9a2e0",
            "6d116784277b4cee937ff7fcc35ea31e",
            "7f9422698fe94a0eafeb84ef0e28bbe4",
            "2042b362bd1d485fa43e4278bbd8bb60",
            "b12e9fa562f246baad6f508c6a3bfdc0",
            "27cd9685ed1d4d98a85afe6fe90e7c67",
            "ec99fd55a4d347c89a2153394de1a04c",
            "22211ddf38d5414ab63b829cb6abdd49",
            "facfe0949ec94b7f9689bd25ff760f7e",
            "1987174b2dbf455dbc17094a045072ae",
            "c7c3c5f91d814aec9c9533c00427e46e",
            "350e9d64c56143cf9d5a43b6a714602d",
            "d37e73a4ddfb4316ba6bd01c53da9b1f",
            "76d0597319834571871e6b38265c12be",
            "9589e699babb411895ad2cc08b2e38a9",
            "a95651ca3b3e401aa8373676ba9e598c",
            "f65ae236647c4ff3afa83cfe47fcd959",
            "242f70f24b4f4414a5baa7093f658f63",
            "5d83449fe94e4bfb8e063acffb43093f",
            "cb8051cc789343a18a85c04047855009",
            "9e71d1a73f804508b79b9a7bf9d79486",
            "76067b612f914c5daa46ac87746131e2"
          ]
        },
        "id": "ZPLoTWA5Twz5",
        "outputId": "cb1601c8-99fb-4cb0-80b9-f1e6234a63cc"
      },
      "execution_count": null,
      "outputs": [
        {
          "output_type": "display_data",
          "data": {
            "text/plain": [
              "Map:   0%|          | 0/784 [00:00<?, ? examples/s]"
            ],
            "application/vnd.jupyter.widget-view+json": {
              "version_major": 2,
              "version_minor": 0,
              "model_id": "04904eee2dde4e798cb3d3d859c9a2e0"
            }
          },
          "metadata": {}
        },
        {
          "output_type": "display_data",
          "data": {
            "text/plain": [
              "Map:   0%|          | 0/197 [00:00<?, ? examples/s]"
            ],
            "application/vnd.jupyter.widget-view+json": {
              "version_major": 2,
              "version_minor": 0,
              "model_id": "350e9d64c56143cf9d5a43b6a714602d"
            }
          },
          "metadata": {}
        }
      ]
    },
    {
      "cell_type": "code",
      "source": [
        "# make collator\n",
        "data_collator = DataCollatorForLanguageModeling()\n",
        "\n",
        "# training arguments\n",
        "training_args = TrainingArguments(output_dir = \"\", #where the model should be saved\n",
        "                                  logging_strategy = \"\",\n",
        "                                  evaluation_strategy=\"\", #how often to evaluate performance\n",
        "                                  save_strategy='',\n",
        "                                  logging_steps = ,\n",
        "                                  eval_steps = , \n",
        "                                  save_steps = ,\n",
        "                                  load_best_model_at_end = True,\n",
        "                                  per_device_train_batch_size = ,\n",
        "                                  per_device_eval_batch_size = ,\n",
        "                                  num_train_epochs=,\n",
        "                                  push_to_hub=, #whether or not to push to hub\n",
        "                                  hub_strategy='checkpoint',\n",
        "                                  report_to='all')"
      ],
      "metadata": {
        "id": "jFX1DxL9W0fB"
      },
      "execution_count": null,
      "outputs": []
    },
    {
      "cell_type": "markdown",
      "source": [
        "### Train"
      ],
      "metadata": {
        "id": "UEUvRXhYaKFB"
      }
    },
    {
      "cell_type": "code",
      "source": [
        "#set data and functionality for trainer\n",
        "gpt2 = AutoModelForCausalLM.from_pretrained('gpt2')\n",
        "gpt2.config.pad_token_id = gpt2.config.eos_token_id\n",
        "\n",
        "trainer = Trainer(model=,\n",
        "                  args=,\n",
        "                  tokenizer=,\n",
        "                  data_collator=,\n",
        "                  train_dataset=,\n",
        "                  eval_dataset=\n",
        "                  )\n",
        "\n",
        "trainer.train()"
      ],
      "metadata": {
        "id": "hHvazthpX2i3"
      },
      "execution_count": null,
      "outputs": []
    },
    {
      "cell_type": "markdown",
      "source": [
        "## Supervised Fine-Tuning\n",
        "What tools and materials do we need for SFT and IFT?\n",
        "\n",
        "**Data**:\n",
        "* Some instructions and/or safety fine-tuning data, or other fine-tuning data*\n",
        "* [Instruction fine-tuning datasets (Alpaca)](https://huggingface.co/datasets/tatsu-lab/alpaca)\n",
        "\n",
        "**Pre-trained model**\n",
        "\n",
        "**Tooling**:\n",
        "* Standard Huggingface transformer API, or \n",
        "*[Upcoming: HF SFT](https://huggingface.co/docs/trl/main/en/sft_trainer#trl.SFTTrainer)\n"
      ],
      "metadata": {
        "id": "M156kvj4l2cj"
      }
    },
    {
      "cell_type": "code",
      "source": [
        "#load dataset and split for ease\n",
        "#ift_ds = ?\n",
        "ift_ds = ift_ds.train_test_split(train_size=0.8)\n",
        "\n",
        "#tokenize\n",
        "ift_token = ift_ds.map(prepare_inputs, batched=True, remove_columns=['instruction', 'input', 'output'])"
      ],
      "metadata": {
        "id": "qzlUhKWIl13F"
      },
      "execution_count": null,
      "outputs": []
    },
    {
      "cell_type": "code",
      "source": [
        "# training arguments\n",
        "training_args = TrainingArguments(output_dir = \"\", #where the model should be saved\n",
        "                                  logging_strategy = \"steps\",\n",
        "                                  evaluation_strategy=\"steps\", #how often to evaluate performance\n",
        "                                  save_strategy='steps',\n",
        "                                  logging_steps = ,\n",
        "                                  eval_steps = , \n",
        "                                  save_steps = ,\n",
        "                                  load_best_model_at_end = True,\n",
        "                                  per_device_train_batch_size = ,\n",
        "                                  per_device_eval_batch_size = ,\n",
        "                                  num_train_epochs=1,\n",
        "                                  push_to_hub=False, #whether or not to push to hub\n",
        "                                  hub_strategy='checkpoint',\n",
        "                                  report_to='all')\n",
        "\n",
        "trainer = Trainer(model=gpt2,\n",
        "                  args=training_args,\n",
        "                  tokenizer=gpt2_tokenizer,\n",
        "                  data_collator=data_collator,\n",
        "                  train_dataset=ift_token['train'],\n",
        "                  eval_dataset=ift_token['test']\n",
        "                  )\n",
        "\n",
        "trainer.train()"
      ],
      "metadata": {
        "id": "J2tyeVnWdGTe"
      },
      "execution_count": null,
      "outputs": []
    },
    {
      "cell_type": "markdown",
      "source": [
        "## Quick side quest: evaluating and comparing models\n",
        "* Is the model better...practically?"
      ],
      "metadata": {
        "id": "0-AubqK2fpge"
      }
    },
    {
      "cell_type": "code",
      "source": [
        "# Create test phrase\n",
        "test_phrase = \"\"\"I am writing a college paper on the history of world exploration.\n",
        "Please write a 100-word introductory paragraph on this topic.\"\"\""
      ],
      "metadata": {
        "id": "eix1gCdafozH"
      },
      "execution_count": null,
      "outputs": []
    },
    {
      "cell_type": "code",
      "source": [
        "# Create pipelines to try for ease of use\n",
        "init_gpt = pipeline('text-generation', 'gpt2', device='cuda:0')\n",
        "ft_gpt = pipeline('text-generation',...)\n",
        "sft_gpt = pipeline('text-generation',...)\n",
        "\n",
        "#get responses\n",
        "responses = [mdl(test_phrase, max_new_tokens=150) for mdl in [init_gpt, ft_gpt, sft_gpt]]\n"
      ],
      "metadata": {
        "id": "dMJEoVxkgmFw"
      },
      "execution_count": null,
      "outputs": []
    },
    {
      "cell_type": "code",
      "source": [
        "for ind, model_name in enumerate(['Init gpt', 'Fine-tuned gpt', 'Instruction Fine-tuned gpt']):\n",
        "  print(model_name, ':\\n', responses[ind][0]['generated_text'], '\\n\\n*************\\n')\n"
      ],
      "metadata": {
        "id": "FwF6FGDFkr5B"
      },
      "execution_count": null,
      "outputs": []
    },
    {
      "cell_type": "markdown",
      "source": [
        "## RLHF\n",
        "What tools and materials do we need to have or need to create to implement RLHF?\n",
        "\n",
        "**Data**:\n",
        "* Prompts and answers with numeric reward associated with them\n",
        "\n",
        "**Models**:\n",
        "* To create or obtain: preference model (PM)/reward model(RM)\n",
        "* SFT/IFT model\n",
        "\n",
        "**Tooling**:\n",
        "* [Huggingface TRL library](https://huggingface.co/docs/trl/index)\n",
        "\n",
        "### Demo notebook for RLHF\n",
        "* [Demo code](https://huggingface.co/docs/trl/sentiment_tuning)\n",
        "\n",
        "***\n"
      ],
      "metadata": {
        "id": "7zPB7V5kmaKo"
      }
    },
    {
      "cell_type": "markdown",
      "source": [
        "# Congratulations!!\n",
        "You should now have a high-level view of the world of training LLMs and some resources to help you do so. You should be able to state:\n",
        "1. What are the common steps of training LLMs currently?\n",
        "2. What happens during each of the common steps of training LLMs?\n",
        "3. What tools are available to me to help me train my own model?\n",
        "4. About how much data do I need for each step?\n",
        "5. What human resources are needed to make this possible?\n",
        "\n",
        "***\n",
        "\n"
      ],
      "metadata": {
        "id": "qvSJ_3t1lVc_"
      }
    },
    {
      "cell_type": "markdown",
      "source": [
        "# Homework\n",
        "You should read through:\n",
        "* [Training language models to follow instructions with human feedback, OpenAI](https://arxiv.org/pdf/2203.02155.pdf), as well as their blog entry [here](https://openai.com/research/instruction-following). You should look for information including:\n",
        "  - Exactly how much data was used/how many examples?\n",
        "  - To what extent were human resources used in the training and how?\n",
        "  - In addition to the _What Makes a Dialog Agent Useful_ blog above, how is safety implemented in OpenAI models? What about other models? What kinds of safety will you need for your application?\n",
        "  - What types of RLHF preference models can I use?\n",
        "\n",
        "Read through the other resources provided, specifically:\n",
        "* The OpenAI pre-training paper\n",
        "* The RHLF blog post\n",
        "* Either the Alpaca (Instruction Fine-Tuning) paper linked above or [The Alpaca Blog post](https://crfm.stanford.edu/2023/03/13/alpaca.html)\n",
        "\n",
        "Especially consider:\n",
        "* Which steps do I or do I not need in this process for my application?\n",
        "* How should I evaluate my model?\n",
        "* What kind of data will I need?"
      ],
      "metadata": {
        "id": "if1lnmWEnnkW"
      }
    }
  ]
}